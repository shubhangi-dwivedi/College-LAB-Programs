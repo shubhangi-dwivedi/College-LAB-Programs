{
  "cells": [
    {
      "cell_type": "code",
      "execution_count": 1,
      "metadata": {
        "id": "z_Yh5FaKtroL"
      },
      "outputs": [],
      "source": [
        "teachers = {\"Dipanwita\" : \"AIML\", \"urvashi\" : \"MM\", \"Neelam\" : \"toc\", \"Praveen\" : \"Probab\", \"Sudha\" : \"project\"}"
      ]
    },
    {
      "cell_type": "code",
      "execution_count": 2,
      "metadata": {
        "id": "YFjz5s8dtroP"
      },
      "outputs": [],
      "source": [
        "DayMonths = {\"Januray\" : 31, \"February\" : 28, \"March\" : 31, \"April\" : 30, \"May\" : 31, \"June\" : 30, \"July\" : 31, \"August\" : 31, \"September\" : 30, \"October\" : 31, \"November\" : 30, \"December\" : 31}"
      ]
    },
    {
      "cell_type": "code",
      "execution_count": 3,
      "metadata": {
        "id": "Kb78NPU2troP",
        "outputId": "bd32644e-da68-428c-84bf-d1c6152fdabf",
        "colab": {
          "base_uri": "https://localhost:8080/",
          "height": 35
        }
      },
      "outputs": [
        {
          "output_type": "execute_result",
          "data": {
            "text/plain": [
              "'AIML'"
            ],
            "application/vnd.google.colaboratory.intrinsic+json": {
              "type": "string"
            }
          },
          "metadata": {},
          "execution_count": 3
        }
      ],
      "source": [
        "teachers[\"Dipanwita\"]"
      ]
    },
    {
      "cell_type": "code",
      "execution_count": 4,
      "metadata": {
        "id": "MnT0YWLgtroQ",
        "outputId": "b956b37c-7ec5-48b5-ba5b-167e56da8992",
        "colab": {
          "base_uri": "https://localhost:8080/"
        }
      },
      "outputs": [
        {
          "output_type": "stream",
          "name": "stdout",
          "text": [
            "Dipanwita maam teaches  AIML\n"
          ]
        }
      ],
      "source": [
        "print(\"Dipanwita maam teaches \", teachers[\"Dipanwita\"])"
      ]
    },
    {
      "cell_type": "code",
      "execution_count": 5,
      "metadata": {
        "id": "6ZCAnoNFtroR"
      },
      "outputs": [],
      "source": [
        "vow = {\"V1\":\"a\", \"V2\":\"e\", \"V3\":\"i\", \"V4\":\"o\", \"V5\":\"u\"}"
      ]
    },
    {
      "cell_type": "code",
      "execution_count": 6,
      "metadata": {
        "id": "Z-nl8mzFtroR",
        "outputId": "447260dc-61d6-40ac-aa0f-0eb3b4e6e2b6",
        "colab": {
          "base_uri": "https://localhost:8080/",
          "height": 35
        }
      },
      "outputs": [
        {
          "output_type": "execute_result",
          "data": {
            "text/plain": [
              "'a'"
            ],
            "application/vnd.google.colaboratory.intrinsic+json": {
              "type": "string"
            }
          },
          "metadata": {},
          "execution_count": 6
        }
      ],
      "source": [
        "vow[\"V1\"]"
      ]
    },
    {
      "cell_type": "code",
      "execution_count": 7,
      "metadata": {
        "id": "c32OTD3btroS",
        "outputId": "ed2049b9-07b5-4d2a-8a78-70f268aae6a9",
        "colab": {
          "base_uri": "https://localhost:8080/",
          "height": 165
        }
      },
      "outputs": [
        {
          "output_type": "error",
          "ename": "KeyError",
          "evalue": "ignored",
          "traceback": [
            "\u001b[0;31m---------------------------------------------------------------------------\u001b[0m",
            "\u001b[0;31mKeyError\u001b[0m                                  Traceback (most recent call last)",
            "\u001b[0;32m<ipython-input-7-8577a4e8797b>\u001b[0m in \u001b[0;36m<module>\u001b[0;34m()\u001b[0m\n\u001b[0;32m----> 1\u001b[0;31m \u001b[0mvow\u001b[0m\u001b[0;34m[\u001b[0m\u001b[0;34m\"a\"\u001b[0m\u001b[0;34m]\u001b[0m\u001b[0;34m\u001b[0m\u001b[0;34m\u001b[0m\u001b[0m\n\u001b[0m",
            "\u001b[0;31mKeyError\u001b[0m: 'a'"
          ]
        }
      ],
      "source": [
        "vow[\"a\"]"
      ]
    },
    {
      "cell_type": "code",
      "execution_count": 8,
      "metadata": {
        "id": "w2VJ5MfFtroS",
        "outputId": "c1ff00b6-fc2c-468a-9c7f-fda0361ec8b2",
        "colab": {
          "base_uri": "https://localhost:8080/"
        }
      },
      "outputs": [
        {
          "output_type": "stream",
          "name": "stdout",
          "text": [
            "V1 : a\n",
            "V2 : e\n",
            "V3 : i\n",
            "V4 : o\n",
            "V5 : u\n"
          ]
        }
      ],
      "source": [
        "for key in vow:\n",
        "    print(key, \":\", vow[key])"
      ]
    },
    {
      "cell_type": "code",
      "execution_count": 9,
      "metadata": {
        "id": "0ebgcoPEtroT",
        "outputId": "09dde7d6-0e0a-42ac-ea8d-c180858e29d5",
        "colab": {
          "base_uri": "https://localhost:8080/"
        }
      },
      "outputs": [
        {
          "output_type": "execute_result",
          "data": {
            "text/plain": [
              "dict_keys(['V1', 'V2', 'V3', 'V4', 'V5'])"
            ]
          },
          "metadata": {},
          "execution_count": 9
        }
      ],
      "source": [
        "vow.keys()"
      ]
    },
    {
      "cell_type": "code",
      "execution_count": 10,
      "metadata": {
        "id": "GMPit56etroU",
        "outputId": "912c2ecc-df86-44af-be3b-3809a9610a6e",
        "colab": {
          "base_uri": "https://localhost:8080/"
        }
      },
      "outputs": [
        {
          "output_type": "execute_result",
          "data": {
            "text/plain": [
              "dict_values(['a', 'e', 'i', 'o', 'u'])"
            ]
          },
          "metadata": {},
          "execution_count": 10
        }
      ],
      "source": [
        "vow.values()"
      ]
    },
    {
      "cell_type": "code",
      "execution_count": 11,
      "metadata": {
        "id": "lEci-_uXtroU"
      },
      "outputs": [],
      "source": [
        "Emp = {}"
      ]
    },
    {
      "cell_type": "code",
      "execution_count": 12,
      "metadata": {
        "id": "JkQxkL2LtroU"
      },
      "outputs": [],
      "source": [
        "Em = dict()"
      ]
    },
    {
      "cell_type": "code",
      "execution_count": 13,
      "metadata": {
        "id": "45cAlU2DtroV",
        "outputId": "b42d59f7-6864-48d4-b78d-844d14b04d14",
        "colab": {
          "base_uri": "https://localhost:8080/"
        }
      },
      "outputs": [
        {
          "output_type": "execute_result",
          "data": {
            "text/plain": [
              "dict"
            ]
          },
          "metadata": {},
          "execution_count": 13
        }
      ],
      "source": [
        "type(Emp)"
      ]
    },
    {
      "cell_type": "code",
      "execution_count": 14,
      "metadata": {
        "id": "9k0-j-yltroV",
        "outputId": "70b8b708-0df1-4788-d10b-82bfad17546c",
        "colab": {
          "base_uri": "https://localhost:8080/"
        }
      },
      "outputs": [
        {
          "output_type": "execute_result",
          "data": {
            "text/plain": [
              "dict"
            ]
          },
          "metadata": {},
          "execution_count": 14
        }
      ],
      "source": [
        "type(Em)"
      ]
    },
    {
      "cell_type": "code",
      "execution_count": 15,
      "metadata": {
        "id": "WCMeGioRtroW"
      },
      "outputs": [],
      "source": [
        "Stud = dict(name=\"Shubhangi\", course=\"AIML\", marks=50)"
      ]
    },
    {
      "cell_type": "code",
      "execution_count": 16,
      "metadata": {
        "id": "DUEGet0ntroW",
        "outputId": "5c32f648-d922-43a4-ba18-569edcc8f5f8",
        "colab": {
          "base_uri": "https://localhost:8080/"
        }
      },
      "outputs": [
        {
          "output_type": "execute_result",
          "data": {
            "text/plain": [
              "{'course': 'AIML', 'marks': 50, 'name': 'Shubhangi'}"
            ]
          },
          "metadata": {},
          "execution_count": 16
        }
      ],
      "source": [
        "Stud"
      ]
    },
    {
      "cell_type": "code",
      "execution_count": 17,
      "metadata": {
        "id": "p5QAnT5vtroW"
      },
      "outputs": [],
      "source": [
        "Stud['Stream']=\"CS\""
      ]
    },
    {
      "cell_type": "code",
      "execution_count": 18,
      "metadata": {
        "id": "nnWu-1EdtroW",
        "outputId": "79f1ca40-61c8-4dc2-9ff2-a792929067fc",
        "colab": {
          "base_uri": "https://localhost:8080/"
        }
      },
      "outputs": [
        {
          "output_type": "execute_result",
          "data": {
            "text/plain": [
              "{'Stream': 'CS', 'course': 'AIML', 'marks': 50, 'name': 'Shubhangi'}"
            ]
          },
          "metadata": {},
          "execution_count": 18
        }
      ],
      "source": [
        "Stud"
      ]
    },
    {
      "cell_type": "code",
      "execution_count": 19,
      "metadata": {
        "id": "JhVrXDzztroX"
      },
      "outputs": [],
      "source": [
        "Stud[\"marks\"] = 95"
      ]
    },
    {
      "cell_type": "code",
      "execution_count": 20,
      "metadata": {
        "id": "Y5mhTs4StroX",
        "outputId": "393a8c9a-83ae-430c-d150-7ee2fa1339fe",
        "colab": {
          "base_uri": "https://localhost:8080/"
        }
      },
      "outputs": [
        {
          "output_type": "execute_result",
          "data": {
            "text/plain": [
              "{'Stream': 'CS', 'course': 'AIML', 'marks': 95, 'name': 'Shubhangi'}"
            ]
          },
          "metadata": {},
          "execution_count": 20
        }
      ],
      "source": [
        "Stud"
      ]
    },
    {
      "cell_type": "code",
      "execution_count": 21,
      "metadata": {
        "id": "9hrAMmgbtroX"
      },
      "outputs": [],
      "source": [
        "del Stud[\"course\"]"
      ]
    },
    {
      "cell_type": "code",
      "execution_count": 22,
      "metadata": {
        "id": "F7vRAs4EtroX",
        "outputId": "757be9c5-5664-4e2e-de88-ee8cb95a6e1c",
        "colab": {
          "base_uri": "https://localhost:8080/"
        }
      },
      "outputs": [
        {
          "output_type": "execute_result",
          "data": {
            "text/plain": [
              "{'Stream': 'CS', 'marks': 95, 'name': 'Shubhangi'}"
            ]
          },
          "metadata": {},
          "execution_count": 22
        }
      ],
      "source": [
        "Stud"
      ]
    },
    {
      "cell_type": "code",
      "execution_count": 23,
      "metadata": {
        "id": "XGD9y1kDtroX",
        "outputId": "10c77f3a-5554-47ac-f1df-4b48ac871b01",
        "colab": {
          "base_uri": "https://localhost:8080/"
        }
      },
      "outputs": [
        {
          "output_type": "execute_result",
          "data": {
            "text/plain": [
              "True"
            ]
          },
          "metadata": {},
          "execution_count": 23
        }
      ],
      "source": [
        "\"marks\" in Stud"
      ]
    },
    {
      "cell_type": "code",
      "execution_count": 24,
      "metadata": {
        "id": "piMznGiWtroY",
        "outputId": "fdae83e3-c330-4f69-c915-6d736da118d9",
        "colab": {
          "base_uri": "https://localhost:8080/"
        }
      },
      "outputs": [
        {
          "output_type": "execute_result",
          "data": {
            "text/plain": [
              "False"
            ]
          },
          "metadata": {},
          "execution_count": 24
        }
      ],
      "source": [
        "\"marks\" not in Stud"
      ]
    },
    {
      "cell_type": "code",
      "execution_count": 25,
      "metadata": {
        "id": "8KCwHBzktroa",
        "outputId": "9b121461-f722-4978-cb8d-ac3bbcf9be69",
        "colab": {
          "base_uri": "https://localhost:8080/"
        }
      },
      "outputs": [
        {
          "output_type": "execute_result",
          "data": {
            "text/plain": [
              "True"
            ]
          },
          "metadata": {},
          "execution_count": 25
        }
      ],
      "source": [
        "\"CS\" in Stud.values()"
      ]
    },
    {
      "cell_type": "code",
      "execution_count": 26,
      "metadata": {
        "id": "l3Kh4BSqtroa",
        "outputId": "061e75c0-da77-40a2-ea1f-231d40d17973",
        "colab": {
          "base_uri": "https://localhost:8080/"
        }
      },
      "outputs": [
        {
          "output_type": "stream",
          "name": "stdout",
          "text": [
            "{'name': 'Shubhangi', 'marks': 95, 'Stream': 'CS'}\n"
          ]
        }
      ],
      "source": [
        "print(Stud)"
      ]
    },
    {
      "cell_type": "code",
      "execution_count": 27,
      "metadata": {
        "id": "2VVswP5Ptrob",
        "outputId": "9b342dc5-9be9-4005-8f1b-0dc45059fe11",
        "colab": {
          "base_uri": "https://localhost:8080/"
        }
      },
      "outputs": [
        {
          "output_type": "execute_result",
          "data": {
            "text/plain": [
              "3"
            ]
          },
          "metadata": {},
          "execution_count": 27
        }
      ],
      "source": [
        "len(Stud)"
      ]
    },
    {
      "cell_type": "code",
      "execution_count": 28,
      "metadata": {
        "id": "pN5Z4s-ltrob",
        "outputId": "048dac93-2a76-47ad-d0a2-184a3694fb8f",
        "colab": {
          "base_uri": "https://localhost:8080/"
        }
      },
      "outputs": [
        {
          "output_type": "execute_result",
          "data": {
            "text/plain": [
              "{}"
            ]
          },
          "metadata": {},
          "execution_count": 28
        }
      ],
      "source": [
        "Emp"
      ]
    },
    {
      "cell_type": "code",
      "execution_count": 29,
      "metadata": {
        "id": "zlDmX00atrob"
      },
      "outputs": [],
      "source": [
        "Emp.clear()"
      ]
    },
    {
      "cell_type": "code",
      "execution_count": 30,
      "metadata": {
        "id": "1SwhP0zVtrob",
        "outputId": "5ce19c21-d486-4d20-eb26-9834d926536d",
        "colab": {
          "base_uri": "https://localhost:8080/"
        }
      },
      "outputs": [
        {
          "output_type": "execute_result",
          "data": {
            "text/plain": [
              "{}"
            ]
          },
          "metadata": {},
          "execution_count": 30
        }
      ],
      "source": [
        "Emp"
      ]
    },
    {
      "cell_type": "code",
      "execution_count": 31,
      "metadata": {
        "id": "RHzOzMCwtrob",
        "outputId": "ca7f2047-3dfc-4bb3-b12f-054c0a14892f",
        "colab": {
          "base_uri": "https://localhost:8080/",
          "height": 35
        }
      },
      "outputs": [
        {
          "output_type": "execute_result",
          "data": {
            "text/plain": [
              "'CS'"
            ],
            "application/vnd.google.colaboratory.intrinsic+json": {
              "type": "string"
            }
          },
          "metadata": {},
          "execution_count": 31
        }
      ],
      "source": [
        "Stud.get(\"Stream\")"
      ]
    },
    {
      "cell_type": "code",
      "execution_count": 32,
      "metadata": {
        "id": "8iwDXzyotrob"
      },
      "outputs": [],
      "source": [
        "Stud.get(\"Course\")"
      ]
    },
    {
      "cell_type": "code",
      "execution_count": 33,
      "metadata": {
        "id": "JKMKxD36troc",
        "outputId": "7156d066-3293-4cd2-e74f-89fed3a3ab60",
        "colab": {
          "base_uri": "https://localhost:8080/",
          "height": 35
        }
      },
      "outputs": [
        {
          "output_type": "execute_result",
          "data": {
            "text/plain": [
              "'Not Available'"
            ],
            "application/vnd.google.colaboratory.intrinsic+json": {
              "type": "string"
            }
          },
          "metadata": {},
          "execution_count": 33
        }
      ],
      "source": [
        "Stud.get(\"Course\",\"Not Available\")"
      ]
    },
    {
      "cell_type": "code",
      "execution_count": 34,
      "metadata": {
        "id": "ILJpq2YOtroc",
        "outputId": "a35821bc-3366-427b-8e33-91c0289d8589",
        "colab": {
          "base_uri": "https://localhost:8080/"
        }
      },
      "outputs": [
        {
          "output_type": "execute_result",
          "data": {
            "text/plain": [
              "dict_items([('name', 'Shubhangi'), ('marks', 95), ('Stream', 'CS')])"
            ]
          },
          "metadata": {},
          "execution_count": 34
        }
      ],
      "source": [
        "Stud.items()"
      ]
    },
    {
      "cell_type": "code",
      "execution_count": 35,
      "metadata": {
        "id": "s5LxLgiAtroc"
      },
      "outputs": [],
      "source": [
        "lst = Stud.items()"
      ]
    },
    {
      "cell_type": "code",
      "execution_count": 36,
      "metadata": {
        "id": "YHjE2D3otroc",
        "outputId": "33cea74f-c88a-471d-df0d-781587622499",
        "colab": {
          "base_uri": "https://localhost:8080/"
        }
      },
      "outputs": [
        {
          "output_type": "execute_result",
          "data": {
            "text/plain": [
              "dict_items([('name', 'Shubhangi'), ('marks', 95), ('Stream', 'CS')])"
            ]
          },
          "metadata": {},
          "execution_count": 36
        }
      ],
      "source": [
        "lst"
      ]
    },
    {
      "cell_type": "code",
      "execution_count": 37,
      "metadata": {
        "id": "RqGXNkiatroc",
        "outputId": "2d422501-3541-4978-949f-199ef14965e9",
        "colab": {
          "base_uri": "https://localhost:8080/"
        }
      },
      "outputs": [
        {
          "output_type": "stream",
          "name": "stdout",
          "text": [
            "('name', 'Shubhangi')\n",
            "('marks', 95)\n",
            "('Stream', 'CS')\n"
          ]
        }
      ],
      "source": [
        "for i in lst:\n",
        "    print(i)"
      ]
    },
    {
      "cell_type": "code",
      "execution_count": 38,
      "metadata": {
        "id": "QAdFuQdLtroc"
      },
      "outputs": [],
      "source": [
        "St=dict()"
      ]
    },
    {
      "cell_type": "code",
      "execution_count": 39,
      "metadata": {
        "id": "FDCMPOHftroc",
        "outputId": "6ac95ca8-ca77-42f9-8bb8-3053c9f5bc6d",
        "colab": {
          "base_uri": "https://localhost:8080/"
        }
      },
      "outputs": [
        {
          "output_type": "execute_result",
          "data": {
            "text/plain": [
              "{}"
            ]
          },
          "metadata": {},
          "execution_count": 39
        }
      ],
      "source": [
        "St"
      ]
    },
    {
      "cell_type": "code",
      "execution_count": 40,
      "metadata": {
        "id": "8pnOvbbctrod"
      },
      "outputs": [],
      "source": [
        "St.update(Stud)"
      ]
    },
    {
      "cell_type": "code",
      "execution_count": 41,
      "metadata": {
        "id": "5jVeNtldtrod",
        "outputId": "14b78b0d-4750-47af-bbd7-ba02de9c687a",
        "colab": {
          "base_uri": "https://localhost:8080/"
        }
      },
      "outputs": [
        {
          "output_type": "execute_result",
          "data": {
            "text/plain": [
              "{'Stream': 'CS', 'marks': 95, 'name': 'Shubhangi'}"
            ]
          },
          "metadata": {},
          "execution_count": 41
        }
      ],
      "source": [
        "St"
      ]
    },
    {
      "cell_type": "markdown",
      "metadata": {
        "id": "fXEswF1ptrod"
      },
      "source": [
        "## Lab 7\n",
        "1. WAP to create a dictionary containing names of your friends as keys and their surnames as values\n",
        "2. WAP to create marks of five students in tree subjects in five saperate dictionaries then create a nested dictionary which stores these five dictionaries and prints results of all the students\n",
        "3. WAP to create marks of five students in tree subjects in five saperate dictionaries, add their marks and store it in their respective dictionaries.\n",
        "4. WAP to create marks of five students in tree subjects in five saperate dictionaries, add find who got highest marks in which subject.\n",
        "5. WAP to repeatitively asks a user for student name and marks. Store all of these in a dictionary whose keys are student names and values are marks\n",
        "6. WAP to create a dictionary with month names as keys and no. of days as values. \n",
        "    a. Ask user to input month name and print the no. of days it has\n",
        "    b. Print all the months with 30 days\n",
        "7. WAP to store details of 10 students in a dictionary with keys RollNo, Name, Marks, CGPA\n",
        "8. You have a dictioanry d1 = {\"k1\":\"v1\",\"k2\":\"v2\",\"k3\":\"v3\",\"k4\":\"v4\",\"k5\":\"v5\"}. WAP to reverse this i.e keys should become values and values should become keys. The result should be d2 = {\"v5\":\"k5\",\"v4\":\"k4\",\"v3\":\"k3\",\"v2\":\"k2\",\"v1\":\"k1\"}\n",
        "9. WAP to input two dictionaries and print the overlapping keys in them.\n",
        "10. WAP to check if two same values in a dictionary has different keys."
      ]
    },
    {
      "cell_type": "markdown",
      "source": [
        "WAP to create a dictionary containing names of your friends as keys and their surnames as values"
      ],
      "metadata": {
        "id": "VBcbwot0z8s2"
      }
    },
    {
      "cell_type": "code",
      "execution_count": 42,
      "metadata": {
        "colab": {
          "base_uri": "https://localhost:8080/"
        },
        "id": "VQbgYhQbtroe",
        "outputId": "a49fae08-e158-44c6-98a0-82e9a42faab8"
      },
      "outputs": [
        {
          "output_type": "stream",
          "name": "stdout",
          "text": [
            "Enter how many names you want to enter: 2\n",
            "Enter name of friend: vanya\n",
            "Enter lastname of your friend dwivedi\n",
            "Enter name of friend: astha\n",
            "Enter lastname of your friend dwivedi\n",
            "{'vanya': 'dwivedi', 'astha': 'dwivedi'}\n"
          ]
        }
      ],
      "source": [
        "n = int(input(\"Enter how many names you want to enter: \"))\n",
        "# initialize empty dictionary\n",
        "names={}\n",
        "for i in range(n):\n",
        "    name=input(\"Enter name of friend: \")\n",
        "    sirname=input(\"Enter lastname of your friend \")\n",
        "    names[name]=sirname #add name sirnamen to dictionary\n",
        "print(names)\n"
      ]
    },
    {
      "cell_type": "markdown",
      "source": [
        "WAP to create marks of five students in tree subjects in five saperate dictionaries then create a nested dictionary which stores these five dictionaries and prints results of all the students"
      ],
      "metadata": {
        "id": "caG-TTYf0w4x"
      }
    },
    {
      "cell_type": "code",
      "source": [
        "Student = {1: {'Name': 'John', 'Marks1': '90', 'Marks2': '80','Marks3': '85'},\n",
        "           2: {'Name': 'Joe', 'Marks1': '75', 'Marks2': '72','Marks3': '89'},\n",
        "           3: {'Name': 'sam', 'Marks1': '90', 'Marks2': '85','Marks3': '80'},\n",
        "           4: {'Name': 'rita', 'Marks1': '76', 'Marks2': '80','Marks3': '85'},\n",
        "          5: {'Name': 'Marie', 'Marks1': '98', 'Marks2': '93','Marks3': '96'}}\n",
        "\n",
        "print(Student)"
      ],
      "metadata": {
        "colab": {
          "base_uri": "https://localhost:8080/"
        },
        "id": "tsTccjzN02Ox",
        "outputId": "d8f6bfec-b19d-4d23-b448-ef1443c9b3ca"
      },
      "execution_count": 43,
      "outputs": [
        {
          "output_type": "stream",
          "name": "stdout",
          "text": [
            "{1: {'Name': 'John', 'Marks1': '90', 'Marks2': '80', 'Marks3': '85'}, 2: {'Name': 'Joe', 'Marks1': '75', 'Marks2': '72', 'Marks3': '89'}, 3: {'Name': 'sam', 'Marks1': '90', 'Marks2': '85', 'Marks3': '80'}, 4: {'Name': 'rita', 'Marks1': '76', 'Marks2': '80', 'Marks3': '85'}, 5: {'Name': 'Marie', 'Marks1': '98', 'Marks2': '93', 'Marks3': '96'}}\n"
          ]
        }
      ]
    },
    {
      "cell_type": "markdown",
      "source": [
        "WAP to create marks of five students in tree subjects in five saperate dictionaries, add their marks and store it in their respective dictionaries."
      ],
      "metadata": {
        "id": "CsgRu39AAqCy"
      }
    },
    {
      "cell_type": "code",
      "source": [
        "students = {\"meera\" : [55,88,77],\n",
        "             \"Sumedh\":[56,78,55],\n",
        "            \"John\":[66,88,63],\n",
        "            \"sumit\":[96,55,77],\n",
        "             \"sam\": [44,65,76]}\n",
        "print(\"Original Dictionary : \")\n",
        "print(students)\n",
        "print()\n",
        "name = input(\"Enter name of student :\")\n",
        "if name in students.keys():\n",
        "    print(students[name])\n",
        "else :\n",
        "    print(\"No student found\")"
      ],
      "metadata": {
        "colab": {
          "base_uri": "https://localhost:8080/"
        },
        "id": "xO9dkQq9ArMI",
        "outputId": "ca10b557-8736-4b12-a1fe-5821bc91be8b"
      },
      "execution_count": 44,
      "outputs": [
        {
          "output_type": "stream",
          "name": "stdout",
          "text": [
            "Original Dictionary : \n",
            "{'meera': [55, 88, 77], 'Sumedh': [56, 78, 55], 'John': [66, 88, 63], 'sumit': [96, 55, 77], 'sam': [44, 65, 76]}\n",
            "\n",
            "Enter name of student :sam\n",
            "[44, 65, 76]\n"
          ]
        }
      ]
    },
    {
      "cell_type": "markdown",
      "source": [
        "WAP to create marks of five students in tree subjects in five saperate dictionaries, add find who got highest marks in which subject."
      ],
      "metadata": {
        "id": "R68ahSmaB-Uw"
      }
    },
    {
      "cell_type": "code",
      "source": [
        ""
      ],
      "metadata": {
        "id": "elOi6rCQB_Pi"
      },
      "execution_count": null,
      "outputs": []
    },
    {
      "cell_type": "markdown",
      "source": [
        "WAP to repeatitively asks a user for student name and marks. Store all of these in a dictionary whose keys are student names and values are marks"
      ],
      "metadata": {
        "id": "PHlGjOm-EGOf"
      }
    },
    {
      "cell_type": "code",
      "source": [
        "dic = { }\n",
        "\n",
        "while True :\n",
        "    student = input(\"Enter the student name (enter q for quit )= \")\n",
        "    if student == \"q\" or student == \"Q\" :\n",
        "        print()\n",
        "        break\n",
        "    else :\n",
        "        marks = int(input(\"Enter the marks of student = \"))\n",
        "        dic [ student ] = marks\n",
        "\n",
        "while True :\n",
        "    name = input(\"Enter the name of student those you have entered (enter q for quit )= \")\n",
        "    if name == \"q\" or name == \"Q\" :\n",
        "        break\n",
        "    else :\n",
        "        if name not in dic :\n",
        "            print(\"Name of student is invalid\")\n",
        "            print()\n",
        "        else :\n",
        "            print(\"marks of student = \",dic[name])\n",
        "           \n",
        "            print()"
      ],
      "metadata": {
        "colab": {
          "base_uri": "https://localhost:8080/"
        },
        "id": "Pj-aD23lEGtb",
        "outputId": "7ab0c831-33b4-4ec3-e187-7d50ec4fb154"
      },
      "execution_count": 45,
      "outputs": [
        {
          "name": "stdout",
          "output_type": "stream",
          "text": [
            "Enter the student name (enter q for quit )= shubhangi\n",
            "Enter the marks of student = 40\n",
            "Enter the student name (enter q for quit )= q\n",
            "\n",
            "Enter the name of student those you have entered (enter q for quit )= shubhangi\n",
            "marks of student =  40\n",
            "\n",
            "Enter the name of student those you have entered (enter q for quit )= q\n"
          ]
        }
      ]
    },
    {
      "cell_type": "markdown",
      "source": [
        "WAP to create a dictionary with month names as keys and no. of days as values. a. Ask user to input month name and print the no. of days it has b. Print all the months with 30 days"
      ],
      "metadata": {
        "id": "9VCaj5-xF91o"
      }
    },
    {
      "cell_type": "code",
      "source": [
        "month = { \"jan\" : 31 , \"feb\" : 28 , \"march\" : 31 , \"april\" : 30 , \"may\" : 31 , \"june\" : 30 , \"july\" : 31 , \"aug\" : 31 , \"sept\" : 30 , \"oct\" : 31 , \"nov\" : 30 , \"dec\" : 31}\n",
        "\n",
        "mon = input(\"Enter the month name in short form :- \")\n",
        "print(\"Number of days in \",mon,\"=\",month [ mon ])\n",
        "\n"
      ],
      "metadata": {
        "colab": {
          "base_uri": "https://localhost:8080/"
        },
        "id": "HirnXGaDF_Ef",
        "outputId": "5046c680-4165-4fc6-bdd2-344fb26fd581"
      },
      "execution_count": 46,
      "outputs": [
        {
          "output_type": "stream",
          "name": "stdout",
          "text": [
            "Enter the month name in short form :- april\n",
            "Number of days in  april = 30\n"
          ]
        }
      ]
    },
    {
      "cell_type": "code",
      "source": [
        "print( \"Month which have 30 days !!-- \")\n",
        "for i in month :\n",
        "    if month [ i ] == 30 :\n",
        "        print( i )"
      ],
      "metadata": {
        "colab": {
          "base_uri": "https://localhost:8080/"
        },
        "id": "X5nMoxVyGzx6",
        "outputId": "a55c8490-42cb-4cb6-c9d1-3c65b1a3b449"
      },
      "execution_count": 47,
      "outputs": [
        {
          "output_type": "stream",
          "name": "stdout",
          "text": [
            "Month which have 30 days !!-- \n",
            "april\n",
            "june\n",
            "sept\n",
            "nov\n"
          ]
        }
      ]
    },
    {
      "cell_type": "markdown",
      "source": [
        "WAP to store details of 10 students in a dictionary with keys RollNo, Name, Marks, CGPA"
      ],
      "metadata": {
        "id": "GXtZHy35HBf3"
      }
    },
    {
      "cell_type": "code",
      "source": [
        "student_deatils={}\n",
        "for i in range(10):\n",
        "  n=input(\" Name\")\n",
        "  r=input(\" roll number\")\n",
        "  m=input(\"marks\")\n",
        "  cgpa=input(\"cgpa\")\n",
        "  student_details=[n,r,m,cgpa]\n",
        "print(student_details)"
      ],
      "metadata": {
        "colab": {
          "base_uri": "https://localhost:8080/"
        },
        "id": "cLGJfExwHCZv",
        "outputId": "04f4dfc4-e7a2-4638-da27-4a8e7f70320c"
      },
      "execution_count": null,
      "outputs": [
        {
          "name": "stdout",
          "output_type": "stream",
          "text": [
            " Nameshubhangi\n",
            " roll number1913122\n",
            "marks40\n",
            "cgpa9.26\n",
            " Namexyz\n",
            " roll number2222\n",
            "marks90\n",
            "cgpa10\n"
          ]
        }
      ]
    },
    {
      "cell_type": "markdown",
      "source": [
        "WAP to input two dictionaries and print the overlapping keys in them"
      ],
      "metadata": {
        "id": "Y4r-63ZEJahS"
      }
    },
    {
      "cell_type": "code",
      "source": [
        "D1={'k1':'v1','k2':'v2','k3':'v3'}\n",
        "D2={'k5':'v5','k2':'v2','k3':'v3'}\n",
        "l=[]\n",
        "for i in D1:\n",
        "  if i in D2:\n",
        "    l.append(i)\n",
        "print(\"Common in both the dictionaries\",l)\n",
        "\n"
      ],
      "metadata": {
        "colab": {
          "base_uri": "https://localhost:8080/"
        },
        "id": "JJvN_7PbJgL0",
        "outputId": "0fce7cc4-2aac-4601-c3bc-0ffd2e03bf05"
      },
      "execution_count": null,
      "outputs": [
        {
          "output_type": "stream",
          "name": "stdout",
          "text": [
            "Common in both the dictionaries ['k2', 'k3']\n"
          ]
        }
      ]
    },
    {
      "cell_type": "markdown",
      "source": [
        "WAP to check if two same values in a dictionary has different keys"
      ],
      "metadata": {
        "id": "_BrTidFkKinO"
      }
    },
    {
      "cell_type": "code",
      "source": [
        ""
      ],
      "metadata": {
        "id": "z1Zb6yjtKjZU"
      },
      "execution_count": null,
      "outputs": []
    }
  ],
  "metadata": {
    "kernelspec": {
      "display_name": "Python 3",
      "language": "python",
      "name": "python3"
    },
    "language_info": {
      "codemirror_mode": {
        "name": "ipython",
        "version": 3
      },
      "file_extension": ".py",
      "mimetype": "text/x-python",
      "name": "python",
      "nbconvert_exporter": "python",
      "pygments_lexer": "ipython3",
      "version": "3.7.3"
    },
    "colab": {
      "name": "lab_exercise_7.ipynb",
      "provenance": [],
      "collapsed_sections": []
    }
  },
  "nbformat": 4,
  "nbformat_minor": 0
}