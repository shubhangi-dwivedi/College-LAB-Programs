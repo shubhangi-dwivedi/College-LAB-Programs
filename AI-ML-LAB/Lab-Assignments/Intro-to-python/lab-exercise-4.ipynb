{
  "cells": [
    {
      "cell_type": "code",
      "execution_count": null,
      "metadata": {
        "id": "8Bxv_0aRy4dX",
        "outputId": "56cae1de-d9e7-429b-de50-f7a43e9c54de"
      },
      "outputs": [
        {
          "name": "stdout",
          "output_type": "stream",
          "text": [
            "[]\n"
          ]
        }
      ],
      "source": [
        "l = list() #empty list\n",
        "print (l)"
      ]
    },
    {
      "cell_type": "code",
      "execution_count": null,
      "metadata": {
        "id": "fKKX1sH9y4da",
        "outputId": "d11f932b-eb2f-44a5-e1d6-42ead016ca18"
      },
      "outputs": [
        {
          "name": "stdout",
          "output_type": "stream",
          "text": [
            "[1, 2, 3, 4]\n"
          ]
        }
      ],
      "source": [
        "l = [1,2,3,4] #list of integers\n",
        "print (l)"
      ]
    },
    {
      "cell_type": "code",
      "execution_count": null,
      "metadata": {
        "id": "dvGJcDkwy4db",
        "outputId": "bd249d44-5e9e-47af-b817-57676dc7f92a"
      },
      "outputs": [
        {
          "name": "stdout",
          "output_type": "stream",
          "text": [
            "[1, 2, 3, 4.5, 5.1]\n"
          ]
        }
      ],
      "source": [
        "l = [1,2,3, 4.5, 5.1] #list of numbers\n",
        "print (l)"
      ]
    },
    {
      "cell_type": "code",
      "execution_count": null,
      "metadata": {
        "id": "yZrXQTKIy4dc",
        "outputId": "f1865661-c497-4d1a-afa6-b26fe350c909"
      },
      "outputs": [
        {
          "name": "stdout",
          "output_type": "stream",
          "text": [
            "['a', 'b', 'c']\n"
          ]
        }
      ],
      "source": [
        "l = [\"a\",\"b\",'c'] #list of characters\n",
        "print (l)"
      ]
    },
    {
      "cell_type": "code",
      "execution_count": null,
      "metadata": {
        "id": "qcF2ZtgNy4dc",
        "outputId": "bc12155d-defa-4959-ba92-8b078d4487d3"
      },
      "outputs": [
        {
          "name": "stdout",
          "output_type": "stream",
          "text": [
            "[1, 2, 4.5, 'abs', True]\n"
          ]
        }
      ],
      "source": [
        "l = [1,2,4.5,'abs',True] #mixed list\n",
        "print (l)"
      ]
    },
    {
      "cell_type": "code",
      "execution_count": null,
      "metadata": {
        "id": "BH4GyJn3y4dd",
        "outputId": "2a51fde1-7582-4b7d-c15a-ace4570b2d9d"
      },
      "outputs": [
        {
          "name": "stdout",
          "output_type": "stream",
          "text": [
            "['abc', 'pqr', 'xyz']\n"
          ]
        }
      ],
      "source": [
        "l = [\"abc\",\"pqr\",\"xyz\"] #list of strings\n",
        "print (l)"
      ]
    },
    {
      "cell_type": "code",
      "execution_count": null,
      "metadata": {
        "id": "ezhpYGiSy4dd",
        "outputId": "672e6630-1791-4f0f-c139-be6f031fc70c"
      },
      "outputs": [
        {
          "name": "stdout",
          "output_type": "stream",
          "text": [
            "['h', 'e', 'l', 'l', 'o']\n"
          ]
        }
      ],
      "source": [
        "l=list('hello')\n",
        "print(l)"
      ]
    },
    {
      "cell_type": "code",
      "execution_count": null,
      "metadata": {
        "id": "_iG-V8W5y4de",
        "outputId": "a962dbfe-0b40-4898-eef6-633de1744f2c"
      },
      "outputs": [
        {
          "name": "stdout",
          "output_type": "stream",
          "text": [
            "['a', 'b', 'c', 'd', 'e']\n"
          ]
        }
      ],
      "source": [
        "s=('a','b','c','d','e')\n",
        "l=list(s)\n",
        "print(l)"
      ]
    },
    {
      "cell_type": "code",
      "execution_count": null,
      "metadata": {
        "id": "zzuhP8Cpy4de",
        "outputId": "6f6dc0b6-53fe-4307-fff3-ff06b0663b4f"
      },
      "outputs": [
        {
          "name": "stdout",
          "output_type": "stream",
          "text": [
            "Enter a listDivya Jaiswal\n",
            "['D', 'i', 'v', 'y', 'a', ' ', 'J', 'a', 'i', 's', 'w', 'a', 'l']\n"
          ]
        }
      ],
      "source": [
        "l=list(input(\"Enter a list\"))\n",
        "print(l)"
      ]
    },
    {
      "cell_type": "code",
      "execution_count": null,
      "metadata": {
        "id": "X5eITrlry4df",
        "outputId": "f03b9324-128d-443a-d9bc-e345ed631342"
      },
      "outputs": [
        {
          "name": "stdout",
          "output_type": "stream",
          "text": [
            "[1, [2, 3], [4, 5], [6, 7, 8], ['Divya', 'Anu', 'Suchi']]\n"
          ]
        }
      ],
      "source": [
        "l=[1,[2,3],[4,5],[6,7,8],['Divya','Anu','Suchi']] #Nested List\n",
        "print(l)"
      ]
    },
    {
      "cell_type": "code",
      "execution_count": null,
      "metadata": {
        "id": "h7oxCtdFy4df",
        "outputId": "2536209c-c5c8-407f-be20-c196e42a2dd3"
      },
      "outputs": [
        {
          "data": {
            "text/plain": [
              "5"
            ]
          },
          "execution_count": 9,
          "metadata": {},
          "output_type": "execute_result"
        }
      ],
      "source": [
        "len(l) #length of a list"
      ]
    },
    {
      "cell_type": "code",
      "execution_count": null,
      "metadata": {
        "id": "HCIhWe6Ly4dg",
        "outputId": "b5c77481-84ca-4850-d132-139ad5b347b6"
      },
      "outputs": [
        {
          "data": {
            "text/plain": [
              "[6, 7, 8]"
            ]
          },
          "execution_count": 10,
          "metadata": {},
          "output_type": "execute_result"
        }
      ],
      "source": [
        "l[3]  #indexing"
      ]
    },
    {
      "cell_type": "code",
      "execution_count": null,
      "metadata": {
        "id": "reOV5CK8y4dg",
        "outputId": "4d0726df-28e9-4091-b805-f49f7e8abc74"
      },
      "outputs": [
        {
          "data": {
            "text/plain": [
              "[[4, 5], [6, 7, 8]]"
            ]
          },
          "execution_count": 15,
          "metadata": {},
          "output_type": "execute_result"
        }
      ],
      "source": [
        "l[2:4] #slicing"
      ]
    },
    {
      "cell_type": "code",
      "execution_count": null,
      "metadata": {
        "id": "tdi20yUfy4dg",
        "outputId": "0b1eba8e-f88d-4ee4-aca9-4df1b9a5c836"
      },
      "outputs": [
        {
          "data": {
            "text/plain": [
              "False"
            ]
          },
          "execution_count": 14,
          "metadata": {},
          "output_type": "execute_result"
        }
      ],
      "source": [
        "[-1,2,3] > [1,2,0]"
      ]
    },
    {
      "cell_type": "code",
      "execution_count": null,
      "metadata": {
        "id": "ivXac9vMy4dh",
        "outputId": "50526ef3-0a67-4466-dd06-412f6b03d587"
      },
      "outputs": [
        {
          "data": {
            "text/plain": [
              "True"
            ]
          },
          "execution_count": 17,
          "metadata": {},
          "output_type": "execute_result"
        }
      ],
      "source": [
        "[1,2,3] < [8,9,1]"
      ]
    },
    {
      "cell_type": "code",
      "execution_count": null,
      "metadata": {
        "id": "nxoQohFAy4dh",
        "outputId": "32ee3af4-382c-4d68-9e12-53f91f3a5eec"
      },
      "outputs": [
        {
          "name": "stdout",
          "output_type": "stream",
          "text": [
            "[1, 2, 5, 4, 3]\n"
          ]
        }
      ],
      "source": [
        "l1=[1,2]\n",
        "l2=[5,4,3]\n",
        "l = l1+l2\n",
        "print(l)"
      ]
    },
    {
      "cell_type": "code",
      "execution_count": null,
      "metadata": {
        "id": "2uNvsoVmy4dh",
        "outputId": "7c36cdb6-bcbb-4151-bff0-bc46f41d4dc0"
      },
      "outputs": [
        {
          "name": "stdout",
          "output_type": "stream",
          "text": [
            "[1, 2, 5, 4, 3, 1, 2, 5, 4, 3, 1, 2, 5, 4, 3, 1, 2, 5, 4, 3, 1, 2, 5, 4, 3, 1, 2, 5, 4, 3, 1, 2, 5, 4, 3, 1, 2, 5, 4, 3, 1, 2, 5, 4, 3, 1, 2, 5, 4, 3]\n"
          ]
        }
      ],
      "source": [
        "print(l*10) #Replicating a list"
      ]
    },
    {
      "cell_type": "code",
      "execution_count": null,
      "metadata": {
        "id": "uQoa7WgKy4dh",
        "outputId": "bad6269d-ef0c-4625-9d51-3b18b8f1bc9e"
      },
      "outputs": [
        {
          "name": "stdout",
          "output_type": "stream",
          "text": [
            "[5, 1, 4, 2, 3]\n"
          ]
        }
      ],
      "source": [
        "l=l*5\n",
        "seq = l[2:15:3] #L[start:end:step]\n",
        "print(seq)"
      ]
    },
    {
      "cell_type": "code",
      "execution_count": null,
      "metadata": {
        "id": "hOcMKDmay4di",
        "outputId": "ca717bd6-af05-44b1-8012-2e79e9dccc30"
      },
      "outputs": [
        {
          "name": "stdout",
          "output_type": "stream",
          "text": [
            "[1, 2, 5, 4, 3, 1, 2, 5, 4, 3, 1, 2, 5, 4, 3, 1, 2, 5, 4, 3, 1, 2, 5, 4, 3, 1, 2, 5, 4, 3, 1, 2, 5, 4, 3, 1, 2, 5, 4, 3, 1, 2, 5, 4, 3, 1, 2, 5, 4, 3, 1, 2, 5, 4, 3, 1, 2, 5, 4, 3, 1, 2, 5, 4, 3, 1, 2, 5, 4, 3, 1, 2, 5, 4, 3, 1, 2, 5, 4, 3, 1, 2, 5, 4, 3, 1, 2, 5, 4, 3, 1, 2, 5, 4, 3, 1, 2, 5, 4, 3, 1, 2, 5, 4, 3, 1, 2, 5, 4, 3, 1, 2, 5, 4, 3, 1, 2, 5, 4, 3, 1, 2, 5, 4, 3, 1, 2, 5, 4, 3, 1, 2, 5, 4, 3, 1, 2, 5, 4, 3, 1, 2, 5, 4, 3, 1, 2, 5, 4, 3, 1, 2, 5, 4, 3, 1, 2, 5, 4, 3, 1, 2, 5, 4, 3, 1, 2, 5, 4, 3, 1, 2, 5, 4, 3, 1, 2, 5, 4, 3, 1, 2, 5, 4, 3, 1, 2, 5, 4, 3, 1, 2, 5, 4, 3, 1, 2, 5, 4, 3, 1, 2, 5, 4, 3, 1, 2, 5, 4, 3, 1, 2, 5, 4, 3, 1, 2, 5, 4, 3, 1, 2, 5, 4, 3, 1, 2, 5, 4, 3, 1, 2, 5, 4, 3, 1, 2, 5, 4, 3, 1, 2, 5, 4, 3, 1, 2, 5, 4, 3, 1, 2, 5, 4, 3, 1, 2, 5, 4, 3, 1, 2, 5, 4, 3, 1, 2, 5, 4, 3, 1, 2, 5, 4, 3, 1, 2, 5, 4, 3, 1, 2, 5, 4, 3, 1, 2, 5, 4, 3, 1, 2, 5, 4, 3, 1, 2, 5, 4, 3, 1, 2, 5, 4, 3, 1, 2, 5, 4, 3, 1, 2, 5, 4, 3, 1, 2, 5, 4, 3, 1, 2, 5, 4, 3, 1, 2, 5, 4, 3, 1, 2, 5, 4, 3, 1, 2, 5, 4, 3, 1, 2, 5, 4, 3, 1, 2, 5, 4, 3, 1, 2, 5, 4, 3, 1, 2, 5, 4, 3, 1, 2, 5, 4, 3, 1, 2, 5, 4, 3, 1, 2, 5, 4, 3, 1, 2, 5, 4, 3, 1, 2, 5, 4, 3, 1, 2, 5, 4, 3, 1, 2, 5, 4, 3, 1, 2, 5, 4, 3, 1, 2, 5, 4, 3, 1, 2, 5, 4, 3, 1, 2, 5, 4, 3, 1, 2, 5, 4, 3, 1, 2, 5, 4, 3, 1, 2, 5, 4, 3, 1, 2, 5, 4, 3, 1, 2, 5, 4, 3, 1, 2, 5, 4, 3, 1, 2, 5, 4, 3, 1, 2, 5, 4, 3, 1, 2, 5, 4, 3, 1, 2, 5, 4, 3, 1, 2, 5, 4, 3, 1, 2, 5, 4, 3, 1, 2, 5, 4, 3, 1, 2, 5, 4, 3, 1, 2, 5, 4, 3, 1, 2, 5, 4, 3, 1, 2, 5, 4, 3]\n",
            "[1, 4, 2, 3, 5, 1, 4, 2, 3, 5, 1, 4, 2, 3, 5, 1, 4, 2, 3, 5, 1, 4, 2, 3, 5, 1, 4, 2, 3, 5, 1, 4, 2, 3, 5, 1, 4, 2, 3, 5, 1, 4, 2, 3, 5, 1, 4, 2, 3, 5, 1, 4, 2, 3, 5, 1, 4, 2, 3, 5, 1, 4, 2, 3, 5, 1, 4, 2, 3, 5, 1, 4, 2, 3, 5, 1, 4, 2, 3, 5, 1, 4, 2, 3, 5, 1, 4, 2, 3, 5, 1, 4, 2, 3, 5, 1, 4, 2, 3, 5, 1, 4, 2, 3, 5, 1, 4, 2, 3, 5, 1, 4, 2, 3, 5, 1, 4, 2, 3, 5, 1, 4, 2, 3, 5, 1, 4, 2, 3, 5, 1, 4, 2, 3, 5, 1, 4, 2, 3, 5, 1, 4, 2, 3, 5, 1, 4, 2, 3, 5, 1, 4, 2, 3, 5, 1, 4, 2, 3, 5, 1, 4, 2, 3, 5, 1, 4]\n"
          ]
        }
      ],
      "source": [
        "l=l*4\n",
        "print(l)\n",
        "print(l[::3])"
      ]
    },
    {
      "cell_type": "code",
      "execution_count": null,
      "metadata": {
        "id": "DkEMkhZ2y4di",
        "outputId": "dd9b5434-f37b-4b0d-e038-ac3e668fbccd"
      },
      "outputs": [
        {
          "name": "stdout",
          "output_type": "stream",
          "text": [
            "[1, 2, 5, 4, 3, 1, 2, 5, 4, 3, 1, 2, 5, 4, 3]\n",
            "['one', 'two', 5, 4, 3, 1, 2, 5, 4, 3, 1, 2, 5, 4, 3]\n"
          ]
        }
      ],
      "source": [
        "l1=[1,2]\n",
        "l2=[5,4,3]\n",
        "l = l1+l2\n",
        "l=l*3\n",
        "print(l)\n",
        "l[0:2] = ['one','two']\n",
        "print(l)"
      ]
    },
    {
      "cell_type": "code",
      "execution_count": null,
      "metadata": {
        "id": "tld8_TiIy4dj",
        "outputId": "6933c4ae-9917-4b43-9057-2da78fcd064c"
      },
      "outputs": [
        {
          "name": "stdout",
          "output_type": "stream",
          "text": [
            "['one', 'two', 5, 4, 3, 1, 2, 5, 4, 3, 1, 2, 5, 4, 3, 'new item']\n"
          ]
        }
      ],
      "source": [
        "l.append('new item') #add an element\n",
        "print(l)"
      ]
    },
    {
      "cell_type": "code",
      "execution_count": null,
      "metadata": {
        "id": "FxFh3SZsy4dj",
        "outputId": "0f6bcc6a-2cd4-4028-f1e0-f427a9319f0e"
      },
      "outputs": [
        {
          "name": "stdout",
          "output_type": "stream",
          "text": [
            "['one', 'two', 5, 'updated item', 3, 1, 2, 5, 4, 3, 1, 2, 5, 4, 3, 'new item']\n"
          ]
        }
      ],
      "source": [
        "l[3] = 'updated item' #replace an element\n",
        "print(l)"
      ]
    },
    {
      "cell_type": "code",
      "execution_count": null,
      "metadata": {
        "id": "2m2fR3Emy4dk",
        "outputId": "e656ec35-43b1-4597-ccb1-e4cca7c1565d"
      },
      "outputs": [
        {
          "name": "stdout",
          "output_type": "stream",
          "text": [
            "['one', 'two', 5, 3, 1, 2, 5, 4, 3, 1, 2, 5, 4, 3, 'new item']\n"
          ]
        }
      ],
      "source": [
        "del l[3]  #delete an item\n",
        "print(l)"
      ]
    },
    {
      "cell_type": "code",
      "execution_count": null,
      "metadata": {
        "id": "iVWmkhB4y4dk",
        "outputId": "bf042925-9085-4566-d97c-2fa75e38b0a4"
      },
      "outputs": [
        {
          "name": "stdout",
          "output_type": "stream",
          "text": [
            "['one', 5, 'updated item', 3, 1, 2, 5, 4, 3, 2, 5, 4, 3, 1, 2, 5, 4, 3, 1, 2, 5, 4, 3, 1, 2, 5, 4, 3, 1, 2, 5, 4, 3, 1, 2, 5, 4, 3, 1, 2, 5, 4, 3, 'new item']\n"
          ]
        }
      ],
      "source": [
        "del l[1]  #delete an item\n",
        "print(l)"
      ]
    },
    {
      "cell_type": "code",
      "execution_count": null,
      "metadata": {
        "id": "ExOeI7Eby4dl",
        "outputId": "35e74bf6-66e0-463f-fc24-d00d9b0dec93"
      },
      "outputs": [
        {
          "name": "stdout",
          "output_type": "stream",
          "text": [
            "['one', 'two', 5, 3, 1, 'item 1', 'item2', 4, 3, 1, 2, 5, 4, 3, 'new item']\n"
          ]
        }
      ],
      "source": [
        "l[5] = \"item 1\"\n",
        "l[6] = \"item2\"\n",
        "print(l)"
      ]
    },
    {
      "cell_type": "code",
      "execution_count": null,
      "metadata": {
        "id": "pYDt3kC3y4dl",
        "outputId": "7e038cf6-925b-4553-a377-3cc32035fb15"
      },
      "outputs": [
        {
          "name": "stdout",
          "output_type": "stream",
          "text": [
            "['one', 'two', 5, 3, 1, 4, 3, 1, 2, 5, 4, 3, 'new item']\n"
          ]
        }
      ],
      "source": [
        "del l[5:7]  #delete a slice\n",
        "print(l)"
      ]
    },
    {
      "cell_type": "code",
      "execution_count": null,
      "metadata": {
        "id": "1Pd-oIr8y4dl",
        "outputId": "7ae5e104-fe85-4646-e611-807f933a73b8"
      },
      "outputs": [
        {
          "name": "stdout",
          "output_type": "stream",
          "text": [
            "['one', 'two', 5, 3, 1, 4, 3, 1, 2, 5, 4, 3]\n"
          ]
        }
      ],
      "source": [
        "l.pop() #remove last element of the list\n",
        "print(l)"
      ]
    },
    {
      "cell_type": "code",
      "execution_count": null,
      "metadata": {
        "id": "9S5ZF_10y4dm",
        "outputId": "1dfa7a96-1161-4d3e-8cf1-33839669e7a5"
      },
      "outputs": [
        {
          "name": "stdout",
          "output_type": "stream",
          "text": [
            "['one', 'two', 1, 4, 3, 1, 2, 5, 4, 3]\n"
          ]
        }
      ],
      "source": [
        "l.pop(2) #removes an element at a position\n",
        "print(l)"
      ]
    },
    {
      "cell_type": "code",
      "execution_count": null,
      "metadata": {
        "id": "dUcZpyiAy4dm",
        "outputId": "8e4dd7cf-3486-46a0-aa98-a701b1446e7a"
      },
      "outputs": [
        {
          "data": {
            "text/plain": [
              "2"
            ]
          },
          "execution_count": 30,
          "metadata": {},
          "output_type": "execute_result"
        }
      ],
      "source": [
        "l.index(1) #prints an element at position x"
      ]
    },
    {
      "cell_type": "code",
      "execution_count": null,
      "metadata": {
        "id": "UPVlB6A_y4dm",
        "outputId": "a193c17d-8b4a-4b9c-9199-0471dd9dd8aa"
      },
      "outputs": [
        {
          "name": "stdout",
          "output_type": "stream",
          "text": [
            "['one', 'two', 1, 4, 3, 1, 2, 5, 4, 3, 'a', 'b', 'Banasthali', 1, 2, 3]\n"
          ]
        }
      ],
      "source": [
        "t=['a','b','Banasthali',1,2,3]\n",
        "l.extend(t)\n",
        "print(l)"
      ]
    },
    {
      "cell_type": "code",
      "execution_count": null,
      "metadata": {
        "id": "iIlVLnMIy4dm",
        "outputId": "0cde6aab-288d-4cd3-ea89-91dff2c4be76"
      },
      "outputs": [
        {
          "name": "stdout",
          "output_type": "stream",
          "text": [
            "['one', 'two', 1, 4, 'Hello', 3, 1, 2, 5, 4, 3, 'a', 'b', 'Banasthali', 1, 2, 3]\n"
          ]
        }
      ],
      "source": [
        "l.insert(4,\"Hello\")\n",
        "print(l)"
      ]
    },
    {
      "cell_type": "code",
      "execution_count": null,
      "metadata": {
        "id": "njUZfDPhy4dn",
        "outputId": "6b3809df-34fa-446f-e53d-f830ba0d2358"
      },
      "outputs": [
        {
          "name": "stdout",
          "output_type": "stream",
          "text": [
            "Element not found\n",
            "['one', 'two', 4, 'Hello', 2, 5, 4, 'a', 'b', 'Banasthali', 2]\n"
          ]
        }
      ],
      "source": [
        "if 1 not in l:\n",
        "    print(\"Element not found\")\n",
        "else:\n",
        "    l.remove(1)\n",
        "    print(\"Element Deleted\")\n",
        "print(l)"
      ]
    },
    {
      "cell_type": "code",
      "execution_count": null,
      "metadata": {
        "id": "ZO-9kj7cy4dn",
        "outputId": "8930c92f-fcbc-4825-bcbb-d1c5c35f9a97"
      },
      "outputs": [
        {
          "data": {
            "text/plain": [
              "3"
            ]
          },
          "execution_count": 44,
          "metadata": {},
          "output_type": "execute_result"
        }
      ],
      "source": [
        "l.append(4)\n",
        "l.count(4)"
      ]
    },
    {
      "cell_type": "code",
      "execution_count": null,
      "metadata": {
        "id": "ooBHtcKBy4dn",
        "outputId": "97423672-36a9-4039-b757-ba26a598a255"
      },
      "outputs": [
        {
          "name": "stdout",
          "output_type": "stream",
          "text": [
            "['one', 'two', 4, 'Hello', 2, 5, 4, 'a', 'b', 'Banasthali', 2, 4]\n",
            "[4, 2, 'Banasthali', 'b', 'a', 4, 5, 2, 'Hello', 4, 'two', 'one']\n"
          ]
        }
      ],
      "source": [
        "print(l)\n",
        "l.reverse()\n",
        "print(l)"
      ]
    },
    {
      "cell_type": "code",
      "execution_count": null,
      "metadata": {
        "id": "bXFd4719y4dn",
        "outputId": "db123c12-07f3-4cbe-e827-897839746432"
      },
      "outputs": [
        {
          "name": "stdout",
          "output_type": "stream",
          "text": [
            "('e', 'i', 'q', 'a', 'q', 'p', 'b')\n",
            "['a', 'b', 'e', 'i', 'p', 'q', 'q']\n"
          ]
        },
        {
          "ename": "TypeError",
          "evalue": "'tuple' object does not support item assignment",
          "output_type": "error",
          "traceback": [
            "\u001b[1;31m---------------------------------------------------------------------------\u001b[0m",
            "\u001b[1;31mTypeError\u001b[0m                                 Traceback (most recent call last)",
            "\u001b[1;32m<ipython-input-6-b678fdd0e0f3>\u001b[0m in \u001b[0;36m<module>\u001b[1;34m\u001b[0m\n\u001b[0;32m      4\u001b[0m \u001b[0mprint\u001b[0m\u001b[1;33m(\u001b[0m\u001b[0ml1\u001b[0m\u001b[1;33m)\u001b[0m\u001b[1;33m\u001b[0m\u001b[1;33m\u001b[0m\u001b[0m\n\u001b[0;32m      5\u001b[0m \u001b[0mprint\u001b[0m\u001b[1;33m(\u001b[0m\u001b[0msorted\u001b[0m\u001b[1;33m(\u001b[0m\u001b[0ml2\u001b[0m\u001b[1;33m)\u001b[0m\u001b[1;33m)\u001b[0m\u001b[1;33m\u001b[0m\u001b[1;33m\u001b[0m\u001b[0m\n\u001b[1;32m----> 6\u001b[1;33m \u001b[0ml1\u001b[0m\u001b[1;33m[\u001b[0m\u001b[1;36m4\u001b[0m\u001b[1;33m]\u001b[0m\u001b[1;33m=\u001b[0m\u001b[1;34m'x'\u001b[0m\u001b[1;33m\u001b[0m\u001b[1;33m\u001b[0m\u001b[0m\n\u001b[0m",
            "\u001b[1;31mTypeError\u001b[0m: 'tuple' object does not support item assignment"
          ]
        }
      ],
      "source": [
        "l1=[]'e','i','q','a','q','p','b']\n",
        "l2=l1\n",
        "l1.sort()\n",
        "print(l1)\n",
        "print(sorted(l2))"
      ]
    },
    {
      "cell_type": "code",
      "execution_count": null,
      "metadata": {
        "id": "8-usiAmGy4do",
        "outputId": "f9ccf1ef-bffd-4118-acc2-96e347797a6b"
      },
      "outputs": [
        {
          "name": "stdout",
          "output_type": "stream",
          "text": [
            "[]\n"
          ]
        }
      ],
      "source": [
        "l.clear()\n",
        "print(l)"
      ]
    },
    {
      "cell_type": "markdown",
      "metadata": {
        "id": "zKvJF6gQy4do"
      },
      "source": [
        "# Creating a Matrix"
      ]
    },
    {
      "cell_type": "code",
      "execution_count": null,
      "metadata": {
        "id": "TrI9bYney4dp",
        "outputId": "f4feb867-52d5-4451-bc3a-d9b2833a86f1"
      },
      "outputs": [
        {
          "name": "stdout",
          "output_type": "stream",
          "text": [
            "Enter the number of rows:2\n",
            "Enter the number of columns:2\n",
            "Enter the entries rowwise:\n",
            "1\n",
            "2\n",
            "3\n",
            "4\n",
            "1 2 \n",
            "3 4 \n"
          ]
        }
      ],
      "source": [
        "R = int(input(\"Enter the number of rows:\")) \n",
        "C = int(input(\"Enter the number of columns:\")) \n",
        "  \n",
        "# Initialize matrix \n",
        "matrix = [] \n",
        "print(\"Enter the entries rowwise:\") \n",
        "  \n",
        "# For user input \n",
        "for i in range(R):          # A for loop for row entries \n",
        "    a =[] \n",
        "    for j in range(C):      # A for loop for column entries \n",
        "         a.append(int(input())) \n",
        "    matrix.append(a) \n",
        "  \n",
        "# For printing the matrix \n",
        "for i in range(R): \n",
        "    for j in range(C): \n",
        "        print(matrix[i][j], end = \" \") \n",
        "    print() "
      ]
    },
    {
      "cell_type": "markdown",
      "metadata": {
        "id": "lUAVsHgDy4dq"
      },
      "source": [
        "# Lab 4\n",
        "1. WAP to find minimum element from a list of integers alongwith its index in the list\n",
        "2. WAP to calcualte mean of a given list of numbers\n",
        "3. WAP to search an element in a list\n",
        "4. WAP to count the frequency of an element in a list\n",
        "5. WAP to find frequencies of all elements in a list\n",
        "6. WAP to extact two slices from a list and add the slices and find which one is greater\n",
        "7. WAP to find second largest number of a list\n",
        "8. WAP to input a list of numbers and shift all zeros to the right and all non zeros to left of the list\n",
        "9. WAP to add two matrices\n",
        "10. WAP to multiply two matrices\n",
        "11. WAP to print transpose of a matrix\n",
        "12. WAP to add elements of diagonal of a matrix\n",
        "13. WAP to find an element in a matrix\n",
        "14. WAP to find inverse of a matrix"
      ]
    },
    {
      "cell_type": "markdown",
      "source": [
        "WAP to find minimum element from a list of integers alongwith its index in the list"
      ],
      "metadata": {
        "id": "qoaiCHOZ6PqP"
      }
    },
    {
      "cell_type": "code",
      "execution_count": 1,
      "metadata": {
        "colab": {
          "base_uri": "https://localhost:8080/"
        },
        "id": "REXEVW-Py4dq",
        "outputId": "c2b15ee6-503d-4d31-842a-61d57d4f39ca"
      },
      "outputs": [
        {
          "output_type": "stream",
          "name": "stdout",
          "text": [
            "Minimum Element is 0\tIndex is 4\n"
          ]
        }
      ],
      "source": [
        "l=[15,6,9,1,0,8]\n",
        "min=1000\n",
        "for i in l:\n",
        "    if i < min:\n",
        "        min=i\n",
        "idx=l.index(min)\n",
        "print(\"Minimum Element is {}\".format(min) , end = \"\\t\")\n",
        "print(\"Index is {}\".format(idx))"
      ]
    },
    {
      "cell_type": "markdown",
      "source": [
        "WAP to calcualte mean of a given list of numbers"
      ],
      "metadata": {
        "id": "1yy98MIO6UCO"
      }
    },
    {
      "cell_type": "code",
      "execution_count": 2,
      "metadata": {
        "colab": {
          "base_uri": "https://localhost:8080/"
        },
        "id": "Kh0pP1K-y4dq",
        "outputId": "d362088b-8fb1-4535-806e-5d4663987f14"
      },
      "outputs": [
        {
          "output_type": "stream",
          "name": "stdout",
          "text": [
            "The mean of the given list is  7.0\n"
          ]
        }
      ],
      "source": [
        "l=[10,9,8,7,6,5,4]\n",
        "length= len(l)\n",
        "mean=sum=0;\n",
        "for i in range(0,length):\n",
        "  sum=sum+l[i]\n",
        "mean=sum/length\n",
        "print(\"The mean of the given list is \",mean)"
      ]
    },
    {
      "cell_type": "markdown",
      "source": [
        "WAP to search an element in a list"
      ],
      "metadata": {
        "id": "THhKiymh6Y9M"
      }
    },
    {
      "cell_type": "code",
      "source": [
        "l=[10,9,8,7,4,5,6,2]\n",
        "length=len(l)\n",
        "element=int(input(\"Enter element to search\"))\n",
        "for i in range(0,length):\n",
        "  if element == l[i]:\n",
        "    print(\"Element is present\")\n",
        "    break\n",
        "else:\n",
        "    print(\"Element not present\")\n"
      ],
      "metadata": {
        "colab": {
          "base_uri": "https://localhost:8080/"
        },
        "id": "Rh41vV_N0628",
        "outputId": "4e82fc6d-bffa-4ce1-8d42-26615b771504"
      },
      "execution_count": 5,
      "outputs": [
        {
          "output_type": "stream",
          "name": "stdout",
          "text": [
            "Enter element to search11\n",
            "Element not present\n"
          ]
        }
      ]
    },
    {
      "cell_type": "markdown",
      "source": [
        "WAP to find frequencies of all elements in a list"
      ],
      "metadata": {
        "id": "nt-PpwsW6hIq"
      }
    },
    {
      "cell_type": "code",
      "source": [
        "lst = eval(input(\"Enter a list :-\"))\n",
        "for i in lst :\n",
        "    feq = lst.count(i)\n",
        "    print(\"Frequency of \",i,\"=\",feq)"
      ],
      "metadata": {
        "colab": {
          "base_uri": "https://localhost:8080/"
        },
        "id": "C7R4Yx_62VTv",
        "outputId": "93465756-6d9a-4b0a-f7c1-12eb7a515dc8"
      },
      "execution_count": 11,
      "outputs": [
        {
          "output_type": "stream",
          "name": "stdout",
          "text": [
            "Enter a list :-5,5,5,3,5,2,1,2,1,2,4,4,7\n",
            "Frequency of  5 = 4\n",
            "Frequency of  5 = 4\n",
            "Frequency of  5 = 4\n",
            "Frequency of  3 = 1\n",
            "Frequency of  5 = 4\n",
            "Frequency of  2 = 3\n",
            "Frequency of  1 = 2\n",
            "Frequency of  2 = 3\n",
            "Frequency of  1 = 2\n",
            "Frequency of  2 = 3\n",
            "Frequency of  4 = 2\n",
            "Frequency of  4 = 2\n",
            "Frequency of  7 = 1\n"
          ]
        }
      ]
    },
    {
      "cell_type": "markdown",
      "source": [
        "WAP to count the frequency of an element in a list"
      ],
      "metadata": {
        "id": "EHBXj9BL6iw0"
      }
    },
    {
      "cell_type": "code",
      "source": [
        "import collections\n",
        "my_list = [10,10,10,10,20,20,20,20,40,40,50,50,30]\n",
        "print(\"Original List : \",my_list)\n",
        "ctr = collections.Counter(my_list)\n",
        "print(\"Frequency of the elements in the List : \",ctr)"
      ],
      "metadata": {
        "colab": {
          "base_uri": "https://localhost:8080/"
        },
        "id": "6-AZPX_P4eQH",
        "outputId": "d2523b6c-af5f-4227-fd34-edbb41dbded9"
      },
      "execution_count": 12,
      "outputs": [
        {
          "output_type": "stream",
          "name": "stdout",
          "text": [
            "Original List :  [10, 10, 10, 10, 20, 20, 20, 20, 40, 40, 50, 50, 30]\n",
            "Frequency of the elements in the List :  Counter({10: 4, 20: 4, 40: 2, 50: 2, 30: 1})\n"
          ]
        }
      ]
    },
    {
      "cell_type": "markdown",
      "source": [
        "WAP to extact two slices from a list and add the slices and find which one is greater"
      ],
      "metadata": {
        "id": "hgrTQiT26pWT"
      }
    },
    {
      "cell_type": "code",
      "source": [
        "List = [1, 2, 3, 4, 5, 6, 7, 8, 9]\n",
        " \n",
        "print(\"\\nOriginal List:\\n\", List)\n",
        " \n",
        "print(\"\\nSliced Lists: \")\n",
        " \n",
        "print(List[3:9:2])\n",
        " \n",
        "print(List[::2])\n",
        " \n",
        "print(List[::])"
      ],
      "metadata": {
        "colab": {
          "base_uri": "https://localhost:8080/"
        },
        "id": "4mGb23IX5S6B",
        "outputId": "8b08f67c-505a-42b8-f1ed-d9f84d534672"
      },
      "execution_count": 13,
      "outputs": [
        {
          "output_type": "stream",
          "name": "stdout",
          "text": [
            "\n",
            "Original List:\n",
            " [1, 2, 3, 4, 5, 6, 7, 8, 9]\n",
            "\n",
            "Sliced Lists: \n",
            "[4, 6, 8]\n",
            "[1, 3, 5, 7, 9]\n",
            "[1, 2, 3, 4, 5, 6, 7, 8, 9]\n"
          ]
        }
      ]
    },
    {
      "cell_type": "markdown",
      "source": [
        "WAP to find second largest number of a list"
      ],
      "metadata": {
        "id": "wwm4_9gM6GSS"
      }
    },
    {
      "cell_type": "code",
      "source": [
        "list1 = [10, 20, 4, 45, 99]\n",
        " \n",
        "# sorting the list\n",
        "list1.sort()\n",
        " \n",
        "print(\"Second largest element is:\", list1[-2])"
      ],
      "metadata": {
        "colab": {
          "base_uri": "https://localhost:8080/"
        },
        "id": "JiBxzHOd5gW3",
        "outputId": "88782358-1f11-481a-f372-02cc34e8fd1b"
      },
      "execution_count": 14,
      "outputs": [
        {
          "output_type": "stream",
          "name": "stdout",
          "text": [
            "Second largest element is: 45\n"
          ]
        }
      ]
    },
    {
      "cell_type": "markdown",
      "source": [
        "WAP to input a list of numbers and shift all zeros to the right and all non zeros to left of the list"
      ],
      "metadata": {
        "id": "iAJe5uJo62bq"
      }
    },
    {
      "cell_type": "code",
      "source": [
        "a = [1, 2, 0, 0, 0, 3, 6]\n",
        "temp = []\n",
        "zero = []\n",
        "\n",
        "for i in range(len(a)):\n",
        "    if a[i] !=0:\n",
        "        temp.append(a[i])\n",
        "    else:\n",
        "        zero.append(a[i])\n",
        "\n",
        "print(temp+zero)"
      ],
      "metadata": {
        "colab": {
          "base_uri": "https://localhost:8080/"
        },
        "id": "iEVUNS-p5tC-",
        "outputId": "df493357-02a6-4539-8fc1-d6a3e96501ad"
      },
      "execution_count": 17,
      "outputs": [
        {
          "output_type": "stream",
          "name": "stdout",
          "text": [
            "[1, 2, 3, 6, 0, 0, 0]\n"
          ]
        }
      ]
    },
    {
      "cell_type": "markdown",
      "source": [
        "WAP to add two matrices"
      ],
      "metadata": {
        "id": "eWCIlPXl7UaB"
      }
    },
    {
      "cell_type": "code",
      "source": [
        "A = [[12,7,3],\n",
        "\n",
        "    [4 ,5,6],\n",
        "\n",
        "    [7 ,8,9]]\n",
        "\n",
        "B = [[5,8,1],\n",
        "\n",
        "    [6,7,3],\n",
        "\n",
        "    [4,5,9]]\n",
        "\n",
        "result = [[0,0,0],\n",
        "\n",
        "         [0,0,0],\n",
        "\n",
        "         [0,0,0]]\n",
        "\n",
        "\n",
        "for x in range(len(A)):\n",
        "\n",
        "\n",
        "   for y in range(len(A[0])):\n",
        "\n",
        "       result[x][y] = A[x][y] + B[x][y]\n",
        "\n",
        "for q in result:\n",
        "\n",
        "   print(q)"
      ],
      "metadata": {
        "colab": {
          "base_uri": "https://localhost:8080/"
        },
        "id": "BdUVFFg97bxI",
        "outputId": "b955b6c3-8f0e-4aef-93c7-e4562cc586e2"
      },
      "execution_count": 18,
      "outputs": [
        {
          "output_type": "stream",
          "name": "stdout",
          "text": [
            "[17, 15, 4]\n",
            "[10, 12, 9]\n",
            "[11, 13, 18]\n"
          ]
        }
      ]
    },
    {
      "cell_type": "markdown",
      "source": [
        "WAP to multiply two matrices"
      ],
      "metadata": {
        "id": "FAloOcmd8DFn"
      }
    },
    {
      "cell_type": "code",
      "source": [
        "# Program to multiply two matrices using nested loops\n",
        "\n",
        "X = [[12,7,3],\n",
        "    [4 ,5,6],\n",
        "    [7 ,8,9]]\n",
        "\n",
        "Y = [[5,8,1,2],\n",
        "    [6,7,3,0],\n",
        "    [4,5,9,1]]\n",
        "\n",
        "result = [[0,0,0,0],\n",
        "         [0,0,0,0],\n",
        "         [0,0,0,0]]\n",
        "\n",
        "for i in range(len(X)):\n",
        "   \n",
        "   for j in range(len(Y[0])):\n",
        "      \n",
        "       for k in range(len(Y)):\n",
        "           result[i][j] += X[i][k] * Y[k][j]\n",
        "\n",
        "for r in result:\n",
        "   print(r)"
      ],
      "metadata": {
        "colab": {
          "base_uri": "https://localhost:8080/"
        },
        "id": "BheqTdcF8dqg",
        "outputId": "bd976768-920e-4d9a-c5e7-83515dbd67de"
      },
      "execution_count": 19,
      "outputs": [
        {
          "output_type": "stream",
          "name": "stdout",
          "text": [
            "[114, 160, 60, 27]\n",
            "[74, 97, 73, 14]\n",
            "[119, 157, 112, 23]\n"
          ]
        }
      ]
    },
    {
      "cell_type": "markdown",
      "source": [
        "WAP to print transpose of a matrix"
      ],
      "metadata": {
        "id": "a1v5J6ld8sdp"
      }
    },
    {
      "cell_type": "code",
      "source": [
        "X = [[12,7],\n",
        "    [4 ,3],\n",
        "    [3 ,9]]\n",
        "\n",
        "result = [[0,0,0],\n",
        "         [0,0,0]]\n",
        "for i in range(len(X)):\n",
        "   \n",
        "   for j in range(len(X[0])):\n",
        "       result[j][i] = X[i][j]\n",
        "\n",
        "for r in result:\n",
        "   print(r)"
      ],
      "metadata": {
        "colab": {
          "base_uri": "https://localhost:8080/"
        },
        "id": "_tYshgy38rm2",
        "outputId": "8bf1df1f-63c6-4c7e-f61a-798750dd0e96"
      },
      "execution_count": 21,
      "outputs": [
        {
          "output_type": "stream",
          "name": "stdout",
          "text": [
            "[12, 4, 3]\n",
            "[7, 3, 9]\n"
          ]
        }
      ]
    },
    {
      "cell_type": "markdown",
      "source": [
        "WAP to add elements of diagonal of a matrix"
      ],
      "metadata": {
        "id": "Lqlxcx7c9BQy"
      }
    },
    {
      "cell_type": "code",
      "source": [
        "mtrxrows = int(input('Enter some random number of rows of the matrix = '))\n",
        "mtrxcols = int(input('Enter some random number of columns of the matrix = '))\n",
        "\n",
        "mtrx = []\n",
        "\n",
        "for n in range(mtrxrows):\n",
        "   \n",
        "    l = list(map(int, input(\n",
        "        'Enter {'+str(mtrxcols)+'} elements of row {'+str(n+1)+'} separated by spaces = ').split()))\n",
        "    \n",
        "    mtrx.append(l)\n",
        "\n",
        "diagnl_sum = 0\n",
        "for n in range(mtrxrows):\n",
        "      \n",
        "    for m in range(mtrxcols):\n",
        "      \n",
        "        if n == m:\n",
        "         \n",
        "            diagnl_sum += mtrx[n][m]\n",
        "\n",
        "print(\"The Sum of all Diagonal elements of a given Matix = \", diagnl_sum)Matrix=[[0]*M]*M\n",
        "sum=0\n",
        "for i in range(M):\n",
        "    for j in range(M):\n",
        "        if i==j:\n",
        "            sum=sum+Matrix[i][j]\n",
        "        elif i+j=M-1:\n",
        "            sum=sum+Matrix[i][j]\n",
        "print(sum)"
      ],
      "metadata": {
        "colab": {
          "base_uri": "https://localhost:8080/",
          "height": 130
        },
        "id": "IZMiDjNK9Gqc",
        "outputId": "493b5c06-74b4-48d9-b9fb-d7cd1444abbe"
      },
      "execution_count": 23,
      "outputs": [
        {
          "output_type": "error",
          "ename": "SyntaxError",
          "evalue": "ignored",
          "traceback": [
            "\u001b[0;36m  File \u001b[0;32m\"<ipython-input-23-510f365e0a4d>\"\u001b[0;36m, line \u001b[0;32m22\u001b[0m\n\u001b[0;31m    print(\"The Sum of all Diagonal elements of a given Matix = \", diagnl_sum)Matrix=[[0]*M]*M\u001b[0m\n\u001b[0m                                                                                  ^\u001b[0m\n\u001b[0;31mSyntaxError\u001b[0m\u001b[0;31m:\u001b[0m invalid syntax\n"
          ]
        }
      ]
    },
    {
      "cell_type": "markdown",
      "source": [
        "WAP to find inverse of a matrix"
      ],
      "metadata": {
        "id": "rpsM9vhx-a2f"
      }
    },
    {
      "cell_type": "code",
      "source": [
        "import numpy as np\n",
        "  \n",
        "# Taking a 4 * 4 matrix\n",
        "A = np.array([[6, 1, 1, 3],\n",
        "              [4, -2, 5, 1],\n",
        "              [2, 8, 7, 6],\n",
        "              [3, 1, 9, 7]])\n",
        "  \n",
        "# Calculating the inverse of the matrix\n",
        "print(np.linalg.inv(A))"
      ],
      "metadata": {
        "colab": {
          "base_uri": "https://localhost:8080/"
        },
        "id": "QFJvtOXM-Z5L",
        "outputId": "a35ba500-b590-451a-fd23-d81ec526cacc"
      },
      "execution_count": 24,
      "outputs": [
        {
          "output_type": "stream",
          "name": "stdout",
          "text": [
            "[[ 0.13368984  0.10695187  0.02139037 -0.09090909]\n",
            " [-0.00229183  0.02673797  0.14820474 -0.12987013]\n",
            " [-0.12987013  0.18181818  0.06493506 -0.02597403]\n",
            " [ 0.11000764 -0.28342246 -0.11382735  0.23376623]]\n"
          ]
        }
      ]
    }
  ],
  "metadata": {
    "kernelspec": {
      "display_name": "Python 3",
      "language": "python",
      "name": "python3"
    },
    "language_info": {
      "codemirror_mode": {
        "name": "ipython",
        "version": 3
      },
      "file_extension": ".py",
      "mimetype": "text/x-python",
      "name": "python",
      "nbconvert_exporter": "python",
      "pygments_lexer": "ipython3",
      "version": "3.8.5"
    },
    "colab": {
      "name": "Lab 4.ipynb",
      "provenance": [],
      "collapsed_sections": []
    }
  },
  "nbformat": 4,
  "nbformat_minor": 0
}