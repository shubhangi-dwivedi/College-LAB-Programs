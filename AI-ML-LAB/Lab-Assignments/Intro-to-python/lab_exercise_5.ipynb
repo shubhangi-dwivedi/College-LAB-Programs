{
  "metadata": {
    "kernelspec": {
      "language": "python",
      "display_name": "Python 3",
      "name": "python3"
    },
    "language_info": {
      "name": "python",
      "version": "3.7.12",
      "mimetype": "text/x-python",
      "codemirror_mode": {
        "name": "ipython",
        "version": 3
      },
      "pygments_lexer": "ipython3",
      "nbconvert_exporter": "python",
      "file_extension": ".py"
    },
    "colab": {
      "name": "lab-exercise-5.ipynb",
      "provenance": []
    }
  },
  "nbformat_minor": 0,
  "nbformat": 4,
  "cells": [
    {
      "cell_type": "code",
      "source": [
        "def fuct(f):\n",
        "    r=1\n",
        "    for i in range(f,0,-1):\n",
        "        r=r*i\n",
        "    return r"
      ],
      "metadata": {
        "execution": {
          "iopub.status.busy": "2022-04-15T05:17:27.201266Z",
          "iopub.execute_input": "2022-04-15T05:17:27.201528Z",
          "iopub.status.idle": "2022-04-15T05:17:27.207279Z",
          "shell.execute_reply.started": "2022-04-15T05:17:27.201500Z",
          "shell.execute_reply": "2022-04-15T05:17:27.205846Z"
        },
        "trusted": true,
        "id": "T66SIpBkbSrP"
      },
      "execution_count": null,
      "outputs": []
    },
    {
      "cell_type": "code",
      "source": [
        "print(fuct(100))"
      ],
      "metadata": {
        "execution": {
          "iopub.status.busy": "2022-04-15T05:17:27.209438Z",
          "iopub.execute_input": "2022-04-15T05:17:27.209995Z",
          "iopub.status.idle": "2022-04-15T05:17:27.222094Z",
          "shell.execute_reply.started": "2022-04-15T05:17:27.209947Z",
          "shell.execute_reply": "2022-04-15T05:17:27.221114Z"
        },
        "trusted": true,
        "id": "ed7YyEXkbSrU",
        "outputId": "c0badfed-2091-4c9b-8063-1a571053bd81"
      },
      "execution_count": null,
      "outputs": [
        {
          "name": "stdout",
          "text": "93326215443944152681699238856266700490715968264381621468592963895217599993229915608941463976156518286253697920827223758251185210916864000000000000000000000000\n",
          "output_type": "stream"
        }
      ]
    },
    {
      "cell_type": "code",
      "source": [
        "def rfun(f):\n",
        "    if f==0:\n",
        "        return 1\n",
        "    else:\n",
        "        return(f*rfun(f-1))"
      ],
      "metadata": {
        "execution": {
          "iopub.status.busy": "2022-04-15T05:17:27.223739Z",
          "iopub.execute_input": "2022-04-15T05:17:27.224086Z",
          "iopub.status.idle": "2022-04-15T05:17:27.233610Z",
          "shell.execute_reply.started": "2022-04-15T05:17:27.224045Z",
          "shell.execute_reply": "2022-04-15T05:17:27.232738Z"
        },
        "trusted": true,
        "id": "qiP7l46zbSrV"
      },
      "execution_count": null,
      "outputs": []
    },
    {
      "cell_type": "markdown",
      "source": [
        "f       stack\n",
        "4       4*6\n",
        "3       3*2\n",
        "2       2*1\n",
        "1       1*1\n",
        "0       1"
      ],
      "metadata": {
        "id": "4V-twsQlbSrW"
      }
    },
    {
      "cell_type": "code",
      "source": [
        "print(rfun(4))"
      ],
      "metadata": {
        "execution": {
          "iopub.status.busy": "2022-04-15T05:17:27.234756Z",
          "iopub.execute_input": "2022-04-15T05:17:27.234965Z",
          "iopub.status.idle": "2022-04-15T05:17:27.248913Z",
          "shell.execute_reply.started": "2022-04-15T05:17:27.234941Z",
          "shell.execute_reply": "2022-04-15T05:17:27.248079Z"
        },
        "trusted": true,
        "id": "thtpKcWXbSrY",
        "outputId": "261d9ff2-9ca2-41a7-8a08-b09abe0e7c20"
      },
      "execution_count": null,
      "outputs": [
        {
          "name": "stdout",
          "text": "24\n",
          "output_type": "stream"
        }
      ]
    },
    {
      "cell_type": "code",
      "source": [
        "def fab(a,b,n):\n",
        "    for i in range(n,0,-1):\n",
        "        c=a+b\n",
        "        print(a,end=\" \")\n",
        "        a=b\n",
        "        b=c"
      ],
      "metadata": {
        "execution": {
          "iopub.status.busy": "2022-04-15T05:17:27.250975Z",
          "iopub.execute_input": "2022-04-15T05:17:27.251800Z",
          "iopub.status.idle": "2022-04-15T05:17:27.258940Z",
          "shell.execute_reply.started": "2022-04-15T05:17:27.251748Z",
          "shell.execute_reply": "2022-04-15T05:17:27.258321Z"
        },
        "trusted": true,
        "id": "wGCYK9GXbSrZ"
      },
      "execution_count": null,
      "outputs": []
    },
    {
      "cell_type": "code",
      "source": [
        "fab(0,1,25)"
      ],
      "metadata": {
        "execution": {
          "iopub.status.busy": "2022-04-15T05:17:27.259894Z",
          "iopub.execute_input": "2022-04-15T05:17:27.260655Z",
          "iopub.status.idle": "2022-04-15T05:17:27.275776Z",
          "shell.execute_reply.started": "2022-04-15T05:17:27.260617Z",
          "shell.execute_reply": "2022-04-15T05:17:27.275080Z"
        },
        "trusted": true,
        "id": "rUlttLOfbSra",
        "outputId": "ec3928c4-c96b-40bb-9e58-adf04c948273"
      },
      "execution_count": null,
      "outputs": [
        {
          "name": "stdout",
          "text": "0 1 1 2 3 5 8 13 21 34 55 89 144 233 377 610 987 1597 2584 4181 6765 10946 17711 28657 46368 ",
          "output_type": "stream"
        }
      ]
    },
    {
      "cell_type": "code",
      "source": [
        "def rfab(a,b,n):\n",
        "    if n>0:\n",
        "        print(a, end=\" \")\n",
        "        rfab(b,a+b,n-1)"
      ],
      "metadata": {
        "execution": {
          "iopub.status.busy": "2022-04-15T05:17:27.277110Z",
          "iopub.execute_input": "2022-04-15T05:17:27.278026Z",
          "iopub.status.idle": "2022-04-15T05:17:27.286056Z",
          "shell.execute_reply.started": "2022-04-15T05:17:27.277989Z",
          "shell.execute_reply": "2022-04-15T05:17:27.285165Z"
        },
        "trusted": true,
        "id": "YX1aGiO1bSrb"
      },
      "execution_count": null,
      "outputs": []
    },
    {
      "cell_type": "code",
      "source": [
        "rfab(0,1,25)"
      ],
      "metadata": {
        "execution": {
          "iopub.status.busy": "2022-04-15T05:17:27.287279Z",
          "iopub.execute_input": "2022-04-15T05:17:27.288013Z",
          "iopub.status.idle": "2022-04-15T05:17:27.301706Z",
          "shell.execute_reply.started": "2022-04-15T05:17:27.287974Z",
          "shell.execute_reply": "2022-04-15T05:17:27.300678Z"
        },
        "trusted": true,
        "id": "pRx6zvL3bSrc",
        "outputId": "f26f31c8-d0dd-4183-dcdc-a25c9138eac3"
      },
      "execution_count": null,
      "outputs": [
        {
          "name": "stdout",
          "text": "0 1 1 2 3 5 8 13 21 34 55 89 144 233 377 610 987 1597 2584 4181 6765 10946 17711 28657 46368 ",
          "output_type": "stream"
        }
      ]
    },
    {
      "cell_type": "code",
      "source": [
        "def pl(l):\n",
        "    s=0\n",
        "    for i in l:\n",
        "        s=s+i\n",
        "    return s"
      ],
      "metadata": {
        "execution": {
          "iopub.status.busy": "2022-04-15T05:17:27.303477Z",
          "iopub.execute_input": "2022-04-15T05:17:27.304009Z",
          "iopub.status.idle": "2022-04-15T05:17:27.311788Z",
          "shell.execute_reply.started": "2022-04-15T05:17:27.303963Z",
          "shell.execute_reply": "2022-04-15T05:17:27.310684Z"
        },
        "trusted": true,
        "id": "VKeR9FU9bSrd"
      },
      "execution_count": null,
      "outputs": []
    },
    {
      "cell_type": "code",
      "source": [
        "lst=[1,2,3,4,5]\n",
        "print(pl(lst))"
      ],
      "metadata": {
        "execution": {
          "iopub.status.busy": "2022-04-15T05:17:27.313171Z",
          "iopub.execute_input": "2022-04-15T05:17:27.313769Z",
          "iopub.status.idle": "2022-04-15T05:17:27.325746Z",
          "shell.execute_reply.started": "2022-04-15T05:17:27.313727Z",
          "shell.execute_reply": "2022-04-15T05:17:27.324671Z"
        },
        "trusted": true,
        "id": "1P86a-I0bSre",
        "outputId": "29258101-2d82-4a0e-fffb-05efdc082b04"
      },
      "execution_count": null,
      "outputs": [
        {
          "name": "stdout",
          "text": "15\n",
          "output_type": "stream"
        }
      ]
    },
    {
      "cell_type": "code",
      "source": [
        "def pstr(s):\n",
        "    ls=s.split()\n",
        "    return ls"
      ],
      "metadata": {
        "execution": {
          "iopub.status.busy": "2022-04-15T05:17:27.327923Z",
          "iopub.execute_input": "2022-04-15T05:17:27.328286Z",
          "iopub.status.idle": "2022-04-15T05:17:27.338341Z",
          "shell.execute_reply.started": "2022-04-15T05:17:27.328228Z",
          "shell.execute_reply": "2022-04-15T05:17:27.337244Z"
        },
        "trusted": true,
        "id": "KI5IfTjNbSre"
      },
      "execution_count": null,
      "outputs": []
    },
    {
      "cell_type": "code",
      "source": [
        "lst=pstr(\"This is Banasthali Vidyapith\")\n",
        "print(lst)"
      ],
      "metadata": {
        "execution": {
          "iopub.status.busy": "2022-04-15T05:17:27.339630Z",
          "iopub.execute_input": "2022-04-15T05:17:27.339961Z",
          "iopub.status.idle": "2022-04-15T05:17:27.352989Z",
          "shell.execute_reply.started": "2022-04-15T05:17:27.339928Z",
          "shell.execute_reply": "2022-04-15T05:17:27.352231Z"
        },
        "trusted": true,
        "id": "aLn6ll13bSre",
        "outputId": "9a2dacc3-06cd-44e2-8a54-225f52e4001e"
      },
      "execution_count": null,
      "outputs": [
        {
          "name": "stdout",
          "text": "['This', 'is', 'Banasthali', 'Vidyapith']\n",
          "output_type": "stream"
        }
      ]
    },
    {
      "cell_type": "code",
      "source": [
        "def ps(a,b):\n",
        "    if a>b:\n",
        "        return a,b\n",
        "    else:\n",
        "        return b,a"
      ],
      "metadata": {
        "execution": {
          "iopub.status.busy": "2022-04-15T05:17:27.354151Z",
          "iopub.execute_input": "2022-04-15T05:17:27.354600Z",
          "iopub.status.idle": "2022-04-15T05:17:27.363617Z",
          "shell.execute_reply.started": "2022-04-15T05:17:27.354566Z",
          "shell.execute_reply": "2022-04-15T05:17:27.362553Z"
        },
        "trusted": true,
        "id": "cvUtQTA-bSrf"
      },
      "execution_count": null,
      "outputs": []
    },
    {
      "cell_type": "code",
      "source": [
        "g,l=ps(7,5)\n",
        "print(g,l)"
      ],
      "metadata": {
        "execution": {
          "iopub.status.busy": "2022-04-15T05:17:27.366870Z",
          "iopub.execute_input": "2022-04-15T05:17:27.367111Z",
          "iopub.status.idle": "2022-04-15T05:17:27.376997Z",
          "shell.execute_reply.started": "2022-04-15T05:17:27.367084Z",
          "shell.execute_reply": "2022-04-15T05:17:27.376270Z"
        },
        "trusted": true,
        "id": "pxk1mEvfbSrf",
        "outputId": "be376c9a-6ec5-4d79-d726-fc096bbe71d7"
      },
      "execution_count": null,
      "outputs": [
        {
          "name": "stdout",
          "text": "7 5\n",
          "output_type": "stream"
        }
      ]
    },
    {
      "cell_type": "code",
      "source": [
        "str=input(\"Enter a string\")\n",
        "lst=str.split()\n",
        "dlst = lst\n",
        "dlst.reverse()\n",
        "print(lst,\"\\t\",dlst)"
      ],
      "metadata": {
        "execution": {
          "iopub.status.busy": "2022-04-15T05:17:27.378146Z",
          "iopub.execute_input": "2022-04-15T05:17:27.378540Z",
          "iopub.status.idle": "2022-04-15T05:17:36.136882Z",
          "shell.execute_reply.started": "2022-04-15T05:17:27.378510Z",
          "shell.execute_reply": "2022-04-15T05:17:36.136227Z"
        },
        "trusted": true,
        "id": "HUnoBYJ4bSrf",
        "outputId": "f59e4036-554f-41ac-8d2e-66cdd6c76645"
      },
      "execution_count": null,
      "outputs": [
        {
          "output_type": "stream",
          "name": "stdin",
          "text": "Enter a string Saniya\n"
        },
        {
          "name": "stdout",
          "text": "['Saniya'] \t ['Saniya']\n",
          "output_type": "stream"
        }
      ]
    },
    {
      "cell_type": "markdown",
      "source": [
        "# Lab 5\n",
        "1. Write a function in python to find max of three numbers\n",
        "2. Write a function in python to sum all the numbers in a list\n",
        "3. Write a function in python to multiply all the numbrers in a list\n",
        "4. Write a function in python to reverse a string\n",
        "5. Write a function in python that takes a list and returns a new list with unique elements of the first list\n",
        "6. Write a function in python that checks whether a passed string is palindrome or not\n",
        "7. Write a function in python to access a function inside a function\n",
        "8. Write a function in python to generate even series upto the nth term\n",
        "9. Write a function in python to check if a number is prime or not\n",
        "10. Write a function in python to generate prime series between range inputted by a user.\n",
        "11. Write a recursive function in python to sum all the numbers in a list\n",
        "12. Write a recursive function in python to multiply all the numbrers in a list\n",
        "13. Write a recursive function in python to reverse a string\n",
        "14. Write a recursive function in python that takes a list and returns a new list with unique elements of the first list\n",
        "15. Write a recursive function in python that checks whether a passed string is palindrome or not\n",
        "16. Write a recursive function in python to generate even series upto the nth term\n",
        "17. Write a recursive function in python to check if a number is prime or not\n",
        "18. Write a recursive function in python to generate prime series between range inputted by a user."
      ],
      "metadata": {
        "id": "TMFCnnYtbSrg"
      }
    },
    {
      "cell_type": "code",
      "source": [
        "#1. Write a function in python to find max of three numbers\n",
        "def maximum(a, b, c):\n",
        "    if (a >= b) and (a >= c):\n",
        "        largest = a\n",
        "    elif (b >= a) and (b >= c):\n",
        "        largest = b\n",
        "    else:\n",
        "        largest = c    \n",
        "    return largest\n",
        "  \n",
        "# Driven code \n",
        "a, b, c = input(\"Enter three numbers\").split()\n",
        "print(\"Maximum of the following 3 numbers is : \",maximum(a, b, c))"
      ],
      "metadata": {
        "execution": {
          "iopub.status.busy": "2022-04-15T05:17:36.138331Z",
          "iopub.execute_input": "2022-04-15T05:17:36.139038Z",
          "iopub.status.idle": "2022-04-15T05:17:42.833331Z",
          "shell.execute_reply.started": "2022-04-15T05:17:36.138991Z",
          "shell.execute_reply": "2022-04-15T05:17:42.832347Z"
        },
        "trusted": true,
        "colab": {
          "base_uri": "https://localhost:8080/",
          "height": 536
        },
        "id": "Mjv9R6LIbSrg",
        "outputId": "57fd041f-9a1a-4233-ebf2-69627b60d081"
      },
      "execution_count": 1,
      "outputs": [
        {
          "output_type": "error",
          "ename": "KeyboardInterrupt",
          "evalue": "ignored",
          "traceback": [
            "\u001b[0;31m---------------------------------------------------------------------------\u001b[0m",
            "\u001b[0;31mKeyboardInterrupt\u001b[0m                         Traceback (most recent call last)",
            "\u001b[0;32m/usr/local/lib/python3.7/dist-packages/ipykernel/kernelbase.py\u001b[0m in \u001b[0;36m_input_request\u001b[0;34m(self, prompt, ident, parent, password)\u001b[0m\n\u001b[1;32m    728\u001b[0m             \u001b[0;32mtry\u001b[0m\u001b[0;34m:\u001b[0m\u001b[0;34m\u001b[0m\u001b[0;34m\u001b[0m\u001b[0m\n\u001b[0;32m--> 729\u001b[0;31m                 \u001b[0mident\u001b[0m\u001b[0;34m,\u001b[0m \u001b[0mreply\u001b[0m \u001b[0;34m=\u001b[0m \u001b[0mself\u001b[0m\u001b[0;34m.\u001b[0m\u001b[0msession\u001b[0m\u001b[0;34m.\u001b[0m\u001b[0mrecv\u001b[0m\u001b[0;34m(\u001b[0m\u001b[0mself\u001b[0m\u001b[0;34m.\u001b[0m\u001b[0mstdin_socket\u001b[0m\u001b[0;34m,\u001b[0m \u001b[0;36m0\u001b[0m\u001b[0;34m)\u001b[0m\u001b[0;34m\u001b[0m\u001b[0;34m\u001b[0m\u001b[0m\n\u001b[0m\u001b[1;32m    730\u001b[0m             \u001b[0;32mexcept\u001b[0m \u001b[0mException\u001b[0m\u001b[0;34m:\u001b[0m\u001b[0;34m\u001b[0m\u001b[0;34m\u001b[0m\u001b[0m\n",
            "\u001b[0;32m/usr/local/lib/python3.7/dist-packages/jupyter_client/session.py\u001b[0m in \u001b[0;36mrecv\u001b[0;34m(self, socket, mode, content, copy)\u001b[0m\n\u001b[1;32m    802\u001b[0m         \u001b[0;32mtry\u001b[0m\u001b[0;34m:\u001b[0m\u001b[0;34m\u001b[0m\u001b[0;34m\u001b[0m\u001b[0m\n\u001b[0;32m--> 803\u001b[0;31m             \u001b[0mmsg_list\u001b[0m \u001b[0;34m=\u001b[0m \u001b[0msocket\u001b[0m\u001b[0;34m.\u001b[0m\u001b[0mrecv_multipart\u001b[0m\u001b[0;34m(\u001b[0m\u001b[0mmode\u001b[0m\u001b[0;34m,\u001b[0m \u001b[0mcopy\u001b[0m\u001b[0;34m=\u001b[0m\u001b[0mcopy\u001b[0m\u001b[0;34m)\u001b[0m\u001b[0;34m\u001b[0m\u001b[0;34m\u001b[0m\u001b[0m\n\u001b[0m\u001b[1;32m    804\u001b[0m         \u001b[0;32mexcept\u001b[0m \u001b[0mzmq\u001b[0m\u001b[0;34m.\u001b[0m\u001b[0mZMQError\u001b[0m \u001b[0;32mas\u001b[0m \u001b[0me\u001b[0m\u001b[0;34m:\u001b[0m\u001b[0;34m\u001b[0m\u001b[0;34m\u001b[0m\u001b[0m\n",
            "\u001b[0;32m/usr/local/lib/python3.7/dist-packages/zmq/sugar/socket.py\u001b[0m in \u001b[0;36mrecv_multipart\u001b[0;34m(self, flags, copy, track)\u001b[0m\n\u001b[1;32m    624\u001b[0m         \"\"\"\n\u001b[0;32m--> 625\u001b[0;31m         \u001b[0mparts\u001b[0m \u001b[0;34m=\u001b[0m \u001b[0;34m[\u001b[0m\u001b[0mself\u001b[0m\u001b[0;34m.\u001b[0m\u001b[0mrecv\u001b[0m\u001b[0;34m(\u001b[0m\u001b[0mflags\u001b[0m\u001b[0;34m,\u001b[0m \u001b[0mcopy\u001b[0m\u001b[0;34m=\u001b[0m\u001b[0mcopy\u001b[0m\u001b[0;34m,\u001b[0m \u001b[0mtrack\u001b[0m\u001b[0;34m=\u001b[0m\u001b[0mtrack\u001b[0m\u001b[0;34m)\u001b[0m\u001b[0;34m]\u001b[0m\u001b[0;34m\u001b[0m\u001b[0;34m\u001b[0m\u001b[0m\n\u001b[0m\u001b[1;32m    626\u001b[0m         \u001b[0;31m# have first part already, only loop while more to receive\u001b[0m\u001b[0;34m\u001b[0m\u001b[0;34m\u001b[0m\u001b[0;34m\u001b[0m\u001b[0m\n",
            "\u001b[0;32mzmq/backend/cython/socket.pyx\u001b[0m in \u001b[0;36mzmq.backend.cython.socket.Socket.recv\u001b[0;34m()\u001b[0m\n",
            "\u001b[0;32mzmq/backend/cython/socket.pyx\u001b[0m in \u001b[0;36mzmq.backend.cython.socket.Socket.recv\u001b[0;34m()\u001b[0m\n",
            "\u001b[0;32mzmq/backend/cython/socket.pyx\u001b[0m in \u001b[0;36mzmq.backend.cython.socket._recv_copy\u001b[0;34m()\u001b[0m\n",
            "\u001b[0;32m/usr/local/lib/python3.7/dist-packages/zmq/backend/cython/checkrc.pxd\u001b[0m in \u001b[0;36mzmq.backend.cython.checkrc._check_rc\u001b[0;34m()\u001b[0m\n",
            "\u001b[0;31mKeyboardInterrupt\u001b[0m: ",
            "\nDuring handling of the above exception, another exception occurred:\n",
            "\u001b[0;31mKeyboardInterrupt\u001b[0m                         Traceback (most recent call last)",
            "\u001b[0;32m<ipython-input-1-b02e0000b870>\u001b[0m in \u001b[0;36m<module>\u001b[0;34m()\u001b[0m\n\u001b[1;32m     10\u001b[0m \u001b[0;34m\u001b[0m\u001b[0m\n\u001b[1;32m     11\u001b[0m \u001b[0;31m# Driven code\u001b[0m\u001b[0;34m\u001b[0m\u001b[0;34m\u001b[0m\u001b[0;34m\u001b[0m\u001b[0m\n\u001b[0;32m---> 12\u001b[0;31m \u001b[0ma\u001b[0m\u001b[0;34m,\u001b[0m \u001b[0mb\u001b[0m\u001b[0;34m,\u001b[0m \u001b[0mc\u001b[0m \u001b[0;34m=\u001b[0m \u001b[0minput\u001b[0m\u001b[0;34m(\u001b[0m\u001b[0;34m\"Enter three numbers\"\u001b[0m\u001b[0;34m)\u001b[0m\u001b[0;34m.\u001b[0m\u001b[0msplit\u001b[0m\u001b[0;34m(\u001b[0m\u001b[0;34m)\u001b[0m\u001b[0;34m\u001b[0m\u001b[0;34m\u001b[0m\u001b[0m\n\u001b[0m\u001b[1;32m     13\u001b[0m \u001b[0mprint\u001b[0m\u001b[0;34m(\u001b[0m\u001b[0;34m\"Maximum of the following 3 numbers is : \"\u001b[0m\u001b[0;34m,\u001b[0m\u001b[0mmaximum\u001b[0m\u001b[0;34m(\u001b[0m\u001b[0ma\u001b[0m\u001b[0;34m,\u001b[0m \u001b[0mb\u001b[0m\u001b[0;34m,\u001b[0m \u001b[0mc\u001b[0m\u001b[0;34m)\u001b[0m\u001b[0;34m)\u001b[0m\u001b[0;34m\u001b[0m\u001b[0;34m\u001b[0m\u001b[0m\n",
            "\u001b[0;32m/usr/local/lib/python3.7/dist-packages/ipykernel/kernelbase.py\u001b[0m in \u001b[0;36mraw_input\u001b[0;34m(self, prompt)\u001b[0m\n\u001b[1;32m    702\u001b[0m             \u001b[0mself\u001b[0m\u001b[0;34m.\u001b[0m\u001b[0m_parent_ident\u001b[0m\u001b[0;34m,\u001b[0m\u001b[0;34m\u001b[0m\u001b[0;34m\u001b[0m\u001b[0m\n\u001b[1;32m    703\u001b[0m             \u001b[0mself\u001b[0m\u001b[0;34m.\u001b[0m\u001b[0m_parent_header\u001b[0m\u001b[0;34m,\u001b[0m\u001b[0;34m\u001b[0m\u001b[0;34m\u001b[0m\u001b[0m\n\u001b[0;32m--> 704\u001b[0;31m             \u001b[0mpassword\u001b[0m\u001b[0;34m=\u001b[0m\u001b[0;32mFalse\u001b[0m\u001b[0;34m,\u001b[0m\u001b[0;34m\u001b[0m\u001b[0;34m\u001b[0m\u001b[0m\n\u001b[0m\u001b[1;32m    705\u001b[0m         )\n\u001b[1;32m    706\u001b[0m \u001b[0;34m\u001b[0m\u001b[0m\n",
            "\u001b[0;32m/usr/local/lib/python3.7/dist-packages/ipykernel/kernelbase.py\u001b[0m in \u001b[0;36m_input_request\u001b[0;34m(self, prompt, ident, parent, password)\u001b[0m\n\u001b[1;32m    732\u001b[0m             \u001b[0;32mexcept\u001b[0m \u001b[0mKeyboardInterrupt\u001b[0m\u001b[0;34m:\u001b[0m\u001b[0;34m\u001b[0m\u001b[0;34m\u001b[0m\u001b[0m\n\u001b[1;32m    733\u001b[0m                 \u001b[0;31m# re-raise KeyboardInterrupt, to truncate traceback\u001b[0m\u001b[0;34m\u001b[0m\u001b[0;34m\u001b[0m\u001b[0;34m\u001b[0m\u001b[0m\n\u001b[0;32m--> 734\u001b[0;31m                 \u001b[0;32mraise\u001b[0m \u001b[0mKeyboardInterrupt\u001b[0m\u001b[0;34m\u001b[0m\u001b[0;34m\u001b[0m\u001b[0m\n\u001b[0m\u001b[1;32m    735\u001b[0m             \u001b[0;32melse\u001b[0m\u001b[0;34m:\u001b[0m\u001b[0;34m\u001b[0m\u001b[0;34m\u001b[0m\u001b[0m\n\u001b[1;32m    736\u001b[0m                 \u001b[0;32mbreak\u001b[0m\u001b[0;34m\u001b[0m\u001b[0;34m\u001b[0m\u001b[0m\n",
            "\u001b[0;31mKeyboardInterrupt\u001b[0m: "
          ]
        }
      ]
    },
    {
      "cell_type": "code",
      "source": [
        "# 2. Write a function in python to sum all the numbers in a list\n",
        "list1 = [11, 5, 17, 18, 23]\n",
        " \n",
        "def sumOfList(list, size):\n",
        "    sum = 0\n",
        "    for i in range(size):\n",
        "        sum += list[i]\n",
        "    return sum\n",
        "  \n",
        "# Driver code    \n",
        "total = sumOfList(list1, len(list1))\n",
        "print(\"Sum of all elements in given list: \", total)"
      ],
      "metadata": {
        "execution": {
          "iopub.status.busy": "2022-04-15T05:17:42.834748Z",
          "iopub.execute_input": "2022-04-15T05:17:42.836505Z",
          "iopub.status.idle": "2022-04-15T05:17:42.842513Z",
          "shell.execute_reply.started": "2022-04-15T05:17:42.836468Z",
          "shell.execute_reply": "2022-04-15T05:17:42.841676Z"
        },
        "trusted": true,
        "colab": {
          "base_uri": "https://localhost:8080/"
        },
        "id": "GUYFXAPjbSrh",
        "outputId": "715690f7-27fe-4595-cfaf-8113c85f92ac"
      },
      "execution_count": 2,
      "outputs": [
        {
          "output_type": "stream",
          "name": "stdout",
          "text": [
            "Sum of all elements in given list:  74\n"
          ]
        }
      ]
    },
    {
      "cell_type": "code",
      "source": [
        "# 3. Write a function in python to multiply all the numbrers in a list\n",
        "list1 = [1, 5, 7, 8, 3]\n",
        " \n",
        "def proOfList(list, size):\n",
        "    pro = 1\n",
        "    for i in range(size):\n",
        "        pro *= list1[i]\n",
        "    return pro\n",
        "  \n",
        "# Driver code    \n",
        "total = proOfList(list1, len(list1))\n",
        "print(\"Product of all elements in given list: \", total)"
      ],
      "metadata": {
        "execution": {
          "iopub.status.busy": "2022-04-15T05:17:42.843854Z",
          "iopub.execute_input": "2022-04-15T05:17:42.844403Z",
          "iopub.status.idle": "2022-04-15T05:17:42.861796Z",
          "shell.execute_reply.started": "2022-04-15T05:17:42.844350Z",
          "shell.execute_reply": "2022-04-15T05:17:42.860613Z"
        },
        "trusted": true,
        "colab": {
          "base_uri": "https://localhost:8080/"
        },
        "id": "96gPp_ipbSrh",
        "outputId": "d3ed27e9-9ecf-46aa-811f-0e5a7dc3d70a"
      },
      "execution_count": 3,
      "outputs": [
        {
          "output_type": "stream",
          "name": "stdout",
          "text": [
            "Product of all elements in given list:  840\n"
          ]
        }
      ]
    },
    {
      "cell_type": "code",
      "source": [
        "# 4. Write a function in python to reverse a string\n",
        "\n",
        "def rev_str(str):\n",
        "    return(str[::-1])\n",
        "str = input(\"Enter a string : \")\n",
        "print(\"Reverse of the following string : \",rev_str(str))"
      ],
      "metadata": {
        "execution": {
          "iopub.status.busy": "2022-04-15T05:17:42.863168Z",
          "iopub.execute_input": "2022-04-15T05:17:42.863400Z",
          "iopub.status.idle": "2022-04-15T05:17:50.382288Z",
          "shell.execute_reply.started": "2022-04-15T05:17:42.863375Z",
          "shell.execute_reply": "2022-04-15T05:17:50.381571Z"
        },
        "trusted": true,
        "colab": {
          "base_uri": "https://localhost:8080/"
        },
        "id": "OgC1RJiYbSrh",
        "outputId": "bbc1b757-dca5-497a-a0fb-22fbd04a5599"
      },
      "execution_count": 4,
      "outputs": [
        {
          "output_type": "stream",
          "name": "stdout",
          "text": [
            "Enter a string : shubhangi\n",
            "Reverse of the following string :  ignahbuhs\n"
          ]
        }
      ]
    },
    {
      "cell_type": "code",
      "source": [
        "# 5. Write a function in python that takes a list and returns a new list with unique elements of the first list\n",
        "def uni_list(list):\n",
        "    new_list = set(list)\n",
        "    return new_list\n",
        "\n",
        "list1 = [1, 2, 7, 0, 6, 7, 3, 1, 6, 0, 2, 1]\n",
        "print(\"Unique elements in following list : \",uni_list(list1))"
      ],
      "metadata": {
        "execution": {
          "iopub.status.busy": "2022-04-15T05:17:50.383589Z",
          "iopub.execute_input": "2022-04-15T05:17:50.383791Z",
          "iopub.status.idle": "2022-04-15T05:17:50.389073Z",
          "shell.execute_reply.started": "2022-04-15T05:17:50.383767Z",
          "shell.execute_reply": "2022-04-15T05:17:50.388279Z"
        },
        "trusted": true,
        "colab": {
          "base_uri": "https://localhost:8080/"
        },
        "id": "CFHqTVy2bSri",
        "outputId": "17f34dc4-432f-425f-a272-bcf54c9b1547"
      },
      "execution_count": 5,
      "outputs": [
        {
          "output_type": "stream",
          "name": "stdout",
          "text": [
            "Unique elements in following list :  {0, 1, 2, 3, 6, 7}\n"
          ]
        }
      ]
    },
    {
      "cell_type": "code",
      "source": [
        "# 6. Write a function in python that checks whether a passed string is palindrome or not\n",
        "def palindrome(str):\n",
        "    rev = str[::-1]\n",
        "    if rev == str:\n",
        "        print(str,\" is a palindrome\")\n",
        "    else:\n",
        "        print(str,\" is not a palindrome\")\n",
        "        \n",
        "str1 = input(\"Enter a string : \")\n",
        "palindrome(str1)"
      ],
      "metadata": {
        "execution": {
          "iopub.status.busy": "2022-04-15T05:17:50.390765Z",
          "iopub.execute_input": "2022-04-15T05:17:50.391344Z",
          "iopub.status.idle": "2022-04-15T05:17:54.617002Z",
          "shell.execute_reply.started": "2022-04-15T05:17:50.391292Z",
          "shell.execute_reply": "2022-04-15T05:17:54.616381Z"
        },
        "trusted": true,
        "colab": {
          "base_uri": "https://localhost:8080/"
        },
        "id": "Tno8crplbSri",
        "outputId": "38866ee5-4b7f-4bbb-8c8c-0e4b358d83fe"
      },
      "execution_count": 6,
      "outputs": [
        {
          "output_type": "stream",
          "name": "stdout",
          "text": [
            "Enter a string : abcdcba\n",
            "abcdcba  is a palindrome\n"
          ]
        }
      ]
    },
    {
      "cell_type": "code",
      "source": [
        "# 7. Write a function in python to access a function inside a function\n",
        "def f1():\n",
        "    s = ['Have a nice day !!!']\n",
        "      \n",
        "    def f2():\n",
        "        s[0] = 'You too'\n",
        "        print(s)\n",
        "          \n",
        "    f2()\n",
        "    print(s)\n",
        "  \n",
        "# Driver's code\n",
        "f1()"
      ],
      "metadata": {
        "execution": {
          "iopub.status.busy": "2022-04-15T05:17:54.618033Z",
          "iopub.execute_input": "2022-04-15T05:17:54.618387Z",
          "iopub.status.idle": "2022-04-15T05:17:54.623608Z",
          "shell.execute_reply.started": "2022-04-15T05:17:54.618355Z",
          "shell.execute_reply": "2022-04-15T05:17:54.622990Z"
        },
        "trusted": true,
        "colab": {
          "base_uri": "https://localhost:8080/"
        },
        "id": "alBSTyHBbSri",
        "outputId": "050d4d67-e14a-42c6-e64f-b3ea6adf9a87"
      },
      "execution_count": 7,
      "outputs": [
        {
          "output_type": "stream",
          "name": "stdout",
          "text": [
            "['You too']\n",
            "['You too']\n"
          ]
        }
      ]
    },
    {
      "cell_type": "code",
      "source": [
        "# 8. Write a function in python to generate even series upto the nth term\n",
        "def even_series(num):\n",
        "    for i in range(0,2*num,2):\n",
        "        print(i,end =\" \")\n",
        "        \n",
        "n = int(input(\"Enter a number : \"))\n",
        "even_series(n)"
      ],
      "metadata": {
        "execution": {
          "iopub.status.busy": "2022-04-15T05:17:54.624466Z",
          "iopub.execute_input": "2022-04-15T05:17:54.624880Z",
          "iopub.status.idle": "2022-04-15T05:17:58.905809Z",
          "shell.execute_reply.started": "2022-04-15T05:17:54.624850Z",
          "shell.execute_reply": "2022-04-15T05:17:58.905237Z"
        },
        "trusted": true,
        "colab": {
          "base_uri": "https://localhost:8080/"
        },
        "id": "HgyOuWQVbSri",
        "outputId": "7ae39beb-754e-413e-adaa-274b6910c53b"
      },
      "execution_count": 8,
      "outputs": [
        {
          "output_type": "stream",
          "name": "stdout",
          "text": [
            "Enter a number : 12\n",
            "0 2 4 6 8 10 12 14 16 18 20 22 "
          ]
        }
      ]
    },
    {
      "cell_type": "code",
      "source": [
        "# 9. Write a function in python to check if a number is prime or not\n",
        "import math\n",
        "def prime(num):\n",
        "    f = 0\n",
        "    for i in range(2,int(math.sqrt(num))+1,1):\n",
        "        if num % i == 0:\n",
        "            print(num,\" is not prime number\")\n",
        "            f = 1\n",
        "            break\n",
        "    if f == 0:\n",
        "        print(num,\" is a prime number\")\n",
        "        \n",
        "n = int(input(\"Enter a number : \"))\n",
        "prime(n)"
      ],
      "metadata": {
        "execution": {
          "iopub.status.busy": "2022-04-15T05:17:58.906740Z",
          "iopub.execute_input": "2022-04-15T05:17:58.907269Z",
          "iopub.status.idle": "2022-04-15T05:18:01.744783Z",
          "shell.execute_reply.started": "2022-04-15T05:17:58.907239Z",
          "shell.execute_reply": "2022-04-15T05:18:01.743799Z"
        },
        "trusted": true,
        "colab": {
          "base_uri": "https://localhost:8080/"
        },
        "id": "0yNLnCD8bSrj",
        "outputId": "771f9bd9-1435-4477-824a-db13aa734947"
      },
      "execution_count": 9,
      "outputs": [
        {
          "output_type": "stream",
          "name": "stdout",
          "text": [
            "Enter a number : 7\n",
            "7  is a prime number\n"
          ]
        }
      ]
    },
    {
      "cell_type": "code",
      "source": [
        "# 10. Write a function in python to generate prime series between range inputted by a user.\n",
        "def prime(x, y):\n",
        "    prime_list = []\n",
        "    for i in range(x, y+1):\n",
        "        if i == 0 or i == 1:\n",
        "            continue\n",
        "        else:\n",
        "            for j in range(2, int(i/2)+1):\n",
        "                if i % j == 0:\n",
        "                    break\n",
        "            else:\n",
        "                prime_list.append(i)\n",
        "    return prime_list\n",
        " \n",
        "# Driver program\n",
        "starting_range = int(input(\"Enter starting range : \"))\n",
        "ending_range = int(input(\"Enter ending range : \"))\n",
        "lst = prime(starting_range, ending_range)\n",
        "if len(lst) == 0:\n",
        "    print(\"There are no prime numbers in this range\")\n",
        "else:\n",
        "    print(\"The prime numbers in this range are: \", lst)"
      ],
      "metadata": {
        "execution": {
          "iopub.status.busy": "2022-04-15T05:18:01.746306Z",
          "iopub.execute_input": "2022-04-15T05:18:01.746995Z",
          "iopub.status.idle": "2022-04-15T05:18:06.909519Z",
          "shell.execute_reply.started": "2022-04-15T05:18:01.746946Z",
          "shell.execute_reply": "2022-04-15T05:18:06.908398Z"
        },
        "trusted": true,
        "colab": {
          "base_uri": "https://localhost:8080/"
        },
        "id": "FhVdsyWMbSrj",
        "outputId": "7a1aafc7-d1f2-4591-f66f-9d3cdb45e0f0"
      },
      "execution_count": 10,
      "outputs": [
        {
          "output_type": "stream",
          "name": "stdout",
          "text": [
            "Enter starting range : 2\n",
            "Enter ending range : 9\n",
            "The prime numbers in this range are:  [2, 3, 5, 7]\n"
          ]
        }
      ]
    },
    {
      "cell_type": "code",
      "source": [
        "# 11. Write a recursive function in python to sum all the numbers in a list\n",
        "list1 = [1, 5, 7, 8, 3]\n",
        " \n",
        "def sumOfList(list, size):\n",
        "    if (size == 0):\n",
        "        return 0\n",
        "    else:\n",
        "        return list[size - 1] + sumOfList(list, size - 1)\n",
        "  \n",
        "# Driver code    \n",
        "total = sumOfList(list1, len(list1))\n",
        "print(\"Product of all elements in given list: \", total)"
      ],
      "metadata": {
        "execution": {
          "iopub.status.busy": "2022-04-15T05:18:06.910949Z",
          "iopub.execute_input": "2022-04-15T05:18:06.911721Z",
          "iopub.status.idle": "2022-04-15T05:18:06.918401Z",
          "shell.execute_reply.started": "2022-04-15T05:18:06.911669Z",
          "shell.execute_reply": "2022-04-15T05:18:06.917477Z"
        },
        "trusted": true,
        "colab": {
          "base_uri": "https://localhost:8080/"
        },
        "id": "W5ptPoGMbSrj",
        "outputId": "9b0107e4-00db-47cc-b325-f080006afe62"
      },
      "execution_count": 12,
      "outputs": [
        {
          "output_type": "stream",
          "name": "stdout",
          "text": [
            "Product of all elements in given list:  24\n"
          ]
        }
      ]
    },
    {
      "cell_type": "code",
      "source": [
        "# 12. Write a recursive function in python to multiply all the numbrers in a list\n",
        "list1 = [1, 5, 7, 8, 3]\n",
        " \n",
        "def proOfList(list, size):\n",
        "    if (size == 0):\n",
        "        return 1\n",
        "    else:\n",
        "        return list[size - 1] * proOfList(list, size - 1)\n",
        "  \n",
        "# Driver code    \n",
        "total = proOfList(list1, len(list1))\n",
        "print(\"Product of all elements in given list: \", total)"
      ],
      "metadata": {
        "execution": {
          "iopub.status.busy": "2022-04-15T05:18:06.920080Z",
          "iopub.execute_input": "2022-04-15T05:18:06.921068Z",
          "iopub.status.idle": "2022-04-15T05:18:06.940557Z",
          "shell.execute_reply.started": "2022-04-15T05:18:06.921023Z",
          "shell.execute_reply": "2022-04-15T05:18:06.939741Z"
        },
        "trusted": true,
        "colab": {
          "base_uri": "https://localhost:8080/"
        },
        "id": "FW9KlrhfbSrj",
        "outputId": "aeef0326-44a8-4cd0-92e0-ce7aa978c196"
      },
      "execution_count": 13,
      "outputs": [
        {
          "output_type": "stream",
          "name": "stdout",
          "text": [
            "Product of all elements in given list:  840\n"
          ]
        }
      ]
    },
    {
      "cell_type": "code",
      "source": [
        "# 13. Write a recursive function in python to reverse a string\n",
        "def rev_str(str):\n",
        "    if len(str) == 0:\n",
        "        return str\n",
        "    else:\n",
        "        return rev_str(str[1:]) + str[0]\n",
        "\n",
        "str = input(\"Enter a string : \")\n",
        "print (\"The original string  is : \",end=\"\")\n",
        "print(str)\n",
        "print(\"Reverse of the following string : \",end=\"\")\n",
        "print(rev_str(str))"
      ],
      "metadata": {
        "execution": {
          "iopub.status.busy": "2022-04-15T05:18:06.941710Z",
          "iopub.execute_input": "2022-04-15T05:18:06.944452Z",
          "iopub.status.idle": "2022-04-15T05:18:11.327460Z",
          "shell.execute_reply.started": "2022-04-15T05:18:06.944346Z",
          "shell.execute_reply": "2022-04-15T05:18:11.326594Z"
        },
        "trusted": true,
        "colab": {
          "base_uri": "https://localhost:8080/"
        },
        "id": "olIaeXxsbSrj",
        "outputId": "f24a690a-2993-4128-da45-92eee4c98576"
      },
      "execution_count": 14,
      "outputs": [
        {
          "output_type": "stream",
          "name": "stdout",
          "text": [
            "Enter a string : shubhangi\n",
            "The original string  is : shubhangi\n",
            "Reverse of the following string : ignahbuhs\n"
          ]
        }
      ]
    },
    {
      "cell_type": "code",
      "source": [
        "# 14. Write a recursive function in python that takes a list and returns a new list with unique elements of the first list\n",
        "def unique_list(l):\n",
        "  x = []\n",
        "  for a in l:\n",
        "    if a not in x:\n",
        "      x.append(a)\n",
        "  return x\n",
        "\n",
        "print(unique_list([1,2,3,3,3,3,4,5]))"
      ],
      "metadata": {
        "execution": {
          "iopub.status.busy": "2022-04-15T05:18:11.328946Z",
          "iopub.execute_input": "2022-04-15T05:18:11.329195Z",
          "iopub.status.idle": "2022-04-15T05:18:11.335082Z",
          "shell.execute_reply.started": "2022-04-15T05:18:11.329136Z",
          "shell.execute_reply": "2022-04-15T05:18:11.334025Z"
        },
        "trusted": true,
        "colab": {
          "base_uri": "https://localhost:8080/"
        },
        "id": "inACx7tAbSrk",
        "outputId": "927d3925-62fb-4eeb-c25d-1766efb955c9"
      },
      "execution_count": 15,
      "outputs": [
        {
          "output_type": "stream",
          "name": "stdout",
          "text": [
            "[1, 2, 3, 4, 5]\n"
          ]
        }
      ]
    },
    {
      "cell_type": "code",
      "source": [
        "# 15. Write a recursive function in python that checks whether a passed string is palindrome or not\n",
        "def isPalRec(st, s, e) :\n",
        "    if (s == e):\n",
        "        return True\n",
        "    if (st[s] != st[e]) :\n",
        "        return False\n",
        "    if (s < e + 1) :\n",
        "        return isPalRec(st, s + 1, e - 1);\n",
        "    return True\n",
        " \n",
        "def isPalindrome(st) :\n",
        "    n = len(st)\n",
        "    if (n == 0) :\n",
        "        return True\n",
        "    return isPalRec(st, 0, n - 1);\n",
        " \n",
        " \n",
        "# Driver Code\n",
        "st = input(\"Enter a string : \")\n",
        "if (isPalindrome(st)) :\n",
        "    print(\"Yes\")\n",
        "else :\n",
        "    print(\"No\")"
      ],
      "metadata": {
        "execution": {
          "iopub.status.busy": "2022-04-15T05:20:00.274451Z",
          "iopub.execute_input": "2022-04-15T05:20:00.274777Z",
          "iopub.status.idle": "2022-04-15T05:20:02.728887Z",
          "shell.execute_reply.started": "2022-04-15T05:20:00.274742Z",
          "shell.execute_reply": "2022-04-15T05:20:02.728281Z"
        },
        "trusted": true,
        "colab": {
          "base_uri": "https://localhost:8080/"
        },
        "id": "G5O-P8OrbSrk",
        "outputId": "e2d17ec9-4dd4-4672-bad7-ff75f83481f1"
      },
      "execution_count": 16,
      "outputs": [
        {
          "output_type": "stream",
          "name": "stdout",
          "text": [
            "Enter a string : akdhshf\n",
            "No\n"
          ]
        }
      ]
    },
    {
      "cell_type": "code",
      "source": [
        "# 16. Write a recursive function in python to generate even series upto the nth term\n",
        "\n",
        "def printeven(i,N): \n",
        "    if(i<=N): \n",
        "        print(2*i) \n",
        "        printeven(i+1,N) # recursive call \n",
        "printeven(1,10) #in place of 10 you can put any number "
      ],
      "metadata": {
        "execution": {
          "iopub.status.busy": "2022-04-15T05:24:52.582326Z",
          "iopub.execute_input": "2022-04-15T05:24:52.583066Z",
          "iopub.status.idle": "2022-04-15T05:24:52.590065Z",
          "shell.execute_reply.started": "2022-04-15T05:24:52.583022Z",
          "shell.execute_reply": "2022-04-15T05:24:52.589047Z"
        },
        "trusted": true,
        "colab": {
          "base_uri": "https://localhost:8080/"
        },
        "id": "FEF7sq5WbSrk",
        "outputId": "770b5cd5-c2d7-4143-ecb0-4b31d25f7e3c"
      },
      "execution_count": 17,
      "outputs": [
        {
          "output_type": "stream",
          "name": "stdout",
          "text": [
            "2\n",
            "4\n",
            "6\n",
            "8\n",
            "10\n",
            "12\n",
            "14\n",
            "16\n",
            "18\n",
            "20\n"
          ]
        }
      ]
    },
    {
      "cell_type": "code",
      "source": [
        "# 17. Write a recursive function in python to check if a number is prime or not\n",
        "def isPrime(n, i = 2):\n",
        "    if (n <= 2):\n",
        "        return True if(n == 2) else False\n",
        "    if (n % i == 0):\n",
        "        return False\n",
        "    if (i * i > n):\n",
        "        return True\n",
        "    return isPrime(n, i + 1)\n",
        " \n",
        " \n",
        "# Driver Program\n",
        "n = int(input(\"Enter a number : \"))\n",
        "if (isPrime(n)):\n",
        "    print(\"Yes\")\n",
        "else:\n",
        "    print(\"No\")"
      ],
      "metadata": {
        "execution": {
          "iopub.status.busy": "2022-04-15T05:26:42.521613Z",
          "iopub.execute_input": "2022-04-15T05:26:42.522012Z",
          "iopub.status.idle": "2022-04-15T05:26:43.854716Z",
          "shell.execute_reply.started": "2022-04-15T05:26:42.521984Z",
          "shell.execute_reply": "2022-04-15T05:26:43.853616Z"
        },
        "trusted": true,
        "colab": {
          "base_uri": "https://localhost:8080/"
        },
        "id": "NAGcO1gwbSrk",
        "outputId": "394491df-dd2a-4248-f93b-398978650d50"
      },
      "execution_count": 18,
      "outputs": [
        {
          "output_type": "stream",
          "name": "stdout",
          "text": [
            "Enter a number : 71\n",
            "Yes\n"
          ]
        }
      ]
    },
    {
      "cell_type": "code",
      "source": [
        "# 18. Write a recursive function in python to generate prime series between range inputted by a user.\n",
        "def CheckPrime(i,num):\n",
        "    if num==i:\n",
        "        return 0\n",
        "    else:\n",
        "        if(num%i==0):\n",
        "            return 1\n",
        "        else:\n",
        "            return CheckPrime(i+1,num)\n",
        "n=int(input(\"Enter your Number:\"))\n",
        "print(\"Prime Number Between 1 to n are: \")\n",
        "for i in range(2,n+1):\n",
        "    if(CheckPrime(2,i)==0):\n",
        "        print(i,end=\" \")"
      ],
      "metadata": {
        "execution": {
          "iopub.status.busy": "2022-04-15T05:28:25.208500Z",
          "iopub.execute_input": "2022-04-15T05:28:25.208772Z",
          "iopub.status.idle": "2022-04-15T05:28:27.795015Z",
          "shell.execute_reply.started": "2022-04-15T05:28:25.208744Z",
          "shell.execute_reply": "2022-04-15T05:28:27.794064Z"
        },
        "trusted": true,
        "colab": {
          "base_uri": "https://localhost:8080/"
        },
        "id": "88ven-pJbSrl",
        "outputId": "4c8bbe92-0dc6-4531-9eda-12a4e4684b87"
      },
      "execution_count": 19,
      "outputs": [
        {
          "output_type": "stream",
          "name": "stdout",
          "text": [
            "Enter your Number:9\n",
            "Prime Number Between 1 to n are: \n",
            "2 3 5 7 "
          ]
        }
      ]
    }
  ]
}