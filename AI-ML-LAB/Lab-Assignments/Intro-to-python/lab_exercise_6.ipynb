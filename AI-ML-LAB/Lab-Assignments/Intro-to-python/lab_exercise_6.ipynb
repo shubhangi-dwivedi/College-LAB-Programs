{
  "metadata": {
    "kernelspec": {
      "language": "python",
      "display_name": "Python 3",
      "name": "python3"
    },
    "language_info": {
      "name": "python",
      "version": "3.7.12",
      "mimetype": "text/x-python",
      "codemirror_mode": {
        "name": "ipython",
        "version": 3
      },
      "pygments_lexer": "ipython3",
      "nbconvert_exporter": "python",
      "file_extension": ".py"
    },
    "colab": {
      "name": "lab-exercise-6.ipynb",
      "provenance": []
    }
  },
  "nbformat_minor": 0,
  "nbformat": 4,
  "cells": [
    {
      "cell_type": "code",
      "source": [
        "f = open(\"Hello.txt\",\"w\")  #Open a file in a write mode\n",
        "f.write(\"This is my first line of the file\\n\")\n",
        "f.write(\"This is the second line of the file\")"
      ],
      "metadata": {
        "execution": {
          "iopub.status.busy": "2022-04-13T11:12:05.985052Z",
          "iopub.execute_input": "2022-04-13T11:12:05.98595Z",
          "iopub.status.idle": "2022-04-13T11:12:05.992897Z",
          "shell.execute_reply.started": "2022-04-13T11:12:05.985906Z",
          "shell.execute_reply": "2022-04-13T11:12:05.991898Z"
        },
        "trusted": true,
        "id": "cW6w240JPX_T"
      },
      "execution_count": null,
      "outputs": []
    },
    {
      "cell_type": "code",
      "source": [
        "f.close()"
      ],
      "metadata": {
        "execution": {
          "iopub.status.busy": "2022-04-13T11:05:57.321267Z",
          "iopub.execute_input": "2022-04-13T11:05:57.321675Z",
          "iopub.status.idle": "2022-04-13T11:05:57.324754Z",
          "shell.execute_reply.started": "2022-04-13T11:05:57.321644Z",
          "shell.execute_reply": "2022-04-13T11:05:57.324208Z"
        },
        "trusted": true,
        "id": "OLWhKIxsPX_X"
      },
      "execution_count": null,
      "outputs": []
    },
    {
      "cell_type": "code",
      "source": [
        "f = open(\"Hello.txt\",\"r\")  #Open a file in a read mode\n",
        "for line in f:\n",
        "    print(line)\n",
        "f.close()"
      ],
      "metadata": {
        "execution": {
          "iopub.status.busy": "2022-04-13T11:52:01.867294Z",
          "iopub.execute_input": "2022-04-13T11:52:01.867894Z",
          "iopub.status.idle": "2022-04-13T11:52:01.874309Z",
          "shell.execute_reply.started": "2022-04-13T11:52:01.867845Z",
          "shell.execute_reply": "2022-04-13T11:52:01.873255Z"
        },
        "trusted": true,
        "id": "D-_3sfF1PX_Y"
      },
      "execution_count": null,
      "outputs": []
    },
    {
      "cell_type": "code",
      "source": [
        "f = open(\"Hello.txt\",\"r\")\n",
        "fo = f.read()    #Reads the entire file in one go\n",
        "for i in fo:\n",
        "    print(i)\n",
        "f.close()"
      ],
      "metadata": {
        "execution": {
          "iopub.status.busy": "2022-04-13T10:57:42.675432Z",
          "iopub.execute_input": "2022-04-13T10:57:42.676315Z",
          "iopub.status.idle": "2022-04-13T10:57:42.691817Z",
          "shell.execute_reply.started": "2022-04-13T10:57:42.676261Z",
          "shell.execute_reply": "2022-04-13T10:57:42.691161Z"
        },
        "trusted": true,
        "id": "f4ggWDq3PX_Z"
      },
      "execution_count": null,
      "outputs": []
    },
    {
      "cell_type": "code",
      "source": [
        "f = open(\"Hello.txt\",\"r\")\n",
        "print(f.readline())    #Reads the one line at a time\n",
        "f.close()"
      ],
      "metadata": {
        "execution": {
          "iopub.status.busy": "2022-04-13T10:57:54.075199Z",
          "iopub.execute_input": "2022-04-13T10:57:54.075464Z",
          "iopub.status.idle": "2022-04-13T10:57:54.081204Z",
          "shell.execute_reply.started": "2022-04-13T10:57:54.075434Z",
          "shell.execute_reply": "2022-04-13T10:57:54.080333Z"
        },
        "trusted": true,
        "id": "bJoPsPxIPX_Z"
      },
      "execution_count": null,
      "outputs": []
    },
    {
      "cell_type": "code",
      "source": [
        "f = open(\"Hello.txt\",\"r\")\n",
        "for i in f.read():\n",
        "    print(i)\n",
        "f.close()"
      ],
      "metadata": {
        "execution": {
          "iopub.status.busy": "2022-04-13T10:50:35.704246Z",
          "iopub.execute_input": "2022-04-13T10:50:35.704529Z",
          "iopub.status.idle": "2022-04-13T10:50:35.718831Z",
          "shell.execute_reply.started": "2022-04-13T10:50:35.704496Z",
          "shell.execute_reply": "2022-04-13T10:50:35.712726Z"
        },
        "trusted": true,
        "id": "ZvEc-o5dPX_a"
      },
      "execution_count": null,
      "outputs": []
    },
    {
      "cell_type": "code",
      "source": [
        "import os\n",
        "os.remove(\"Hello.txt\")"
      ],
      "metadata": {
        "execution": {
          "iopub.status.busy": "2022-04-13T11:07:07.150925Z",
          "iopub.execute_input": "2022-04-13T11:07:07.151918Z",
          "iopub.status.idle": "2022-04-13T11:07:07.15532Z",
          "shell.execute_reply.started": "2022-04-13T11:07:07.151877Z",
          "shell.execute_reply": "2022-04-13T11:07:07.154731Z"
        },
        "trusted": true,
        "id": "kjzjZlVYPX_a"
      },
      "execution_count": null,
      "outputs": []
    },
    {
      "cell_type": "code",
      "source": [
        "f = open(\"Hello.txt\",\"r\")\n",
        "print(f.readline()) "
      ],
      "metadata": {
        "execution": {
          "iopub.status.busy": "2022-04-13T11:07:37.262008Z",
          "iopub.execute_input": "2022-04-13T11:07:37.262436Z",
          "iopub.status.idle": "2022-04-13T11:07:37.333701Z",
          "shell.execute_reply.started": "2022-04-13T11:07:37.262404Z",
          "shell.execute_reply": "2022-04-13T11:07:37.332262Z"
        },
        "trusted": true,
        "id": "Le09i3OaPX_b"
      },
      "execution_count": null,
      "outputs": []
    },
    {
      "cell_type": "code",
      "source": [
        "f = open(\"Hello.txt\",\"a\")   #Open a file in a append mode\n",
        "f.write(\"This is a text written by append\")\n",
        "f.close()"
      ],
      "metadata": {
        "execution": {
          "iopub.status.busy": "2022-04-13T11:07:43.070835Z",
          "iopub.execute_input": "2022-04-13T11:07:43.071095Z",
          "iopub.status.idle": "2022-04-13T11:07:43.076077Z",
          "shell.execute_reply.started": "2022-04-13T11:07:43.071067Z",
          "shell.execute_reply": "2022-04-13T11:07:43.075074Z"
        },
        "trusted": true,
        "id": "02i49SGrPX_c"
      },
      "execution_count": null,
      "outputs": []
    },
    {
      "cell_type": "code",
      "source": [
        "f = open(\"Hello.txt\",\"a\")\n",
        "f.write(\"\\nThis is a text written by append\\n\")\n",
        "f.close()"
      ],
      "metadata": {
        "execution": {
          "iopub.status.busy": "2022-04-13T10:58:17.254019Z",
          "iopub.execute_input": "2022-04-13T10:58:17.254893Z",
          "iopub.status.idle": "2022-04-13T10:58:17.260164Z",
          "shell.execute_reply.started": "2022-04-13T10:58:17.254841Z",
          "shell.execute_reply": "2022-04-13T10:58:17.259583Z"
        },
        "trusted": true,
        "id": "L0EeDqqKPX_c"
      },
      "execution_count": null,
      "outputs": []
    },
    {
      "cell_type": "code",
      "source": [
        "f = open(\"Hello.txt\",\"r+\")   #Open a file in a read/write mode\n",
        "print(f.readline())\n",
        "f.write(\"\\nThis is a text written by read+write\\n\")\n",
        "f.close()"
      ],
      "metadata": {
        "execution": {
          "iopub.status.busy": "2022-04-13T11:08:30.762019Z",
          "iopub.execute_input": "2022-04-13T11:08:30.762316Z",
          "iopub.status.idle": "2022-04-13T11:08:30.768011Z",
          "shell.execute_reply.started": "2022-04-13T11:08:30.762281Z",
          "shell.execute_reply": "2022-04-13T11:08:30.767173Z"
        },
        "trusted": true,
        "id": "c8nkE9iFPX_d"
      },
      "execution_count": null,
      "outputs": []
    },
    {
      "cell_type": "markdown",
      "source": [
        "# Lab 6\n",
        "1. WAP to read a file and print the number of characters, words and lines it has\n",
        "2. WAP to copy contents of one file into another file\n",
        "3. WAP to read a file and count the number of vowels it has\n",
        "4. WAP to read a file and count the number of articles it has\n",
        "5. WAP to read a file reverse the contents of file (last line of the file should become the first line of the file)"
      ],
      "metadata": {
        "id": "9mfHU2jkPX_d"
      }
    },
    {
      "cell_type": "code",
      "source": [
        "# 1.WAP to read a file and print the no. of characters,words and lines it has.\n",
        "f = open(\"file1.txt\",\"w\") \n",
        "f.write(\"Hi!! I am Shubhangi. Today is monday!!\\n\")\n",
        "f.write(\"Today is raining\")\n",
        "f = open(\"file1.txt\",\"r\") \n",
        "data=f.read()\n",
        "no_of_char=len(data)\n",
        "words=data.split()\n",
        "no_of_word=len(words)\n",
        "lines=data.split(\"\\n\")\n",
        "c=0\n",
        "for i in lines:\n",
        "    if i:\n",
        "        c+=1\n",
        "print(\"No. of Characters : \",no_of_char)\n",
        "print(\"No. of words : \",no_of_word)\n",
        "print(\"No. of lines : \",c)"
      ],
      "metadata": {
        "execution": {
          "iopub.status.busy": "2022-04-13T11:29:33.286826Z",
          "iopub.execute_input": "2022-04-13T11:29:33.28762Z",
          "iopub.status.idle": "2022-04-13T11:29:33.296696Z",
          "shell.execute_reply.started": "2022-04-13T11:29:33.287555Z",
          "shell.execute_reply": "2022-04-13T11:29:33.296067Z"
        },
        "trusted": true,
        "id": "9e7yXFCoPX_f"
      },
      "execution_count": null,
      "outputs": []
    },
    {
      "cell_type": "code",
      "source": [
        "# 2.WAP to copy contents of one file into another.\n",
        "f = open(\"file2.txt\",\"w\") \n",
        "f.write(\"Hi!! I am Shubhangi. Today is the monday!!\\n\")\n",
        "f.write(\"Today is raining. I am a girl\")\n",
        "f.close()\n",
        "f = open(\"file2.txt\",\"r\") \n",
        "data=f.readlines()\n",
        "f = open(\"filec.txt\",\"w\") \n",
        "for i in data:\n",
        "    f.write(i)\n",
        "f.close()\n",
        "f = open(\"filec.txt\",\"r\") \n",
        "print(\"Copied file:\\n\")\n",
        "print(f.read())"
      ],
      "metadata": {
        "execution": {
          "iopub.status.busy": "2022-04-13T13:34:49.478706Z",
          "iopub.execute_input": "2022-04-13T13:34:49.479973Z",
          "iopub.status.idle": "2022-04-13T13:34:49.488292Z",
          "shell.execute_reply.started": "2022-04-13T13:34:49.479921Z",
          "shell.execute_reply": "2022-04-13T13:34:49.487446Z"
        },
        "trusted": true,
        "id": "hzW3UpPYPX_f"
      },
      "execution_count": null,
      "outputs": []
    },
    {
      "cell_type": "code",
      "source": [
        "# 3.WAP to read a file and count the no. of vowels it has.\n",
        "f = open(\"file2.txt\",\"r\") \n",
        "vowels=['a','e','i','o','u','A','E','I','O','U']\n",
        "c=0\n",
        "for i in f.read():\n",
        "    if i in vowels:\n",
        "        c+=1\n",
        "print(\"Vowels : \",c)"
      ],
      "metadata": {
        "execution": {
          "iopub.status.busy": "2022-04-13T13:34:52.597216Z",
          "iopub.execute_input": "2022-04-13T13:34:52.597489Z",
          "iopub.status.idle": "2022-04-13T13:34:52.605363Z",
          "shell.execute_reply.started": "2022-04-13T13:34:52.597461Z",
          "shell.execute_reply": "2022-04-13T13:34:52.604452Z"
        },
        "trusted": true,
        "id": "LvMZkfQ9PX_g"
      },
      "execution_count": null,
      "outputs": []
    },
    {
      "cell_type": "code",
      "source": [
        "# 4.WAP to read a file and count the no. of articles it has.\n",
        "f = open(\"file2.txt\",\"r\") \n",
        "articles=['a','an','the','A','An','The','AN','THE']\n",
        "data=f.read()\n",
        "words=data.split()\n",
        "c=0\n",
        "for i in words:\n",
        "    if i in articles:\n",
        "        c+=1\n",
        "print(\"Articles : \",c)"
      ],
      "metadata": {
        "execution": {
          "iopub.status.busy": "2022-04-13T13:34:55.917147Z",
          "iopub.execute_input": "2022-04-13T13:34:55.917916Z",
          "iopub.status.idle": "2022-04-13T13:34:55.924682Z",
          "shell.execute_reply.started": "2022-04-13T13:34:55.917875Z",
          "shell.execute_reply": "2022-04-13T13:34:55.923505Z"
        },
        "trusted": true,
        "id": "ldnjWUfyPX_g"
      },
      "execution_count": null,
      "outputs": []
    },
    {
      "cell_type": "code",
      "source": [
        "# 5.WAP to read a file and reverse the contents of file\n",
        "f = open(\"file2.txt\",\"r\") \n",
        "filecontent=\"\"\n",
        "for i in f:\n",
        "    filecontent=filecontent+i\n",
        "filecontent=filecontent[::-1]\n",
        "print(filecontent)"
      ],
      "metadata": {
        "execution": {
          "iopub.status.busy": "2022-04-13T13:37:39.197283Z",
          "iopub.execute_input": "2022-04-13T13:37:39.198052Z",
          "iopub.status.idle": "2022-04-13T13:37:39.203718Z",
          "shell.execute_reply.started": "2022-04-13T13:37:39.197999Z",
          "shell.execute_reply": "2022-04-13T13:37:39.203134Z"
        },
        "trusted": true,
        "id": "b1K02UPdPX_g"
      },
      "execution_count": null,
      "outputs": []
    }
  ]
}