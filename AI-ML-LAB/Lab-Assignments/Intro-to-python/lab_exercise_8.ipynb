{
  "metadata": {
    "kernelspec": {
      "language": "python",
      "display_name": "Python 3",
      "name": "python3"
    },
    "language_info": {
      "name": "python",
      "version": "3.7.12",
      "mimetype": "text/x-python",
      "codemirror_mode": {
        "name": "ipython",
        "version": 3
      },
      "pygments_lexer": "ipython3",
      "nbconvert_exporter": "python",
      "file_extension": ".py"
    },
    "colab": {
      "name": "lab-exercise-8.ipynb",
      "provenance": []
    }
  },
  "nbformat_minor": 0,
  "nbformat": 4,
  "cells": [
    {
      "cell_type": "code",
      "source": [
        "import numpy as np\n",
        "A = np.array([[1,2,3],[4,5,6],[7,8,9]])\n",
        "A"
      ],
      "metadata": {
        "execution": {
          "iopub.status.busy": "2022-04-15T07:18:24.597109Z",
          "iopub.execute_input": "2022-04-15T07:18:24.597474Z",
          "iopub.status.idle": "2022-04-15T07:18:24.626362Z",
          "shell.execute_reply.started": "2022-04-15T07:18:24.597383Z",
          "shell.execute_reply": "2022-04-15T07:18:24.625692Z"
        },
        "trusted": true,
        "colab": {
          "base_uri": "https://localhost:8080/"
        },
        "id": "quOBAvFUcMvV",
        "outputId": "126da7ae-e228-4500-e45e-1479d3fb9a72"
      },
      "execution_count": 1,
      "outputs": [
        {
          "output_type": "execute_result",
          "data": {
            "text/plain": [
              "array([[1, 2, 3],\n",
              "       [4, 5, 6],\n",
              "       [7, 8, 9]])"
            ]
          },
          "metadata": {},
          "execution_count": 1
        }
      ]
    },
    {
      "cell_type": "code",
      "source": [
        "A.diagonal().sum()"
      ],
      "metadata": {
        "execution": {
          "iopub.status.busy": "2022-04-15T07:18:58.761191Z",
          "iopub.execute_input": "2022-04-15T07:18:58.761949Z",
          "iopub.status.idle": "2022-04-15T07:18:58.768234Z",
          "shell.execute_reply.started": "2022-04-15T07:18:58.761909Z",
          "shell.execute_reply": "2022-04-15T07:18:58.767414Z"
        },
        "trusted": true,
        "colab": {
          "base_uri": "https://localhost:8080/"
        },
        "id": "6gznECE_cMvf",
        "outputId": "a7719930-44be-4c9e-f84c-2f6f11b28012"
      },
      "execution_count": 2,
      "outputs": [
        {
          "output_type": "execute_result",
          "data": {
            "text/plain": [
              "15"
            ]
          },
          "metadata": {},
          "execution_count": 2
        }
      ]
    },
    {
      "cell_type": "code",
      "source": [
        "B = np.matrix('[1,2,3;4,5,6;6,7,8]')\n",
        "B"
      ],
      "metadata": {
        "execution": {
          "iopub.status.busy": "2022-04-15T07:19:14.324685Z",
          "iopub.execute_input": "2022-04-15T07:19:14.324958Z",
          "iopub.status.idle": "2022-04-15T07:19:14.330551Z",
          "shell.execute_reply.started": "2022-04-15T07:19:14.324928Z",
          "shell.execute_reply": "2022-04-15T07:19:14.329978Z"
        },
        "trusted": true,
        "colab": {
          "base_uri": "https://localhost:8080/"
        },
        "id": "j89_hOXucMvh",
        "outputId": "9c3b886d-2287-41fa-8641-f22e4c1b49d3"
      },
      "execution_count": 3,
      "outputs": [
        {
          "output_type": "execute_result",
          "data": {
            "text/plain": [
              "matrix([[1, 2, 3],\n",
              "        [4, 5, 6],\n",
              "        [6, 7, 8]])"
            ]
          },
          "metadata": {},
          "execution_count": 3
        }
      ]
    },
    {
      "cell_type": "code",
      "source": [
        "B.diagonal()"
      ],
      "metadata": {
        "execution": {
          "iopub.status.busy": "2022-04-15T07:19:23.491253Z",
          "iopub.execute_input": "2022-04-15T07:19:23.491663Z",
          "iopub.status.idle": "2022-04-15T07:19:23.498538Z",
          "shell.execute_reply.started": "2022-04-15T07:19:23.491624Z",
          "shell.execute_reply": "2022-04-15T07:19:23.497499Z"
        },
        "trusted": true,
        "colab": {
          "base_uri": "https://localhost:8080/"
        },
        "id": "vPuETcupcMvj",
        "outputId": "e3565b27-4317-461f-88ba-3561100b2bc2"
      },
      "execution_count": 4,
      "outputs": [
        {
          "output_type": "execute_result",
          "data": {
            "text/plain": [
              "matrix([[1, 5, 8]])"
            ]
          },
          "metadata": {},
          "execution_count": 4
        }
      ]
    },
    {
      "cell_type": "code",
      "source": [
        "lst =B.tolist()\n",
        "lst"
      ],
      "metadata": {
        "execution": {
          "iopub.status.busy": "2022-04-15T07:19:27.890373Z",
          "iopub.execute_input": "2022-04-15T07:19:27.890790Z",
          "iopub.status.idle": "2022-04-15T07:19:27.894874Z",
          "shell.execute_reply.started": "2022-04-15T07:19:27.890760Z",
          "shell.execute_reply": "2022-04-15T07:19:27.894358Z"
        },
        "trusted": true,
        "colab": {
          "base_uri": "https://localhost:8080/"
        },
        "id": "53ADvPe4cMvk",
        "outputId": "572d8096-59de-4f94-c682-d2bca027015d"
      },
      "execution_count": 5,
      "outputs": [
        {
          "output_type": "execute_result",
          "data": {
            "text/plain": [
              "[[1, 2, 3], [4, 5, 6], [6, 7, 8]]"
            ]
          },
          "metadata": {},
          "execution_count": 5
        }
      ]
    },
    {
      "cell_type": "code",
      "source": [
        "lst =A.tolist()\n",
        "lst"
      ],
      "metadata": {
        "execution": {
          "iopub.status.busy": "2022-04-15T07:19:36.145133Z",
          "iopub.execute_input": "2022-04-15T07:19:36.145913Z",
          "iopub.status.idle": "2022-04-15T07:19:36.152185Z",
          "shell.execute_reply.started": "2022-04-15T07:19:36.145863Z",
          "shell.execute_reply": "2022-04-15T07:19:36.151550Z"
        },
        "trusted": true,
        "colab": {
          "base_uri": "https://localhost:8080/"
        },
        "id": "D-jgXaXYcMvm",
        "outputId": "f6cbec25-7e7f-46ce-83e3-81cec8ea5432"
      },
      "execution_count": 6,
      "outputs": [
        {
          "output_type": "execute_result",
          "data": {
            "text/plain": [
              "[[1, 2, 3], [4, 5, 6], [7, 8, 9]]"
            ]
          },
          "metadata": {},
          "execution_count": 6
        }
      ]
    },
    {
      "cell_type": "code",
      "source": [
        "lst=[1,2,3,4,5,6]"
      ],
      "metadata": {
        "execution": {
          "iopub.status.busy": "2022-04-15T07:19:47.038355Z",
          "iopub.execute_input": "2022-04-15T07:19:47.038937Z",
          "iopub.status.idle": "2022-04-15T07:19:47.042887Z",
          "shell.execute_reply.started": "2022-04-15T07:19:47.038902Z",
          "shell.execute_reply": "2022-04-15T07:19:47.042078Z"
        },
        "trusted": true,
        "id": "Baca1YaXcMvn"
      },
      "execution_count": 7,
      "outputs": []
    },
    {
      "cell_type": "code",
      "source": [
        "print(lst)"
      ],
      "metadata": {
        "execution": {
          "iopub.status.busy": "2022-04-15T07:19:53.376267Z",
          "iopub.execute_input": "2022-04-15T07:19:53.376908Z",
          "iopub.status.idle": "2022-04-15T07:19:53.380735Z",
          "shell.execute_reply.started": "2022-04-15T07:19:53.376875Z",
          "shell.execute_reply": "2022-04-15T07:19:53.380219Z"
        },
        "trusted": true,
        "colab": {
          "base_uri": "https://localhost:8080/"
        },
        "id": "KM_TejPycMvp",
        "outputId": "28352417-c6f5-41ef-9d56-78ff7b31976e"
      },
      "execution_count": 8,
      "outputs": [
        {
          "output_type": "stream",
          "name": "stdout",
          "text": [
            "[1, 2, 3, 4, 5, 6]\n"
          ]
        }
      ]
    },
    {
      "cell_type": "code",
      "source": [
        "A=np.array(lst)"
      ],
      "metadata": {
        "execution": {
          "iopub.status.busy": "2022-04-15T07:20:00.771182Z",
          "iopub.execute_input": "2022-04-15T07:20:00.771861Z",
          "iopub.status.idle": "2022-04-15T07:20:00.775833Z",
          "shell.execute_reply.started": "2022-04-15T07:20:00.771826Z",
          "shell.execute_reply": "2022-04-15T07:20:00.774917Z"
        },
        "trusted": true,
        "id": "mvYhn6J3cMvq"
      },
      "execution_count": 9,
      "outputs": []
    },
    {
      "cell_type": "code",
      "source": [
        "A"
      ],
      "metadata": {
        "execution": {
          "iopub.status.busy": "2022-04-15T07:20:06.738734Z",
          "iopub.execute_input": "2022-04-15T07:20:06.739007Z",
          "iopub.status.idle": "2022-04-15T07:20:06.744122Z",
          "shell.execute_reply.started": "2022-04-15T07:20:06.738978Z",
          "shell.execute_reply": "2022-04-15T07:20:06.743561Z"
        },
        "trusted": true,
        "colab": {
          "base_uri": "https://localhost:8080/"
        },
        "id": "rrT8HVn4cMvs",
        "outputId": "f10f140f-13c5-47a2-d687-8bb06cadb8f8"
      },
      "execution_count": 10,
      "outputs": [
        {
          "output_type": "execute_result",
          "data": {
            "text/plain": [
              "array([1, 2, 3, 4, 5, 6])"
            ]
          },
          "metadata": {},
          "execution_count": 10
        }
      ]
    },
    {
      "cell_type": "code",
      "source": [
        "type(A)"
      ],
      "metadata": {
        "execution": {
          "iopub.status.busy": "2022-04-15T07:20:11.417165Z",
          "iopub.execute_input": "2022-04-15T07:20:11.417837Z",
          "iopub.status.idle": "2022-04-15T07:20:11.422787Z",
          "shell.execute_reply.started": "2022-04-15T07:20:11.417804Z",
          "shell.execute_reply": "2022-04-15T07:20:11.421987Z"
        },
        "trusted": true,
        "colab": {
          "base_uri": "https://localhost:8080/"
        },
        "id": "-XPL4PzHcMvt",
        "outputId": "9d42b717-02ce-43da-9bc8-53facdbeef9e"
      },
      "execution_count": 11,
      "outputs": [
        {
          "output_type": "execute_result",
          "data": {
            "text/plain": [
              "numpy.ndarray"
            ]
          },
          "metadata": {},
          "execution_count": 11
        }
      ]
    },
    {
      "cell_type": "code",
      "source": [
        "lst=[[1,2,3],[4,5,6]]\n",
        "lst"
      ],
      "metadata": {
        "execution": {
          "iopub.status.busy": "2022-04-15T07:20:19.936352Z",
          "iopub.execute_input": "2022-04-15T07:20:19.936668Z",
          "iopub.status.idle": "2022-04-15T07:20:19.942824Z",
          "shell.execute_reply.started": "2022-04-15T07:20:19.936635Z",
          "shell.execute_reply": "2022-04-15T07:20:19.942070Z"
        },
        "trusted": true,
        "colab": {
          "base_uri": "https://localhost:8080/"
        },
        "id": "-JPvyzkRcMvv",
        "outputId": "8caee56e-9255-4e0f-9498-e2a6c40f579a"
      },
      "execution_count": 12,
      "outputs": [
        {
          "output_type": "execute_result",
          "data": {
            "text/plain": [
              "[[1, 2, 3], [4, 5, 6]]"
            ]
          },
          "metadata": {},
          "execution_count": 12
        }
      ]
    },
    {
      "cell_type": "code",
      "source": [
        "B=np.matrix(lst)\n",
        "B"
      ],
      "metadata": {
        "execution": {
          "iopub.status.busy": "2022-04-15T07:22:23.631651Z",
          "iopub.execute_input": "2022-04-15T07:22:23.631930Z",
          "iopub.status.idle": "2022-04-15T07:22:23.638610Z",
          "shell.execute_reply.started": "2022-04-15T07:22:23.631904Z",
          "shell.execute_reply": "2022-04-15T07:22:23.637779Z"
        },
        "trusted": true,
        "colab": {
          "base_uri": "https://localhost:8080/"
        },
        "id": "QWdEf1E1cMvw",
        "outputId": "b39dbd03-091c-41a1-d266-7f83f8c17543"
      },
      "execution_count": 13,
      "outputs": [
        {
          "output_type": "execute_result",
          "data": {
            "text/plain": [
              "matrix([[1, 2, 3],\n",
              "        [4, 5, 6]])"
            ]
          },
          "metadata": {},
          "execution_count": 13
        }
      ]
    },
    {
      "cell_type": "markdown",
      "source": [
        "## Lab 9\n",
        "1. WAP to create a numpy array and find indices of non-zero elements\n",
        "2. WAP to create a numpy to create a 3x3 identity matrix \n",
        "3. WAP to create a numpy to create a 3x3x3 array with random values\n",
        "4. WAP to create a numpy to create a random vector of size 30 and find the mean value\n",
        "5. WAP to create a numpy to multiply a 5x3 matrix by a 3x2 matrix \n",
        "6. WAP to create a numpy to input two arrays, X and Y, construct the Cauchy matrix C (Cij =1/(xi - yj))\n",
        "7. WAP to print all the values of an array"
      ],
      "metadata": {
        "id": "X--M1TeZcVc0"
      }
    },
    {
      "cell_type": "code",
      "source": [
        "# 1.WAP to create a numpy array and find indices of non-zero elements\n",
        "import numpy as np\n",
        "arr = np.array([[0, 8, 0], [7, 0, 0], [-5, 0, 1]])\n",
        "  \n",
        "print (\"Input  array : \\n\", arr)\n",
        "    \n",
        "out_tpl = np.nonzero(arr)\n",
        "print (\"Indices of non zero elements : \", out_tpl) "
      ],
      "metadata": {
        "execution": {
          "iopub.status.busy": "2022-04-15T07:24:45.114959Z",
          "iopub.execute_input": "2022-04-15T07:24:45.115624Z",
          "iopub.status.idle": "2022-04-15T07:24:45.122983Z",
          "shell.execute_reply.started": "2022-04-15T07:24:45.115588Z",
          "shell.execute_reply": "2022-04-15T07:24:45.122089Z"
        },
        "trusted": true,
        "colab": {
          "base_uri": "https://localhost:8080/"
        },
        "id": "NtPXW8IUcMvy",
        "outputId": "baa4ca72-5f7a-4950-cde6-135518b2bb60"
      },
      "execution_count": 15,
      "outputs": [
        {
          "output_type": "stream",
          "name": "stdout",
          "text": [
            "Input  array : \n",
            " [[ 0  8  0]\n",
            " [ 7  0  0]\n",
            " [-5  0  1]]\n",
            "Indices of non zero elements :  (array([0, 1, 2, 2]), array([1, 0, 0, 2]))\n"
          ]
        }
      ]
    },
    {
      "cell_type": "code",
      "source": [
        "# 2. WAP to create a numpy to create a 3x3 identity matrix\n",
        "import numpy as np\n",
        "array_2D=np.identity(3)\n",
        "print('3x3 matrix:')\n",
        "print(array_2D)"
      ],
      "metadata": {
        "execution": {
          "iopub.status.busy": "2022-04-15T07:27:20.831106Z",
          "iopub.execute_input": "2022-04-15T07:27:20.831885Z",
          "iopub.status.idle": "2022-04-15T07:27:20.837488Z",
          "shell.execute_reply.started": "2022-04-15T07:27:20.831848Z",
          "shell.execute_reply": "2022-04-15T07:27:20.836690Z"
        },
        "trusted": true,
        "colab": {
          "base_uri": "https://localhost:8080/"
        },
        "id": "lDpPUSnqcMvz",
        "outputId": "9e892285-9572-4f40-ac93-0490a3442556"
      },
      "execution_count": 16,
      "outputs": [
        {
          "output_type": "stream",
          "name": "stdout",
          "text": [
            "3x3 matrix:\n",
            "[[1. 0. 0.]\n",
            " [0. 1. 0.]\n",
            " [0. 0. 1.]]\n"
          ]
        }
      ]
    },
    {
      "cell_type": "code",
      "source": [
        "# 3. WAP to create a numpy to create a 3x3x3 array with random values\n",
        "import numpy as np\n",
        "x = np.random.random((3,3,3))\n",
        "print(x)"
      ],
      "metadata": {
        "execution": {
          "iopub.status.busy": "2022-04-15T07:27:57.922003Z",
          "iopub.execute_input": "2022-04-15T07:27:57.922595Z",
          "iopub.status.idle": "2022-04-15T07:27:57.927793Z",
          "shell.execute_reply.started": "2022-04-15T07:27:57.922561Z",
          "shell.execute_reply": "2022-04-15T07:27:57.927256Z"
        },
        "trusted": true,
        "colab": {
          "base_uri": "https://localhost:8080/"
        },
        "id": "9nbamxpTcMv1",
        "outputId": "74328198-3129-41ad-879e-3f055c4de8f8"
      },
      "execution_count": 17,
      "outputs": [
        {
          "output_type": "stream",
          "name": "stdout",
          "text": [
            "[[[0.90370547 0.32353988 0.14426377]\n",
            "  [0.3571718  0.69236907 0.24438042]\n",
            "  [0.23093137 0.04642683 0.78736321]]\n",
            "\n",
            " [[0.17260673 0.35070824 0.95846759]\n",
            "  [0.6313828  0.31899042 0.4776999 ]\n",
            "  [0.95166453 0.54618415 0.24175226]]\n",
            "\n",
            " [[0.40275017 0.21736545 0.20687576]\n",
            "  [0.45544732 0.08017275 0.02065706]\n",
            "  [0.79042602 0.60480393 0.60758256]]]\n"
          ]
        }
      ]
    },
    {
      "cell_type": "code",
      "source": [
        "# 4. WAP to create a numpy to create a random vector of size 30 and find the mean value\n",
        "import numpy as np\n",
        "Z = np.random.random(30)\n",
        "print(Z)\n",
        "m = Z.mean()\n",
        "print (\"Mean value of following vector : \",m)"
      ],
      "metadata": {
        "execution": {
          "iopub.status.busy": "2022-04-15T07:42:03.120516Z",
          "iopub.execute_input": "2022-04-15T07:42:03.121049Z",
          "iopub.status.idle": "2022-04-15T07:42:03.130288Z",
          "shell.execute_reply.started": "2022-04-15T07:42:03.121013Z",
          "shell.execute_reply": "2022-04-15T07:42:03.129405Z"
        },
        "trusted": true,
        "colab": {
          "base_uri": "https://localhost:8080/"
        },
        "id": "1_zqamVDcMv2",
        "outputId": "a445c3a5-f9cd-48da-8e8b-d4f569c8ed38"
      },
      "execution_count": 18,
      "outputs": [
        {
          "output_type": "stream",
          "name": "stdout",
          "text": [
            "[0.16274711 0.03441541 0.83786973 0.04135378 0.31053942 0.51691552\n",
            " 0.60186862 0.48474297 0.44905941 0.16983743 0.32345737 0.67967052\n",
            " 0.66116652 0.95541276 0.22672262 0.60036902 0.07988323 0.5691331\n",
            " 0.99477931 0.15976884 0.81979079 0.53714716 0.48778659 0.23885034\n",
            " 0.10248946 0.85699339 0.88409614 0.32100132 0.50204986 0.00467057]\n",
            "Mean value of following vector :  0.4538196104442983\n"
          ]
        }
      ]
    },
    {
      "cell_type": "code",
      "source": [
        "# 5. WAP to create a numpy to multiply a 5x3 matrix by a 3x2 matrix\n",
        "import numpy as np\n",
        "x = np.random.random((5,3))\n",
        "print(\"First array:\")\n",
        "print(x)\n",
        "y = np.random.random((3,2))\n",
        "print(\"Second array:\")\n",
        "print(y)\n",
        "z = np.dot(x, y)\n",
        "print(\"Dot product of two arrays:\")\n",
        "print(z)"
      ],
      "metadata": {
        "execution": {
          "iopub.status.busy": "2022-04-15T07:30:24.079158Z",
          "iopub.execute_input": "2022-04-15T07:30:24.079927Z",
          "iopub.status.idle": "2022-04-15T07:30:24.089381Z",
          "shell.execute_reply.started": "2022-04-15T07:30:24.079889Z",
          "shell.execute_reply": "2022-04-15T07:30:24.088440Z"
        },
        "trusted": true,
        "colab": {
          "base_uri": "https://localhost:8080/"
        },
        "id": "NNxY2c5hcMv3",
        "outputId": "5ae16ee2-3003-41c5-b36e-4e063de2dbfb"
      },
      "execution_count": 19,
      "outputs": [
        {
          "output_type": "stream",
          "name": "stdout",
          "text": [
            "First array:\n",
            "[[0.64730338 0.19358759 0.50638969]\n",
            " [0.72178618 0.8887926  0.19272136]\n",
            " [0.44517246 0.2923738  0.34655628]\n",
            " [0.79435258 0.63228592 0.31131005]\n",
            " [0.58532161 0.77422913 0.60604422]]\n",
            "Second array:\n",
            "[[0.12615297 0.61796031]\n",
            " [0.90750535 0.6994317 ]\n",
            " [0.06412281 0.84250389]]\n",
            "Dot product of two arrays:\n",
            "[[0.28981214 0.96204438]\n",
            " [0.90999734 1.23005342]\n",
            " [0.34371277 0.77156942]\n",
            " [0.69397486 1.19539911]\n",
            " [0.81531838 1.41382053]]\n"
          ]
        }
      ]
    },
    {
      "cell_type": "code",
      "source": [
        "# 6. WAP to create a numpy to input two arrays, X and Y, construct the Cauchy matrix C (Cij =1/(xi - yj))\n",
        "import numpy as np\n",
        "x = np.array([1,2,3,4])\n",
        "y = np.array([5,6,7])\n",
        "c= 1.0 / (x.reshape((-1,1)) - y)\n",
        "print(c)"
      ],
      "metadata": {
        "execution": {
          "iopub.status.busy": "2022-04-15T07:45:27.001186Z",
          "iopub.execute_input": "2022-04-15T07:45:27.001490Z",
          "iopub.status.idle": "2022-04-15T07:45:27.007925Z",
          "shell.execute_reply.started": "2022-04-15T07:45:27.001458Z",
          "shell.execute_reply": "2022-04-15T07:45:27.007269Z"
        },
        "trusted": true,
        "colab": {
          "base_uri": "https://localhost:8080/"
        },
        "id": "Dh6bzCWDcMv4",
        "outputId": "c6a5f657-52ce-4109-be22-7cdf37ba1377"
      },
      "execution_count": 20,
      "outputs": [
        {
          "output_type": "stream",
          "name": "stdout",
          "text": [
            "[[-0.25       -0.2        -0.16666667]\n",
            " [-0.33333333 -0.25       -0.2       ]\n",
            " [-0.5        -0.33333333 -0.25      ]\n",
            " [-1.         -0.5        -0.33333333]]\n"
          ]
        }
      ]
    },
    {
      "cell_type": "code",
      "source": [
        "# 7. WAP to print all the values of an array\n",
        "import numpy as np\n",
        "import sys\n",
        "nums = np.arange(20)\n",
        "np.set_printoptions(threshold=sys.maxsize)\n",
        "print(nums)"
      ],
      "metadata": {
        "execution": {
          "iopub.status.busy": "2022-04-15T07:34:43.029992Z",
          "iopub.execute_input": "2022-04-15T07:34:43.030284Z",
          "iopub.status.idle": "2022-04-15T07:34:43.035584Z",
          "shell.execute_reply.started": "2022-04-15T07:34:43.030254Z",
          "shell.execute_reply": "2022-04-15T07:34:43.034790Z"
        },
        "trusted": true,
        "colab": {
          "base_uri": "https://localhost:8080/"
        },
        "id": "vp-Cbr4vcMv5",
        "outputId": "cd500e52-3ee9-4a3a-a690-4e8528739973"
      },
      "execution_count": 21,
      "outputs": [
        {
          "output_type": "stream",
          "name": "stdout",
          "text": [
            "[ 0  1  2  3  4  5  6  7  8  9 10 11 12 13 14 15 16 17 18 19]\n"
          ]
        }
      ]
    }
  ]
}