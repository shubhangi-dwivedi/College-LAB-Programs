{
  "cells": [
    {
      "cell_type": "markdown",
      "metadata": {
        "id": "iZ8965JKZVoJ"
      },
      "source": [
        "**04-04-2022**"
      ]
    },
    {
      "cell_type": "code",
      "execution_count": 2,
      "metadata": {
        "id": "Dmqwqc0-ZoTI"
      },
      "outputs": [],
      "source": [
        "from sklearn.datasets import fetch_20newsgroups"
      ]
    },
    {
      "cell_type": "markdown",
      "metadata": {
        "id": "NiGBAYCCZYbO"
      },
      "source": [
        "Instead of passing whole dataset in one go, we'll first take training data to train the model, then testing data to test the model :"
      ]
    },
    {
      "cell_type": "markdown",
      "metadata": {
        "id": "AitDlZMuiDLT"
      },
      "source": [
        "->only training data is taken here :"
      ]
    },
    {
      "cell_type": "code",
      "execution_count": 3,
      "metadata": {
        "id": "k-xyen2kZTF-"
      },
      "outputs": [],
      "source": [
        "textdata= fetch_20newsgroups(subset='train', shuffle=True)"
      ]
    },
    {
      "cell_type": "markdown",
      "metadata": {
        "id": "KhVPa5rpjL6R"
      },
      "source": [
        "-> We'll take both methods i.e. bag-of-words and TF-IDF for feature extraction (there is no explanation why we are taking both):"
      ]
    },
    {
      "cell_type": "markdown",
      "metadata": {
        "id": "Xrr1p9tEjlSv"
      },
      "source": [
        "-> first applying bag-of words then TF-IDF, and then any classification which we want to apply (here, we'll apply naive-bayes):"
      ]
    },
    {
      "cell_type": "markdown",
      "metadata": {
        "id": "cFLp8z3kkcgl"
      },
      "source": [
        "-> as we want to apply these 3 i.e. bag-of-words, TF-IDF and naive-bayes continuously(one after another) i.e. in hierarchical manner we can use pipeline to do so :"
      ]
    },
    {
      "cell_type": "code",
      "execution_count": 4,
      "metadata": {
        "id": "4yyF6mG_jeRT"
      },
      "outputs": [],
      "source": [
        "from sklearn.feature_extraction.text import CountVectorizer\n",
        "from sklearn.feature_extraction.text import TfidfVectorizer"
      ]
    },
    {
      "cell_type": "code",
      "execution_count": 5,
      "metadata": {
        "id": "imu2L5tskH4y"
      },
      "outputs": [],
      "source": [
        "from sklearn.naive_bayes import MultinomialNB #while text MultinomialNB is preferred"
      ]
    },
    {
      "cell_type": "code",
      "execution_count": 6,
      "metadata": {
        "id": "lbf67pGglCZu"
      },
      "outputs": [],
      "source": [
        "from sklearn.pipeline import Pipeline"
      ]
    },
    {
      "cell_type": "markdown",
      "metadata": {
        "id": "A9xZkOXBmW-X"
      },
      "source": [
        "-> method 1 : applied in pipeline manner i.e. one by one"
      ]
    },
    {
      "cell_type": "code",
      "execution_count": 7,
      "metadata": {
        "id": "MLOVNyo1j_I3"
      },
      "outputs": [],
      "source": [
        "from sklearn.feature_extraction.text import TfidfTransformer\n",
        "\n",
        "text_model = Pipeline([('vc', CountVectorizer()), ('tfid',TfidfTransformer()), ('model_nb', MultinomialNB())])"
      ]
    },
    {
      "cell_type": "markdown",
      "metadata": {
        "id": "v3mYmONonH_Z"
      },
      "source": [
        "-> method 2: executing separately "
      ]
    },
    {
      "cell_type": "code",
      "execution_count": 8,
      "metadata": {
        "colab": {
          "base_uri": "https://localhost:8080/"
        },
        "id": "Lgf6HycMnQpg",
        "outputId": "d0f6b036-3fd0-4152-e197-0cb4643ee6f1"
      },
      "outputs": [
        {
          "output_type": "execute_result",
          "data": {
            "text/plain": [
              "(11314, 130107)"
            ]
          },
          "metadata": {},
          "execution_count": 8
        }
      ],
      "source": [
        "vc2=CountVectorizer()\n",
        "X_train=vc2.fit_transform(textdata.data)\n",
        "X_train.shape"
      ]
    },
    {
      "cell_type": "code",
      "execution_count": 9,
      "metadata": {
        "colab": {
          "base_uri": "https://localhost:8080/"
        },
        "id": "fpX0r6runeWQ",
        "outputId": "bbe22d5b-e6cf-450c-a3d6-9f3d7ce3e8a2"
      },
      "outputs": [
        {
          "output_type": "execute_result",
          "data": {
            "text/plain": [
              "(11314, 130107)"
            ]
          },
          "metadata": {},
          "execution_count": 9
        }
      ],
      "source": [
        "tfid2= TfidfTransformer()\n",
        "X_train=tfid2.fit_transform(X_train)\n",
        "X_train.shape"
      ]
    },
    {
      "cell_type": "markdown",
      "metadata": {
        "id": "NfSwK7yomczJ"
      },
      "source": [
        "-> fitting data :"
      ]
    },
    {
      "cell_type": "code",
      "execution_count": 10,
      "metadata": {
        "id": "MyPkxqZ_mWVV"
      },
      "outputs": [],
      "source": [
        "#textdata.data - features\n",
        "#textdata.target - target\n",
        "\n",
        "text_model=text_model.fit(textdata.data, textdata.target)"
      ]
    },
    {
      "cell_type": "markdown",
      "metadata": {
        "id": "syESYpsupCQM"
      },
      "source": [
        "-> now taking testing data separately:"
      ]
    },
    {
      "cell_type": "code",
      "execution_count": 11,
      "metadata": {
        "id": "g1P9Tmo3pAgf"
      },
      "outputs": [],
      "source": [
        "#X_data contains both target and features\n",
        "\n",
        "#X_test.data - features\n",
        "#X_test.target - target\n",
        "\n",
        "X_test= fetch_20newsgroups(subset='test', shuffle=True)"
      ]
    },
    {
      "cell_type": "markdown",
      "metadata": {
        "id": "wYAt7vbapRIl"
      },
      "source": [
        "-> predicting :"
      ]
    },
    {
      "cell_type": "code",
      "execution_count": 12,
      "metadata": {
        "id": "85DUnCMepTUc"
      },
      "outputs": [],
      "source": [
        "prediction = text_model.predict(X_test.data)"
      ]
    },
    {
      "cell_type": "markdown",
      "metadata": {
        "id": "fhEVA6oTpvPq"
      },
      "source": [
        "->checking whether predicted data is equal to target i.e. X_test.target or not"
      ]
    },
    {
      "cell_type": "markdown",
      "metadata": {
        "id": "DyJjuRm6qITJ"
      },
      "source": [
        "-> taking mean of predicted data & target when prediction == X_test.target"
      ]
    },
    {
      "cell_type": "code",
      "execution_count": 13,
      "metadata": {
        "colab": {
          "base_uri": "https://localhost:8080/"
        },
        "id": "Oz1e9S6kppAk",
        "outputId": "45a8219c-0f25-43a3-ecbd-418630437185"
      },
      "outputs": [
        {
          "output_type": "execute_result",
          "data": {
            "text/plain": [
              "0.7738980350504514"
            ]
          },
          "metadata": {},
          "execution_count": 13
        }
      ],
      "source": [
        "import numpy as np\n",
        "np.mean(prediction==X_test.target)"
      ]
    },
    {
      "cell_type": "markdown",
      "metadata": {
        "id": "bE6_WGrrqTpf"
      },
      "source": [
        "we can see that accuracy is 77%.\n",
        "\n",
        "i.e. 77% values of predicted and target data are equal"
      ]
    },
    {
      "cell_type": "markdown",
      "metadata": {
        "id": "5P-0Hi5lqgzR"
      },
      "source": [
        "----"
      ]
    },
    {
      "cell_type": "markdown",
      "metadata": {
        "id": "tvTSWcrxqhgR"
      },
      "source": [
        "#Applying SVC instead of MultinomialNB :"
      ]
    },
    {
      "cell_type": "code",
      "execution_count": 14,
      "metadata": {
        "id": "OvRZ15mpqRnW"
      },
      "outputs": [],
      "source": [
        "from sklearn.svm import SVC\n",
        "\n",
        "text_model_SVC = Pipeline([('vc', CountVectorizer()), ('tfid',TfidfTransformer()), ('model_SVC', SVC())])"
      ]
    },
    {
      "cell_type": "code",
      "execution_count": 15,
      "metadata": {
        "id": "IUP6ScXn2_Pe"
      },
      "outputs": [],
      "source": [
        "#textdata.data - features\n",
        "#textdata.target - target\n",
        "\n",
        "text_model_SVC=text_model_SVC.fit(textdata.data, textdata.target)"
      ]
    },
    {
      "cell_type": "code",
      "execution_count": 16,
      "metadata": {
        "colab": {
          "base_uri": "https://localhost:8080/"
        },
        "id": "-QNDvom03H7w",
        "outputId": "80e08823-7c53-4c82-c471-25ea637044ac"
      },
      "outputs": [
        {
          "output_type": "execute_result",
          "data": {
            "text/plain": [
              "0.8186404673393521"
            ]
          },
          "metadata": {},
          "execution_count": 16
        }
      ],
      "source": [
        "prediction_SVC = text_model_SVC.predict(X_test.data)\n",
        "\n",
        "np.mean(prediction_SVC==X_test.target)"
      ]
    }
  ],
  "metadata": {
    "colab": {
      "name": "ML-18(SVC_TEXT).ipynb",
      "provenance": []
    },
    "kernelspec": {
      "display_name": "Python 3",
      "name": "python3"
    },
    "language_info": {
      "name": "python"
    }
  },
  "nbformat": 4,
  "nbformat_minor": 0
}