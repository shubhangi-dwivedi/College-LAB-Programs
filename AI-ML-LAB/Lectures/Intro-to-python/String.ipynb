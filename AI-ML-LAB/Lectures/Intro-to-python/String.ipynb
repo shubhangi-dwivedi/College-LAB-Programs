{
  "nbformat": 4,
  "nbformat_minor": 0,
  "metadata": {
    "colab": {
      "name": "String.ipynb",
      "provenance": []
    },
    "kernelspec": {
      "name": "python3",
      "display_name": "Python 3"
    },
    "language_info": {
      "name": "python"
    }
  },
  "cells": [
    {
      "cell_type": "code",
      "execution_count": 1,
      "metadata": {
        "colab": {
          "base_uri": "https://localhost:8080/"
        },
        "id": "pqQU-atqwa1q",
        "outputId": "8aad694f-3b68-4323-ec18-f8155a87a8e6"
      },
      "outputs": [
        {
          "output_type": "stream",
          "name": "stdout",
          "text": [
            "Banasthali Vidyapith\n",
            "<class 'str'>\n"
          ]
        }
      ],
      "source": [
        "a=\"Banasthali Vidyapith\"\n",
        "print(a)\n",
        "print(type(a))"
      ]
    },
    {
      "cell_type": "code",
      "source": [
        "print(len(a))"
      ],
      "metadata": {
        "colab": {
          "base_uri": "https://localhost:8080/"
        },
        "id": "gTnH4BYfH8lz",
        "outputId": "d808ab1e-d237-4b6b-dee7-7679245b141f"
      },
      "execution_count": 2,
      "outputs": [
        {
          "output_type": "stream",
          "name": "stdout",
          "text": [
            "20\n"
          ]
        }
      ]
    },
    {
      "cell_type": "markdown",
      "source": [
        "#Accessing single characters in the string:"
      ],
      "metadata": {
        "id": "2RXwx1YcIVTe"
      }
    },
    {
      "cell_type": "code",
      "source": [
        "print(a[1])\n",
        "print(a[0])"
      ],
      "metadata": {
        "colab": {
          "base_uri": "https://localhost:8080/"
        },
        "id": "oGfNFsAMIAag",
        "outputId": "7f868a08-b7fc-47ae-b200-0805b284e219"
      },
      "execution_count": 6,
      "outputs": [
        {
          "output_type": "stream",
          "name": "stdout",
          "text": [
            "a\n",
            "B\n"
          ]
        }
      ]
    },
    {
      "cell_type": "code",
      "source": [
        "#given end element\n",
        "print(a[-1])"
      ],
      "metadata": {
        "colab": {
          "base_uri": "https://localhost:8080/"
        },
        "id": "dYzSyeuTIFe8",
        "outputId": "324de837-cb69-4a31-d2eb-d8e29f7f8d15"
      },
      "execution_count": 4,
      "outputs": [
        {
          "output_type": "stream",
          "name": "stdout",
          "text": [
            "h\n"
          ]
        }
      ]
    },
    {
      "cell_type": "code",
      "source": [
        "print(a[-3])"
      ],
      "metadata": {
        "colab": {
          "base_uri": "https://localhost:8080/"
        },
        "id": "vs33O-WaILGU",
        "outputId": "47af0cea-b538-4402-dc1b-0427f8a64f22"
      },
      "execution_count": 5,
      "outputs": [
        {
          "output_type": "stream",
          "name": "stdout",
          "text": [
            "i\n"
          ]
        }
      ]
    },
    {
      "cell_type": "markdown",
      "source": [
        "#Accessing multiple charaters in the string:"
      ],
      "metadata": {
        "id": "y4XVea80IcHf"
      }
    },
    {
      "cell_type": "code",
      "source": [
        "#last index not included\n",
        "print(a[0:10])"
      ],
      "metadata": {
        "colab": {
          "base_uri": "https://localhost:8080/"
        },
        "id": "TcEO1UpWIRN9",
        "outputId": "26e187ee-27c9-485f-c0f4-3487173571e9"
      },
      "execution_count": 9,
      "outputs": [
        {
          "output_type": "stream",
          "name": "stdout",
          "text": [
            "Banasthali\n"
          ]
        }
      ]
    },
    {
      "cell_type": "code",
      "source": [
        "print(a[1:5])"
      ],
      "metadata": {
        "colab": {
          "base_uri": "https://localhost:8080/"
        },
        "id": "RyxFtD3oIo2x",
        "outputId": "2d3db3e0-5ed9-47db-ab9f-e9547321d0c7"
      },
      "execution_count": 8,
      "outputs": [
        {
          "output_type": "stream",
          "name": "stdout",
          "text": [
            "anas\n"
          ]
        }
      ]
    },
    {
      "cell_type": "code",
      "source": [
        "print(a[-1:-5]) #no p/p"
      ],
      "metadata": {
        "colab": {
          "base_uri": "https://localhost:8080/"
        },
        "id": "_zbjmJBFJGza",
        "outputId": "4c519a45-5939-4360-dccb-002136e6d481"
      },
      "execution_count": 11,
      "outputs": [
        {
          "output_type": "stream",
          "name": "stdout",
          "text": [
            "\n"
          ]
        }
      ]
    },
    {
      "cell_type": "code",
      "source": [
        "print(a[-5:-1])"
      ],
      "metadata": {
        "colab": {
          "base_uri": "https://localhost:8080/"
        },
        "id": "PDrey0yfI8jr",
        "outputId": "a3c73522-fae9-4bc6-a633-504bc8b85f93"
      },
      "execution_count": 10,
      "outputs": [
        {
          "output_type": "stream",
          "name": "stdout",
          "text": [
            "apit\n"
          ]
        }
      ]
    },
    {
      "cell_type": "code",
      "source": [
        "#print from beginning till 10, 10(excluded)\n",
        "print(a[:10])"
      ],
      "metadata": {
        "colab": {
          "base_uri": "https://localhost:8080/"
        },
        "id": "tDXrHa9kJWeW",
        "outputId": "86bb2647-b7c7-4633-9600-2a7757180680"
      },
      "execution_count": 13,
      "outputs": [
        {
          "output_type": "stream",
          "name": "stdout",
          "text": [
            "Banasthali\n"
          ]
        }
      ]
    },
    {
      "cell_type": "code",
      "source": [
        "#from 10 till end index\n",
        "print(a[10:])"
      ],
      "metadata": {
        "colab": {
          "base_uri": "https://localhost:8080/"
        },
        "id": "oWSvRsPGJgkN",
        "outputId": "6cae5850-4733-4961-e5f0-8c34f408693f"
      },
      "execution_count": 14,
      "outputs": [
        {
          "output_type": "stream",
          "name": "stdout",
          "text": [
            " Vidyapith\n"
          ]
        }
      ]
    },
    {
      "cell_type": "markdown",
      "source": [
        "#For reversing the string"
      ],
      "metadata": {
        "id": "6c2Uub8dJL_Y"
      }
    },
    {
      "cell_type": "code",
      "source": [
        "print(a[::-1])"
      ],
      "metadata": {
        "colab": {
          "base_uri": "https://localhost:8080/"
        },
        "id": "68i7yBawJOR0",
        "outputId": "5d1ec5cb-b1c7-45d1-cd1e-f448f7cdf3c6"
      },
      "execution_count": 12,
      "outputs": [
        {
          "output_type": "stream",
          "name": "stdout",
          "text": [
            "htipaydiV ilahtsanaB\n"
          ]
        }
      ]
    },
    {
      "cell_type": "code",
      "source": [
        "print(a[::-2])"
      ],
      "metadata": {
        "colab": {
          "base_uri": "https://localhost:8080/"
        },
        "id": "rTt2XkdrJxMz",
        "outputId": "f70f9131-2f81-4b97-e7df-c21aaf0f27ba"
      },
      "execution_count": 15,
      "outputs": [
        {
          "output_type": "stream",
          "name": "stdout",
          "text": [
            "hiadViataa\n"
          ]
        }
      ]
    }
  ]
}