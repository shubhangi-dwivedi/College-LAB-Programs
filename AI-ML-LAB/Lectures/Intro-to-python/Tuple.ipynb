{
  "nbformat": 4,
  "nbformat_minor": 0,
  "metadata": {
    "colab": {
      "name": "Tuple.ipynb",
      "provenance": [],
      "collapsed_sections": []
    },
    "kernelspec": {
      "name": "python3",
      "display_name": "Python 3"
    },
    "language_info": {
      "name": "python"
    }
  },
  "cells": [
    {
      "cell_type": "markdown",
      "source": [
        "#Tuple:\n",
        "1. it is ordered (like array it maintains index) (has indexing, starting from 0)\n",
        "2. It is not mutable(changeable).\n",
        "3. It allows duplicate values."
      ],
      "metadata": {
        "id": "kwIrZXv8c3dL"
      }
    },
    {
      "cell_type": "markdown",
      "source": [
        "#Difference b/w list and tuple:\n",
        "\n",
        "*   List :\n",
        "1.  it is mutable.\n",
        "\n",
        "*   Tuple :\n",
        "1. It is not mutable.\n",
        "\n",
        "If we want to change something in tuple, then first we have to convert tuple into list to do so.\n"
      ],
      "metadata": {
        "id": "Vimt-xEHc52l"
      }
    },
    {
      "cell_type": "code",
      "execution_count": 15,
      "metadata": {
        "colab": {
          "base_uri": "https://localhost:8080/"
        },
        "id": "kauIgfFgcNX-",
        "outputId": "856c2cdd-bec5-4110-d2cc-80f929aa04a6"
      },
      "outputs": [
        {
          "output_type": "execute_result",
          "data": {
            "text/plain": [
              "('dgsj', 'abd', 1, True, 'pqr', 4)"
            ]
          },
          "metadata": {},
          "execution_count": 15
        }
      ],
      "source": [
        "tuple1=('dgsj','abd',1,True,'pqr',4)\n",
        "tuple1"
      ]
    },
    {
      "cell_type": "markdown",
      "source": [
        "#Accesing tuple elements using index : \n",
        "\n",
        "Note: all list methods can be used"
      ],
      "metadata": {
        "id": "UBl-0hvGgkXv"
      }
    },
    {
      "cell_type": "code",
      "source": [
        "print(tuple1[1])"
      ],
      "metadata": {
        "colab": {
          "base_uri": "https://localhost:8080/"
        },
        "id": "_Qh7kSlne0vI",
        "outputId": "7ff8d860-0099-4add-c6b3-8606b77e398a"
      },
      "execution_count": 4,
      "outputs": [
        {
          "output_type": "stream",
          "name": "stdout",
          "text": [
            "abd\n"
          ]
        }
      ]
    },
    {
      "cell_type": "code",
      "source": [
        "print(tuple1[-2])"
      ],
      "metadata": {
        "colab": {
          "base_uri": "https://localhost:8080/"
        },
        "id": "j9jIZDsXgSxt",
        "outputId": "8c8e9f51-6aef-4c1b-f097-33845a2ffb01"
      },
      "execution_count": 3,
      "outputs": [
        {
          "output_type": "stream",
          "name": "stdout",
          "text": [
            "pqr\n"
          ]
        }
      ]
    },
    {
      "cell_type": "markdown",
      "source": [
        "#Printing tuple in reverse :"
      ],
      "metadata": {
        "id": "Km_6Ov1Kgo1O"
      }
    },
    {
      "cell_type": "code",
      "source": [
        "print(tuple1[::-1])"
      ],
      "metadata": {
        "colab": {
          "base_uri": "https://localhost:8080/"
        },
        "id": "AeOmQgGAgcqZ",
        "outputId": "ca608bfb-20ea-42ae-be88-b88e3b344ad4"
      },
      "execution_count": 5,
      "outputs": [
        {
          "output_type": "stream",
          "name": "stdout",
          "text": [
            "(4, 'pqr', True, 1, 'abd', 'dgsj')\n"
          ]
        }
      ]
    },
    {
      "cell_type": "markdown",
      "source": [
        "#Changing element :"
      ],
      "metadata": {
        "id": "vN76DBx1hG0a"
      }
    },
    {
      "cell_type": "code",
      "source": [
        "#it'll give error as tuple is not mutable\n",
        "tuple1[1]='banasthali'"
      ],
      "metadata": {
        "colab": {
          "base_uri": "https://localhost:8080/",
          "height": 182
        },
        "id": "soU3EbGvhLAS",
        "outputId": "cb7626b9-da3a-4c1d-acc2-8a582df77e73"
      },
      "execution_count": 6,
      "outputs": [
        {
          "output_type": "error",
          "ename": "TypeError",
          "evalue": "ignored",
          "traceback": [
            "\u001b[0;31m---------------------------------------------------------------------------\u001b[0m",
            "\u001b[0;31mTypeError\u001b[0m                                 Traceback (most recent call last)",
            "\u001b[0;32m<ipython-input-6-c52bdb852108>\u001b[0m in \u001b[0;36m<module>\u001b[0;34m()\u001b[0m\n\u001b[1;32m      1\u001b[0m \u001b[0;31m#it'll give error as tuple is not mutable\u001b[0m\u001b[0;34m\u001b[0m\u001b[0;34m\u001b[0m\u001b[0;34m\u001b[0m\u001b[0m\n\u001b[0;32m----> 2\u001b[0;31m \u001b[0mtuple1\u001b[0m\u001b[0;34m[\u001b[0m\u001b[0;36m1\u001b[0m\u001b[0;34m]\u001b[0m\u001b[0;34m=\u001b[0m\u001b[0;34m'banasthali'\u001b[0m\u001b[0;34m\u001b[0m\u001b[0;34m\u001b[0m\u001b[0m\n\u001b[0m",
            "\u001b[0;31mTypeError\u001b[0m: 'tuple' object does not support item assignment"
          ]
        }
      ]
    },
    {
      "cell_type": "markdown",
      "source": [
        "For changing element of tuple first er have to covert tuple into list :"
      ],
      "metadata": {
        "id": "71KVnAvShaqY"
      }
    },
    {
      "cell_type": "code",
      "source": [
        "list1=list(tuple1)\n",
        "print(list1)\n",
        "print(tuple1)\n",
        "\n",
        "list1[1]='banasthali'\n",
        "print(list1)\n",
        "print(tuple1)"
      ],
      "metadata": {
        "colab": {
          "base_uri": "https://localhost:8080/"
        },
        "id": "dQzBh1quhgjw",
        "outputId": "5742aa96-3743-48f7-827a-38897a74a388"
      },
      "execution_count": 16,
      "outputs": [
        {
          "output_type": "stream",
          "name": "stdout",
          "text": [
            "['dgsj', 'abd', 1, True, 'pqr', 4]\n",
            "('dgsj', 'abd', 1, True, 'pqr', 4)\n",
            "['dgsj', 'banasthali', 1, True, 'pqr', 4]\n",
            "('dgsj', 'abd', 1, True, 'pqr', 4)\n"
          ]
        }
      ]
    },
    {
      "cell_type": "markdown",
      "source": [
        "#Removing item:\n",
        "\n",
        "we'll used list1 to remove as we can't remove from tuple1"
      ],
      "metadata": {
        "id": "RWvVQCHfiBQq"
      }
    },
    {
      "cell_type": "code",
      "source": [
        "list1.remove('banasthali')\n",
        "list1"
      ],
      "metadata": {
        "colab": {
          "base_uri": "https://localhost:8080/"
        },
        "id": "UJoBjMy7iG5Q",
        "outputId": "b5a5a6dc-e211-4f5d-9d10-1adbe8c5c2f8"
      },
      "execution_count": 18,
      "outputs": [
        {
          "output_type": "execute_result",
          "data": {
            "text/plain": [
              "['dgsj', 1, True, 'pqr', 4]"
            ]
          },
          "metadata": {},
          "execution_count": 18
        }
      ]
    },
    {
      "cell_type": "markdown",
      "source": [
        "#Changing list to tuple :"
      ],
      "metadata": {
        "id": "etb1iytei6ia"
      }
    },
    {
      "cell_type": "code",
      "source": [
        "tuple2=tuple(list1)\n",
        "tuple2"
      ],
      "metadata": {
        "colab": {
          "base_uri": "https://localhost:8080/"
        },
        "id": "wurGcHuni--A",
        "outputId": "908ecbdb-b68a-43ca-d5fa-a2790eb845cc"
      },
      "execution_count": 19,
      "outputs": [
        {
          "output_type": "execute_result",
          "data": {
            "text/plain": [
              "('dgsj', 1, True, 'pqr', 4)"
            ]
          },
          "metadata": {},
          "execution_count": 19
        }
      ]
    },
    {
      "cell_type": "markdown",
      "source": [
        "#Deleting tuple :"
      ],
      "metadata": {
        "id": "lMmiysMmiVxc"
      }
    },
    {
      "cell_type": "code",
      "source": [
        "del tuple1"
      ],
      "metadata": {
        "id": "RGivSsxTiYfC"
      },
      "execution_count": 12,
      "outputs": []
    },
    {
      "cell_type": "code",
      "source": [
        "tuple1"
      ],
      "metadata": {
        "colab": {
          "base_uri": "https://localhost:8080/",
          "height": 165
        },
        "id": "K8VB1OZ8iapi",
        "outputId": "b06cba07-7149-4c14-94f4-430a67b9e1b8"
      },
      "execution_count": 13,
      "outputs": [
        {
          "output_type": "error",
          "ename": "NameError",
          "evalue": "ignored",
          "traceback": [
            "\u001b[0;31m---------------------------------------------------------------------------\u001b[0m",
            "\u001b[0;31mNameError\u001b[0m                                 Traceback (most recent call last)",
            "\u001b[0;32m<ipython-input-13-a2c9a38cd5f1>\u001b[0m in \u001b[0;36m<module>\u001b[0;34m()\u001b[0m\n\u001b[0;32m----> 1\u001b[0;31m \u001b[0mtuple1\u001b[0m\u001b[0;34m\u001b[0m\u001b[0;34m\u001b[0m\u001b[0m\n\u001b[0m",
            "\u001b[0;31mNameError\u001b[0m: name 'tuple1' is not defined"
          ]
        }
      ]
    },
    {
      "cell_type": "markdown",
      "source": [
        "#We can implement all List methods for tuple "
      ],
      "metadata": {
        "id": "ifdNbWfcii7H"
      }
    },
    {
      "cell_type": "markdown",
      "source": [
        "#-> We use tuple so that our data can't be altered by anyone or us"
      ],
      "metadata": {
        "id": "kOTR8OFkjN5N"
      }
    }
  ]
}