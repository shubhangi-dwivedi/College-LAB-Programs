{
  "nbformat": 4,
  "nbformat_minor": 0,
  "metadata": {
    "colab": {
      "name": "Basics.ipynb",
      "provenance": [],
      "collapsed_sections": []
    },
    "kernelspec": {
      "name": "python3",
      "display_name": "Python 3"
    },
    "language_info": {
      "name": "python"
    }
  },
  "cells": [
    {
      "cell_type": "code",
      "execution_count": 25,
      "metadata": {
        "colab": {
          "base_uri": "https://localhost:8080/"
        },
        "id": "DH7DO89ZYZmR",
        "outputId": "24a4295f-46c3-4260-d954-296d54d2812c"
      },
      "outputs": [
        {
          "output_type": "stream",
          "name": "stdout",
          "text": [
            "Hello, world\n",
            "Hello, world\n"
          ]
        }
      ],
      "source": [
        "print('Hello, world')\n",
        "print(\"Hello, world\")"
      ]
    },
    {
      "cell_type": "code",
      "source": [
        "#comment using #\n",
        "#single line comment"
      ],
      "metadata": {
        "id": "Pln4r0JmaZDI"
      },
      "execution_count": 26,
      "outputs": []
    },
    {
      "cell_type": "code",
      "source": [
        "\"\"\"multi\n",
        "line\n",
        "comment\n",
        "print(\"hello\")\n",
        "\"\"\"\n"
      ],
      "metadata": {
        "colab": {
          "base_uri": "https://localhost:8080/",
          "height": 35
        },
        "id": "RSg3peaqak-L",
        "outputId": "d08dc0c6-b080-463a-9534-3c1a3e32c969"
      },
      "execution_count": 27,
      "outputs": [
        {
          "output_type": "execute_result",
          "data": {
            "application/vnd.google.colaboratory.intrinsic+json": {
              "type": "string"
            },
            "text/plain": [
              "'multi\\nline\\ncomment\\nprint(\"hello\")\\n'"
            ]
          },
          "metadata": {},
          "execution_count": 27
        }
      ]
    },
    {
      "cell_type": "code",
      "source": [
        "#variable\n",
        "#no need to specify data type\n",
        "a=5.0\n",
        "b=10\n",
        "c='bansthali'\n",
        "\n",
        "#type() used to know the data type of variable\n",
        "print(type(a))\n",
        "print(type(b))\n",
        "print(type(c))"
      ],
      "metadata": {
        "colab": {
          "base_uri": "https://localhost:8080/"
        },
        "id": "D9vbVeVAa2Z7",
        "outputId": "9548114c-cbfb-4731-ba0c-980ad027ed83"
      },
      "execution_count": 28,
      "outputs": [
        {
          "output_type": "stream",
          "name": "stdout",
          "text": [
            "<class 'float'>\n",
            "<class 'int'>\n",
            "<class 'str'>\n"
          ]
        }
      ]
    },
    {
      "cell_type": "code",
      "source": [
        "#for taking input from the user\n",
        "n=input(\"Enter a no. : \")\n",
        "n=n*2\n",
        "n #we can print single variable with out print()\n",
        "#if we input 10 o/p is 1010 bcz. when we take input it is by-deafult considered of string type"
      ],
      "metadata": {
        "colab": {
          "base_uri": "https://localhost:8080/",
          "height": 53
        },
        "id": "Hhcicq_mbz8K",
        "outputId": "a544faae-ab5f-468f-a9a9-2f3d8febd72d"
      },
      "execution_count": 29,
      "outputs": [
        {
          "name": "stdout",
          "output_type": "stream",
          "text": [
            "Enter a no. : 10\n"
          ]
        },
        {
          "output_type": "execute_result",
          "data": {
            "application/vnd.google.colaboratory.intrinsic+json": {
              "type": "string"
            },
            "text/plain": [
              "'1010'"
            ]
          },
          "metadata": {},
          "execution_count": 29
        }
      ]
    },
    {
      "cell_type": "code",
      "source": [
        "print(type(n))"
      ],
      "metadata": {
        "colab": {
          "base_uri": "https://localhost:8080/"
        },
        "id": "Txr-LMrtcvk0",
        "outputId": "8b344fa3-5297-43d1-e00c-722cd41317b5"
      },
      "execution_count": 30,
      "outputs": [
        {
          "output_type": "stream",
          "name": "stdout",
          "text": [
            "<class 'str'>\n"
          ]
        }
      ]
    },
    {
      "cell_type": "code",
      "source": [
        "#typecasting string to integer\n",
        "n=int(n)*2\n",
        "n"
      ],
      "metadata": {
        "colab": {
          "base_uri": "https://localhost:8080/"
        },
        "id": "JBkeM002c2me",
        "outputId": "1b6a9b86-44fd-4140-a2f7-46ec044b77e0"
      },
      "execution_count": 31,
      "outputs": [
        {
          "output_type": "execute_result",
          "data": {
            "text/plain": [
              "2020"
            ]
          },
          "metadata": {},
          "execution_count": 31
        }
      ]
    },
    {
      "cell_type": "markdown",
      "source": [
        "Python is a case sensitive language"
      ],
      "metadata": {
        "id": "llI4S6Q9nKfK"
      }
    },
    {
      "cell_type": "code",
      "source": [
        "_abc=0  #valid name\n",
        "ab9=10  #valid name\n",
        "ab_45=11  #valid name\n",
        "_4abc=6  #valid name\n",
        "8abc=7  #invalid name bcz. variable name can't start with a digit"
      ],
      "metadata": {
        "colab": {
          "base_uri": "https://localhost:8080/",
          "height": 130
        },
        "id": "3EqrWZPonI3R",
        "outputId": "4561596f-0a44-48b6-f210-aa0bafee3dae"
      },
      "execution_count": 32,
      "outputs": [
        {
          "output_type": "error",
          "ename": "SyntaxError",
          "evalue": "ignored",
          "traceback": [
            "\u001b[0;36m  File \u001b[0;32m\"<ipython-input-32-cb4535e180c4>\"\u001b[0;36m, line \u001b[0;32m5\u001b[0m\n\u001b[0;31m    8abc=7  #invalid name bcz. variable name can't start with a digit\u001b[0m\n\u001b[0m       ^\u001b[0m\n\u001b[0;31mSyntaxError\u001b[0m\u001b[0;31m:\u001b[0m invalid syntax\n"
          ]
        }
      ]
    },
    {
      "cell_type": "markdown",
      "source": [
        "#-> Indentation\n",
        "\n",
        "Instead of {} for block we use indentation."
      ],
      "metadata": {
        "id": "RKch3LX7nsAU"
      }
    },
    {
      "cell_type": "markdown",
      "source": [
        "\n",
        "\n",
        "*   if condition\n",
        "\n"
      ],
      "metadata": {
        "id": "1_p5YaJPpqNa"
      }
    },
    {
      "cell_type": "code",
      "source": [
        "i=4\n",
        "#range is an in-built function in python, take 3 parameters : start, end(excluded), increment/decrement/multi.divide etc.\n",
        "if i in range(1,20,1):\n",
        "  print(i)"
      ],
      "metadata": {
        "colab": {
          "base_uri": "https://localhost:8080/"
        },
        "id": "nG6xdI0dniq0",
        "outputId": "a4fbc774-5f7b-4b1a-9e03-05c4397524fe"
      },
      "execution_count": 33,
      "outputs": [
        {
          "output_type": "stream",
          "name": "stdout",
          "text": [
            "4\n"
          ]
        }
      ]
    },
    {
      "cell_type": "code",
      "source": [
        "x=10\n",
        "if x>=10:\n",
        "  print(x)"
      ],
      "metadata": {
        "colab": {
          "base_uri": "https://localhost:8080/"
        },
        "id": "42pyYmJvoWQ8",
        "outputId": "7130c9d3-1052-4068-a3b4-d9dde86fe625"
      },
      "execution_count": 34,
      "outputs": [
        {
          "output_type": "stream",
          "name": "stdout",
          "text": [
            "10\n"
          ]
        }
      ]
    },
    {
      "cell_type": "code",
      "source": [
        "if(x>5):\n",
        "  print(\"Hello\")\n",
        "  print(x)\n",
        "  print(\"bye\")"
      ],
      "metadata": {
        "colab": {
          "base_uri": "https://localhost:8080/"
        },
        "id": "j225uqnFoeuP",
        "outputId": "14b14f25-597e-4501-addd-989f373408bb"
      },
      "execution_count": 35,
      "outputs": [
        {
          "output_type": "stream",
          "name": "stdout",
          "text": [
            "Hello\n",
            "10\n",
            "bye\n"
          ]
        }
      ]
    },
    {
      "cell_type": "code",
      "source": [
        "if(x<5):\n",
        "  print(\"Hello\")\n",
        "  print(x)\n",
        "  print(\"bye\")\n",
        "print(\"not included in if\")"
      ],
      "metadata": {
        "colab": {
          "base_uri": "https://localhost:8080/"
        },
        "id": "-wLj6hnNo31w",
        "outputId": "7412802c-4f2e-418e-826f-bf44d26b5896"
      },
      "execution_count": 36,
      "outputs": [
        {
          "output_type": "stream",
          "name": "stdout",
          "text": [
            "not included in if\n"
          ]
        }
      ]
    },
    {
      "cell_type": "code",
      "source": [
        "#multi line comment\n",
        "if(x>5):\n",
        "  \"\"\"print(\"Hello\")\n",
        "  print(x)\n",
        "  print(\"bye\")\"\"\"\n",
        "print(\"Yoo\")"
      ],
      "metadata": {
        "colab": {
          "base_uri": "https://localhost:8080/"
        },
        "id": "bBkTOdPEpC1c",
        "outputId": "a0cab1e8-fcfc-4955-8303-d5dc5acc7fa3"
      },
      "execution_count": 37,
      "outputs": [
        {
          "output_type": "stream",
          "name": "stdout",
          "text": [
            "Yoo\n"
          ]
        }
      ]
    },
    {
      "cell_type": "markdown",
      "source": [
        "\n",
        "\n",
        "*   if-else\n",
        "\n"
      ],
      "metadata": {
        "id": "DqcC83gnrlkX"
      }
    },
    {
      "cell_type": "code",
      "source": [
        "y=11\n",
        "if y<11:\n",
        "  print(y)\n",
        "else:\n",
        "  print(\"hi\")"
      ],
      "metadata": {
        "colab": {
          "base_uri": "https://localhost:8080/"
        },
        "id": "oQJaMRgvroGc",
        "outputId": "589df9a7-df08-46e9-d1a7-86e8a514f927"
      },
      "execution_count": 50,
      "outputs": [
        {
          "output_type": "stream",
          "name": "stdout",
          "text": [
            "hi\n"
          ]
        }
      ]
    },
    {
      "cell_type": "markdown",
      "source": [
        "\n",
        "\n",
        "*   if-elif-else\n",
        "\n"
      ],
      "metadata": {
        "id": "dWnJIAZgrrFA"
      }
    },
    {
      "cell_type": "code",
      "source": [
        "if y<11:\n",
        "  print(y)\n",
        "elif y==11:\n",
        "  print(\"equal\")\n",
        "elif y>100:\n",
        "  print(\"greater than 100\")\n",
        "else:\n",
        "  print(\"bye\")"
      ],
      "metadata": {
        "colab": {
          "base_uri": "https://localhost:8080/"
        },
        "id": "sPkgJLSNrvI2",
        "outputId": "af8e5589-4e7b-4abf-b78d-1c2def29daec"
      },
      "execution_count": 51,
      "outputs": [
        {
          "output_type": "stream",
          "name": "stdout",
          "text": [
            "equal\n"
          ]
        }
      ]
    },
    {
      "cell_type": "markdown",
      "source": [
        "\n",
        "\n",
        "*   For loop\n"
      ],
      "metadata": {
        "id": "0-C7dwE3plJo"
      }
    },
    {
      "cell_type": "code",
      "source": [
        "for i in range (1,20,1):\n",
        "  print(i)"
      ],
      "metadata": {
        "colab": {
          "base_uri": "https://localhost:8080/"
        },
        "id": "gjTA7glBpZsh",
        "outputId": "93e2d69d-4a44-434a-c987-7d5b41397f47"
      },
      "execution_count": 38,
      "outputs": [
        {
          "output_type": "stream",
          "name": "stdout",
          "text": [
            "1\n",
            "2\n",
            "3\n",
            "4\n",
            "5\n",
            "6\n",
            "7\n",
            "8\n",
            "9\n",
            "10\n",
            "11\n",
            "12\n",
            "13\n",
            "14\n",
            "15\n",
            "16\n",
            "17\n",
            "18\n",
            "19\n"
          ]
        }
      ]
    },
    {
      "cell_type": "code",
      "source": [
        "for i in range (1,20,3):\n",
        "  print(i)"
      ],
      "metadata": {
        "colab": {
          "base_uri": "https://localhost:8080/"
        },
        "id": "IeRarMjmpwrv",
        "outputId": "5cc6a934-0480-4c9b-be1a-904efd7054bf"
      },
      "execution_count": 39,
      "outputs": [
        {
          "output_type": "stream",
          "name": "stdout",
          "text": [
            "1\n",
            "4\n",
            "7\n",
            "10\n",
            "13\n",
            "16\n",
            "19\n"
          ]
        }
      ]
    },
    {
      "cell_type": "code",
      "source": [
        "for i in range (20,1,-3):\n",
        "  print(i)"
      ],
      "metadata": {
        "colab": {
          "base_uri": "https://localhost:8080/"
        },
        "id": "4Zbof4ropzLJ",
        "outputId": "72633762-b99a-477f-b9ed-cf955fe5b1ad"
      },
      "execution_count": 40,
      "outputs": [
        {
          "output_type": "stream",
          "name": "stdout",
          "text": [
            "20\n",
            "17\n",
            "14\n",
            "11\n",
            "8\n",
            "5\n",
            "2\n"
          ]
        }
      ]
    },
    {
      "cell_type": "code",
      "source": [
        "for i in range (20,0,-1):\n",
        "  print(i)"
      ],
      "metadata": {
        "colab": {
          "base_uri": "https://localhost:8080/"
        },
        "id": "hkdTM0Pup3GB",
        "outputId": "63a9d651-ce5a-47eb-e102-afc7135d965f"
      },
      "execution_count": 41,
      "outputs": [
        {
          "output_type": "stream",
          "name": "stdout",
          "text": [
            "20\n",
            "19\n",
            "18\n",
            "17\n",
            "16\n",
            "15\n",
            "14\n",
            "13\n",
            "12\n",
            "11\n",
            "10\n",
            "9\n",
            "8\n",
            "7\n",
            "6\n",
            "5\n",
            "4\n",
            "3\n",
            "2\n",
            "1\n"
          ]
        }
      ]
    },
    {
      "cell_type": "markdown",
      "source": [
        "\n",
        "\n",
        "*   While loop"
      ],
      "metadata": {
        "id": "TqBmmAXzp_9B"
      }
    },
    {
      "cell_type": "code",
      "source": [
        "i=20\n",
        "while i>0:\n",
        "  print(i)\n",
        "  i-=1"
      ],
      "metadata": {
        "colab": {
          "base_uri": "https://localhost:8080/"
        },
        "id": "hd5czxtkp_eG",
        "outputId": "30485aaf-3081-4e65-d999-70d748a89133"
      },
      "execution_count": 42,
      "outputs": [
        {
          "output_type": "stream",
          "name": "stdout",
          "text": [
            "20\n",
            "19\n",
            "18\n",
            "17\n",
            "16\n",
            "15\n",
            "14\n",
            "13\n",
            "12\n",
            "11\n",
            "10\n",
            "9\n",
            "8\n",
            "7\n",
            "6\n",
            "5\n",
            "4\n",
            "3\n",
            "2\n",
            "1\n"
          ]
        }
      ]
    },
    {
      "cell_type": "markdown",
      "source": [
        "#-> Arithmetic operations"
      ],
      "metadata": {
        "id": "K8tHqQHxsi8O"
      }
    },
    {
      "cell_type": "code",
      "source": [
        "#prints decimal also\n",
        "n=5/2\n",
        "n"
      ],
      "metadata": {
        "colab": {
          "base_uri": "https://localhost:8080/"
        },
        "id": "4D2NBFW6sVJQ",
        "outputId": "6ae2c890-f76d-41dd-f7fa-207fcbb88d1f"
      },
      "execution_count": 52,
      "outputs": [
        {
          "output_type": "execute_result",
          "data": {
            "text/plain": [
              "2.5"
            ]
          },
          "metadata": {},
          "execution_count": 52
        }
      ]
    },
    {
      "cell_type": "code",
      "source": [
        "n=4/2\n",
        "n"
      ],
      "metadata": {
        "colab": {
          "base_uri": "https://localhost:8080/"
        },
        "id": "OSMVV53wswOe",
        "outputId": "c23905f4-57b4-40df-c978-869e2399f4ae"
      },
      "execution_count": 54,
      "outputs": [
        {
          "output_type": "execute_result",
          "data": {
            "text/plain": [
              "2.0"
            ]
          },
          "metadata": {},
          "execution_count": 54
        }
      ]
    },
    {
      "cell_type": "code",
      "source": [
        "#print interger\n",
        "n=5//2\n",
        "n"
      ],
      "metadata": {
        "colab": {
          "base_uri": "https://localhost:8080/"
        },
        "id": "xRQstp7Vsr6h",
        "outputId": "a27bbc62-567f-4323-fdee-3b8748b9fc51"
      },
      "execution_count": 53,
      "outputs": [
        {
          "output_type": "execute_result",
          "data": {
            "text/plain": [
              "2"
            ]
          },
          "metadata": {},
          "execution_count": 53
        }
      ]
    },
    {
      "cell_type": "code",
      "source": [
        "n=4//2\n",
        "n"
      ],
      "metadata": {
        "colab": {
          "base_uri": "https://localhost:8080/"
        },
        "id": "74cO_qSms3mc",
        "outputId": "62b0ec17-401b-4918-c8a9-f60bcf6cec17"
      },
      "execution_count": 55,
      "outputs": [
        {
          "output_type": "execute_result",
          "data": {
            "text/plain": [
              "2"
            ]
          },
          "metadata": {},
          "execution_count": 55
        }
      ]
    },
    {
      "cell_type": "code",
      "source": [
        "n=3+2\n",
        "n"
      ],
      "metadata": {
        "colab": {
          "base_uri": "https://localhost:8080/"
        },
        "id": "IUaPoLrGs6PN",
        "outputId": "868ea3af-f199-45e4-8063-caa7393679f1"
      },
      "execution_count": 57,
      "outputs": [
        {
          "output_type": "execute_result",
          "data": {
            "text/plain": [
              "5"
            ]
          },
          "metadata": {},
          "execution_count": 57
        }
      ]
    },
    {
      "cell_type": "code",
      "source": [
        "n=3-2\n",
        "n"
      ],
      "metadata": {
        "colab": {
          "base_uri": "https://localhost:8080/"
        },
        "id": "nmJD_roxs9S4",
        "outputId": "56a10855-f5ca-4683-a5bf-14408f13a534"
      },
      "execution_count": 58,
      "outputs": [
        {
          "output_type": "execute_result",
          "data": {
            "text/plain": [
              "1"
            ]
          },
          "metadata": {},
          "execution_count": 58
        }
      ]
    },
    {
      "cell_type": "code",
      "source": [
        "#multiplication\n",
        "n=6*2\n",
        "n"
      ],
      "metadata": {
        "colab": {
          "base_uri": "https://localhost:8080/"
        },
        "id": "NMtbBWXLs_KF",
        "outputId": "c620716c-bfa8-4370-ff47-ac7ad2524402"
      },
      "execution_count": 59,
      "outputs": [
        {
          "output_type": "execute_result",
          "data": {
            "text/plain": [
              "12"
            ]
          },
          "metadata": {},
          "execution_count": 59
        }
      ]
    },
    {
      "cell_type": "code",
      "source": [
        "#power\n",
        "n=6**2\n",
        "n"
      ],
      "metadata": {
        "colab": {
          "base_uri": "https://localhost:8080/"
        },
        "id": "WhfgMNNctBt0",
        "outputId": "6dbb14ef-1223-4d7c-cf8d-d7aa7966f600"
      },
      "execution_count": 60,
      "outputs": [
        {
          "output_type": "execute_result",
          "data": {
            "text/plain": [
              "36"
            ]
          },
          "metadata": {},
          "execution_count": 60
        }
      ]
    },
    {
      "cell_type": "code",
      "source": [
        "n=5**3\n",
        "n"
      ],
      "metadata": {
        "colab": {
          "base_uri": "https://localhost:8080/"
        },
        "id": "ZZxjtbzVtIww",
        "outputId": "6254fe91-a681-49a4-d55d-53d293102ab0"
      },
      "execution_count": 62,
      "outputs": [
        {
          "output_type": "execute_result",
          "data": {
            "text/plain": [
              "125"
            ]
          },
          "metadata": {},
          "execution_count": 62
        }
      ]
    },
    {
      "cell_type": "code",
      "source": [
        "#modulo\n",
        "n=11%10\n",
        "n"
      ],
      "metadata": {
        "colab": {
          "base_uri": "https://localhost:8080/"
        },
        "id": "IICQ3Vv5tOQd",
        "outputId": "8a6c4d5b-64f9-42f0-8fa3-3c12ef4fea86"
      },
      "execution_count": 63,
      "outputs": [
        {
          "output_type": "execute_result",
          "data": {
            "text/plain": [
              "1"
            ]
          },
          "metadata": {},
          "execution_count": 63
        }
      ]
    },
    {
      "cell_type": "code",
      "source": [
        "n=5%5\n",
        "n"
      ],
      "metadata": {
        "colab": {
          "base_uri": "https://localhost:8080/"
        },
        "id": "aQsTuZ2_tXOK",
        "outputId": "0d93696a-cdc4-4962-e6b1-e25739e0c8ee"
      },
      "execution_count": 64,
      "outputs": [
        {
          "output_type": "execute_result",
          "data": {
            "text/plain": [
              "0"
            ]
          },
          "metadata": {},
          "execution_count": 64
        }
      ]
    },
    {
      "cell_type": "code",
      "source": [
        "print(7//3)"
      ],
      "metadata": {
        "colab": {
          "base_uri": "https://localhost:8080/"
        },
        "id": "Tj19avvjtapr",
        "outputId": "4e4fc172-4b3b-45cb-fc04-07037c62369f"
      },
      "execution_count": 65,
      "outputs": [
        {
          "output_type": "stream",
          "name": "stdout",
          "text": [
            "2\n"
          ]
        }
      ]
    },
    {
      "cell_type": "markdown",
      "source": [
        "#Data types in python:\n",
        "1. text data type is str\n",
        "2. numeric data type is int, float, complex etc.\n",
        "3. sequence datatype(wants to store multiple data) : list, tuple, range, set, dict, map\n",
        "4. boolean type: 0/1, true/false\n",
        "5. binary type : byte-array\n",
        "\n",
        "Note : we don't have builtin support for array in python. If we want to use array we'll have to use Numpy to import it. \n"
      ],
      "metadata": {
        "id": "yvrrZ8rYt1ek"
      }
    }
  ]
}