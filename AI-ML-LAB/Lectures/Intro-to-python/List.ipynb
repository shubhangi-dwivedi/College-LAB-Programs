{
  "nbformat": 4,
  "nbformat_minor": 0,
  "metadata": {
    "colab": {
      "name": "List.ipynb",
      "provenance": []
    },
    "kernelspec": {
      "name": "python3",
      "display_name": "Python 3"
    },
    "language_info": {
      "name": "python"
    }
  },
  "cells": [
    {
      "cell_type": "markdown",
      "source": [
        "#List : Stores multiple items in a single variable"
      ],
      "metadata": {
        "id": "DQRuQeC94-Uk"
      }
    },
    {
      "cell_type": "markdown",
      "source": [
        "#-> Characteristics of List:\n",
        "1. it is ordered (like array it maintains index) (has indexing, starting from 0)\n",
        "2. It is mutable(changeable). We can add, update, change or remove any item from the list.\n",
        "3. It allows duplicate values."
      ],
      "metadata": {
        "id": "M7T200VY5LKm"
      }
    },
    {
      "cell_type": "markdown",
      "source": [
        "#Defining/creating a list"
      ],
      "metadata": {
        "id": "_N5lYrX36gio"
      }
    },
    {
      "cell_type": "markdown",
      "source": [
        "1. Method-1"
      ],
      "metadata": {
        "id": "VIgtYXCi6luO"
      }
    },
    {
      "cell_type": "code",
      "execution_count": 71,
      "metadata": {
        "colab": {
          "base_uri": "https://localhost:8080/"
        },
        "id": "T63I69aW4LMK",
        "outputId": "0c8aee48-0bda-4b5c-f96d-ea84a204e528"
      },
      "outputs": [
        {
          "output_type": "execute_result",
          "data": {
            "text/plain": [
              "['abc', 'ghj', 1, 'xyz']"
            ]
          },
          "metadata": {},
          "execution_count": 71
        }
      ],
      "source": [
        "list1=['abc', \"ghj\", 1, 'xyz']\n",
        "list1"
      ]
    },
    {
      "cell_type": "code",
      "source": [
        "list3=['abc',1,2,3,True,False]\n",
        "list3"
      ],
      "metadata": {
        "colab": {
          "base_uri": "https://localhost:8080/"
        },
        "id": "VZAfR2-O3jYT",
        "outputId": "7ec18312-6471-4581-be3d-65e3fa7762f8"
      },
      "execution_count": 72,
      "outputs": [
        {
          "output_type": "execute_result",
          "data": {
            "text/plain": [
              "['abc', 1, 2, 3, True, False]"
            ]
          },
          "metadata": {},
          "execution_count": 72
        }
      ]
    },
    {
      "cell_type": "markdown",
      "source": [
        "2. Method-2\n",
        "\n",
        "We can use a list constructor provided by python names as list to create a list"
      ],
      "metadata": {
        "id": "SFi8I1ZM6pqN"
      }
    },
    {
      "cell_type": "code",
      "source": [
        "list2=list((1,2,3,4,5))\n",
        "list2"
      ],
      "metadata": {
        "colab": {
          "base_uri": "https://localhost:8080/"
        },
        "id": "4Bfd-QRm6KWa",
        "outputId": "27de98db-69d2-410b-fb13-d2bdc8aa185a"
      },
      "execution_count": 73,
      "outputs": [
        {
          "output_type": "execute_result",
          "data": {
            "text/plain": [
              "[1, 2, 3, 4, 5]"
            ]
          },
          "metadata": {},
          "execution_count": 73
        }
      ]
    },
    {
      "cell_type": "markdown",
      "source": [
        "#-> Methods for ordered characteristics of List :"
      ],
      "metadata": {
        "id": "m4ggM4Pu43UU"
      }
    },
    {
      "cell_type": "markdown",
      "source": [
        "#Accessing an element using index : "
      ],
      "metadata": {
        "id": "tNMOrkKo3yWI"
      }
    },
    {
      "cell_type": "code",
      "source": [
        "print(list1[1])"
      ],
      "metadata": {
        "colab": {
          "base_uri": "https://localhost:8080/"
        },
        "id": "dmO9Y-SJ6awY",
        "outputId": "7fc5c34b-8e31-4087-cd77-9c730b43e001"
      },
      "execution_count": 74,
      "outputs": [
        {
          "output_type": "stream",
          "name": "stdout",
          "text": [
            "ghj\n"
          ]
        }
      ]
    },
    {
      "cell_type": "markdown",
      "source": [
        "#Accessing multiple elements using index : "
      ],
      "metadata": {
        "id": "tLhnN89l34dQ"
      }
    },
    {
      "cell_type": "code",
      "source": [
        "print(list1[1:3])"
      ],
      "metadata": {
        "colab": {
          "base_uri": "https://localhost:8080/"
        },
        "id": "MvlW5Qli3els",
        "outputId": "6bad09d4-6a98-4fa7-e43d-ea0eac439205"
      },
      "execution_count": 75,
      "outputs": [
        {
          "output_type": "stream",
          "name": "stdout",
          "text": [
            "['ghj', 1]\n"
          ]
        }
      ]
    },
    {
      "cell_type": "markdown",
      "source": [
        "#Accessing an element using reverse index : "
      ],
      "metadata": {
        "id": "JL-KiDeH4HWv"
      }
    },
    {
      "cell_type": "code",
      "source": [
        "print(list2[-1])"
      ],
      "metadata": {
        "colab": {
          "base_uri": "https://localhost:8080/"
        },
        "id": "ifAcjrte4Ar6",
        "outputId": "283a3f67-50cc-4405-e750-0c6e6527ed87"
      },
      "execution_count": 76,
      "outputs": [
        {
          "output_type": "stream",
          "name": "stdout",
          "text": [
            "5\n"
          ]
        }
      ]
    },
    {
      "cell_type": "markdown",
      "source": [
        "#Reverse a list :"
      ],
      "metadata": {
        "id": "RYG4HDtv4K8Z"
      }
    },
    {
      "cell_type": "code",
      "source": [
        "print(list2[::-1])"
      ],
      "metadata": {
        "colab": {
          "base_uri": "https://localhost:8080/"
        },
        "id": "faddhlmr4OPe",
        "outputId": "2afeb3f5-0de9-4844-dedd-b44953135da6"
      },
      "execution_count": 77,
      "outputs": [
        {
          "output_type": "stream",
          "name": "stdout",
          "text": [
            "[5, 4, 3, 2, 1]\n"
          ]
        }
      ]
    },
    {
      "cell_type": "markdown",
      "source": [
        "#Printing from beginning till 5th(excluded) index : "
      ],
      "metadata": {
        "id": "nUHPRNNN4gfE"
      }
    },
    {
      "cell_type": "code",
      "source": [
        "print(list3[:5])"
      ],
      "metadata": {
        "colab": {
          "base_uri": "https://localhost:8080/"
        },
        "id": "3AT-GAcG4Saj",
        "outputId": "905482ad-17c9-4813-c478-f467e82fdc82"
      },
      "execution_count": 78,
      "outputs": [
        {
          "output_type": "stream",
          "name": "stdout",
          "text": [
            "['abc', 1, 2, 3, True]\n"
          ]
        }
      ]
    },
    {
      "cell_type": "markdown",
      "source": [
        "#Printing from index 1 till end : "
      ],
      "metadata": {
        "id": "unOLtW7x4tFr"
      }
    },
    {
      "cell_type": "code",
      "source": [
        "print(list3[1:])"
      ],
      "metadata": {
        "colab": {
          "base_uri": "https://localhost:8080/"
        },
        "id": "TiAsnIjn4nNW",
        "outputId": "0e640182-5858-4b21-e09b-0bccd98b7e76"
      },
      "execution_count": 79,
      "outputs": [
        {
          "output_type": "stream",
          "name": "stdout",
          "text": [
            "[1, 2, 3, True, False]\n"
          ]
        }
      ]
    },
    {
      "cell_type": "markdown",
      "source": [
        "#-> Methods for mutable characteristics of List : "
      ],
      "metadata": {
        "id": "zo_7acxN5JNG"
      }
    },
    {
      "cell_type": "markdown",
      "source": [
        "#Changing/replacing element : "
      ],
      "metadata": {
        "id": "Xw699WSN5QTu"
      }
    },
    {
      "cell_type": "code",
      "source": [
        "print(list1)\n",
        "list1[1]='shubhangi'\n",
        "list1"
      ],
      "metadata": {
        "colab": {
          "base_uri": "https://localhost:8080/"
        },
        "id": "YnzS-XMU5VTj",
        "outputId": "f54cf013-3902-44b3-b7d0-82ffda8fad4c"
      },
      "execution_count": 80,
      "outputs": [
        {
          "output_type": "stream",
          "name": "stdout",
          "text": [
            "['abc', 'ghj', 1, 'xyz']\n"
          ]
        },
        {
          "output_type": "execute_result",
          "data": {
            "text/plain": [
              "['abc', 'shubhangi', 1, 'xyz']"
            ]
          },
          "metadata": {},
          "execution_count": 80
        }
      ]
    },
    {
      "cell_type": "markdown",
      "source": [
        "#Changing elements in a range (more than 1 item) : "
      ],
      "metadata": {
        "id": "ThXUWUoa4xeD"
      }
    },
    {
      "cell_type": "code",
      "source": [
        "print(list1)\n",
        "list1[1:3]=[7,'SHUBHANGI']\n",
        "list1"
      ],
      "metadata": {
        "colab": {
          "base_uri": "https://localhost:8080/"
        },
        "id": "rVw6apnC5lkR",
        "outputId": "43777e56-023f-4e9a-c79c-1c34100aadeb"
      },
      "execution_count": 81,
      "outputs": [
        {
          "output_type": "stream",
          "name": "stdout",
          "text": [
            "['abc', 'shubhangi', 1, 'xyz']\n"
          ]
        },
        {
          "output_type": "execute_result",
          "data": {
            "text/plain": [
              "['abc', 7, 'SHUBHANGI', 'xyz']"
            ]
          },
          "metadata": {},
          "execution_count": 81
        }
      ]
    },
    {
      "cell_type": "markdown",
      "source": [
        "# inserting an element at an index : insert(position,element)"
      ],
      "metadata": {
        "id": "5ygJLh2e50oT"
      }
    },
    {
      "cell_type": "code",
      "source": [
        "print(list1)\n",
        "list1.insert(1,'UG')\n",
        "list1"
      ],
      "metadata": {
        "colab": {
          "base_uri": "https://localhost:8080/"
        },
        "id": "ku9Kt2qO5yOE",
        "outputId": "2ad7e6df-b64d-492e-d10d-0a2d419c9802"
      },
      "execution_count": 82,
      "outputs": [
        {
          "output_type": "stream",
          "name": "stdout",
          "text": [
            "['abc', 7, 'SHUBHANGI', 'xyz']\n"
          ]
        },
        {
          "output_type": "execute_result",
          "data": {
            "text/plain": [
              "['abc', 'UG', 7, 'SHUBHANGI', 'xyz']"
            ]
          },
          "metadata": {},
          "execution_count": 82
        }
      ]
    },
    {
      "cell_type": "markdown",
      "source": [
        "#inserting more than 1 element"
      ],
      "metadata": {
        "id": "HauCp6wS6W_T"
      }
    },
    {
      "cell_type": "code",
      "source": [
        "list1.insert(0,[1,True]) #this list will be inserted at 0th position\n",
        "list1"
      ],
      "metadata": {
        "colab": {
          "base_uri": "https://localhost:8080/"
        },
        "id": "yJs1GVER6m8e",
        "outputId": "9ac5300b-091c-4354-ce00-2dcdaddc5f70"
      },
      "execution_count": 83,
      "outputs": [
        {
          "output_type": "execute_result",
          "data": {
            "text/plain": [
              "[[1, True], 'abc', 'UG', 7, 'SHUBHANGI', 'xyz']"
            ]
          },
          "metadata": {},
          "execution_count": 83
        }
      ]
    },
    {
      "cell_type": "code",
      "source": [
        "print(list1[0])"
      ],
      "metadata": {
        "colab": {
          "base_uri": "https://localhost:8080/"
        },
        "id": "T-JBjTE27GKs",
        "outputId": "1cda3973-3ee7-49d5-daa1-25a3f3c342df"
      },
      "execution_count": 84,
      "outputs": [
        {
          "output_type": "stream",
          "name": "stdout",
          "text": [
            "[1, True]\n"
          ]
        }
      ]
    },
    {
      "cell_type": "markdown",
      "source": [
        "#Inserting using append() :"
      ],
      "metadata": {
        "id": "WLmeEj4d7O1m"
      }
    },
    {
      "cell_type": "markdown",
      "source": [
        "->Diff. b/w insert and append:\n",
        "\n",
        "Append adds element at the end of the list and have only 1 parameter to pass i.e. element.\n",
        "\n",
        "Insert adds element at any position in the list and have 2 parametrs to pass i.e. position and element."
      ],
      "metadata": {
        "id": "dNA5QPB97UDp"
      }
    },
    {
      "cell_type": "code",
      "source": [
        "list1.append('student')\n",
        "list1"
      ],
      "metadata": {
        "colab": {
          "base_uri": "https://localhost:8080/"
        },
        "id": "JS3l5aM87J5n",
        "outputId": "5c92d5a3-c071-4059-d76d-a9a802536e9f"
      },
      "execution_count": 85,
      "outputs": [
        {
          "output_type": "execute_result",
          "data": {
            "text/plain": [
              "[[1, True], 'abc', 'UG', 7, 'SHUBHANGI', 'xyz', 'student']"
            ]
          },
          "metadata": {},
          "execution_count": 85
        }
      ]
    },
    {
      "cell_type": "markdown",
      "source": [
        "#Appending 1 list to another list : "
      ],
      "metadata": {
        "id": "OKEZqVAl68yM"
      }
    },
    {
      "cell_type": "code",
      "source": [
        "print(list1)\n",
        "print(list2)\n",
        "list1.extend(list2)\n",
        "print(list1)\n",
        "print(list2)"
      ],
      "metadata": {
        "colab": {
          "base_uri": "https://localhost:8080/"
        },
        "id": "g8XgngAN8D5Y",
        "outputId": "57e4bd2b-c0a8-4939-b8fb-b6811275404d"
      },
      "execution_count": 86,
      "outputs": [
        {
          "output_type": "stream",
          "name": "stdout",
          "text": [
            "[[1, True], 'abc', 'UG', 7, 'SHUBHANGI', 'xyz', 'student']\n",
            "[1, 2, 3, 4, 5]\n",
            "[[1, True], 'abc', 'UG', 7, 'SHUBHANGI', 'xyz', 'student', 1, 2, 3, 4, 5]\n",
            "[1, 2, 3, 4, 5]\n"
          ]
        }
      ]
    },
    {
      "cell_type": "markdown",
      "source": [
        "#Removing an item from the list : "
      ],
      "metadata": {
        "id": "Ux2YK8g5QXqI"
      }
    },
    {
      "cell_type": "markdown",
      "source": [
        "using remove() :"
      ],
      "metadata": {
        "id": "f8IQbLJZQjAN"
      }
    },
    {
      "cell_type": "code",
      "source": [
        "list1.remove('abc')\n",
        "list1"
      ],
      "metadata": {
        "colab": {
          "base_uri": "https://localhost:8080/"
        },
        "id": "l7YFgTj8Qcf9",
        "outputId": "cf41b6d1-a974-4043-b06b-32367de5c33c"
      },
      "execution_count": 87,
      "outputs": [
        {
          "output_type": "execute_result",
          "data": {
            "text/plain": [
              "[[1, True], 'UG', 7, 'SHUBHANGI', 'xyz', 'student', 1, 2, 3, 4, 5]"
            ]
          },
          "metadata": {},
          "execution_count": 87
        }
      ]
    },
    {
      "cell_type": "markdown",
      "source": [
        "using pop(index) :"
      ],
      "metadata": {
        "id": "Igjac_-rQmdU"
      }
    },
    {
      "cell_type": "code",
      "source": [
        "list1.pop(0)\n",
        "list1"
      ],
      "metadata": {
        "colab": {
          "base_uri": "https://localhost:8080/"
        },
        "id": "mgkqPoRXQpDX",
        "outputId": "26920a29-8e04-4bb2-8e65-d20f42f1c490"
      },
      "execution_count": 88,
      "outputs": [
        {
          "output_type": "execute_result",
          "data": {
            "text/plain": [
              "['UG', 7, 'SHUBHANGI', 'xyz', 'student', 1, 2, 3, 4, 5]"
            ]
          },
          "metadata": {},
          "execution_count": 88
        }
      ]
    },
    {
      "cell_type": "markdown",
      "source": [
        "using pop():\n",
        "\n",
        "it'll remove last item of the list"
      ],
      "metadata": {
        "id": "7I6bxVXZQvZ-"
      }
    },
    {
      "cell_type": "code",
      "source": [
        "list1.pop()\n",
        "list1"
      ],
      "metadata": {
        "colab": {
          "base_uri": "https://localhost:8080/"
        },
        "id": "wpMlefuoQz4Z",
        "outputId": "da7d1121-0816-4624-d2a6-3f494fd37755"
      },
      "execution_count": 89,
      "outputs": [
        {
          "output_type": "execute_result",
          "data": {
            "text/plain": [
              "['UG', 7, 'SHUBHANGI', 'xyz', 'student', 1, 2, 3, 4]"
            ]
          },
          "metadata": {},
          "execution_count": 89
        }
      ]
    },
    {
      "cell_type": "markdown",
      "source": [
        "#-> Duplicate items characteristic of List :"
      ],
      "metadata": {
        "id": "nsetnAiVREPX"
      }
    },
    {
      "cell_type": "code",
      "source": [
        "list4=[1,2,3,1,2,3,4]\n",
        "list4"
      ],
      "metadata": {
        "colab": {
          "base_uri": "https://localhost:8080/"
        },
        "id": "X6RXAwiyRLpz",
        "outputId": "3a02d3db-c369-4c41-b6d5-e5adf7d0085c"
      },
      "execution_count": 90,
      "outputs": [
        {
          "output_type": "execute_result",
          "data": {
            "text/plain": [
              "[1, 2, 3, 1, 2, 3, 4]"
            ]
          },
          "metadata": {},
          "execution_count": 90
        }
      ]
    },
    {
      "cell_type": "markdown",
      "source": [
        "#Deleting all the items list :"
      ],
      "metadata": {
        "id": "XNjN6kyARTjb"
      }
    },
    {
      "cell_type": "code",
      "source": [
        "list4.clear()\n",
        "list4"
      ],
      "metadata": {
        "colab": {
          "base_uri": "https://localhost:8080/"
        },
        "id": "RrPV_9o3RWXm",
        "outputId": "9ea84851-bd9c-4f6b-bb77-954eae6f30b9"
      },
      "execution_count": 91,
      "outputs": [
        {
          "output_type": "execute_result",
          "data": {
            "text/plain": [
              "[]"
            ]
          },
          "metadata": {},
          "execution_count": 91
        }
      ]
    },
    {
      "cell_type": "markdown",
      "source": [
        "#Deleting list : "
      ],
      "metadata": {
        "id": "GVoLZFL8Rbex"
      }
    },
    {
      "cell_type": "code",
      "source": [
        "del list4"
      ],
      "metadata": {
        "id": "OQk8xoHJRjtn"
      },
      "execution_count": 92,
      "outputs": []
    },
    {
      "cell_type": "code",
      "source": [
        "list4"
      ],
      "metadata": {
        "colab": {
          "base_uri": "https://localhost:8080/",
          "height": 165
        },
        "id": "s9Kt6d4NRlmt",
        "outputId": "58b6342b-9228-4ce0-d505-40c9d717abdb"
      },
      "execution_count": 93,
      "outputs": [
        {
          "output_type": "error",
          "ename": "NameError",
          "evalue": "ignored",
          "traceback": [
            "\u001b[0;31m---------------------------------------------------------------------------\u001b[0m",
            "\u001b[0;31mNameError\u001b[0m                                 Traceback (most recent call last)",
            "\u001b[0;32m<ipython-input-93-948aa0742a62>\u001b[0m in \u001b[0;36m<module>\u001b[0;34m()\u001b[0m\n\u001b[0;32m----> 1\u001b[0;31m \u001b[0mlist4\u001b[0m\u001b[0;34m\u001b[0m\u001b[0;34m\u001b[0m\u001b[0m\n\u001b[0m",
            "\u001b[0;31mNameError\u001b[0m: name 'list4' is not defined"
          ]
        }
      ]
    },
    {
      "cell_type": "markdown",
      "source": [
        "#Printing all the items of the list : "
      ],
      "metadata": {
        "id": "pf33BxcGR1B2"
      }
    },
    {
      "cell_type": "code",
      "source": [
        "for x in list1:\n",
        "  print(x)"
      ],
      "metadata": {
        "colab": {
          "base_uri": "https://localhost:8080/"
        },
        "id": "Ul2YAmzHRpVp",
        "outputId": "491d2efa-9966-4c9d-f54a-b634ba37f391"
      },
      "execution_count": 94,
      "outputs": [
        {
          "output_type": "stream",
          "name": "stdout",
          "text": [
            "UG\n",
            "7\n",
            "SHUBHANGI\n",
            "xyz\n",
            "student\n",
            "1\n",
            "2\n",
            "3\n",
            "4\n"
          ]
        }
      ]
    },
    {
      "cell_type": "markdown",
      "source": [
        "#Sorting items of the list #\n",
        "\n",
        "Note : if we have diff. data types in list then it'll give us error "
      ],
      "metadata": {
        "id": "cqxSjsX_R9Rb"
      }
    },
    {
      "cell_type": "code",
      "source": [
        "#this will give error bcz list has both string and int datatype elements\n",
        "list1.sort()\n",
        "print(list1)"
      ],
      "metadata": {
        "colab": {
          "base_uri": "https://localhost:8080/",
          "height": 200
        },
        "id": "Maolqbp9SQoI",
        "outputId": "c6d96fef-9028-434f-cb89-5c9f59b271a4"
      },
      "execution_count": 95,
      "outputs": [
        {
          "output_type": "error",
          "ename": "TypeError",
          "evalue": "ignored",
          "traceback": [
            "\u001b[0;31m---------------------------------------------------------------------------\u001b[0m",
            "\u001b[0;31mTypeError\u001b[0m                                 Traceback (most recent call last)",
            "\u001b[0;32m<ipython-input-95-8f842151bc51>\u001b[0m in \u001b[0;36m<module>\u001b[0;34m()\u001b[0m\n\u001b[1;32m      1\u001b[0m \u001b[0;31m#this will give error bcz list has both string and int datatype elements\u001b[0m\u001b[0;34m\u001b[0m\u001b[0;34m\u001b[0m\u001b[0;34m\u001b[0m\u001b[0m\n\u001b[0;32m----> 2\u001b[0;31m \u001b[0mlist1\u001b[0m\u001b[0;34m.\u001b[0m\u001b[0msort\u001b[0m\u001b[0;34m(\u001b[0m\u001b[0;34m)\u001b[0m\u001b[0;34m\u001b[0m\u001b[0;34m\u001b[0m\u001b[0m\n\u001b[0m\u001b[1;32m      3\u001b[0m \u001b[0mprint\u001b[0m\u001b[0;34m(\u001b[0m\u001b[0mlist1\u001b[0m\u001b[0;34m)\u001b[0m\u001b[0;34m\u001b[0m\u001b[0;34m\u001b[0m\u001b[0m\n",
            "\u001b[0;31mTypeError\u001b[0m: '<' not supported between instances of 'int' and 'str'"
          ]
        }
      ]
    },
    {
      "cell_type": "code",
      "source": [
        "#it'll be sorted bcz. list has onle 1 datatype i.e. string\n",
        "list4=['bcsjhdgc','pwie','abc','xyz','bcd']\n",
        "\n",
        "#sorts in ascending order\n",
        "list4.sort()\n",
        "list4"
      ],
      "metadata": {
        "colab": {
          "base_uri": "https://localhost:8080/"
        },
        "id": "0KjG_kODShdZ",
        "outputId": "18d5eeeb-b314-4428-d416-1d7f977a6e55"
      },
      "execution_count": 96,
      "outputs": [
        {
          "output_type": "execute_result",
          "data": {
            "text/plain": [
              "['abc', 'bcd', 'bcsjhdgc', 'pwie', 'xyz']"
            ]
          },
          "metadata": {},
          "execution_count": 96
        }
      ]
    },
    {
      "cell_type": "code",
      "source": [
        "#sorts in descending order\n",
        "list4.sort(reverse=True)\n",
        "list4"
      ],
      "metadata": {
        "colab": {
          "base_uri": "https://localhost:8080/"
        },
        "id": "DUCvT1KJS85k",
        "outputId": "9154cb67-b719-4a44-9256-ebfe9d6d266f"
      },
      "execution_count": 97,
      "outputs": [
        {
          "output_type": "execute_result",
          "data": {
            "text/plain": [
              "['xyz', 'pwie', 'bcsjhdgc', 'bcd', 'abc']"
            ]
          },
          "metadata": {},
          "execution_count": 97
        }
      ]
    },
    {
      "cell_type": "markdown",
      "source": [
        "#Reversing the list :"
      ],
      "metadata": {
        "id": "Nw1iPaWfTNgc"
      }
    },
    {
      "cell_type": "code",
      "source": [
        "print(list4)\n",
        "\n",
        "list4.reverse()\n",
        "list4"
      ],
      "metadata": {
        "colab": {
          "base_uri": "https://localhost:8080/"
        },
        "id": "313wg70-TSxR",
        "outputId": "6ecc6816-9028-42de-9b87-0cc0251a8974"
      },
      "execution_count": 98,
      "outputs": [
        {
          "output_type": "stream",
          "name": "stdout",
          "text": [
            "['xyz', 'pwie', 'bcsjhdgc', 'bcd', 'abc']\n"
          ]
        },
        {
          "output_type": "execute_result",
          "data": {
            "text/plain": [
              "['abc', 'bcd', 'bcsjhdgc', 'pwie', 'xyz']"
            ]
          },
          "metadata": {},
          "execution_count": 98
        }
      ]
    },
    {
      "cell_type": "markdown",
      "source": [
        "#Copying 1 list to another list :"
      ],
      "metadata": {
        "id": "qIQXjZ2UTijL"
      }
    },
    {
      "cell_type": "markdown",
      "source": [
        "using copy() : it'll create a new list"
      ],
      "metadata": {
        "id": "pIDxUNCTTm8d"
      }
    },
    {
      "cell_type": "code",
      "source": [
        "#copying all items of list4 in list5 (list5 is a new list)\n",
        "list5=list4.copy()\n",
        "print(list5)\n",
        "print(list4)"
      ],
      "metadata": {
        "colab": {
          "base_uri": "https://localhost:8080/"
        },
        "id": "Z3UtZGwuTuW7",
        "outputId": "253e48d5-2fb9-4d0b-b166-058791fce19f"
      },
      "execution_count": 99,
      "outputs": [
        {
          "output_type": "stream",
          "name": "stdout",
          "text": [
            "['abc', 'bcd', 'bcsjhdgc', 'pwie', 'xyz']\n",
            "['abc', 'bcd', 'bcsjhdgc', 'pwie', 'xyz']\n"
          ]
        }
      ]
    },
    {
      "cell_type": "markdown",
      "source": [
        "using list() : it'll copy list4 in list6 by passing list4 in list()"
      ],
      "metadata": {
        "id": "EOp7fzWgUDXq"
      }
    },
    {
      "cell_type": "code",
      "source": [
        "list6=list(list4)\n",
        "list6"
      ],
      "metadata": {
        "colab": {
          "base_uri": "https://localhost:8080/"
        },
        "id": "GvwQtSE0UAjs",
        "outputId": "032a98f8-9fc4-48a5-fc9a-425305a5a22b"
      },
      "execution_count": 100,
      "outputs": [
        {
          "output_type": "execute_result",
          "data": {
            "text/plain": [
              "['abc', 'bcd', 'bcsjhdgc', 'pwie', 'xyz']"
            ]
          },
          "metadata": {},
          "execution_count": 100
        }
      ]
    },
    {
      "cell_type": "markdown",
      "source": [
        "#Join 2 lists :"
      ],
      "metadata": {
        "id": "_DWXJiIRUW_8"
      }
    },
    {
      "cell_type": "markdown",
      "source": [
        "Methos-1 : joins/concatenate list1 and list 6 using + operator and store it in a new list(here, list7).\n",
        "\n",
        "first list1 elements will be there then list6"
      ],
      "metadata": {
        "id": "n8RhS_xEUmSw"
      }
    },
    {
      "cell_type": "code",
      "source": [
        "print(list1)\n",
        "print(list6)\n",
        "\n",
        "list7=list1+list6\n",
        "print(list1)\n",
        "print(list6)\n",
        "print(list7)"
      ],
      "metadata": {
        "colab": {
          "base_uri": "https://localhost:8080/"
        },
        "id": "imS8D76kUY_M",
        "outputId": "58f7650b-fc7e-417a-ce3d-e5931dfb16d1"
      },
      "execution_count": 101,
      "outputs": [
        {
          "output_type": "stream",
          "name": "stdout",
          "text": [
            "['UG', 7, 'SHUBHANGI', 'xyz', 'student', 1, 2, 3, 4]\n",
            "['abc', 'bcd', 'bcsjhdgc', 'pwie', 'xyz']\n",
            "['UG', 7, 'SHUBHANGI', 'xyz', 'student', 1, 2, 3, 4]\n",
            "['abc', 'bcd', 'bcsjhdgc', 'pwie', 'xyz']\n",
            "['UG', 7, 'SHUBHANGI', 'xyz', 'student', 1, 2, 3, 4, 'abc', 'bcd', 'bcsjhdgc', 'pwie', 'xyz']\n"
          ]
        }
      ]
    },
    {
      "cell_type": "markdown",
      "source": [
        "Method-2: using append and for loop\n",
        "\n",
        "> it one by one apeends elements of list1 in list2\n",
        "\n"
      ],
      "metadata": {
        "id": "CXBIB3ksU5C0"
      }
    },
    {
      "cell_type": "code",
      "source": [
        "print(list1)\n",
        "print(list2)\n",
        "\n",
        "for x in list1:\n",
        "  list2.append(x)\n",
        "\n",
        "print(list1)\n",
        "print(list2)"
      ],
      "metadata": {
        "colab": {
          "base_uri": "https://localhost:8080/"
        },
        "id": "tvymSE8hVBnE",
        "outputId": "4aaf8945-11fe-45e2-cefc-1c7ed82a7b39"
      },
      "execution_count": 102,
      "outputs": [
        {
          "output_type": "stream",
          "name": "stdout",
          "text": [
            "['UG', 7, 'SHUBHANGI', 'xyz', 'student', 1, 2, 3, 4]\n",
            "[1, 2, 3, 4, 5]\n",
            "['UG', 7, 'SHUBHANGI', 'xyz', 'student', 1, 2, 3, 4]\n",
            "[1, 2, 3, 4, 5, 'UG', 7, 'SHUBHANGI', 'xyz', 'student', 1, 2, 3, 4]\n"
          ]
        }
      ]
    },
    {
      "cell_type": "markdown",
      "source": [
        "Methos 3: using extend()\n",
        "\n",
        "this means extending list1 by all the elements of list2"
      ],
      "metadata": {
        "id": "XqYDgrkDWYL5"
      }
    },
    {
      "cell_type": "code",
      "source": [
        "print(list1)\n",
        "print(list2)\n",
        "\n",
        "list1.extend(list2)\n",
        "print(list1)\n",
        "print(list2)"
      ],
      "metadata": {
        "colab": {
          "base_uri": "https://localhost:8080/"
        },
        "id": "ERaj5qj_Vxc_",
        "outputId": "5e49d68a-657e-4044-d293-d85fbf2f21ab"
      },
      "execution_count": 103,
      "outputs": [
        {
          "output_type": "stream",
          "name": "stdout",
          "text": [
            "['UG', 7, 'SHUBHANGI', 'xyz', 'student', 1, 2, 3, 4]\n",
            "[1, 2, 3, 4, 5, 'UG', 7, 'SHUBHANGI', 'xyz', 'student', 1, 2, 3, 4]\n",
            "['UG', 7, 'SHUBHANGI', 'xyz', 'student', 1, 2, 3, 4, 1, 2, 3, 4, 5, 'UG', 7, 'SHUBHANGI', 'xyz', 'student', 1, 2, 3, 4]\n",
            "[1, 2, 3, 4, 5, 'UG', 7, 'SHUBHANGI', 'xyz', 'student', 1, 2, 3, 4]\n"
          ]
        }
      ]
    },
    {
      "cell_type": "markdown",
      "source": [
        "#Adding/appending one list on another list as an element :"
      ],
      "metadata": {
        "id": "6Fx2ibTiceun"
      }
    },
    {
      "cell_type": "code",
      "source": [
        "print(list3)\n",
        "print(list4)\n",
        "\n",
        "list4.append(list3)\n",
        "print(list3)\n",
        "print(list4)"
      ],
      "metadata": {
        "colab": {
          "base_uri": "https://localhost:8080/"
        },
        "id": "AQnmTMTNWqP2",
        "outputId": "5921340f-eaf1-4e4a-ab98-e586fae6d9b8"
      },
      "execution_count": 105,
      "outputs": [
        {
          "output_type": "stream",
          "name": "stdout",
          "text": [
            "['abc', 1, 2, 3, True, False]\n",
            "['abc', 'bcd', 'bcsjhdgc', 'pwie', 'xyz']\n",
            "['abc', 1, 2, 3, True, False]\n",
            "['abc', 'bcd', 'bcsjhdgc', 'pwie', 'xyz', ['abc', 1, 2, 3, True, False]]\n"
          ]
        }
      ]
    }
  ]
}