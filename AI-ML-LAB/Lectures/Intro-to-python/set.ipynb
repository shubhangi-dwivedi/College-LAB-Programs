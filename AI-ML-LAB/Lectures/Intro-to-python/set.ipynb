{
  "nbformat": 4,
  "nbformat_minor": 0,
  "metadata": {
    "colab": {
      "name": "set.ipynb",
      "provenance": [],
      "collapsed_sections": []
    },
    "kernelspec": {
      "name": "python3",
      "display_name": "Python 3"
    },
    "language_info": {
      "name": "python"
    }
  },
  "cells": [
    {
      "cell_type": "markdown",
      "source": [
        "#Set :\n",
        "1. it is not ordered i.e. unordered.\n",
        "2. It is not mutable(changeable) (but, we can add/remove an item in the set, but we can't change/update an existing item in the set).\n",
        "3. It doesn't allows duplicate values."
      ],
      "metadata": {
        "id": "U6ahI1x6w90P"
      }
    },
    {
      "cell_type": "markdown",
      "source": [
        "#Creating a set : "
      ],
      "metadata": {
        "id": "uFx-vWXoxnyy"
      }
    },
    {
      "cell_type": "code",
      "execution_count": 2,
      "metadata": {
        "id": "L1OIPElmwrL2",
        "colab": {
          "base_uri": "https://localhost:8080/"
        },
        "outputId": "9bf5f5fa-6944-4693-e3d4-88602ff9685e"
      },
      "outputs": [
        {
          "output_type": "execute_result",
          "data": {
            "text/plain": [
              "{1, 2, 3, 4, False, 'acb', 'adf'}"
            ]
          },
          "metadata": {},
          "execution_count": 2
        }
      ],
      "source": [
        "set1={'adf',1,2,3,4,True,'acb',False}\n",
        "set1"
      ]
    },
    {
      "cell_type": "markdown",
      "source": [
        "As we can see sequence has been changed when we compare i/p with o/p. Therefore, we can say it is unordered.\n",
        "\n",
        "First all int. values will be placed, then bool, then string and order of values will be in dictionary ascending order.\n",
        "\n",
        "True means 1, and False means 0.\n",
        "\n",
        "As 1 is there in the list so, True will not be there as SET can'r have duplicate values.\n",
        "\n",
        "And as 0 isn't there so False is there in our set.\n"
      ],
      "metadata": {
        "id": "VhxKJZbaHaFH"
      }
    },
    {
      "cell_type": "markdown",
      "source": [
        "#Using set constructor for creating the set : "
      ],
      "metadata": {
        "id": "mhqFdvjcJ6pq"
      }
    },
    {
      "cell_type": "code",
      "source": [
        "set2= set(('jkl','absd','',1,4,7,3,7,'bvx'))\n",
        "set2"
      ],
      "metadata": {
        "colab": {
          "base_uri": "https://localhost:8080/"
        },
        "id": "h-HF4wZPKA3H",
        "outputId": "9997a54c-9e94-465a-9df1-e441d5f1b053"
      },
      "execution_count": 5,
      "outputs": [
        {
          "output_type": "execute_result",
          "data": {
            "text/plain": [
              "{'', 1, 3, 4, 7, 'absd', 'bvx', 'jkl'}"
            ]
          },
          "metadata": {},
          "execution_count": 5
        }
      ]
    },
    {
      "cell_type": "markdown",
      "source": [
        "If an empty string is there it'll be placed before integers."
      ],
      "metadata": {
        "id": "4Y1OTeSoKVkd"
      }
    },
    {
      "cell_type": "markdown",
      "source": [
        "#Length of the set :"
      ],
      "metadata": {
        "id": "oSyg4A8GKcJ_"
      }
    },
    {
      "cell_type": "code",
      "source": [
        "print(len(set1))\n",
        "print(len(set2))"
      ],
      "metadata": {
        "colab": {
          "base_uri": "https://localhost:8080/"
        },
        "id": "J8H1WY1jKRtf",
        "outputId": "a01c0205-2627-4cd1-fc0b-161e8734826a"
      },
      "execution_count": 10,
      "outputs": [
        {
          "output_type": "stream",
          "name": "stdout",
          "text": [
            "7\n",
            "8\n"
          ]
        }
      ]
    },
    {
      "cell_type": "markdown",
      "source": [
        "#Type : "
      ],
      "metadata": {
        "id": "rPWrG0fwKu31"
      }
    },
    {
      "cell_type": "code",
      "source": [
        "print(type(set1))"
      ],
      "metadata": {
        "id": "ZY7N4ZhiKt3i"
      },
      "execution_count": null,
      "outputs": []
    },
    {
      "cell_type": "markdown",
      "source": [
        "#Accessing elements of set :"
      ],
      "metadata": {
        "id": "d4vMFAwSK0d7"
      }
    },
    {
      "cell_type": "code",
      "source": [
        "for i in set1:\n",
        "  print(i)"
      ],
      "metadata": {
        "colab": {
          "base_uri": "https://localhost:8080/"
        },
        "id": "xt8tz9YWK3tK",
        "outputId": "6a9851d5-978e-4e71-9d4d-b49cc025689f"
      },
      "execution_count": 11,
      "outputs": [
        {
          "output_type": "stream",
          "name": "stdout",
          "text": [
            "False\n",
            "1\n",
            "2\n",
            "3\n",
            "4\n",
            "acb\n",
            "adf\n"
          ]
        }
      ]
    },
    {
      "cell_type": "markdown",
      "source": [
        "As we can see, above we have printed set1 directlt all intgers were printed first followed by bool & string resp. and values were in ascending order.\n",
        "\n",
        "But, here when we printed using for loop first bool values are printed, followed by int. & string resp. and no order is there( ascending/ descending).\n",
        "That means, values are printed randomly no sequencing(order) is there."
      ],
      "metadata": {
        "id": "5zTH_OGdK_v0"
      }
    },
    {
      "cell_type": "markdown",
      "source": [
        "#We can't change existing values."
      ],
      "metadata": {
        "id": "T-24RJxuMChO"
      }
    },
    {
      "cell_type": "markdown",
      "source": [
        "#Adding new item in set :"
      ],
      "metadata": {
        "id": "pR5n7G32MGW6"
      }
    },
    {
      "cell_type": "code",
      "source": [
        "set1.add(\"opu\")\n",
        "set1"
      ],
      "metadata": {
        "colab": {
          "base_uri": "https://localhost:8080/"
        },
        "id": "QDGGbzwAK9kz",
        "outputId": "214fdb4d-ed8b-4046-9951-23c5357c373e"
      },
      "execution_count": 12,
      "outputs": [
        {
          "output_type": "execute_result",
          "data": {
            "text/plain": [
              "{1, 2, 3, 4, False, 'acb', 'adf', 'opu'}"
            ]
          },
          "metadata": {},
          "execution_count": 12
        }
      ]
    },
    {
      "cell_type": "code",
      "source": [
        "set1.add(1.5)\n",
        "set1"
      ],
      "metadata": {
        "colab": {
          "base_uri": "https://localhost:8080/"
        },
        "id": "4QbiCnqEMRUV",
        "outputId": "ad8c9d2b-b1e5-47f3-bc92-15c1f62379e4"
      },
      "execution_count": 13,
      "outputs": [
        {
          "output_type": "execute_result",
          "data": {
            "text/plain": [
              "{1, 1.5, 2, 3, 4, False, 'acb', 'adf', 'opu'}"
            ]
          },
          "metadata": {},
          "execution_count": 13
        }
      ]
    },
    {
      "cell_type": "markdown",
      "source": [
        "#Adding elements of a set in another set :"
      ],
      "metadata": {
        "id": "wUZezs0HMchy"
      }
    },
    {
      "cell_type": "code",
      "source": [
        "print(set1)\n",
        "print(set2)\n",
        "\n",
        "set1.update(set2)\n",
        "\n",
        "print(set1)\n",
        "print(set2)"
      ],
      "metadata": {
        "colab": {
          "base_uri": "https://localhost:8080/"
        },
        "id": "EOCLbS9qMc6k",
        "outputId": "46af0409-9e8f-45a1-ce66-014929c6a78c"
      },
      "execution_count": 14,
      "outputs": [
        {
          "output_type": "stream",
          "name": "stdout",
          "text": [
            "{False, 1, 2, 3, 4, 1.5, 'opu', 'acb', 'adf'}\n",
            "{'', 1, 3, 4, 7, 'absd', 'bvx', 'jkl'}\n",
            "{False, 1, 2, 3, 4, 1.5, '', 7, 'absd', 'bvx', 'opu', 'acb', 'adf', 'jkl'}\n",
            "{'', 1, 3, 4, 7, 'absd', 'bvx', 'jkl'}\n"
          ]
        }
      ]
    },
    {
      "cell_type": "markdown",
      "source": [
        "#Updating adding items in a set using list :"
      ],
      "metadata": {
        "id": "3dle3156NO96"
      }
    },
    {
      "cell_type": "code",
      "source": [
        "list1=['dfg','jkl']\n",
        "\n",
        "set2.update(list1)\n",
        "print(set2)"
      ],
      "metadata": {
        "colab": {
          "base_uri": "https://localhost:8080/"
        },
        "id": "R3V6r886NLLb",
        "outputId": "57691fcb-7fe2-4fa4-a53b-466bab4a987b"
      },
      "execution_count": 16,
      "outputs": [
        {
          "output_type": "stream",
          "name": "stdout",
          "text": [
            "{'', 1, 3, 4, 7, 'absd', 'bvx', 'dfg', 'jkl'}\n"
          ]
        }
      ]
    },
    {
      "cell_type": "markdown",
      "source": [
        "#Removing item from the set :\n"
      ],
      "metadata": {
        "id": "Iz-ZNMp0Nk7l"
      }
    },
    {
      "cell_type": "markdown",
      "source": [
        "Method-1 : using remove()\n",
        "set_name.remove(element)"
      ],
      "metadata": {
        "id": "qUh9_HcTOC0V"
      }
    },
    {
      "cell_type": "code",
      "source": [
        "set2.remove('')\n",
        "set2"
      ],
      "metadata": {
        "colab": {
          "base_uri": "https://localhost:8080/"
        },
        "id": "TL_6i_2zNlam",
        "outputId": "1bab18ed-1dcd-4bcb-d2ac-67c1e2041b41"
      },
      "execution_count": 17,
      "outputs": [
        {
          "output_type": "execute_result",
          "data": {
            "text/plain": [
              "{1, 3, 4, 7, 'absd', 'bvx', 'dfg', 'jkl'}"
            ]
          },
          "metadata": {},
          "execution_count": 17
        }
      ]
    },
    {
      "cell_type": "code",
      "source": [
        "set2.remove('jkl')\n",
        "set2"
      ],
      "metadata": {
        "colab": {
          "base_uri": "https://localhost:8080/"
        },
        "id": "PJRqev9pN4zf",
        "outputId": "8e1a822c-f005-44a0-ef13-85341e79ac81"
      },
      "execution_count": 19,
      "outputs": [
        {
          "output_type": "execute_result",
          "data": {
            "text/plain": [
              "{1, 3, 4, 7, 'absd', 'bvx', 'dfg'}"
            ]
          },
          "metadata": {},
          "execution_count": 19
        }
      ]
    },
    {
      "cell_type": "code",
      "source": [
        "set1.remove(1.5)\n",
        "set1"
      ],
      "metadata": {
        "colab": {
          "base_uri": "https://localhost:8080/"
        },
        "id": "xWNEo6SKNyL-",
        "outputId": "4ab3ff46-4fdd-4c60-dc82-b5020a8a8677"
      },
      "execution_count": 18,
      "outputs": [
        {
          "output_type": "execute_result",
          "data": {
            "text/plain": [
              "{'', 1, 2, 3, 4, 7, False, 'absd', 'acb', 'adf', 'bvx', 'jkl', 'opu'}"
            ]
          },
          "metadata": {},
          "execution_count": 18
        }
      ]
    },
    {
      "cell_type": "markdown",
      "source": [
        "Method-2 : using discard()\n",
        "\n",
        "set_name.discard(element)"
      ],
      "metadata": {
        "id": "0O1STdpNOIAI"
      }
    },
    {
      "cell_type": "code",
      "source": [
        "set2.discard('dfg')\n",
        "set2"
      ],
      "metadata": {
        "colab": {
          "base_uri": "https://localhost:8080/"
        },
        "id": "u1ybOgegOV41",
        "outputId": "65d4cbf6-b5cb-4093-a380-5ba933aea421"
      },
      "execution_count": 21,
      "outputs": [
        {
          "output_type": "execute_result",
          "data": {
            "text/plain": [
              "{1, 3, 4, 7, 'absd', 'bvx'}"
            ]
          },
          "metadata": {},
          "execution_count": 21
        }
      ]
    },
    {
      "cell_type": "markdown",
      "source": [
        "#Difference b/w remove() & discard() :\n",
        "\n",
        "-> remove() : if the element is not present in the list it'll through error\n",
        "\n",
        "-> discard() : if the element is not there in the list it'll not through error"
      ],
      "metadata": {
        "id": "EAjA0V5UOj35"
      }
    },
    {
      "cell_type": "code",
      "source": [
        "#error will be there as element doesn't exist in the set\n",
        "#code after remove() won't be executed as there is error\n",
        "\n",
        "print(set2)\n",
        "\n",
        "set2.remove('dfg')\n",
        "set2"
      ],
      "metadata": {
        "colab": {
          "base_uri": "https://localhost:8080/",
          "height": 234
        },
        "id": "w4295t2bO1nv",
        "outputId": "2e1d528b-9277-4270-ce2d-03b73c3ef293"
      },
      "execution_count": 28,
      "outputs": [
        {
          "output_type": "stream",
          "name": "stdout",
          "text": [
            "{1, 3, 4, 7, 'absd', 'bvx'}\n"
          ]
        },
        {
          "output_type": "error",
          "ename": "KeyError",
          "evalue": "ignored",
          "traceback": [
            "\u001b[0;31m---------------------------------------------------------------------------\u001b[0m",
            "\u001b[0;31mKeyError\u001b[0m                                  Traceback (most recent call last)",
            "\u001b[0;32m<ipython-input-28-d16d7a4c622e>\u001b[0m in \u001b[0;36m<module>\u001b[0;34m()\u001b[0m\n\u001b[1;32m      4\u001b[0m \u001b[0mprint\u001b[0m\u001b[0;34m(\u001b[0m\u001b[0mset2\u001b[0m\u001b[0;34m)\u001b[0m\u001b[0;34m\u001b[0m\u001b[0;34m\u001b[0m\u001b[0m\n\u001b[1;32m      5\u001b[0m \u001b[0;34m\u001b[0m\u001b[0m\n\u001b[0;32m----> 6\u001b[0;31m \u001b[0mset2\u001b[0m\u001b[0;34m.\u001b[0m\u001b[0mremove\u001b[0m\u001b[0;34m(\u001b[0m\u001b[0;34m'dfg'\u001b[0m\u001b[0;34m)\u001b[0m\u001b[0;34m\u001b[0m\u001b[0;34m\u001b[0m\u001b[0m\n\u001b[0m\u001b[1;32m      7\u001b[0m \u001b[0mset2\u001b[0m\u001b[0;34m\u001b[0m\u001b[0;34m\u001b[0m\u001b[0m\n",
            "\u001b[0;31mKeyError\u001b[0m: 'dfg'"
          ]
        }
      ]
    },
    {
      "cell_type": "code",
      "source": [
        "#no error even though element is not in the set\n",
        "#code after discard() will be executed as there is no error\n",
        "\n",
        "print(set2)\n",
        "\n",
        "set2.discard('dfg')\n",
        "set2"
      ],
      "metadata": {
        "colab": {
          "base_uri": "https://localhost:8080/"
        },
        "id": "7c3x0lt4O5JW",
        "outputId": "2d03b9f0-2899-4dfd-d5e2-4abf6caf3f99"
      },
      "execution_count": 29,
      "outputs": [
        {
          "output_type": "stream",
          "name": "stdout",
          "text": [
            "{1, 3, 4, 7, 'absd', 'bvx'}\n"
          ]
        },
        {
          "output_type": "execute_result",
          "data": {
            "text/plain": [
              "{1, 3, 4, 7, 'absd', 'bvx'}"
            ]
          },
          "metadata": {},
          "execution_count": 29
        }
      ]
    },
    {
      "cell_type": "markdown",
      "source": [
        "#Removing all items from the set :"
      ],
      "metadata": {
        "id": "4JCTdfEYP3Yf"
      }
    },
    {
      "cell_type": "code",
      "source": [
        "set2.clear()\n",
        "set2"
      ],
      "metadata": {
        "colab": {
          "base_uri": "https://localhost:8080/"
        },
        "id": "4iB4jaNHP7NL",
        "outputId": "405a33f0-acfe-4853-9887-aa1de613d38d"
      },
      "execution_count": 30,
      "outputs": [
        {
          "output_type": "execute_result",
          "data": {
            "text/plain": [
              "set()"
            ]
          },
          "metadata": {},
          "execution_count": 30
        }
      ]
    },
    {
      "cell_type": "markdown",
      "source": [
        "#Deleting set :"
      ],
      "metadata": {
        "id": "Uw1cOSnYP_W7"
      }
    },
    {
      "cell_type": "code",
      "source": [
        "del set2"
      ],
      "metadata": {
        "id": "I1F6fD_lQB8N"
      },
      "execution_count": 31,
      "outputs": []
    },
    {
      "cell_type": "code",
      "source": [
        "set2"
      ],
      "metadata": {
        "colab": {
          "base_uri": "https://localhost:8080/",
          "height": 165
        },
        "id": "YzVS3L7gQFgw",
        "outputId": "4ddcaf0e-f53e-4da6-ea9c-cad0fa24989a"
      },
      "execution_count": 32,
      "outputs": [
        {
          "output_type": "error",
          "ename": "NameError",
          "evalue": "ignored",
          "traceback": [
            "\u001b[0;31m---------------------------------------------------------------------------\u001b[0m",
            "\u001b[0;31mNameError\u001b[0m                                 Traceback (most recent call last)",
            "\u001b[0;32m<ipython-input-32-b74a4c664e8b>\u001b[0m in \u001b[0;36m<module>\u001b[0;34m()\u001b[0m\n\u001b[0;32m----> 1\u001b[0;31m \u001b[0mset2\u001b[0m\u001b[0;34m\u001b[0m\u001b[0;34m\u001b[0m\u001b[0m\n\u001b[0m",
            "\u001b[0;31mNameError\u001b[0m: name 'set2' is not defined"
          ]
        }
      ]
    },
    {
      "cell_type": "markdown",
      "source": [
        "#Again creating set2 :"
      ],
      "metadata": {
        "id": "6JIjZiWIQJom"
      }
    },
    {
      "cell_type": "code",
      "source": [
        "set2= set(('jkl','absd',1,4,7,3,7,'bvx'))\n",
        "set2"
      ],
      "metadata": {
        "colab": {
          "base_uri": "https://localhost:8080/"
        },
        "id": "zlX6CzDZQJP2",
        "outputId": "6eac4b30-71cb-4bc5-f160-50753f60921e"
      },
      "execution_count": 33,
      "outputs": [
        {
          "output_type": "execute_result",
          "data": {
            "text/plain": [
              "{1, 3, 4, 7, 'absd', 'bvx', 'jkl'}"
            ]
          },
          "metadata": {},
          "execution_count": 33
        }
      ]
    },
    {
      "cell_type": "markdown",
      "source": [
        "#Operations on set :\n",
        "\n",
        "As it is a set these operations can be performed :\n",
        "1. Union\n",
        "2. Intersection\n",
        "3. Difference (similar to complement)"
      ],
      "metadata": {
        "id": "9NeGIsswQdxX"
      }
    },
    {
      "cell_type": "markdown",
      "source": [
        "# 1. Union :\n",
        "\n",
        "(No duplicate values will be there as set from after is also a set..general set &union property)"
      ],
      "metadata": {
        "id": "mEYerCqvQue5"
      }
    },
    {
      "cell_type": "markdown",
      "source": [
        "Method-1 : using union()\n",
        "\n",
        "It'll create new set from existing sets. All elements of both sets will be there (but no duplicates, only single occurrences)"
      ],
      "metadata": {
        "id": "GdxBuJ_cRdz2"
      }
    },
    {
      "cell_type": "code",
      "source": [
        "print(set1)\n",
        "print(set2)\n",
        "\n",
        "set3=set1.union(set2)\n",
        "print(set3)"
      ],
      "metadata": {
        "colab": {
          "base_uri": "https://localhost:8080/"
        },
        "id": "0AwmQCliQ2N8",
        "outputId": "c88e68e6-d1c5-4c2f-b8ea-2078711422e9"
      },
      "execution_count": 35,
      "outputs": [
        {
          "output_type": "stream",
          "name": "stdout",
          "text": [
            "{False, 1, 2, 3, 4, '', 7, 'absd', 'bvx', 'opu', 'acb', 'adf', 'jkl'}\n",
            "{1, 3, 4, 7, 'absd', 'bvx', 'jkl'}\n",
            "{False, 1, 2, 3, 4, '', 7, 'absd', 'opu', 'acb', 'adf', 'jkl', 'bvx'}\n"
          ]
        }
      ]
    },
    {
      "cell_type": "markdown",
      "source": [
        "Method-2 : using update()\n",
        "\n",
        "(already used above)\n"
      ],
      "metadata": {
        "id": "5Uglyd42RWBL"
      }
    },
    {
      "cell_type": "markdown",
      "source": [
        "#Difference b/w union() & update()\n",
        "\n",
        "->union() - new set is created\n",
        "\n",
        "-> update() - one set values will be stored in another set (no new set will be there)"
      ],
      "metadata": {
        "id": "5kDcl9IiR26U"
      }
    },
    {
      "cell_type": "markdown",
      "source": [
        "#2. Intersection :"
      ],
      "metadata": {
        "id": "v9oURqRxVZUr"
      }
    },
    {
      "cell_type": "markdown",
      "source": [
        "Method-1 : using intersection()\n",
        "\n",
        "It'll create new set from existing sets. Only common elements of both sets will be there."
      ],
      "metadata": {
        "id": "cHwEPo-1VeCH"
      }
    },
    {
      "cell_type": "code",
      "source": [
        "set4=set1.intersection(set2)\n",
        "set4"
      ],
      "metadata": {
        "colab": {
          "base_uri": "https://localhost:8080/"
        },
        "id": "7GQ5xNXmVclH",
        "outputId": "54948315-d328-4400-d212-a6300c131ebf"
      },
      "execution_count": 36,
      "outputs": [
        {
          "output_type": "execute_result",
          "data": {
            "text/plain": [
              "{1, 3, 4, 7, 'absd', 'bvx', 'jkl'}"
            ]
          },
          "metadata": {},
          "execution_count": 36
        }
      ]
    },
    {
      "cell_type": "markdown",
      "source": [
        "Metho-2 : intersection_update() \n",
        "\n",
        "It'll update set1 with the common elements of both set1 & set2."
      ],
      "metadata": {
        "id": "SLohFNqLSDnQ"
      }
    },
    {
      "cell_type": "code",
      "source": [
        "set1.intersection_update(set2)\n",
        "print(set1)"
      ],
      "metadata": {
        "colab": {
          "base_uri": "https://localhost:8080/"
        },
        "id": "t40Dh1kDWFBS",
        "outputId": "77df7281-d2a3-4fab-8877-eb35ac36d30f"
      },
      "execution_count": 39,
      "outputs": [
        {
          "output_type": "stream",
          "name": "stdout",
          "text": [
            "{1, 3, 4, 7, 'absd', 'bvx', 'jkl'}\n"
          ]
        }
      ]
    },
    {
      "cell_type": "markdown",
      "source": [
        "#3. Difference :\n",
        "It'll take uncommon elements of both the sets."
      ],
      "metadata": {
        "id": "4Z4SKASvWWUG"
      }
    },
    {
      "cell_type": "markdown",
      "source": [
        "Method-1 : symmetric_difference()\n",
        "\n",
        "New set will be created with uncommon elements of both set1 & set2"
      ],
      "metadata": {
        "id": "8WgngsCzW_v4"
      }
    },
    {
      "cell_type": "code",
      "source": [
        "#set5 will be empty as set1 & set2 have same elements\n",
        "\n",
        "print(set1)\n",
        "print(set2)\n",
        "\n",
        "set5=set1.symmetric_difference(set2)\n",
        "print(set5)"
      ],
      "metadata": {
        "colab": {
          "base_uri": "https://localhost:8080/"
        },
        "id": "qpCXm6vPXLpG",
        "outputId": "682159ef-835d-49f1-825d-0ad45d9b1908"
      },
      "execution_count": 40,
      "outputs": [
        {
          "output_type": "stream",
          "name": "stdout",
          "text": [
            "{1, 3, 4, 7, 'absd', 'bvx', 'jkl'}\n",
            "{1, 3, 4, 7, 'absd', 'bvx', 'jkl'}\n",
            "set()\n"
          ]
        }
      ]
    },
    {
      "cell_type": "code",
      "source": [
        "print(set1)\n",
        "print(set3)\n",
        "\n",
        "set6=set1.symmetric_difference(set3)\n",
        "print(set6)"
      ],
      "metadata": {
        "colab": {
          "base_uri": "https://localhost:8080/"
        },
        "id": "woWlEyiTXHPS",
        "outputId": "f9656669-4c1f-4e40-9df7-34d9ab958c62"
      },
      "execution_count": 41,
      "outputs": [
        {
          "output_type": "stream",
          "name": "stdout",
          "text": [
            "{1, 3, 4, 7, 'absd', 'bvx', 'jkl'}\n",
            "{False, 1, 2, 3, 4, '', 7, 'absd', 'opu', 'acb', 'adf', 'jkl', 'bvx'}\n",
            "{False, 2, '', 'opu', 'acb', 'adf'}\n"
          ]
        }
      ]
    },
    {
      "cell_type": "markdown",
      "source": [
        "Method-2 : set1.symmetric_difference_update(set3)\n",
        "\n",
        "It'll update set1 with the uncommon elements of both set1 & set3."
      ],
      "metadata": {
        "id": "FIk7G5nMYK9q"
      }
    },
    {
      "cell_type": "code",
      "source": [
        "set1.symmetric_difference_update(set3)\n",
        "print(set1)"
      ],
      "metadata": {
        "colab": {
          "base_uri": "https://localhost:8080/"
        },
        "id": "xWXmQk9IYLQ4",
        "outputId": "56fb163d-53d9-425b-fc32-8c05fd665ed2"
      },
      "execution_count": 42,
      "outputs": [
        {
          "output_type": "stream",
          "name": "stdout",
          "text": [
            "{False, 2, '', 'opu', 'acb', 'adf'}\n"
          ]
        }
      ]
    },
    {
      "cell_type": "markdown",
      "source": [
        "#For searching an element in a SET we'll have to give the element and we'll use FOR LOOP for searching as no indexing is there in SET, therefore we'll have to compare set elements with the element which we want to search. "
      ],
      "metadata": {
        "id": "eK8s-2MDZKCV"
      }
    }
  ]
}