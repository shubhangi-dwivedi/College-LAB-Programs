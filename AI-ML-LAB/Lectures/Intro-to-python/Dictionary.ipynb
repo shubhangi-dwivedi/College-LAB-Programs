{
  "nbformat": 4,
  "nbformat_minor": 0,
  "metadata": {
    "colab": {
      "name": "Dictionary.ipynb",
      "provenance": []
    },
    "kernelspec": {
      "name": "python3",
      "display_name": "Python 3"
    },
    "language_info": {
      "name": "python"
    }
  },
  "cells": [
    {
      "cell_type": "markdown",
      "source": [
        "#Dictionary :\n",
        "\n",
        "- Dictionary contains KEY, VALUE pair.\n",
        "\n",
        "Properties of Dictionary :\n",
        "1. It is ordered.\n",
        "2. Doesn't allow duplicate values.\n",
        "3. It is changeable."
      ],
      "metadata": {
        "id": "8IMCNJRUaNJH"
      }
    },
    {
      "cell_type": "markdown",
      "source": [
        "#Creating a dictionary :"
      ],
      "metadata": {
        "id": "add4jFMzhqWb"
      }
    },
    {
      "cell_type": "code",
      "execution_count": 1,
      "metadata": {
        "colab": {
          "base_uri": "https://localhost:8080/"
        },
        "id": "lgrvVUlQaASf",
        "outputId": "c1025191-2ecb-4cbd-88e0-b2a6a83b8c27"
      },
      "outputs": [
        {
          "output_type": "execute_result",
          "data": {
            "text/plain": [
              "{'Age': 21, 'Name': 'Simran', 'Rollno': 1234}"
            ]
          },
          "metadata": {},
          "execution_count": 1
        }
      ],
      "source": [
        "# key:value\n",
        "student1={\"Name\":\"Simran\", \"Rollno\":1234,\"Age\":21}\n",
        "student1"
      ]
    },
    {
      "cell_type": "markdown",
      "source": [
        "#Accessing a value of a key :"
      ],
      "metadata": {
        "id": "nrneh1W6ieJh"
      }
    },
    {
      "cell_type": "markdown",
      "source": [
        "1. Accesing value of a specific key :"
      ],
      "metadata": {
        "id": "kgU9wj3oiMB3"
      }
    },
    {
      "cell_type": "code",
      "source": [
        "print(student1['Rollno'])\n",
        "print(student1['Name'])"
      ],
      "metadata": {
        "colab": {
          "base_uri": "https://localhost:8080/"
        },
        "id": "VLuP6j2SimEI",
        "outputId": "72c8434b-d764-42cb-c698-704df86745aa"
      },
      "execution_count": 4,
      "outputs": [
        {
          "output_type": "stream",
          "name": "stdout",
          "text": [
            "1234\n",
            "Simran\n"
          ]
        }
      ]
    },
    {
      "cell_type": "markdown",
      "source": [
        "-> Storing value of a key in variable :"
      ],
      "metadata": {
        "id": "2gzjCyYliq-o"
      }
    },
    {
      "cell_type": "code",
      "source": [
        "x=student1['Name']\n",
        "x"
      ],
      "metadata": {
        "colab": {
          "base_uri": "https://localhost:8080/",
          "height": 35
        },
        "id": "pFejJcqQizd2",
        "outputId": "895a93b6-971e-4215-e522-5c98e6b06dda"
      },
      "execution_count": 6,
      "outputs": [
        {
          "output_type": "execute_result",
          "data": {
            "text/plain": [
              "'Simran'"
            ],
            "application/vnd.google.colaboratory.intrinsic+json": {
              "type": "string"
            }
          },
          "metadata": {},
          "execution_count": 6
        }
      ]
    },
    {
      "cell_type": "markdown",
      "source": [
        "-> Storing using get() :"
      ],
      "metadata": {
        "id": "SR-w8BRojLDf"
      }
    },
    {
      "cell_type": "code",
      "source": [
        "y=student1.get('Name')\n",
        "y"
      ],
      "metadata": {
        "colab": {
          "base_uri": "https://localhost:8080/",
          "height": 35
        },
        "id": "J2XKlUEIjG39",
        "outputId": "73d34532-dd81-4019-f7c8-c7d3bb280ab2"
      },
      "execution_count": 8,
      "outputs": [
        {
          "output_type": "execute_result",
          "data": {
            "text/plain": [
              "'Simran'"
            ],
            "application/vnd.google.colaboratory.intrinsic+json": {
              "type": "string"
            }
          },
          "metadata": {},
          "execution_count": 8
        }
      ]
    },
    {
      "cell_type": "markdown",
      "source": [
        "#Accesing all items :"
      ],
      "metadata": {
        "id": "fPBT2uMAjWNZ"
      }
    },
    {
      "cell_type": "markdown",
      "source": [
        "1. Accesing all keys :"
      ],
      "metadata": {
        "id": "II-3w9Inj3w4"
      }
    },
    {
      "cell_type": "code",
      "source": [
        "x=student1.keys()\n",
        "x"
      ],
      "metadata": {
        "colab": {
          "base_uri": "https://localhost:8080/"
        },
        "id": "60FBWCofjXUu",
        "outputId": "07e1c311-fa68-49cb-96e5-b0af501d1fb2"
      },
      "execution_count": 9,
      "outputs": [
        {
          "output_type": "execute_result",
          "data": {
            "text/plain": [
              "dict_keys(['Name', 'Rollno', 'Age'])"
            ]
          },
          "metadata": {},
          "execution_count": 9
        }
      ]
    },
    {
      "cell_type": "markdown",
      "source": [
        "2. Accessing all values :"
      ],
      "metadata": {
        "id": "ercUTuAGj5ud"
      }
    },
    {
      "cell_type": "code",
      "source": [
        "x=student1.values()\n",
        "x"
      ],
      "metadata": {
        "colab": {
          "base_uri": "https://localhost:8080/"
        },
        "id": "UxwCA6o8jx6v",
        "outputId": "3645cdba-4286-4a1f-8ca5-d1268a80b4f6"
      },
      "execution_count": 10,
      "outputs": [
        {
          "output_type": "execute_result",
          "data": {
            "text/plain": [
              "dict_values(['Simran', 1234, 21])"
            ]
          },
          "metadata": {},
          "execution_count": 10
        }
      ]
    },
    {
      "cell_type": "markdown",
      "source": [
        "3. Accesing both keys & values :"
      ],
      "metadata": {
        "id": "qZcdERqfkFoF"
      }
    },
    {
      "cell_type": "code",
      "source": [
        "x=student1.items()\n",
        "x"
      ],
      "metadata": {
        "colab": {
          "base_uri": "https://localhost:8080/"
        },
        "id": "Fe5_8Wn9kKY9",
        "outputId": "6e193a14-d78e-415a-be11-fcdb5358aa90"
      },
      "execution_count": 11,
      "outputs": [
        {
          "output_type": "execute_result",
          "data": {
            "text/plain": [
              "dict_items([('Name', 'Simran'), ('Rollno', 1234), ('Age', 21)])"
            ]
          },
          "metadata": {},
          "execution_count": 11
        }
      ]
    },
    {
      "cell_type": "markdown",
      "source": [
        "4. Printing only keys using FOOR LOOP :"
      ],
      "metadata": {
        "id": "ks6WDRBrkb_R"
      }
    },
    {
      "cell_type": "code",
      "source": [
        "for i in student1:\n",
        "  print(i)"
      ],
      "metadata": {
        "colab": {
          "base_uri": "https://localhost:8080/"
        },
        "id": "754sE1JnkUFH",
        "outputId": "784463a1-39b3-4e5c-f728-7f4e8d56f0dc"
      },
      "execution_count": 13,
      "outputs": [
        {
          "output_type": "stream",
          "name": "stdout",
          "text": [
            "Name\n",
            "Rollno\n",
            "Age\n"
          ]
        }
      ]
    },
    {
      "cell_type": "markdown",
      "source": [
        "5. Print only values using FOOR LOOP :"
      ],
      "metadata": {
        "id": "YJGkMZlFkg5B"
      }
    },
    {
      "cell_type": "code",
      "source": [
        "for i,j in student1.items():\n",
        "  print(j)"
      ],
      "metadata": {
        "id": "Rw752hWTk6Ln"
      },
      "execution_count": null,
      "outputs": []
    },
    {
      "cell_type": "markdown",
      "source": [
        "6. Print all keys & values using FOOR LOOP :"
      ],
      "metadata": {
        "id": "2zGQsSN8lCrZ"
      }
    },
    {
      "cell_type": "code",
      "source": [
        "for i,j in student1.items():\n",
        "  print(i,j)"
      ],
      "metadata": {
        "colab": {
          "base_uri": "https://localhost:8080/"
        },
        "id": "cLR3uQ4jkjBc",
        "outputId": "44b53e4d-ca86-45bc-bc33-81b8fd1ea106"
      },
      "execution_count": 14,
      "outputs": [
        {
          "output_type": "stream",
          "name": "stdout",
          "text": [
            "Name Simran\n",
            "Rollno 1234\n",
            "Age 21\n"
          ]
        }
      ]
    },
    {
      "cell_type": "markdown",
      "source": [
        "#Changing item in dictionary :"
      ],
      "metadata": {
        "id": "GVIW1_etlTev"
      }
    },
    {
      "cell_type": "markdown",
      "source": [
        "1. Updating only a single value :"
      ],
      "metadata": {
        "id": "lfYYI0ISlqHv"
      }
    },
    {
      "cell_type": "code",
      "source": [
        "student1['Age']=20\n",
        "student1"
      ],
      "metadata": {
        "colab": {
          "base_uri": "https://localhost:8080/"
        },
        "id": "5NgfsDBqlYOG",
        "outputId": "1a88223f-71b8-4dec-ce06-f6ce5da28ff2"
      },
      "execution_count": 16,
      "outputs": [
        {
          "output_type": "execute_result",
          "data": {
            "text/plain": [
              "{'Age': 20, 'Name': 'Simran', 'Rollno': 1234}"
            ]
          },
          "metadata": {},
          "execution_count": 16
        }
      ]
    },
    {
      "cell_type": "markdown",
      "source": [
        "2. Updating or adding multiple values : update()"
      ],
      "metadata": {
        "id": "vxeWHevlld_J"
      }
    },
    {
      "cell_type": "code",
      "source": [
        "student1.update({'Age':21, 'City':'Jaipur'})\n",
        "student1"
      ],
      "metadata": {
        "colab": {
          "base_uri": "https://localhost:8080/"
        },
        "id": "tCteWSeglowF",
        "outputId": "d9adf336-94ea-4c2b-f616-40fa44aea605"
      },
      "execution_count": 17,
      "outputs": [
        {
          "output_type": "execute_result",
          "data": {
            "text/plain": [
              "{'Age': 21, 'City': 'Jaipur', 'Name': 'Simran', 'Rollno': 1234}"
            ]
          },
          "metadata": {},
          "execution_count": 17
        }
      ]
    },
    {
      "cell_type": "markdown",
      "source": [
        "3. Adding a single item :"
      ],
      "metadata": {
        "id": "s6D3NGNkmDpR"
      }
    },
    {
      "cell_type": "code",
      "source": [
        "student1['Paper']='AI & ML'\n",
        "student1"
      ],
      "metadata": {
        "colab": {
          "base_uri": "https://localhost:8080/"
        },
        "id": "G3EzCnNtmHtu",
        "outputId": "b9275a50-a783-4039-d3dc-ec14843c1e66"
      },
      "execution_count": 18,
      "outputs": [
        {
          "output_type": "execute_result",
          "data": {
            "text/plain": [
              "{'Age': 21,\n",
              " 'City': 'Jaipur',\n",
              " 'Name': 'Simran',\n",
              " 'Paper': 'AI & ML',\n",
              " 'Rollno': 1234}"
            ]
          },
          "metadata": {},
          "execution_count": 18
        }
      ]
    },
    {
      "cell_type": "markdown",
      "source": [
        "#No duplicate key will be allowed :\n",
        "\n",
        "(Last entered value of duplicate key will be stored.) \n",
        "\n",
        "(Here, Jaipur will be replaced by Delhi as Key - City already exist and it'll store only last entered value)"
      ],
      "metadata": {
        "id": "0GzYXX4Xmj6X"
      }
    },
    {
      "cell_type": "code",
      "source": [
        "student1.update({'City':'Jaipur', 'City':'Delhi'})\n",
        "student1"
      ],
      "metadata": {
        "colab": {
          "base_uri": "https://localhost:8080/"
        },
        "id": "T4oewhHGmUE6",
        "outputId": "3726643e-a07f-41b2-fb29-31bd817ab98a"
      },
      "execution_count": 19,
      "outputs": [
        {
          "output_type": "execute_result",
          "data": {
            "text/plain": [
              "{'Age': 21,\n",
              " 'City': 'Delhi',\n",
              " 'Name': 'Simran',\n",
              " 'Paper': 'AI & ML',\n",
              " 'Rollno': 1234}"
            ]
          },
          "metadata": {},
          "execution_count": 19
        }
      ]
    },
    {
      "cell_type": "markdown",
      "source": [
        "Here, City1, City3 & City2 will be stored even though City & City2 both have Value Delhi ,& City1 & City3 have value Jaipur.\n",
        "\n",
        "Only UNIQUE KEY is required. VALUE ISN'T required to be UNIQUE."
      ],
      "metadata": {
        "id": "AI2egTCmmtDR"
      }
    },
    {
      "cell_type": "code",
      "source": [
        "student1.update({'City1':'Jaipur', 'City2':'Delhi', 'City3':'Jaipur'})\n",
        "student1"
      ],
      "metadata": {
        "colab": {
          "base_uri": "https://localhost:8080/"
        },
        "id": "7R0JA8cXnQa-",
        "outputId": "18f31b33-fe2b-48ec-db1c-2d4bb46f5d08"
      },
      "execution_count": 21,
      "outputs": [
        {
          "output_type": "execute_result",
          "data": {
            "text/plain": [
              "{'Age': 21,\n",
              " 'City': 'Delhi',\n",
              " 'City1': 'Jaipur',\n",
              " 'City2': 'Delhi',\n",
              " 'City3': 'Jaipur',\n",
              " 'Name': 'Simran',\n",
              " 'Paper': 'AI & ML',\n",
              " 'Rollno': 1234}"
            ]
          },
          "metadata": {},
          "execution_count": 21
        }
      ]
    },
    {
      "cell_type": "markdown",
      "source": [
        "#Removing items :"
      ],
      "metadata": {
        "id": "deTNwnDhnnTX"
      }
    },
    {
      "cell_type": "markdown",
      "source": [
        "1. Using pop() : \n",
        "\n",
        "pop(key)"
      ],
      "metadata": {
        "id": "nfMYcNGmoM73"
      }
    },
    {
      "cell_type": "code",
      "source": [
        "student1.pop('City2')\n",
        "student1"
      ],
      "metadata": {
        "colab": {
          "base_uri": "https://localhost:8080/"
        },
        "id": "2NjZQEfvoFxD",
        "outputId": "4b743745-0761-4072-b52b-cbe9b7ef21c8"
      },
      "execution_count": 23,
      "outputs": [
        {
          "output_type": "execute_result",
          "data": {
            "text/plain": [
              "{'Age': 21,\n",
              " 'City': 'Delhi',\n",
              " 'City1': 'Jaipur',\n",
              " 'City3': 'Jaipur',\n",
              " 'Name': 'Simran',\n",
              " 'Paper': 'AI & ML',\n",
              " 'Rollno': 1234}"
            ]
          },
          "metadata": {},
          "execution_count": 23
        }
      ]
    },
    {
      "cell_type": "markdown",
      "source": [
        "2. Using popitem() :\n",
        "\n",
        "Last inserted item will be removed. In this case it was City3."
      ],
      "metadata": {
        "id": "s3DMcImPoPcn"
      }
    },
    {
      "cell_type": "code",
      "source": [
        "student1.popitem()\n",
        "student1"
      ],
      "metadata": {
        "colab": {
          "base_uri": "https://localhost:8080/"
        },
        "id": "3PXEhpdHoSIn",
        "outputId": "b5a000b1-8af7-445e-807f-5b8343d3db58"
      },
      "execution_count": 24,
      "outputs": [
        {
          "output_type": "execute_result",
          "data": {
            "text/plain": [
              "{'Age': 21,\n",
              " 'City': 'Delhi',\n",
              " 'City1': 'Jaipur',\n",
              " 'Name': 'Simran',\n",
              " 'Paper': 'AI & ML',\n",
              " 'Rollno': 1234}"
            ]
          },
          "metadata": {},
          "execution_count": 24
        }
      ]
    },
    {
      "cell_type": "markdown",
      "source": [
        "3. Using del :"
      ],
      "metadata": {
        "id": "iu18_Y7qoh_R"
      }
    },
    {
      "cell_type": "code",
      "source": [
        "del student1['Paper']\n",
        "student1"
      ],
      "metadata": {
        "colab": {
          "base_uri": "https://localhost:8080/"
        },
        "id": "G4CR0K-jon3N",
        "outputId": "a595da7b-68ba-4b0f-e636-6b6a7c3b67a3"
      },
      "execution_count": 25,
      "outputs": [
        {
          "output_type": "execute_result",
          "data": {
            "text/plain": [
              "{'Age': 21,\n",
              " 'City': 'Delhi',\n",
              " 'City1': 'Jaipur',\n",
              " 'Name': 'Simran',\n",
              " 'Rollno': 1234}"
            ]
          },
          "metadata": {},
          "execution_count": 25
        }
      ]
    },
    {
      "cell_type": "markdown",
      "source": [
        "#Deleting dictionary :"
      ],
      "metadata": {
        "id": "fup3uI1-o5kA"
      }
    },
    {
      "cell_type": "markdown",
      "source": [
        "1. Using del keyword :"
      ],
      "metadata": {
        "id": "_Uempsdfp2Mc"
      }
    },
    {
      "cell_type": "code",
      "source": [
        "del student1"
      ],
      "metadata": {
        "id": "ztzzHmS7p5xO"
      },
      "execution_count": 26,
      "outputs": []
    },
    {
      "cell_type": "code",
      "source": [
        "student1"
      ],
      "metadata": {
        "colab": {
          "base_uri": "https://localhost:8080/",
          "height": 165
        },
        "id": "MsKxYkryp8Sb",
        "outputId": "0437d42c-ac7d-4e8d-9d0b-aa60ee41af5c"
      },
      "execution_count": 27,
      "outputs": [
        {
          "output_type": "error",
          "ename": "NameError",
          "evalue": "ignored",
          "traceback": [
            "\u001b[0;31m---------------------------------------------------------------------------\u001b[0m",
            "\u001b[0;31mNameError\u001b[0m                                 Traceback (most recent call last)",
            "\u001b[0;32m<ipython-input-27-dd105daebd5c>\u001b[0m in \u001b[0;36m<module>\u001b[0;34m()\u001b[0m\n\u001b[0;32m----> 1\u001b[0;31m \u001b[0mstudent1\u001b[0m\u001b[0;34m\u001b[0m\u001b[0;34m\u001b[0m\u001b[0m\n\u001b[0m",
            "\u001b[0;31mNameError\u001b[0m: name 'student1' is not defined"
          ]
        }
      ]
    },
    {
      "cell_type": "markdown",
      "source": [
        "#Nested dictionary :"
      ],
      "metadata": {
        "id": "wq_t5jacqpfz"
      }
    },
    {
      "cell_type": "markdown",
      "source": [
        "-> If we want to create a dictionary in this way for 30 students then we have to write it 30 times.\n",
        " We use NESTED DICTIONARY.\n",
        "\n",
        "-> A if we want to store dictionary in dictionary."
      ],
      "metadata": {
        "id": "uOafZv9lqSB3"
      }
    },
    {
      "cell_type": "markdown",
      "source": [
        "#Creating NESTED DICTIONARY :"
      ],
      "metadata": {
        "id": "_9-UucPSq13v"
      }
    },
    {
      "cell_type": "code",
      "source": [
        "#studentBatchC dictionary conatins dictionary of all the students\n",
        "\n",
        "# 'student1':{}, {} contains all info regarding student1, similary 'student2':{} & 'student3':{}\n",
        "studentBatchC={'student1':{\"Name\":\"Simran\", \"Rollno\":1234,\"Age\":21}, 'student2':{\"Name\":\"Sapna\", \"Rollno\":1235,\"Age\":20}, 'student3':{\"Name\":\"Shubhangi\", \"Rollno\":1236,\"Age\":21}}\n",
        "studentBatchC"
      ],
      "metadata": {
        "colab": {
          "base_uri": "https://localhost:8080/"
        },
        "id": "JMyta9mnqz1l",
        "outputId": "062fab8e-25f3-4ff7-bddd-cbb5200cf073"
      },
      "execution_count": 30,
      "outputs": [
        {
          "output_type": "execute_result",
          "data": {
            "text/plain": [
              "{'student1': {'Age': 21, 'Name': 'Simran', 'Rollno': 1234},\n",
              " 'student2': {'Age': 20, 'Name': 'Sapna', 'Rollno': 1235},\n",
              " 'student3': {'Age': 21, 'Name': 'Shubhangi', 'Rollno': 1236}}"
            ]
          },
          "metadata": {},
          "execution_count": 30
        }
      ]
    },
    {
      "cell_type": "markdown",
      "source": [
        "#Accessing items of NESTED DICTIONARY using FOR LOOP :"
      ],
      "metadata": {
        "id": "rhGHjzf4sKGQ"
      }
    },
    {
      "cell_type": "code",
      "source": [
        "for i,j in studentBatchC.items():\n",
        "  print(i,j)"
      ],
      "metadata": {
        "colab": {
          "base_uri": "https://localhost:8080/"
        },
        "id": "stlbS9HVsBXw",
        "outputId": "ba339880-7f2f-4242-910c-a2c124e22b9f"
      },
      "execution_count": 31,
      "outputs": [
        {
          "output_type": "stream",
          "name": "stdout",
          "text": [
            "student1 {'Name': 'Simran', 'Rollno': 1234, 'Age': 21}\n",
            "student2 {'Name': 'Sapna', 'Rollno': 1235, 'Age': 20}\n",
            "student3 {'Name': 'Shubhangi', 'Rollno': 1236, 'Age': 21}\n"
          ]
        }
      ]
    },
    {
      "cell_type": "markdown",
      "source": [
        "#Copying student1 in student5 :\n",
        "\n",
        "1. Method-1 : dict2=dict1.copy()\n",
        "2. Method-2 : dict2=dict(dict1)"
      ],
      "metadata": {
        "id": "kA2C-j02sgwM"
      }
    },
    {
      "cell_type": "markdown",
      "source": [
        "->Storing a dictionary in another dictionary :"
      ],
      "metadata": {
        "id": "q4XjyS1LvQQu"
      }
    },
    {
      "cell_type": "code",
      "source": [
        "#we can't copy dictionary of nested dictionary in this way\n",
        "student6=student1.copy()\n",
        "student6"
      ],
      "metadata": {
        "colab": {
          "base_uri": "https://localhost:8080/",
          "height": 182
        },
        "id": "V9MPHuQGs4qP",
        "outputId": "c6875a06-e7c9-44e8-e3b9-9798d147a56c"
      },
      "execution_count": 35,
      "outputs": [
        {
          "output_type": "error",
          "ename": "NameError",
          "evalue": "ignored",
          "traceback": [
            "\u001b[0;31m---------------------------------------------------------------------------\u001b[0m",
            "\u001b[0;31mNameError\u001b[0m                                 Traceback (most recent call last)",
            "\u001b[0;32m<ipython-input-35-fc71d51feb65>\u001b[0m in \u001b[0;36m<module>\u001b[0;34m()\u001b[0m\n\u001b[0;32m----> 1\u001b[0;31m \u001b[0mstudent6\u001b[0m\u001b[0;34m=\u001b[0m\u001b[0mstudent1\u001b[0m\u001b[0;34m.\u001b[0m\u001b[0mcopy\u001b[0m\u001b[0;34m(\u001b[0m\u001b[0;34m)\u001b[0m\u001b[0;34m\u001b[0m\u001b[0;34m\u001b[0m\u001b[0m\n\u001b[0m\u001b[1;32m      2\u001b[0m \u001b[0mstudent6\u001b[0m\u001b[0;34m\u001b[0m\u001b[0;34m\u001b[0m\u001b[0m\n",
            "\u001b[0;31mNameError\u001b[0m: name 'student1' is not defined"
          ]
        }
      ]
    },
    {
      "cell_type": "code",
      "source": [
        "#copying a dictionary in another dictionary using copy()\n",
        "student5={\"Name\":\"xyz\", \"Rollno\":12,\"Age\":19}\n",
        "student6=student5.copy()\n",
        "student6"
      ],
      "metadata": {
        "colab": {
          "base_uri": "https://localhost:8080/"
        },
        "id": "ejbjnycOsbQN",
        "outputId": "58da2d6e-33dd-4b59-9cb6-561ac511d423"
      },
      "execution_count": 40,
      "outputs": [
        {
          "output_type": "execute_result",
          "data": {
            "text/plain": [
              "{'Age': 19, 'Name': 'xyz', 'Rollno': 12}"
            ]
          },
          "metadata": {},
          "execution_count": 40
        }
      ]
    },
    {
      "cell_type": "code",
      "source": [
        "student7=dict(student5)\n",
        "student7"
      ],
      "metadata": {
        "colab": {
          "base_uri": "https://localhost:8080/"
        },
        "id": "9l7FGDs3tVdX",
        "outputId": "802705e1-ece9-49e2-ab02-01318477c214"
      },
      "execution_count": 41,
      "outputs": [
        {
          "output_type": "execute_result",
          "data": {
            "text/plain": [
              "{'Age': 19, 'Name': 'xyz', 'Rollno': 12}"
            ]
          },
          "metadata": {},
          "execution_count": 41
        }
      ]
    },
    {
      "cell_type": "markdown",
      "source": [
        "->Storing nested dictionary in another dictionary:"
      ],
      "metadata": {
        "id": "_1_Ce0wiutSA"
      }
    },
    {
      "cell_type": "code",
      "source": [
        "student8=dict(studentBatchC)\n",
        "student8"
      ],
      "metadata": {
        "colab": {
          "base_uri": "https://localhost:8080/"
        },
        "id": "hChe5qSgun0Z",
        "outputId": "707c255e-1a2d-441e-ffe4-4519539ccbac"
      },
      "execution_count": 42,
      "outputs": [
        {
          "output_type": "execute_result",
          "data": {
            "text/plain": [
              "{'student1': {'Age': 21, 'Name': 'Simran', 'Rollno': 1234},\n",
              " 'student2': {'Age': 20, 'Name': 'Sapna', 'Rollno': 1235},\n",
              " 'student3': {'Age': 21, 'Name': 'Shubhangi', 'Rollno': 1236}}"
            ]
          },
          "metadata": {},
          "execution_count": 42
        }
      ]
    },
    {
      "cell_type": "code",
      "source": [
        "student6=studentBatchC.copy()\n",
        "student6"
      ],
      "metadata": {
        "colab": {
          "base_uri": "https://localhost:8080/"
        },
        "id": "Y4sZGoLFu-eE",
        "outputId": "3dbbfa18-aace-4569-93d5-77e48b7aa347"
      },
      "execution_count": 43,
      "outputs": [
        {
          "output_type": "execute_result",
          "data": {
            "text/plain": [
              "{'student1': {'Age': 21, 'Name': 'Simran', 'Rollno': 1234},\n",
              " 'student2': {'Age': 20, 'Name': 'Sapna', 'Rollno': 1235},\n",
              " 'student3': {'Age': 21, 'Name': 'Shubhangi', 'Rollno': 1236}}"
            ]
          },
          "metadata": {},
          "execution_count": 43
        }
      ]
    }
  ]
}