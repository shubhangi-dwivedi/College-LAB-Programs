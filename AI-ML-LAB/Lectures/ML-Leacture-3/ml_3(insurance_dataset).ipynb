{
  "nbformat": 4,
  "nbformat_minor": 0,
  "metadata": {
    "colab": {
      "name": "ml-3(insurance dataset).ipynb",
      "provenance": []
    },
    "kernelspec": {
      "name": "python3",
      "display_name": "Python 3"
    },
    "language_info": {
      "name": "python"
    }
  },
  "cells": [
    {
      "cell_type": "code",
      "execution_count": null,
      "metadata": {
        "colab": {
          "resources": {
            "http://localhost:8080/nbextensions/google.colab/files.js": {
              "data": "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",
              "ok": true,
              "headers": [
                [
                  "content-type",
                  "application/javascript"
                ]
              ],
              "status": 200,
              "status_text": ""
            }
          },
          "base_uri": "https://localhost:8080/",
          "height": 74
        },
        "id": "2_0jOszCpteW",
        "outputId": "f0668351-e5b9-4b1a-f208-5af73f1a66d0"
      },
      "outputs": [
        {
          "output_type": "display_data",
          "data": {
            "text/html": [
              "\n",
              "     <input type=\"file\" id=\"files-0835030a-0df0-4346-af75-bded16c8fcc2\" name=\"files[]\" multiple disabled\n",
              "        style=\"border:none\" />\n",
              "     <output id=\"result-0835030a-0df0-4346-af75-bded16c8fcc2\">\n",
              "      Upload widget is only available when the cell has been executed in the\n",
              "      current browser session. Please rerun this cell to enable.\n",
              "      </output>\n",
              "      <script src=\"/nbextensions/google.colab/files.js\"></script> "
            ],
            "text/plain": [
              "<IPython.core.display.HTML object>"
            ]
          },
          "metadata": {}
        },
        {
          "output_type": "stream",
          "name": "stdout",
          "text": [
            "Saving insurance.csv to insurance.csv\n"
          ]
        }
      ],
      "source": [
        "#for loading insurance.csv file from pc to google colab\n",
        "from google.colab import files\n",
        "uploaded=files.upload()"
      ]
    },
    {
      "cell_type": "code",
      "source": [
        "import pandas as pd   #for reading the file\n",
        "import numpy as np\n",
        "import io   #as file is in google colab we are using it\n",
        "df=pd.read_csv(io.BytesIO(uploaded['insurance.csv']))   #taking permission of io for reading as it is in google colab\n",
        "#uploaded is a variable name where we have uploaded the file\n",
        "df"
      ],
      "metadata": {
        "colab": {
          "base_uri": "https://localhost:8080/",
          "height": 423
        },
        "id": "cMugP7I0r5vi",
        "outputId": "d933ebb5-18bf-486b-9606-d6b14cad9609"
      },
      "execution_count": null,
      "outputs": [
        {
          "output_type": "execute_result",
          "data": {
            "text/html": [
              "\n",
              "  <div id=\"df-27a88015-1bba-4a81-ad39-ce4a757ca8d3\">\n",
              "    <div class=\"colab-df-container\">\n",
              "      <div>\n",
              "<style scoped>\n",
              "    .dataframe tbody tr th:only-of-type {\n",
              "        vertical-align: middle;\n",
              "    }\n",
              "\n",
              "    .dataframe tbody tr th {\n",
              "        vertical-align: top;\n",
              "    }\n",
              "\n",
              "    .dataframe thead th {\n",
              "        text-align: right;\n",
              "    }\n",
              "</style>\n",
              "<table border=\"1\" class=\"dataframe\">\n",
              "  <thead>\n",
              "    <tr style=\"text-align: right;\">\n",
              "      <th></th>\n",
              "      <th>age</th>\n",
              "      <th>sex</th>\n",
              "      <th>bmi</th>\n",
              "      <th>children</th>\n",
              "      <th>smoker</th>\n",
              "      <th>region</th>\n",
              "      <th>charges</th>\n",
              "    </tr>\n",
              "  </thead>\n",
              "  <tbody>\n",
              "    <tr>\n",
              "      <th>0</th>\n",
              "      <td>19</td>\n",
              "      <td>female</td>\n",
              "      <td>27.900</td>\n",
              "      <td>0</td>\n",
              "      <td>yes</td>\n",
              "      <td>southwest</td>\n",
              "      <td>16884.92400</td>\n",
              "    </tr>\n",
              "    <tr>\n",
              "      <th>1</th>\n",
              "      <td>18</td>\n",
              "      <td>male</td>\n",
              "      <td>33.770</td>\n",
              "      <td>1</td>\n",
              "      <td>no</td>\n",
              "      <td>southeast</td>\n",
              "      <td>1725.55230</td>\n",
              "    </tr>\n",
              "    <tr>\n",
              "      <th>2</th>\n",
              "      <td>28</td>\n",
              "      <td>male</td>\n",
              "      <td>33.000</td>\n",
              "      <td>3</td>\n",
              "      <td>no</td>\n",
              "      <td>southeast</td>\n",
              "      <td>4449.46200</td>\n",
              "    </tr>\n",
              "    <tr>\n",
              "      <th>3</th>\n",
              "      <td>33</td>\n",
              "      <td>male</td>\n",
              "      <td>22.705</td>\n",
              "      <td>0</td>\n",
              "      <td>no</td>\n",
              "      <td>northwest</td>\n",
              "      <td>21984.47061</td>\n",
              "    </tr>\n",
              "    <tr>\n",
              "      <th>4</th>\n",
              "      <td>32</td>\n",
              "      <td>male</td>\n",
              "      <td>28.880</td>\n",
              "      <td>0</td>\n",
              "      <td>no</td>\n",
              "      <td>northwest</td>\n",
              "      <td>3866.85520</td>\n",
              "    </tr>\n",
              "    <tr>\n",
              "      <th>...</th>\n",
              "      <td>...</td>\n",
              "      <td>...</td>\n",
              "      <td>...</td>\n",
              "      <td>...</td>\n",
              "      <td>...</td>\n",
              "      <td>...</td>\n",
              "      <td>...</td>\n",
              "    </tr>\n",
              "    <tr>\n",
              "      <th>1333</th>\n",
              "      <td>50</td>\n",
              "      <td>male</td>\n",
              "      <td>30.970</td>\n",
              "      <td>3</td>\n",
              "      <td>no</td>\n",
              "      <td>northwest</td>\n",
              "      <td>10600.54830</td>\n",
              "    </tr>\n",
              "    <tr>\n",
              "      <th>1334</th>\n",
              "      <td>18</td>\n",
              "      <td>female</td>\n",
              "      <td>31.920</td>\n",
              "      <td>0</td>\n",
              "      <td>no</td>\n",
              "      <td>northeast</td>\n",
              "      <td>2205.98080</td>\n",
              "    </tr>\n",
              "    <tr>\n",
              "      <th>1335</th>\n",
              "      <td>18</td>\n",
              "      <td>female</td>\n",
              "      <td>36.850</td>\n",
              "      <td>0</td>\n",
              "      <td>no</td>\n",
              "      <td>southeast</td>\n",
              "      <td>1629.83350</td>\n",
              "    </tr>\n",
              "    <tr>\n",
              "      <th>1336</th>\n",
              "      <td>21</td>\n",
              "      <td>female</td>\n",
              "      <td>25.800</td>\n",
              "      <td>0</td>\n",
              "      <td>no</td>\n",
              "      <td>southwest</td>\n",
              "      <td>2007.94500</td>\n",
              "    </tr>\n",
              "    <tr>\n",
              "      <th>1337</th>\n",
              "      <td>61</td>\n",
              "      <td>female</td>\n",
              "      <td>29.070</td>\n",
              "      <td>0</td>\n",
              "      <td>yes</td>\n",
              "      <td>northwest</td>\n",
              "      <td>29141.36030</td>\n",
              "    </tr>\n",
              "  </tbody>\n",
              "</table>\n",
              "<p>1338 rows × 7 columns</p>\n",
              "</div>\n",
              "      <button class=\"colab-df-convert\" onclick=\"convertToInteractive('df-27a88015-1bba-4a81-ad39-ce4a757ca8d3')\"\n",
              "              title=\"Convert this dataframe to an interactive table.\"\n",
              "              style=\"display:none;\">\n",
              "        \n",
              "  <svg xmlns=\"http://www.w3.org/2000/svg\" height=\"24px\"viewBox=\"0 0 24 24\"\n",
              "       width=\"24px\">\n",
              "    <path d=\"M0 0h24v24H0V0z\" fill=\"none\"/>\n",
              "    <path d=\"M18.56 5.44l.94 2.06.94-2.06 2.06-.94-2.06-.94-.94-2.06-.94 2.06-2.06.94zm-11 1L8.5 8.5l.94-2.06 2.06-.94-2.06-.94L8.5 2.5l-.94 2.06-2.06.94zm10 10l.94 2.06.94-2.06 2.06-.94-2.06-.94-.94-2.06-.94 2.06-2.06.94z\"/><path d=\"M17.41 7.96l-1.37-1.37c-.4-.4-.92-.59-1.43-.59-.52 0-1.04.2-1.43.59L10.3 9.45l-7.72 7.72c-.78.78-.78 2.05 0 2.83L4 21.41c.39.39.9.59 1.41.59.51 0 1.02-.2 1.41-.59l7.78-7.78 2.81-2.81c.8-.78.8-2.07 0-2.86zM5.41 20L4 18.59l7.72-7.72 1.47 1.35L5.41 20z\"/>\n",
              "  </svg>\n",
              "      </button>\n",
              "      \n",
              "  <style>\n",
              "    .colab-df-container {\n",
              "      display:flex;\n",
              "      flex-wrap:wrap;\n",
              "      gap: 12px;\n",
              "    }\n",
              "\n",
              "    .colab-df-convert {\n",
              "      background-color: #E8F0FE;\n",
              "      border: none;\n",
              "      border-radius: 50%;\n",
              "      cursor: pointer;\n",
              "      display: none;\n",
              "      fill: #1967D2;\n",
              "      height: 32px;\n",
              "      padding: 0 0 0 0;\n",
              "      width: 32px;\n",
              "    }\n",
              "\n",
              "    .colab-df-convert:hover {\n",
              "      background-color: #E2EBFA;\n",
              "      box-shadow: 0px 1px 2px rgba(60, 64, 67, 0.3), 0px 1px 3px 1px rgba(60, 64, 67, 0.15);\n",
              "      fill: #174EA6;\n",
              "    }\n",
              "\n",
              "    [theme=dark] .colab-df-convert {\n",
              "      background-color: #3B4455;\n",
              "      fill: #D2E3FC;\n",
              "    }\n",
              "\n",
              "    [theme=dark] .colab-df-convert:hover {\n",
              "      background-color: #434B5C;\n",
              "      box-shadow: 0px 1px 3px 1px rgba(0, 0, 0, 0.15);\n",
              "      filter: drop-shadow(0px 1px 2px rgba(0, 0, 0, 0.3));\n",
              "      fill: #FFFFFF;\n",
              "    }\n",
              "  </style>\n",
              "\n",
              "      <script>\n",
              "        const buttonEl =\n",
              "          document.querySelector('#df-27a88015-1bba-4a81-ad39-ce4a757ca8d3 button.colab-df-convert');\n",
              "        buttonEl.style.display =\n",
              "          google.colab.kernel.accessAllowed ? 'block' : 'none';\n",
              "\n",
              "        async function convertToInteractive(key) {\n",
              "          const element = document.querySelector('#df-27a88015-1bba-4a81-ad39-ce4a757ca8d3');\n",
              "          const dataTable =\n",
              "            await google.colab.kernel.invokeFunction('convertToInteractive',\n",
              "                                                     [key], {});\n",
              "          if (!dataTable) return;\n",
              "\n",
              "          const docLinkHtml = 'Like what you see? Visit the ' +\n",
              "            '<a target=\"_blank\" href=https://colab.research.google.com/notebooks/data_table.ipynb>data table notebook</a>'\n",
              "            + ' to learn more about interactive tables.';\n",
              "          element.innerHTML = '';\n",
              "          dataTable['output_type'] = 'display_data';\n",
              "          await google.colab.output.renderOutput(dataTable, element);\n",
              "          const docLink = document.createElement('div');\n",
              "          docLink.innerHTML = docLinkHtml;\n",
              "          element.appendChild(docLink);\n",
              "        }\n",
              "      </script>\n",
              "    </div>\n",
              "  </div>\n",
              "  "
            ],
            "text/plain": [
              "      age     sex     bmi  children smoker     region      charges\n",
              "0      19  female  27.900         0    yes  southwest  16884.92400\n",
              "1      18    male  33.770         1     no  southeast   1725.55230\n",
              "2      28    male  33.000         3     no  southeast   4449.46200\n",
              "3      33    male  22.705         0     no  northwest  21984.47061\n",
              "4      32    male  28.880         0     no  northwest   3866.85520\n",
              "...   ...     ...     ...       ...    ...        ...          ...\n",
              "1333   50    male  30.970         3     no  northwest  10600.54830\n",
              "1334   18  female  31.920         0     no  northeast   2205.98080\n",
              "1335   18  female  36.850         0     no  southeast   1629.83350\n",
              "1336   21  female  25.800         0     no  southwest   2007.94500\n",
              "1337   61  female  29.070         0    yes  northwest  29141.36030\n",
              "\n",
              "[1338 rows x 7 columns]"
            ]
          },
          "metadata": {},
          "execution_count": 2
        }
      ]
    },
    {
      "cell_type": "markdown",
      "source": [
        "Now, we have to predict the charges based on the features data.\n",
        "\n",
        "Charges is our target.\n",
        "\n",
        "and\n",
        "\n",
        "Age, bmi etc. are our features."
      ],
      "metadata": {
        "id": "S-ppu6BZ6s3y"
      }
    },
    {
      "cell_type": "markdown",
      "source": [
        ""
      ],
      "metadata": {
        "id": "4iaoO7e86s0W"
      }
    },
    {
      "cell_type": "code",
      "source": [
        "#If we are working on juypter notebook software and our file is in our PC\n",
        "#we can upload the file using\n",
        "#df=pd.read_csv(\"C://...Complete file path....\")"
      ],
      "metadata": {
        "id": "PqK3ywQb5nWB"
      },
      "execution_count": null,
      "outputs": []
    },
    {
      "cell_type": "markdown",
      "source": [
        "These are some more methods using which we can get more info. about our dataset :"
      ],
      "metadata": {
        "id": "yOzgMSmi63R1"
      }
    },
    {
      "cell_type": "markdown",
      "source": [
        "-> describe() - descibes some of the statictical measures of our dataset like count, mean, standard deviation(std) etc."
      ],
      "metadata": {
        "id": "w8sqUks37XhK"
      }
    },
    {
      "cell_type": "code",
      "source": [
        "df.describe()"
      ],
      "metadata": {
        "colab": {
          "base_uri": "https://localhost:8080/",
          "height": 300
        },
        "id": "LJIowYfE6fTv",
        "outputId": "57b4dfd9-ec63-40a4-ac7b-b5678c3690ca"
      },
      "execution_count": null,
      "outputs": [
        {
          "output_type": "execute_result",
          "data": {
            "text/html": [
              "\n",
              "  <div id=\"df-7a65ef92-17da-4e58-a055-e2aec66729d1\">\n",
              "    <div class=\"colab-df-container\">\n",
              "      <div>\n",
              "<style scoped>\n",
              "    .dataframe tbody tr th:only-of-type {\n",
              "        vertical-align: middle;\n",
              "    }\n",
              "\n",
              "    .dataframe tbody tr th {\n",
              "        vertical-align: top;\n",
              "    }\n",
              "\n",
              "    .dataframe thead th {\n",
              "        text-align: right;\n",
              "    }\n",
              "</style>\n",
              "<table border=\"1\" class=\"dataframe\">\n",
              "  <thead>\n",
              "    <tr style=\"text-align: right;\">\n",
              "      <th></th>\n",
              "      <th>age</th>\n",
              "      <th>bmi</th>\n",
              "      <th>children</th>\n",
              "      <th>charges</th>\n",
              "    </tr>\n",
              "  </thead>\n",
              "  <tbody>\n",
              "    <tr>\n",
              "      <th>count</th>\n",
              "      <td>1338.000000</td>\n",
              "      <td>1338.000000</td>\n",
              "      <td>1338.000000</td>\n",
              "      <td>1338.000000</td>\n",
              "    </tr>\n",
              "    <tr>\n",
              "      <th>mean</th>\n",
              "      <td>39.207025</td>\n",
              "      <td>30.663397</td>\n",
              "      <td>1.094918</td>\n",
              "      <td>13270.422265</td>\n",
              "    </tr>\n",
              "    <tr>\n",
              "      <th>std</th>\n",
              "      <td>14.049960</td>\n",
              "      <td>6.098187</td>\n",
              "      <td>1.205493</td>\n",
              "      <td>12110.011237</td>\n",
              "    </tr>\n",
              "    <tr>\n",
              "      <th>min</th>\n",
              "      <td>18.000000</td>\n",
              "      <td>15.960000</td>\n",
              "      <td>0.000000</td>\n",
              "      <td>1121.873900</td>\n",
              "    </tr>\n",
              "    <tr>\n",
              "      <th>25%</th>\n",
              "      <td>27.000000</td>\n",
              "      <td>26.296250</td>\n",
              "      <td>0.000000</td>\n",
              "      <td>4740.287150</td>\n",
              "    </tr>\n",
              "    <tr>\n",
              "      <th>50%</th>\n",
              "      <td>39.000000</td>\n",
              "      <td>30.400000</td>\n",
              "      <td>1.000000</td>\n",
              "      <td>9382.033000</td>\n",
              "    </tr>\n",
              "    <tr>\n",
              "      <th>75%</th>\n",
              "      <td>51.000000</td>\n",
              "      <td>34.693750</td>\n",
              "      <td>2.000000</td>\n",
              "      <td>16639.912515</td>\n",
              "    </tr>\n",
              "    <tr>\n",
              "      <th>max</th>\n",
              "      <td>64.000000</td>\n",
              "      <td>53.130000</td>\n",
              "      <td>5.000000</td>\n",
              "      <td>63770.428010</td>\n",
              "    </tr>\n",
              "  </tbody>\n",
              "</table>\n",
              "</div>\n",
              "      <button class=\"colab-df-convert\" onclick=\"convertToInteractive('df-7a65ef92-17da-4e58-a055-e2aec66729d1')\"\n",
              "              title=\"Convert this dataframe to an interactive table.\"\n",
              "              style=\"display:none;\">\n",
              "        \n",
              "  <svg xmlns=\"http://www.w3.org/2000/svg\" height=\"24px\"viewBox=\"0 0 24 24\"\n",
              "       width=\"24px\">\n",
              "    <path d=\"M0 0h24v24H0V0z\" fill=\"none\"/>\n",
              "    <path d=\"M18.56 5.44l.94 2.06.94-2.06 2.06-.94-2.06-.94-.94-2.06-.94 2.06-2.06.94zm-11 1L8.5 8.5l.94-2.06 2.06-.94-2.06-.94L8.5 2.5l-.94 2.06-2.06.94zm10 10l.94 2.06.94-2.06 2.06-.94-2.06-.94-.94-2.06-.94 2.06-2.06.94z\"/><path d=\"M17.41 7.96l-1.37-1.37c-.4-.4-.92-.59-1.43-.59-.52 0-1.04.2-1.43.59L10.3 9.45l-7.72 7.72c-.78.78-.78 2.05 0 2.83L4 21.41c.39.39.9.59 1.41.59.51 0 1.02-.2 1.41-.59l7.78-7.78 2.81-2.81c.8-.78.8-2.07 0-2.86zM5.41 20L4 18.59l7.72-7.72 1.47 1.35L5.41 20z\"/>\n",
              "  </svg>\n",
              "      </button>\n",
              "      \n",
              "  <style>\n",
              "    .colab-df-container {\n",
              "      display:flex;\n",
              "      flex-wrap:wrap;\n",
              "      gap: 12px;\n",
              "    }\n",
              "\n",
              "    .colab-df-convert {\n",
              "      background-color: #E8F0FE;\n",
              "      border: none;\n",
              "      border-radius: 50%;\n",
              "      cursor: pointer;\n",
              "      display: none;\n",
              "      fill: #1967D2;\n",
              "      height: 32px;\n",
              "      padding: 0 0 0 0;\n",
              "      width: 32px;\n",
              "    }\n",
              "\n",
              "    .colab-df-convert:hover {\n",
              "      background-color: #E2EBFA;\n",
              "      box-shadow: 0px 1px 2px rgba(60, 64, 67, 0.3), 0px 1px 3px 1px rgba(60, 64, 67, 0.15);\n",
              "      fill: #174EA6;\n",
              "    }\n",
              "\n",
              "    [theme=dark] .colab-df-convert {\n",
              "      background-color: #3B4455;\n",
              "      fill: #D2E3FC;\n",
              "    }\n",
              "\n",
              "    [theme=dark] .colab-df-convert:hover {\n",
              "      background-color: #434B5C;\n",
              "      box-shadow: 0px 1px 3px 1px rgba(0, 0, 0, 0.15);\n",
              "      filter: drop-shadow(0px 1px 2px rgba(0, 0, 0, 0.3));\n",
              "      fill: #FFFFFF;\n",
              "    }\n",
              "  </style>\n",
              "\n",
              "      <script>\n",
              "        const buttonEl =\n",
              "          document.querySelector('#df-7a65ef92-17da-4e58-a055-e2aec66729d1 button.colab-df-convert');\n",
              "        buttonEl.style.display =\n",
              "          google.colab.kernel.accessAllowed ? 'block' : 'none';\n",
              "\n",
              "        async function convertToInteractive(key) {\n",
              "          const element = document.querySelector('#df-7a65ef92-17da-4e58-a055-e2aec66729d1');\n",
              "          const dataTable =\n",
              "            await google.colab.kernel.invokeFunction('convertToInteractive',\n",
              "                                                     [key], {});\n",
              "          if (!dataTable) return;\n",
              "\n",
              "          const docLinkHtml = 'Like what you see? Visit the ' +\n",
              "            '<a target=\"_blank\" href=https://colab.research.google.com/notebooks/data_table.ipynb>data table notebook</a>'\n",
              "            + ' to learn more about interactive tables.';\n",
              "          element.innerHTML = '';\n",
              "          dataTable['output_type'] = 'display_data';\n",
              "          await google.colab.output.renderOutput(dataTable, element);\n",
              "          const docLink = document.createElement('div');\n",
              "          docLink.innerHTML = docLinkHtml;\n",
              "          element.appendChild(docLink);\n",
              "        }\n",
              "      </script>\n",
              "    </div>\n",
              "  </div>\n",
              "  "
            ],
            "text/plain": [
              "               age          bmi     children       charges\n",
              "count  1338.000000  1338.000000  1338.000000   1338.000000\n",
              "mean     39.207025    30.663397     1.094918  13270.422265\n",
              "std      14.049960     6.098187     1.205493  12110.011237\n",
              "min      18.000000    15.960000     0.000000   1121.873900\n",
              "25%      27.000000    26.296250     0.000000   4740.287150\n",
              "50%      39.000000    30.400000     1.000000   9382.033000\n",
              "75%      51.000000    34.693750     2.000000  16639.912515\n",
              "max      64.000000    53.130000     5.000000  63770.428010"
            ]
          },
          "metadata": {},
          "execution_count": 4
        }
      ]
    },
    {
      "cell_type": "markdown",
      "source": [
        "-> shape - for knowing the shape of our dataset (rows, cloumns)"
      ],
      "metadata": {
        "id": "XQqw-omc7wCN"
      }
    },
    {
      "cell_type": "code",
      "source": [
        "df.shape"
      ],
      "metadata": {
        "colab": {
          "base_uri": "https://localhost:8080/"
        },
        "id": "LKde-v5z7qJf",
        "outputId": "b18cd955-4185-4e96-f57a-9014d198d943"
      },
      "execution_count": null,
      "outputs": [
        {
          "output_type": "execute_result",
          "data": {
            "text/plain": [
              "(1338, 7)"
            ]
          },
          "metadata": {},
          "execution_count": 5
        }
      ]
    },
    {
      "cell_type": "markdown",
      "source": [
        "-> info() - it gives total info. of our dataset including types of data\n",
        "\n",
        "(object in our o/p means string)"
      ],
      "metadata": {
        "id": "Xf40IF_D7_wa"
      }
    },
    {
      "cell_type": "code",
      "source": [
        "df.info()"
      ],
      "metadata": {
        "colab": {
          "base_uri": "https://localhost:8080/"
        },
        "id": "EJ8Rmmcx75mN",
        "outputId": "0fa829c5-bc12-4c29-d132-4abf64411dd4"
      },
      "execution_count": null,
      "outputs": [
        {
          "output_type": "stream",
          "name": "stdout",
          "text": [
            "<class 'pandas.core.frame.DataFrame'>\n",
            "RangeIndex: 1338 entries, 0 to 1337\n",
            "Data columns (total 7 columns):\n",
            " #   Column    Non-Null Count  Dtype  \n",
            "---  ------    --------------  -----  \n",
            " 0   age       1338 non-null   int64  \n",
            " 1   sex       1338 non-null   object \n",
            " 2   bmi       1338 non-null   float64\n",
            " 3   children  1338 non-null   int64  \n",
            " 4   smoker    1338 non-null   object \n",
            " 5   region    1338 non-null   object \n",
            " 6   charges   1338 non-null   float64\n",
            "dtypes: float64(2), int64(2), object(3)\n",
            "memory usage: 73.3+ KB\n"
          ]
        }
      ]
    },
    {
      "cell_type": "markdown",
      "source": [
        "-> isnull().sum() - gives us the total count of null values in our data is there are any.\n",
        "\n",
        "(we can check null values using this method, or above info() method by observing its o/p)"
      ],
      "metadata": {
        "id": "Ue_5ZB2p8dsY"
      }
    },
    {
      "cell_type": "code",
      "source": [
        "df.isnull().sum()\n",
        "#isnull() gives us whether the value is null or not\n",
        "#sum() gives us sum of all null values"
      ],
      "metadata": {
        "colab": {
          "base_uri": "https://localhost:8080/"
        },
        "id": "tS9s9J_x8Zaa",
        "outputId": "bc7ab4af-68fd-493e-ee6c-c97f55696048"
      },
      "execution_count": null,
      "outputs": [
        {
          "output_type": "execute_result",
          "data": {
            "text/plain": [
              "age         0\n",
              "sex         0\n",
              "bmi         0\n",
              "children    0\n",
              "smoker      0\n",
              "region      0\n",
              "charges     0\n",
              "dtype: int64"
            ]
          },
          "metadata": {},
          "execution_count": 7
        }
      ]
    },
    {
      "cell_type": "markdown",
      "source": [
        "Categorical data : In statistics, a categorical variable is a variable that can take on one of a limited, and usually fixed, number of possible values, assigning each individual or other unit of observation to a particular group or nominal category on the basis of some qualitative property."
      ],
      "metadata": {
        "id": "ziaz-oyTjaPp"
      }
    },
    {
      "cell_type": "markdown",
      "source": [
        "Now we want to apply any of the preprocessing techniques which we studied.\n",
        "\n",
        "Our preprocessing techniques are statistical methods, and we can only apply them on numerical data.\n",
        "\n",
        "We can't apply preprocessing techniques on Categorial data (object i.e. string or a given range of data.\n",
        "For ex: children column in above table, it is showing int type , but it is a categorical data as a person is divided in categories i.e. have 0 child, 1 child, 2...and so on) \n",
        "\n",
        "So we have to convert categorical data to numerical data so that we can apply any preprocessing technique."
      ],
      "metadata": {
        "id": "YgwHX4cphSlP"
      }
    },
    {
      "cell_type": "markdown",
      "source": [
        "Ex: Here, in this dataset, a person can have max. 5 children..so we'll convert no. of children in different categories(dummy variables column), like if 1child, 2 child, 3child..so on.\n",
        "\n",
        "If a person have 0 child then 0child column will have 1 value and other columns will have 0value.\n",
        "\n",
        "Similarly, other categorical value columns of the dataset will be divided in dummy variables (i.e. sex, children, smoker, region).\n",
        "\n",
        "No. of dummy variables for a single categorial value column will be depend on no. of categories i.e. for sex -male, female.. these are 2 categories..so no. of dummy variable column will be 1...if male then value will be 1...if female value will be 0."
      ],
      "metadata": {
        "id": "dThr8-LyqAov"
      }
    },
    {
      "cell_type": "markdown",
      "source": [
        "# Method-1: (One hot encoding)"
      ],
      "metadata": {
        "id": "4ZspzUr95M2y"
      }
    },
    {
      "cell_type": "code",
      "source": [
        "categorical_names=['sex','smoker','region','children']  #assigning the categories\n",
        "\n",
        "#df_encoder is a variable name\n",
        "#assigning data, name to dummy variables \n",
        "df_encoder=pd.get_dummies(data=df, prefix='OHE', prefix_sep='_', columns=categorical_names, drop_first=True, dtype='int8')\n",
        "#drop_first means dropiing the forst dummy column i.e. in case of sex, female is considered 1st column and it is dropped\n",
        "#and male is used for assigning values\n",
        "\n",
        "df_encoder  #revised dataset"
      ],
      "metadata": {
        "colab": {
          "base_uri": "https://localhost:8080/",
          "height": 423
        },
        "id": "geGCz9oThTC_",
        "outputId": "06be2afe-6f59-4945-d2db-650d89869c7b"
      },
      "execution_count": null,
      "outputs": [
        {
          "output_type": "execute_result",
          "data": {
            "text/html": [
              "\n",
              "  <div id=\"df-61a82df3-31fa-4aa1-8aa9-6b124746db8a\">\n",
              "    <div class=\"colab-df-container\">\n",
              "      <div>\n",
              "<style scoped>\n",
              "    .dataframe tbody tr th:only-of-type {\n",
              "        vertical-align: middle;\n",
              "    }\n",
              "\n",
              "    .dataframe tbody tr th {\n",
              "        vertical-align: top;\n",
              "    }\n",
              "\n",
              "    .dataframe thead th {\n",
              "        text-align: right;\n",
              "    }\n",
              "</style>\n",
              "<table border=\"1\" class=\"dataframe\">\n",
              "  <thead>\n",
              "    <tr style=\"text-align: right;\">\n",
              "      <th></th>\n",
              "      <th>age</th>\n",
              "      <th>bmi</th>\n",
              "      <th>charges</th>\n",
              "      <th>OHE_male</th>\n",
              "      <th>OHE_yes</th>\n",
              "      <th>OHE_northwest</th>\n",
              "      <th>OHE_southeast</th>\n",
              "      <th>OHE_southwest</th>\n",
              "      <th>OHE_1</th>\n",
              "      <th>OHE_2</th>\n",
              "      <th>OHE_3</th>\n",
              "      <th>OHE_4</th>\n",
              "      <th>OHE_5</th>\n",
              "    </tr>\n",
              "  </thead>\n",
              "  <tbody>\n",
              "    <tr>\n",
              "      <th>0</th>\n",
              "      <td>19</td>\n",
              "      <td>27.900</td>\n",
              "      <td>16884.92400</td>\n",
              "      <td>0</td>\n",
              "      <td>1</td>\n",
              "      <td>0</td>\n",
              "      <td>0</td>\n",
              "      <td>1</td>\n",
              "      <td>0</td>\n",
              "      <td>0</td>\n",
              "      <td>0</td>\n",
              "      <td>0</td>\n",
              "      <td>0</td>\n",
              "    </tr>\n",
              "    <tr>\n",
              "      <th>1</th>\n",
              "      <td>18</td>\n",
              "      <td>33.770</td>\n",
              "      <td>1725.55230</td>\n",
              "      <td>1</td>\n",
              "      <td>0</td>\n",
              "      <td>0</td>\n",
              "      <td>1</td>\n",
              "      <td>0</td>\n",
              "      <td>1</td>\n",
              "      <td>0</td>\n",
              "      <td>0</td>\n",
              "      <td>0</td>\n",
              "      <td>0</td>\n",
              "    </tr>\n",
              "    <tr>\n",
              "      <th>2</th>\n",
              "      <td>28</td>\n",
              "      <td>33.000</td>\n",
              "      <td>4449.46200</td>\n",
              "      <td>1</td>\n",
              "      <td>0</td>\n",
              "      <td>0</td>\n",
              "      <td>1</td>\n",
              "      <td>0</td>\n",
              "      <td>0</td>\n",
              "      <td>0</td>\n",
              "      <td>1</td>\n",
              "      <td>0</td>\n",
              "      <td>0</td>\n",
              "    </tr>\n",
              "    <tr>\n",
              "      <th>3</th>\n",
              "      <td>33</td>\n",
              "      <td>22.705</td>\n",
              "      <td>21984.47061</td>\n",
              "      <td>1</td>\n",
              "      <td>0</td>\n",
              "      <td>1</td>\n",
              "      <td>0</td>\n",
              "      <td>0</td>\n",
              "      <td>0</td>\n",
              "      <td>0</td>\n",
              "      <td>0</td>\n",
              "      <td>0</td>\n",
              "      <td>0</td>\n",
              "    </tr>\n",
              "    <tr>\n",
              "      <th>4</th>\n",
              "      <td>32</td>\n",
              "      <td>28.880</td>\n",
              "      <td>3866.85520</td>\n",
              "      <td>1</td>\n",
              "      <td>0</td>\n",
              "      <td>1</td>\n",
              "      <td>0</td>\n",
              "      <td>0</td>\n",
              "      <td>0</td>\n",
              "      <td>0</td>\n",
              "      <td>0</td>\n",
              "      <td>0</td>\n",
              "      <td>0</td>\n",
              "    </tr>\n",
              "    <tr>\n",
              "      <th>...</th>\n",
              "      <td>...</td>\n",
              "      <td>...</td>\n",
              "      <td>...</td>\n",
              "      <td>...</td>\n",
              "      <td>...</td>\n",
              "      <td>...</td>\n",
              "      <td>...</td>\n",
              "      <td>...</td>\n",
              "      <td>...</td>\n",
              "      <td>...</td>\n",
              "      <td>...</td>\n",
              "      <td>...</td>\n",
              "      <td>...</td>\n",
              "    </tr>\n",
              "    <tr>\n",
              "      <th>1333</th>\n",
              "      <td>50</td>\n",
              "      <td>30.970</td>\n",
              "      <td>10600.54830</td>\n",
              "      <td>1</td>\n",
              "      <td>0</td>\n",
              "      <td>1</td>\n",
              "      <td>0</td>\n",
              "      <td>0</td>\n",
              "      <td>0</td>\n",
              "      <td>0</td>\n",
              "      <td>1</td>\n",
              "      <td>0</td>\n",
              "      <td>0</td>\n",
              "    </tr>\n",
              "    <tr>\n",
              "      <th>1334</th>\n",
              "      <td>18</td>\n",
              "      <td>31.920</td>\n",
              "      <td>2205.98080</td>\n",
              "      <td>0</td>\n",
              "      <td>0</td>\n",
              "      <td>0</td>\n",
              "      <td>0</td>\n",
              "      <td>0</td>\n",
              "      <td>0</td>\n",
              "      <td>0</td>\n",
              "      <td>0</td>\n",
              "      <td>0</td>\n",
              "      <td>0</td>\n",
              "    </tr>\n",
              "    <tr>\n",
              "      <th>1335</th>\n",
              "      <td>18</td>\n",
              "      <td>36.850</td>\n",
              "      <td>1629.83350</td>\n",
              "      <td>0</td>\n",
              "      <td>0</td>\n",
              "      <td>0</td>\n",
              "      <td>1</td>\n",
              "      <td>0</td>\n",
              "      <td>0</td>\n",
              "      <td>0</td>\n",
              "      <td>0</td>\n",
              "      <td>0</td>\n",
              "      <td>0</td>\n",
              "    </tr>\n",
              "    <tr>\n",
              "      <th>1336</th>\n",
              "      <td>21</td>\n",
              "      <td>25.800</td>\n",
              "      <td>2007.94500</td>\n",
              "      <td>0</td>\n",
              "      <td>0</td>\n",
              "      <td>0</td>\n",
              "      <td>0</td>\n",
              "      <td>1</td>\n",
              "      <td>0</td>\n",
              "      <td>0</td>\n",
              "      <td>0</td>\n",
              "      <td>0</td>\n",
              "      <td>0</td>\n",
              "    </tr>\n",
              "    <tr>\n",
              "      <th>1337</th>\n",
              "      <td>61</td>\n",
              "      <td>29.070</td>\n",
              "      <td>29141.36030</td>\n",
              "      <td>0</td>\n",
              "      <td>1</td>\n",
              "      <td>1</td>\n",
              "      <td>0</td>\n",
              "      <td>0</td>\n",
              "      <td>0</td>\n",
              "      <td>0</td>\n",
              "      <td>0</td>\n",
              "      <td>0</td>\n",
              "      <td>0</td>\n",
              "    </tr>\n",
              "  </tbody>\n",
              "</table>\n",
              "<p>1338 rows × 13 columns</p>\n",
              "</div>\n",
              "      <button class=\"colab-df-convert\" onclick=\"convertToInteractive('df-61a82df3-31fa-4aa1-8aa9-6b124746db8a')\"\n",
              "              title=\"Convert this dataframe to an interactive table.\"\n",
              "              style=\"display:none;\">\n",
              "        \n",
              "  <svg xmlns=\"http://www.w3.org/2000/svg\" height=\"24px\"viewBox=\"0 0 24 24\"\n",
              "       width=\"24px\">\n",
              "    <path d=\"M0 0h24v24H0V0z\" fill=\"none\"/>\n",
              "    <path d=\"M18.56 5.44l.94 2.06.94-2.06 2.06-.94-2.06-.94-.94-2.06-.94 2.06-2.06.94zm-11 1L8.5 8.5l.94-2.06 2.06-.94-2.06-.94L8.5 2.5l-.94 2.06-2.06.94zm10 10l.94 2.06.94-2.06 2.06-.94-2.06-.94-.94-2.06-.94 2.06-2.06.94z\"/><path d=\"M17.41 7.96l-1.37-1.37c-.4-.4-.92-.59-1.43-.59-.52 0-1.04.2-1.43.59L10.3 9.45l-7.72 7.72c-.78.78-.78 2.05 0 2.83L4 21.41c.39.39.9.59 1.41.59.51 0 1.02-.2 1.41-.59l7.78-7.78 2.81-2.81c.8-.78.8-2.07 0-2.86zM5.41 20L4 18.59l7.72-7.72 1.47 1.35L5.41 20z\"/>\n",
              "  </svg>\n",
              "      </button>\n",
              "      \n",
              "  <style>\n",
              "    .colab-df-container {\n",
              "      display:flex;\n",
              "      flex-wrap:wrap;\n",
              "      gap: 12px;\n",
              "    }\n",
              "\n",
              "    .colab-df-convert {\n",
              "      background-color: #E8F0FE;\n",
              "      border: none;\n",
              "      border-radius: 50%;\n",
              "      cursor: pointer;\n",
              "      display: none;\n",
              "      fill: #1967D2;\n",
              "      height: 32px;\n",
              "      padding: 0 0 0 0;\n",
              "      width: 32px;\n",
              "    }\n",
              "\n",
              "    .colab-df-convert:hover {\n",
              "      background-color: #E2EBFA;\n",
              "      box-shadow: 0px 1px 2px rgba(60, 64, 67, 0.3), 0px 1px 3px 1px rgba(60, 64, 67, 0.15);\n",
              "      fill: #174EA6;\n",
              "    }\n",
              "\n",
              "    [theme=dark] .colab-df-convert {\n",
              "      background-color: #3B4455;\n",
              "      fill: #D2E3FC;\n",
              "    }\n",
              "\n",
              "    [theme=dark] .colab-df-convert:hover {\n",
              "      background-color: #434B5C;\n",
              "      box-shadow: 0px 1px 3px 1px rgba(0, 0, 0, 0.15);\n",
              "      filter: drop-shadow(0px 1px 2px rgba(0, 0, 0, 0.3));\n",
              "      fill: #FFFFFF;\n",
              "    }\n",
              "  </style>\n",
              "\n",
              "      <script>\n",
              "        const buttonEl =\n",
              "          document.querySelector('#df-61a82df3-31fa-4aa1-8aa9-6b124746db8a button.colab-df-convert');\n",
              "        buttonEl.style.display =\n",
              "          google.colab.kernel.accessAllowed ? 'block' : 'none';\n",
              "\n",
              "        async function convertToInteractive(key) {\n",
              "          const element = document.querySelector('#df-61a82df3-31fa-4aa1-8aa9-6b124746db8a');\n",
              "          const dataTable =\n",
              "            await google.colab.kernel.invokeFunction('convertToInteractive',\n",
              "                                                     [key], {});\n",
              "          if (!dataTable) return;\n",
              "\n",
              "          const docLinkHtml = 'Like what you see? Visit the ' +\n",
              "            '<a target=\"_blank\" href=https://colab.research.google.com/notebooks/data_table.ipynb>data table notebook</a>'\n",
              "            + ' to learn more about interactive tables.';\n",
              "          element.innerHTML = '';\n",
              "          dataTable['output_type'] = 'display_data';\n",
              "          await google.colab.output.renderOutput(dataTable, element);\n",
              "          const docLink = document.createElement('div');\n",
              "          docLink.innerHTML = docLinkHtml;\n",
              "          element.appendChild(docLink);\n",
              "        }\n",
              "      </script>\n",
              "    </div>\n",
              "  </div>\n",
              "  "
            ],
            "text/plain": [
              "      age     bmi      charges  OHE_male  ...  OHE_2  OHE_3  OHE_4  OHE_5\n",
              "0      19  27.900  16884.92400         0  ...      0      0      0      0\n",
              "1      18  33.770   1725.55230         1  ...      0      0      0      0\n",
              "2      28  33.000   4449.46200         1  ...      0      1      0      0\n",
              "3      33  22.705  21984.47061         1  ...      0      0      0      0\n",
              "4      32  28.880   3866.85520         1  ...      0      0      0      0\n",
              "...   ...     ...          ...       ...  ...    ...    ...    ...    ...\n",
              "1333   50  30.970  10600.54830         1  ...      0      1      0      0\n",
              "1334   18  31.920   2205.98080         0  ...      0      0      0      0\n",
              "1335   18  36.850   1629.83350         0  ...      0      0      0      0\n",
              "1336   21  25.800   2007.94500         0  ...      0      0      0      0\n",
              "1337   61  29.070  29141.36030         0  ...      0      0      0      0\n",
              "\n",
              "[1338 rows x 13 columns]"
            ]
          },
          "metadata": {},
          "execution_count": 9
        }
      ]
    },
    {
      "cell_type": "markdown",
      "source": [
        "OHE_male, OHE_yes, OHE_northwest etc are dummy variables.\n",
        "\n",
        "Lets see region dummy variables : OHE_northwest, OHE_southeast, OHE_southwest... if all these column values are zero that means person belongs to northeast region."
      ],
      "metadata": {
        "id": "gFrxckOE08Ii"
      }
    },
    {
      "cell_type": "markdown",
      "source": [
        "![Screenshot 2022-02-27 115027.png](data:image/png;base64,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)\n",
        "\n",
        "0,1,2,3 represents people i.e. person 1, person 2..so on"
      ],
      "metadata": {
        "id": "ZWaKkGHS1fyv"
      }
    },
    {
      "cell_type": "markdown",
      "source": [
        "Now we can see that dummy variables create a sparse matrix:\n",
        "![image.png](data:image/png;base64,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)\n",
        "\n",
        "And we know that when machine computes values using sparse matrix.. computation time is much lower as compared to a matrix containing different values.\n",
        "\n",
        "For ex: children column have values 0, 1, 2, 3, 4, 5 in orginial dataset.\n",
        "But now we have created dummy variables and these contains only 0,1 .. and as machine always prefer data in 0,1 form i.e. why computation will be faster in case of dummy variables as compare to column containng diff. values.\n",
        "\n",
        "# -> it is not compulsory to convert int categorical data into dummy variables , but to make computation faster we should do it."
      ],
      "metadata": {
        "id": "z4XjaSXL1ydy"
      }
    },
    {
      "cell_type": "code",
      "source": [
        "#df_encoder (name of revised dataset i.e. including dummy variables)\n",
        "\n",
        "df_encoder"
      ],
      "metadata": {
        "colab": {
          "base_uri": "https://localhost:8080/",
          "height": 423
        },
        "id": "_1AIc4fE7QVW",
        "outputId": "567cc0f0-9b38-4b3e-f978-a6e5ba20cdd0"
      },
      "execution_count": 10,
      "outputs": [
        {
          "output_type": "execute_result",
          "data": {
            "text/html": [
              "\n",
              "  <div id=\"df-a805b3ac-fa52-47ff-9400-f825ff695ed0\">\n",
              "    <div class=\"colab-df-container\">\n",
              "      <div>\n",
              "<style scoped>\n",
              "    .dataframe tbody tr th:only-of-type {\n",
              "        vertical-align: middle;\n",
              "    }\n",
              "\n",
              "    .dataframe tbody tr th {\n",
              "        vertical-align: top;\n",
              "    }\n",
              "\n",
              "    .dataframe thead th {\n",
              "        text-align: right;\n",
              "    }\n",
              "</style>\n",
              "<table border=\"1\" class=\"dataframe\">\n",
              "  <thead>\n",
              "    <tr style=\"text-align: right;\">\n",
              "      <th></th>\n",
              "      <th>age</th>\n",
              "      <th>bmi</th>\n",
              "      <th>charges</th>\n",
              "      <th>OHE_male</th>\n",
              "      <th>OHE_yes</th>\n",
              "      <th>OHE_northwest</th>\n",
              "      <th>OHE_southeast</th>\n",
              "      <th>OHE_southwest</th>\n",
              "      <th>OHE_1</th>\n",
              "      <th>OHE_2</th>\n",
              "      <th>OHE_3</th>\n",
              "      <th>OHE_4</th>\n",
              "      <th>OHE_5</th>\n",
              "    </tr>\n",
              "  </thead>\n",
              "  <tbody>\n",
              "    <tr>\n",
              "      <th>0</th>\n",
              "      <td>19</td>\n",
              "      <td>27.900</td>\n",
              "      <td>16884.92400</td>\n",
              "      <td>0</td>\n",
              "      <td>1</td>\n",
              "      <td>0</td>\n",
              "      <td>0</td>\n",
              "      <td>1</td>\n",
              "      <td>0</td>\n",
              "      <td>0</td>\n",
              "      <td>0</td>\n",
              "      <td>0</td>\n",
              "      <td>0</td>\n",
              "    </tr>\n",
              "    <tr>\n",
              "      <th>1</th>\n",
              "      <td>18</td>\n",
              "      <td>33.770</td>\n",
              "      <td>1725.55230</td>\n",
              "      <td>1</td>\n",
              "      <td>0</td>\n",
              "      <td>0</td>\n",
              "      <td>1</td>\n",
              "      <td>0</td>\n",
              "      <td>1</td>\n",
              "      <td>0</td>\n",
              "      <td>0</td>\n",
              "      <td>0</td>\n",
              "      <td>0</td>\n",
              "    </tr>\n",
              "    <tr>\n",
              "      <th>2</th>\n",
              "      <td>28</td>\n",
              "      <td>33.000</td>\n",
              "      <td>4449.46200</td>\n",
              "      <td>1</td>\n",
              "      <td>0</td>\n",
              "      <td>0</td>\n",
              "      <td>1</td>\n",
              "      <td>0</td>\n",
              "      <td>0</td>\n",
              "      <td>0</td>\n",
              "      <td>1</td>\n",
              "      <td>0</td>\n",
              "      <td>0</td>\n",
              "    </tr>\n",
              "    <tr>\n",
              "      <th>3</th>\n",
              "      <td>33</td>\n",
              "      <td>22.705</td>\n",
              "      <td>21984.47061</td>\n",
              "      <td>1</td>\n",
              "      <td>0</td>\n",
              "      <td>1</td>\n",
              "      <td>0</td>\n",
              "      <td>0</td>\n",
              "      <td>0</td>\n",
              "      <td>0</td>\n",
              "      <td>0</td>\n",
              "      <td>0</td>\n",
              "      <td>0</td>\n",
              "    </tr>\n",
              "    <tr>\n",
              "      <th>4</th>\n",
              "      <td>32</td>\n",
              "      <td>28.880</td>\n",
              "      <td>3866.85520</td>\n",
              "      <td>1</td>\n",
              "      <td>0</td>\n",
              "      <td>1</td>\n",
              "      <td>0</td>\n",
              "      <td>0</td>\n",
              "      <td>0</td>\n",
              "      <td>0</td>\n",
              "      <td>0</td>\n",
              "      <td>0</td>\n",
              "      <td>0</td>\n",
              "    </tr>\n",
              "    <tr>\n",
              "      <th>...</th>\n",
              "      <td>...</td>\n",
              "      <td>...</td>\n",
              "      <td>...</td>\n",
              "      <td>...</td>\n",
              "      <td>...</td>\n",
              "      <td>...</td>\n",
              "      <td>...</td>\n",
              "      <td>...</td>\n",
              "      <td>...</td>\n",
              "      <td>...</td>\n",
              "      <td>...</td>\n",
              "      <td>...</td>\n",
              "      <td>...</td>\n",
              "    </tr>\n",
              "    <tr>\n",
              "      <th>1333</th>\n",
              "      <td>50</td>\n",
              "      <td>30.970</td>\n",
              "      <td>10600.54830</td>\n",
              "      <td>1</td>\n",
              "      <td>0</td>\n",
              "      <td>1</td>\n",
              "      <td>0</td>\n",
              "      <td>0</td>\n",
              "      <td>0</td>\n",
              "      <td>0</td>\n",
              "      <td>1</td>\n",
              "      <td>0</td>\n",
              "      <td>0</td>\n",
              "    </tr>\n",
              "    <tr>\n",
              "      <th>1334</th>\n",
              "      <td>18</td>\n",
              "      <td>31.920</td>\n",
              "      <td>2205.98080</td>\n",
              "      <td>0</td>\n",
              "      <td>0</td>\n",
              "      <td>0</td>\n",
              "      <td>0</td>\n",
              "      <td>0</td>\n",
              "      <td>0</td>\n",
              "      <td>0</td>\n",
              "      <td>0</td>\n",
              "      <td>0</td>\n",
              "      <td>0</td>\n",
              "    </tr>\n",
              "    <tr>\n",
              "      <th>1335</th>\n",
              "      <td>18</td>\n",
              "      <td>36.850</td>\n",
              "      <td>1629.83350</td>\n",
              "      <td>0</td>\n",
              "      <td>0</td>\n",
              "      <td>0</td>\n",
              "      <td>1</td>\n",
              "      <td>0</td>\n",
              "      <td>0</td>\n",
              "      <td>0</td>\n",
              "      <td>0</td>\n",
              "      <td>0</td>\n",
              "      <td>0</td>\n",
              "    </tr>\n",
              "    <tr>\n",
              "      <th>1336</th>\n",
              "      <td>21</td>\n",
              "      <td>25.800</td>\n",
              "      <td>2007.94500</td>\n",
              "      <td>0</td>\n",
              "      <td>0</td>\n",
              "      <td>0</td>\n",
              "      <td>0</td>\n",
              "      <td>1</td>\n",
              "      <td>0</td>\n",
              "      <td>0</td>\n",
              "      <td>0</td>\n",
              "      <td>0</td>\n",
              "      <td>0</td>\n",
              "    </tr>\n",
              "    <tr>\n",
              "      <th>1337</th>\n",
              "      <td>61</td>\n",
              "      <td>29.070</td>\n",
              "      <td>29141.36030</td>\n",
              "      <td>0</td>\n",
              "      <td>1</td>\n",
              "      <td>1</td>\n",
              "      <td>0</td>\n",
              "      <td>0</td>\n",
              "      <td>0</td>\n",
              "      <td>0</td>\n",
              "      <td>0</td>\n",
              "      <td>0</td>\n",
              "      <td>0</td>\n",
              "    </tr>\n",
              "  </tbody>\n",
              "</table>\n",
              "<p>1338 rows × 13 columns</p>\n",
              "</div>\n",
              "      <button class=\"colab-df-convert\" onclick=\"convertToInteractive('df-a805b3ac-fa52-47ff-9400-f825ff695ed0')\"\n",
              "              title=\"Convert this dataframe to an interactive table.\"\n",
              "              style=\"display:none;\">\n",
              "        \n",
              "  <svg xmlns=\"http://www.w3.org/2000/svg\" height=\"24px\"viewBox=\"0 0 24 24\"\n",
              "       width=\"24px\">\n",
              "    <path d=\"M0 0h24v24H0V0z\" fill=\"none\"/>\n",
              "    <path d=\"M18.56 5.44l.94 2.06.94-2.06 2.06-.94-2.06-.94-.94-2.06-.94 2.06-2.06.94zm-11 1L8.5 8.5l.94-2.06 2.06-.94-2.06-.94L8.5 2.5l-.94 2.06-2.06.94zm10 10l.94 2.06.94-2.06 2.06-.94-2.06-.94-.94-2.06-.94 2.06-2.06.94z\"/><path d=\"M17.41 7.96l-1.37-1.37c-.4-.4-.92-.59-1.43-.59-.52 0-1.04.2-1.43.59L10.3 9.45l-7.72 7.72c-.78.78-.78 2.05 0 2.83L4 21.41c.39.39.9.59 1.41.59.51 0 1.02-.2 1.41-.59l7.78-7.78 2.81-2.81c.8-.78.8-2.07 0-2.86zM5.41 20L4 18.59l7.72-7.72 1.47 1.35L5.41 20z\"/>\n",
              "  </svg>\n",
              "      </button>\n",
              "      \n",
              "  <style>\n",
              "    .colab-df-container {\n",
              "      display:flex;\n",
              "      flex-wrap:wrap;\n",
              "      gap: 12px;\n",
              "    }\n",
              "\n",
              "    .colab-df-convert {\n",
              "      background-color: #E8F0FE;\n",
              "      border: none;\n",
              "      border-radius: 50%;\n",
              "      cursor: pointer;\n",
              "      display: none;\n",
              "      fill: #1967D2;\n",
              "      height: 32px;\n",
              "      padding: 0 0 0 0;\n",
              "      width: 32px;\n",
              "    }\n",
              "\n",
              "    .colab-df-convert:hover {\n",
              "      background-color: #E2EBFA;\n",
              "      box-shadow: 0px 1px 2px rgba(60, 64, 67, 0.3), 0px 1px 3px 1px rgba(60, 64, 67, 0.15);\n",
              "      fill: #174EA6;\n",
              "    }\n",
              "\n",
              "    [theme=dark] .colab-df-convert {\n",
              "      background-color: #3B4455;\n",
              "      fill: #D2E3FC;\n",
              "    }\n",
              "\n",
              "    [theme=dark] .colab-df-convert:hover {\n",
              "      background-color: #434B5C;\n",
              "      box-shadow: 0px 1px 3px 1px rgba(0, 0, 0, 0.15);\n",
              "      filter: drop-shadow(0px 1px 2px rgba(0, 0, 0, 0.3));\n",
              "      fill: #FFFFFF;\n",
              "    }\n",
              "  </style>\n",
              "\n",
              "      <script>\n",
              "        const buttonEl =\n",
              "          document.querySelector('#df-a805b3ac-fa52-47ff-9400-f825ff695ed0 button.colab-df-convert');\n",
              "        buttonEl.style.display =\n",
              "          google.colab.kernel.accessAllowed ? 'block' : 'none';\n",
              "\n",
              "        async function convertToInteractive(key) {\n",
              "          const element = document.querySelector('#df-a805b3ac-fa52-47ff-9400-f825ff695ed0');\n",
              "          const dataTable =\n",
              "            await google.colab.kernel.invokeFunction('convertToInteractive',\n",
              "                                                     [key], {});\n",
              "          if (!dataTable) return;\n",
              "\n",
              "          const docLinkHtml = 'Like what you see? Visit the ' +\n",
              "            '<a target=\"_blank\" href=https://colab.research.google.com/notebooks/data_table.ipynb>data table notebook</a>'\n",
              "            + ' to learn more about interactive tables.';\n",
              "          element.innerHTML = '';\n",
              "          dataTable['output_type'] = 'display_data';\n",
              "          await google.colab.output.renderOutput(dataTable, element);\n",
              "          const docLink = document.createElement('div');\n",
              "          docLink.innerHTML = docLinkHtml;\n",
              "          element.appendChild(docLink);\n",
              "        }\n",
              "      </script>\n",
              "    </div>\n",
              "  </div>\n",
              "  "
            ],
            "text/plain": [
              "      age     bmi      charges  OHE_male  ...  OHE_2  OHE_3  OHE_4  OHE_5\n",
              "0      19  27.900  16884.92400         0  ...      0      0      0      0\n",
              "1      18  33.770   1725.55230         1  ...      0      0      0      0\n",
              "2      28  33.000   4449.46200         1  ...      0      1      0      0\n",
              "3      33  22.705  21984.47061         1  ...      0      0      0      0\n",
              "4      32  28.880   3866.85520         1  ...      0      0      0      0\n",
              "...   ...     ...          ...       ...  ...    ...    ...    ...    ...\n",
              "1333   50  30.970  10600.54830         1  ...      0      1      0      0\n",
              "1334   18  31.920   2205.98080         0  ...      0      0      0      0\n",
              "1335   18  36.850   1629.83350         0  ...      0      0      0      0\n",
              "1336   21  25.800   2007.94500         0  ...      0      0      0      0\n",
              "1337   61  29.070  29141.36030         0  ...      0      0      0      0\n",
              "\n",
              "[1338 rows x 13 columns]"
            ]
          },
          "metadata": {},
          "execution_count": 10
        }
      ]
    },
    {
      "cell_type": "markdown",
      "source": [
        "#Here, in above table we can see that our TARGET(charges) is also includes.\n",
        "Therefore, we have to spearate or features and target."
      ],
      "metadata": {
        "id": "lmlYRbBE7TgS"
      }
    },
    {
      "cell_type": "code",
      "source": [
        "X=df_encoder.drop(['charges'], axis=1)  #axis=1 means all the column values\n",
        "y=df_encoder['charges']\n",
        "print(X.shape, y.shape)\n",
        "\n",
        "# after dropping charges in X\n",
        "# X have only features\n",
        "# y have only target"
      ],
      "metadata": {
        "colab": {
          "base_uri": "https://localhost:8080/"
        },
        "id": "Z6CTCqxP7rZY",
        "outputId": "4934bfeb-e6c9-493d-f479-7a8da52df12e"
      },
      "execution_count": 11,
      "outputs": [
        {
          "output_type": "stream",
          "name": "stdout",
          "text": [
            "(1338, 12) (1338,)\n"
          ]
        }
      ]
    },
    {
      "cell_type": "markdown",
      "source": [
        "-> We have separated target & features as we'll apply data preprocessing tecniques only in features ..not in target as we can't change our target."
      ],
      "metadata": {
        "id": "U52QoLX1Ba1r"
      }
    },
    {
      "cell_type": "markdown",
      "source": [
        "# -> we can use any data preprocessing technique.. here we have used StandardScaler"
      ],
      "metadata": {
        "id": "DwcMoxsRCCM9"
      }
    },
    {
      "cell_type": "code",
      "source": [
        "from sklearn.preprocessing import StandardScaler\n",
        "scaler= StandardScaler()\n",
        "\n",
        "X_new=scaler.fit_transform(X)\n",
        "X_new"
      ],
      "metadata": {
        "colab": {
          "base_uri": "https://localhost:8080/"
        },
        "id": "heCqlvstCJFB",
        "outputId": "57e5f674-51cb-49f3-fe5d-c66eea1b6fbd"
      },
      "execution_count": 13,
      "outputs": [
        {
          "output_type": "execute_result",
          "data": {
            "text/plain": [
              "array([[-1.43876426, -0.45332   , -1.0105187 , ..., -0.3646069 ,\n",
              "        -0.13798683, -0.11677484],\n",
              "       [-1.50996545,  0.5096211 ,  0.98959079, ..., -0.3646069 ,\n",
              "        -0.13798683, -0.11677484],\n",
              "       [-0.79795355,  0.38330685,  0.98959079, ...,  2.74267989,\n",
              "        -0.13798683, -0.11677484],\n",
              "       ...,\n",
              "       [-1.50996545,  1.0148781 , -1.0105187 , ..., -0.3646069 ,\n",
              "        -0.13798683, -0.11677484],\n",
              "       [-1.29636188, -0.79781341, -1.0105187 , ..., -0.3646069 ,\n",
              "        -0.13798683, -0.11677484],\n",
              "       [ 1.55168573, -0.26138796, -1.0105187 , ..., -0.3646069 ,\n",
              "        -0.13798683, -0.11677484]])"
            ]
          },
          "metadata": {},
          "execution_count": 13
        }
      ]
    },
    {
      "cell_type": "markdown",
      "source": [
        "#splitting data for training and testing"
      ],
      "metadata": {
        "id": "g2EgwRk2E9RM"
      }
    },
    {
      "cell_type": "code",
      "source": [
        "from sklearn.model_selection import train_test_split\n",
        "X_train, X_test, y_train, y_test = train_test_split(X_new, y, test_size=0.30, random_state=0)\n",
        "print(X_train.shape, y_train.shape)\n",
        "print(X_test.shape, y_test.shape)\n",
        "\n",
        "#(936, 12) (936,)\n",
        "#(402, 12) (402,)\n",
        "#(936,12)- 936 rows and 12 columns for training (features)  (936,)- target for training\n",
        "#(402, 12)- 402 rows & 12 columns for testing (features)    (402,)-  target for testing "
      ],
      "metadata": {
        "colab": {
          "base_uri": "https://localhost:8080/"
        },
        "id": "fmbnidjcCvRy",
        "outputId": "5e71a4a6-cba1-4c0d-e41f-a860403502cf"
      },
      "execution_count": 17,
      "outputs": [
        {
          "output_type": "stream",
          "name": "stdout",
          "text": [
            "(936, 12) (936,)\n",
            "(402, 12) (402,)\n"
          ]
        }
      ]
    },
    {
      "cell_type": "markdown",
      "source": [
        "# Supervised learing model is divided into 2:\n",
        "1. Classification\n",
        "2. Regression\n",
        "\n",
        "(Some of the method can be both - regression & classification)"
      ],
      "metadata": {
        "id": "DrUrAOT2G3iX"
      }
    },
    {
      "cell_type": "markdown",
      "source": [
        "# 1. Classification\n",
        "If we can to classify/recognize something we use classification\n",
        "\n",
        "\n",
        "#2. Regression\n",
        "if we want to predict something we'll use regression"
      ],
      "metadata": {
        "id": "ukisbB7SHiiC"
      }
    },
    {
      "cell_type": "markdown",
      "source": [
        "---There areseveral regression methods... here we are applying Linear Regression method---"
      ],
      "metadata": {
        "id": "PF7B1pcVIkXC"
      }
    },
    {
      "cell_type": "code",
      "source": [
        "# here we are predicting insurance charge..so we'll use regression\n",
        "\n",
        "# we are using Linear regression algo. to train the model.. using X_train and y_train\n",
        "from sklearn.linear_model import LinearRegression\n",
        "model= LinearRegression().fit(X_train,y_train)\n",
        "\n",
        "#model is the variable name\n",
        "# LinearRegression() apply the LinearRegression algo.\n",
        "#we are fitting training data X_train, y_train"
      ],
      "metadata": {
        "id": "altNV7CPGECU"
      },
      "execution_count": 20,
      "outputs": []
    },
    {
      "cell_type": "code",
      "source": [
        "#testing the score of our model using test data\n",
        "\n",
        "model.score(X_test,y_test)"
      ],
      "metadata": {
        "colab": {
          "base_uri": "https://localhost:8080/"
        },
        "id": "wxj1zh1PKE5V",
        "outputId": "08c3d6f9-9bda-4dc2-e390-79322c9a9269"
      },
      "execution_count": 21,
      "outputs": [
        {
          "output_type": "execute_result",
          "data": {
            "text/plain": [
              "0.7899899554426714"
            ]
          },
          "metadata": {},
          "execution_count": 21
        }
      ]
    },
    {
      "cell_type": "markdown",
      "source": [
        "#-> Now, we'll predict the charges using new value"
      ],
      "metadata": {
        "id": "s9fv-A8SKWgp"
      }
    },
    {
      "cell_type": "code",
      "source": [
        "#here, y_pred is predicting the charges using X_test data\n",
        "#as we know X_test contains testing features\n",
        "#y_pred is predicting y_test values\n",
        "\n",
        "y_pred=model.predict(X_test)\n",
        "y_pred"
      ],
      "metadata": {
        "colab": {
          "base_uri": "https://localhost:8080/"
        },
        "id": "LctjCkyUKxly",
        "outputId": "843281ec-dfcc-404f-9228-fbfc513c4039"
      },
      "execution_count": 24,
      "outputs": [
        {
          "output_type": "execute_result",
          "data": {
            "text/plain": [
              "array([11040.90216073,  9309.7829851 , 38393.60901442, 16015.93316861,\n",
              "        6728.415514  ,  4030.66950914,  1612.94653689, 13764.35582297,\n",
              "        8393.986819  ,  6868.81159022,  4204.68905213, 10707.48972423,\n",
              "        8667.50264488,  3784.02365445, 27505.41205052, 10342.73632866,\n",
              "       11086.52720575,  5955.15971261,  8632.74901443, 27003.67180132,\n",
              "       33916.48844519, 14765.24767531, 11805.45931725, 31977.54987411,\n",
              "        4098.78923853,  9097.0245239 ,  1164.53391788,  9399.85573894,\n",
              "        3749.03832801, 10829.67068505,  8399.05186139, 39712.54747123,\n",
              "       15715.57515859, 13895.98151471, 24668.18177497,  5212.1617842 ,\n",
              "       13204.35343649, 30428.06543801, 33785.36966736,  3657.51573656,\n",
              "        4058.80359505,  3946.96861054, 30431.1195646 , 39745.40015294,\n",
              "       27575.63899905,  5454.5129915 , 10233.02862045,  7427.16831439,\n",
              "        3493.33959801, 10069.81739446,  5731.33701091,  2787.34503345,\n",
              "       32739.35954628, 37994.25700233, 16014.91886813,  7173.72658819,\n",
              "        5668.09857036,  9229.41571424,  7162.44510733, 11357.40390947,\n",
              "        1849.99503235, 38167.23307214, 14517.20988524, 12475.9500336 ,\n",
              "       16482.52707925, 13900.54119264, 25613.60848891, 31424.81276012,\n",
              "        1435.35809921, 12303.64876746, 12424.93357843, 11363.24084951,\n",
              "       25090.37398685, 15608.69749726, 11014.8486831 , 12741.61262658,\n",
              "        6612.53322574, 10207.25998824, 29930.43721791, 38816.17970163,\n",
              "       12131.41462263, 37063.84150734,  3978.9715027 ,  9254.55327692,\n",
              "       34565.19404464, 29314.05334158,  8484.82179234,  4652.33455077,\n",
              "       11929.64252279, 30301.88176895,  9726.56537059, 11435.86926988,\n",
              "        8389.3339065 ,  9534.72159159,  8452.22259782,  7193.55972164,\n",
              "       35935.41622039, 33697.26678383,  8038.02249044, 15148.51701436,\n",
              "        3951.72033943,  8391.03137116,  6915.19982627, 31341.51532032,\n",
              "       32210.65102272,  1740.76156373,  9097.97068248,  6417.5073501 ,\n",
              "       14640.01238645, 37126.54369795,  9571.4779523 , 11132.57825744,\n",
              "        9834.12163972, 26840.69414863, 39531.2852005 ,  9169.50720433,\n",
              "         148.66550938,  9062.82869929, 15121.13948905,  8928.08082006,\n",
              "       34580.34706015,  7078.35577788, 17013.659079  ,  9287.85849787,\n",
              "        8124.821101  ,  3358.74418289, 32671.85932716, 31753.68181783,\n",
              "       39486.92166258,  5302.90490812,  9937.77514319,  3348.8951515 ,\n",
              "        7451.87953877,  8716.35311251, 31602.22185774, 29826.63835676,\n",
              "       29618.00949606,  9384.48487323, 32133.96714072,  2925.91480101,\n",
              "        3428.49010673, 10915.95198948, 13750.51611313, 12924.42611033,\n",
              "        5038.21899021, 15571.33630638, 14749.09570202,  2806.64618068,\n",
              "        -229.10149511, 10763.44861528,  7303.50241498, 31604.62756616,\n",
              "       12271.81211067,  2105.54112506,  6002.35839978,  7669.71104557,\n",
              "        3997.18802993,  1886.12570863, 10761.48370589, 11922.43945861,\n",
              "        6911.57177965, 16354.37436606, 11614.91660227, 13943.96166924,\n",
              "        3259.11045874,  9694.66937145, 22996.54376904,  7260.59612856,\n",
              "        5367.75439939,  5112.39547526,  7120.51274441,  5881.05213526,\n",
              "       10405.51937733,  5303.99011927,  5363.9663259 ,  8969.57958871,\n",
              "        4396.67359834,  5177.21168442, 37612.45786359,  1526.71244924,\n",
              "       13049.6613992 ,  8336.80273222, 13542.36636301,  5338.1834909 ,\n",
              "        5896.24726241, 36395.2991776 ,  4410.85204165,  1889.69669347,\n",
              "       15004.37654767, 13379.19680838, 35038.44299669,  5380.87582089,\n",
              "        5551.36335846, 31076.02721004,  5913.10291206,  2161.86047889,\n",
              "        9125.26207631,  9697.51536972,  8573.52368723,  5378.02916932,\n",
              "       13060.45924727, 38304.06467522, 14162.64723495, 28372.58057151,\n",
              "        7157.16030886, 35173.96546357,  4452.24107889, 11864.27787738,\n",
              "        9652.34884795,  6149.83427781, 10948.02339042, 14641.62899268,\n",
              "        4547.17643759,  4456.33858969,  7768.35584526,  1363.98623733,\n",
              "        7534.43238955,  4322.08273519, 12529.76289964,  4979.43820765,\n",
              "        9733.23077827,  6901.86603336,  9340.14182895,  2451.81975884,\n",
              "       13288.34872856, 16623.59865137, 15559.93404047, 10662.01268341,\n",
              "        4916.92380429,  2194.81309836,  1871.23365741, 13364.53777689,\n",
              "       14039.38816544,  7428.60169936,  3580.29224405, 10145.97099434,\n",
              "        9887.01191392, 28150.77268032,  7533.09354795, 11210.13287087,\n",
              "        6356.03297122, 29028.26587236, 11798.03328107,  7582.19119228,\n",
              "        9615.29874185, 11844.99661412,  3684.13046464, 10453.109475  ,\n",
              "        1591.4940996 ,  6940.62319234, 28092.9968975 , 39233.89228473,\n",
              "        7006.04477386,  7937.5750203 ,  2560.42219875,   484.48922119,\n",
              "       10418.1198792 ,  4125.02610132,  7086.12733142,  2158.05181133,\n",
              "        6447.2880356 , 33139.83494492, 38163.92041307, 15191.01558927,\n",
              "        7866.79110207, 16185.02344629, 32309.84964375,  9170.46622663,\n",
              "       35831.07502517,  3297.43386421, 31300.1878384 ,  8846.57951711,\n",
              "       14112.81256008,  4517.16741441, 31868.37667654,  8272.43051413,\n",
              "       11205.23967327,  7270.56890592,  3834.21037723, 12606.84138479,\n",
              "       11546.68651577,  8273.00223537, 13413.35906841,  2876.24741937,\n",
              "       10533.43314383,  5141.06977671,  9090.28224585, 31366.84583785,\n",
              "        9632.46811733,  1305.6347948 ,   910.07825073, 39655.46947748,\n",
              "        9613.81521508,  6759.14666151, 14415.30741144, 13347.23446702,\n",
              "       27242.05628612,  7070.80555018,  6802.36058024, 12254.32566556,\n",
              "        2708.07305665,  4228.91218802, 25591.34890876, 25849.75731035,\n",
              "       13049.64292706,  3344.64385511,  4646.34377384,  9026.58160245,\n",
              "       12571.95332527, 23516.01585359, 32796.8269439 ,  9777.24092117,\n",
              "       23720.85079827,  2699.55957812, 11325.24279408,  7307.37855507,\n",
              "        8350.30180653,   610.14172655,  7874.94736937, 35340.83438156,\n",
              "        6899.56675762,  6201.83893176,    46.62772491, 10610.59147765,\n",
              "        6493.31494302,  9651.87179164, 38773.7078366 , 27957.37387457,\n",
              "       11445.60149468, 35852.81900509, 15736.5636105 ,  7283.4903971 ,\n",
              "       10526.90014875,  6603.83921959, 36394.5279478 ,  5555.03099193,\n",
              "       11165.01904467,   757.83657339, 23953.70071832,  1738.22904254,\n",
              "       33976.05453781, 11129.68837599,  1678.51243456, 32074.1759435 ,\n",
              "        6352.08202288,  5380.22093493, 37185.57667811,  2415.15595346,\n",
              "        9257.61622924,  3120.85479507, 11039.97925133,   971.5060176 ,\n",
              "       11458.53356283,  6349.45964961, 36562.00161924,  7312.21146497,\n",
              "       30154.1920787 , 29100.20210249,  6624.28730166,  9011.99973509,\n",
              "        1792.17991685,  2385.34669438,  4249.31211077, 12400.81940527,\n",
              "       37380.01541714,  9885.07954121,   543.27367327, 11515.8752235 ,\n",
              "        4946.9836869 ,  9970.84365862,  5552.18448938,  7060.10540553,\n",
              "        3854.52881799, 28274.71493254,  5053.6492515 , -1214.08236516,\n",
              "       32745.24638745, 12425.33260522, 36558.21337257, 10007.29319864,\n",
              "        7370.26058041,  -218.97141035,  2449.43192281, 12266.30575667,\n",
              "        5672.03873802,  3476.31533855, 12044.7534989 ,  7429.52556249,\n",
              "        7121.02139799,  6183.29883496,  2930.76731732, 32651.17078117,\n",
              "        3439.53610646,  8753.45014217,  4563.85693418, 12998.4864709 ,\n",
              "       14915.8036939 ,  7210.16586073, 28955.43201669, 14019.48694117,\n",
              "       16879.65181265, 11616.29395403])"
            ]
          },
          "metadata": {},
          "execution_count": 24
        }
      ]
    },
    {
      "cell_type": "code",
      "source": [
        "#as we have predicted y_test values using y_pred\n",
        "#and now, we are comparing y_test and y_pred values\n",
        "#y_test are the actual values, y_pred is computed by our model\n",
        "\n",
        "df=pd.DataFrame({'Real Values ':y_test, 'Predicted Values ':y_pred})\n",
        "df"
      ],
      "metadata": {
        "colab": {
          "base_uri": "https://localhost:8080/",
          "height": 423
        },
        "id": "THXDFvEMLISs",
        "outputId": "0c93dced-4429-4808-fdb7-f88d44bb36c3"
      },
      "execution_count": 25,
      "outputs": [
        {
          "output_type": "execute_result",
          "data": {
            "text/html": [
              "\n",
              "  <div id=\"df-1bc4dfe5-6f09-4ff3-a7e6-0f245d41fe95\">\n",
              "    <div class=\"colab-df-container\">\n",
              "      <div>\n",
              "<style scoped>\n",
              "    .dataframe tbody tr th:only-of-type {\n",
              "        vertical-align: middle;\n",
              "    }\n",
              "\n",
              "    .dataframe tbody tr th {\n",
              "        vertical-align: top;\n",
              "    }\n",
              "\n",
              "    .dataframe thead th {\n",
              "        text-align: right;\n",
              "    }\n",
              "</style>\n",
              "<table border=\"1\" class=\"dataframe\">\n",
              "  <thead>\n",
              "    <tr style=\"text-align: right;\">\n",
              "      <th></th>\n",
              "      <th>Real Values</th>\n",
              "      <th>Predicted Values</th>\n",
              "    </tr>\n",
              "  </thead>\n",
              "  <tbody>\n",
              "    <tr>\n",
              "      <th>578</th>\n",
              "      <td>9724.53000</td>\n",
              "      <td>11040.902161</td>\n",
              "    </tr>\n",
              "    <tr>\n",
              "      <th>610</th>\n",
              "      <td>8547.69130</td>\n",
              "      <td>9309.782985</td>\n",
              "    </tr>\n",
              "    <tr>\n",
              "      <th>569</th>\n",
              "      <td>45702.02235</td>\n",
              "      <td>38393.609014</td>\n",
              "    </tr>\n",
              "    <tr>\n",
              "      <th>1034</th>\n",
              "      <td>12950.07120</td>\n",
              "      <td>16015.933169</td>\n",
              "    </tr>\n",
              "    <tr>\n",
              "      <th>198</th>\n",
              "      <td>9644.25250</td>\n",
              "      <td>6728.415514</td>\n",
              "    </tr>\n",
              "    <tr>\n",
              "      <th>...</th>\n",
              "      <td>...</td>\n",
              "      <td>...</td>\n",
              "    </tr>\n",
              "    <tr>\n",
              "      <th>1261</th>\n",
              "      <td>3277.16100</td>\n",
              "      <td>7210.165861</td>\n",
              "    </tr>\n",
              "    <tr>\n",
              "      <th>494</th>\n",
              "      <td>17942.10600</td>\n",
              "      <td>28955.432017</td>\n",
              "    </tr>\n",
              "    <tr>\n",
              "      <th>97</th>\n",
              "      <td>10226.28420</td>\n",
              "      <td>14019.486941</td>\n",
              "    </tr>\n",
              "    <tr>\n",
              "      <th>418</th>\n",
              "      <td>14418.28040</td>\n",
              "      <td>16879.651813</td>\n",
              "    </tr>\n",
              "    <tr>\n",
              "      <th>920</th>\n",
              "      <td>13451.12200</td>\n",
              "      <td>11616.293954</td>\n",
              "    </tr>\n",
              "  </tbody>\n",
              "</table>\n",
              "<p>402 rows × 2 columns</p>\n",
              "</div>\n",
              "      <button class=\"colab-df-convert\" onclick=\"convertToInteractive('df-1bc4dfe5-6f09-4ff3-a7e6-0f245d41fe95')\"\n",
              "              title=\"Convert this dataframe to an interactive table.\"\n",
              "              style=\"display:none;\">\n",
              "        \n",
              "  <svg xmlns=\"http://www.w3.org/2000/svg\" height=\"24px\"viewBox=\"0 0 24 24\"\n",
              "       width=\"24px\">\n",
              "    <path d=\"M0 0h24v24H0V0z\" fill=\"none\"/>\n",
              "    <path d=\"M18.56 5.44l.94 2.06.94-2.06 2.06-.94-2.06-.94-.94-2.06-.94 2.06-2.06.94zm-11 1L8.5 8.5l.94-2.06 2.06-.94-2.06-.94L8.5 2.5l-.94 2.06-2.06.94zm10 10l.94 2.06.94-2.06 2.06-.94-2.06-.94-.94-2.06-.94 2.06-2.06.94z\"/><path d=\"M17.41 7.96l-1.37-1.37c-.4-.4-.92-.59-1.43-.59-.52 0-1.04.2-1.43.59L10.3 9.45l-7.72 7.72c-.78.78-.78 2.05 0 2.83L4 21.41c.39.39.9.59 1.41.59.51 0 1.02-.2 1.41-.59l7.78-7.78 2.81-2.81c.8-.78.8-2.07 0-2.86zM5.41 20L4 18.59l7.72-7.72 1.47 1.35L5.41 20z\"/>\n",
              "  </svg>\n",
              "      </button>\n",
              "      \n",
              "  <style>\n",
              "    .colab-df-container {\n",
              "      display:flex;\n",
              "      flex-wrap:wrap;\n",
              "      gap: 12px;\n",
              "    }\n",
              "\n",
              "    .colab-df-convert {\n",
              "      background-color: #E8F0FE;\n",
              "      border: none;\n",
              "      border-radius: 50%;\n",
              "      cursor: pointer;\n",
              "      display: none;\n",
              "      fill: #1967D2;\n",
              "      height: 32px;\n",
              "      padding: 0 0 0 0;\n",
              "      width: 32px;\n",
              "    }\n",
              "\n",
              "    .colab-df-convert:hover {\n",
              "      background-color: #E2EBFA;\n",
              "      box-shadow: 0px 1px 2px rgba(60, 64, 67, 0.3), 0px 1px 3px 1px rgba(60, 64, 67, 0.15);\n",
              "      fill: #174EA6;\n",
              "    }\n",
              "\n",
              "    [theme=dark] .colab-df-convert {\n",
              "      background-color: #3B4455;\n",
              "      fill: #D2E3FC;\n",
              "    }\n",
              "\n",
              "    [theme=dark] .colab-df-convert:hover {\n",
              "      background-color: #434B5C;\n",
              "      box-shadow: 0px 1px 3px 1px rgba(0, 0, 0, 0.15);\n",
              "      filter: drop-shadow(0px 1px 2px rgba(0, 0, 0, 0.3));\n",
              "      fill: #FFFFFF;\n",
              "    }\n",
              "  </style>\n",
              "\n",
              "      <script>\n",
              "        const buttonEl =\n",
              "          document.querySelector('#df-1bc4dfe5-6f09-4ff3-a7e6-0f245d41fe95 button.colab-df-convert');\n",
              "        buttonEl.style.display =\n",
              "          google.colab.kernel.accessAllowed ? 'block' : 'none';\n",
              "\n",
              "        async function convertToInteractive(key) {\n",
              "          const element = document.querySelector('#df-1bc4dfe5-6f09-4ff3-a7e6-0f245d41fe95');\n",
              "          const dataTable =\n",
              "            await google.colab.kernel.invokeFunction('convertToInteractive',\n",
              "                                                     [key], {});\n",
              "          if (!dataTable) return;\n",
              "\n",
              "          const docLinkHtml = 'Like what you see? Visit the ' +\n",
              "            '<a target=\"_blank\" href=https://colab.research.google.com/notebooks/data_table.ipynb>data table notebook</a>'\n",
              "            + ' to learn more about interactive tables.';\n",
              "          element.innerHTML = '';\n",
              "          dataTable['output_type'] = 'display_data';\n",
              "          await google.colab.output.renderOutput(dataTable, element);\n",
              "          const docLink = document.createElement('div');\n",
              "          docLink.innerHTML = docLinkHtml;\n",
              "          element.appendChild(docLink);\n",
              "        }\n",
              "      </script>\n",
              "    </div>\n",
              "  </div>\n",
              "  "
            ],
            "text/plain": [
              "      Real Values   Predicted Values \n",
              "578     9724.53000       11040.902161\n",
              "610     8547.69130        9309.782985\n",
              "569    45702.02235       38393.609014\n",
              "1034   12950.07120       16015.933169\n",
              "198     9644.25250        6728.415514\n",
              "...            ...                ...\n",
              "1261    3277.16100        7210.165861\n",
              "494    17942.10600       28955.432017\n",
              "97     10226.28420       14019.486941\n",
              "418    14418.28040       16879.651813\n",
              "920    13451.12200       11616.293954\n",
              "\n",
              "[402 rows x 2 columns]"
            ]
          },
          "metadata": {},
          "execution_count": 25
        }
      ]
    },
    {
      "cell_type": "markdown",
      "source": [
        "-> After comparing y_test & y-pred we can see that the diff. b/w values is high,\n",
        "therefore our model(Linear Regression model) is not performing good"
      ],
      "metadata": {
        "id": "ldci_N11Neje"
      }
    },
    {
      "cell_type": "markdown",
      "source": [
        "#Reason can be for bad peformance :\n",
        "1. The data preprocessing technique which we have used is not well suited for our task.. we should go for some other preprocessing technique.\n",
        "2. We have taken 936rows (70% data) for training.. which might not be sufficient no. of rows for training the model in this case. We can increase the no. of training data for better performance.\n",
        "3. In LinearRegression() we have not passed parameters.. and it might happen that by default values of parameter of LinearRegression() are not be working well for our model. For resolving this prob. can take diff. parameters for checking performance of our model.\n"
      ],
      "metadata": {
        "id": "RGAgqHqWNy-a"
      }
    },
    {
      "cell_type": "markdown",
      "source": [
        "---"
      ],
      "metadata": {
        "id": "gUk9ACFGPyMS"
      }
    },
    {
      "cell_type": "markdown",
      "source": [
        "#Decision tree algo."
      ],
      "metadata": {
        "id": "hyRBKR5HP0ml"
      }
    },
    {
      "cell_type": "markdown",
      "source": [
        "Decision tree algo. is applicable in case of prediction as well as classification."
      ],
      "metadata": {
        "id": "VOt88yVoP8na"
      }
    },
    {
      "cell_type": "markdown",
      "source": [
        "-> Taking Decision tree mathod for prediction"
      ],
      "metadata": {
        "id": "2R8ygbLoQQCV"
      }
    },
    {
      "cell_type": "code",
      "source": [
        "#our decision tree method name is DecisionTreeRegressor bcz. it is a regressor method\n",
        "\n",
        "from sklearn.tree import DecisionTreeRegressor\n",
        "model_DT= DecisionTreeRegressor().fit(X_train, y_train)\n",
        "#fitting training data \n",
        "#DecisionTreeRegressor(), default parameters are passed in the method, we can also pass parameters as per our need"
      ],
      "metadata": {
        "id": "6xIDbNdJQVSV"
      },
      "execution_count": 28,
      "outputs": []
    },
    {
      "cell_type": "code",
      "source": [
        "y_pred_DT=model_DT.predict(X_test)"
      ],
      "metadata": {
        "id": "O_edPnPTRbUA"
      },
      "execution_count": 33,
      "outputs": []
    },
    {
      "cell_type": "code",
      "source": [
        "#as we have predicted y_test values using y_pred_DT\n",
        "#and now, we are comparing y_test and y_pred_DT values\n",
        "#y_test are the actual values, y_pred_DT is computed by our model\n",
        "\n",
        "df=pd.DataFrame({'Real Values ':y_test, 'Predicted Values ':y_pred_DT})\n",
        "df"
      ],
      "metadata": {
        "colab": {
          "base_uri": "https://localhost:8080/",
          "height": 423
        },
        "id": "Z4Va6MBMR0C_",
        "outputId": "72b0f66e-1854-465c-89ab-745389fd847c"
      },
      "execution_count": 30,
      "outputs": [
        {
          "output_type": "execute_result",
          "data": {
            "text/html": [
              "\n",
              "  <div id=\"df-068ba4ec-97b0-4505-87ef-55d41762885b\">\n",
              "    <div class=\"colab-df-container\">\n",
              "      <div>\n",
              "<style scoped>\n",
              "    .dataframe tbody tr th:only-of-type {\n",
              "        vertical-align: middle;\n",
              "    }\n",
              "\n",
              "    .dataframe tbody tr th {\n",
              "        vertical-align: top;\n",
              "    }\n",
              "\n",
              "    .dataframe thead th {\n",
              "        text-align: right;\n",
              "    }\n",
              "</style>\n",
              "<table border=\"1\" class=\"dataframe\">\n",
              "  <thead>\n",
              "    <tr style=\"text-align: right;\">\n",
              "      <th></th>\n",
              "      <th>Real Values</th>\n",
              "      <th>Predicted Values</th>\n",
              "    </tr>\n",
              "  </thead>\n",
              "  <tbody>\n",
              "    <tr>\n",
              "      <th>578</th>\n",
              "      <td>9724.53000</td>\n",
              "      <td>9748.91060</td>\n",
              "    </tr>\n",
              "    <tr>\n",
              "      <th>610</th>\n",
              "      <td>8547.69130</td>\n",
              "      <td>8233.09750</td>\n",
              "    </tr>\n",
              "    <tr>\n",
              "      <th>569</th>\n",
              "      <td>45702.02235</td>\n",
              "      <td>44202.65360</td>\n",
              "    </tr>\n",
              "    <tr>\n",
              "      <th>1034</th>\n",
              "      <td>12950.07120</td>\n",
              "      <td>12741.16745</td>\n",
              "    </tr>\n",
              "    <tr>\n",
              "      <th>198</th>\n",
              "      <td>9644.25250</td>\n",
              "      <td>9264.79700</td>\n",
              "    </tr>\n",
              "    <tr>\n",
              "      <th>...</th>\n",
              "      <td>...</td>\n",
              "      <td>...</td>\n",
              "    </tr>\n",
              "    <tr>\n",
              "      <th>1261</th>\n",
              "      <td>3277.16100</td>\n",
              "      <td>3577.99900</td>\n",
              "    </tr>\n",
              "    <tr>\n",
              "      <th>494</th>\n",
              "      <td>17942.10600</td>\n",
              "      <td>16297.84600</td>\n",
              "    </tr>\n",
              "    <tr>\n",
              "      <th>97</th>\n",
              "      <td>10226.28420</td>\n",
              "      <td>20781.48892</td>\n",
              "    </tr>\n",
              "    <tr>\n",
              "      <th>418</th>\n",
              "      <td>14418.28040</td>\n",
              "      <td>31620.00106</td>\n",
              "    </tr>\n",
              "    <tr>\n",
              "      <th>920</th>\n",
              "      <td>13451.12200</td>\n",
              "      <td>13415.03810</td>\n",
              "    </tr>\n",
              "  </tbody>\n",
              "</table>\n",
              "<p>402 rows × 2 columns</p>\n",
              "</div>\n",
              "      <button class=\"colab-df-convert\" onclick=\"convertToInteractive('df-068ba4ec-97b0-4505-87ef-55d41762885b')\"\n",
              "              title=\"Convert this dataframe to an interactive table.\"\n",
              "              style=\"display:none;\">\n",
              "        \n",
              "  <svg xmlns=\"http://www.w3.org/2000/svg\" height=\"24px\"viewBox=\"0 0 24 24\"\n",
              "       width=\"24px\">\n",
              "    <path d=\"M0 0h24v24H0V0z\" fill=\"none\"/>\n",
              "    <path d=\"M18.56 5.44l.94 2.06.94-2.06 2.06-.94-2.06-.94-.94-2.06-.94 2.06-2.06.94zm-11 1L8.5 8.5l.94-2.06 2.06-.94-2.06-.94L8.5 2.5l-.94 2.06-2.06.94zm10 10l.94 2.06.94-2.06 2.06-.94-2.06-.94-.94-2.06-.94 2.06-2.06.94z\"/><path d=\"M17.41 7.96l-1.37-1.37c-.4-.4-.92-.59-1.43-.59-.52 0-1.04.2-1.43.59L10.3 9.45l-7.72 7.72c-.78.78-.78 2.05 0 2.83L4 21.41c.39.39.9.59 1.41.59.51 0 1.02-.2 1.41-.59l7.78-7.78 2.81-2.81c.8-.78.8-2.07 0-2.86zM5.41 20L4 18.59l7.72-7.72 1.47 1.35L5.41 20z\"/>\n",
              "  </svg>\n",
              "      </button>\n",
              "      \n",
              "  <style>\n",
              "    .colab-df-container {\n",
              "      display:flex;\n",
              "      flex-wrap:wrap;\n",
              "      gap: 12px;\n",
              "    }\n",
              "\n",
              "    .colab-df-convert {\n",
              "      background-color: #E8F0FE;\n",
              "      border: none;\n",
              "      border-radius: 50%;\n",
              "      cursor: pointer;\n",
              "      display: none;\n",
              "      fill: #1967D2;\n",
              "      height: 32px;\n",
              "      padding: 0 0 0 0;\n",
              "      width: 32px;\n",
              "    }\n",
              "\n",
              "    .colab-df-convert:hover {\n",
              "      background-color: #E2EBFA;\n",
              "      box-shadow: 0px 1px 2px rgba(60, 64, 67, 0.3), 0px 1px 3px 1px rgba(60, 64, 67, 0.15);\n",
              "      fill: #174EA6;\n",
              "    }\n",
              "\n",
              "    [theme=dark] .colab-df-convert {\n",
              "      background-color: #3B4455;\n",
              "      fill: #D2E3FC;\n",
              "    }\n",
              "\n",
              "    [theme=dark] .colab-df-convert:hover {\n",
              "      background-color: #434B5C;\n",
              "      box-shadow: 0px 1px 3px 1px rgba(0, 0, 0, 0.15);\n",
              "      filter: drop-shadow(0px 1px 2px rgba(0, 0, 0, 0.3));\n",
              "      fill: #FFFFFF;\n",
              "    }\n",
              "  </style>\n",
              "\n",
              "      <script>\n",
              "        const buttonEl =\n",
              "          document.querySelector('#df-068ba4ec-97b0-4505-87ef-55d41762885b button.colab-df-convert');\n",
              "        buttonEl.style.display =\n",
              "          google.colab.kernel.accessAllowed ? 'block' : 'none';\n",
              "\n",
              "        async function convertToInteractive(key) {\n",
              "          const element = document.querySelector('#df-068ba4ec-97b0-4505-87ef-55d41762885b');\n",
              "          const dataTable =\n",
              "            await google.colab.kernel.invokeFunction('convertToInteractive',\n",
              "                                                     [key], {});\n",
              "          if (!dataTable) return;\n",
              "\n",
              "          const docLinkHtml = 'Like what you see? Visit the ' +\n",
              "            '<a target=\"_blank\" href=https://colab.research.google.com/notebooks/data_table.ipynb>data table notebook</a>'\n",
              "            + ' to learn more about interactive tables.';\n",
              "          element.innerHTML = '';\n",
              "          dataTable['output_type'] = 'display_data';\n",
              "          await google.colab.output.renderOutput(dataTable, element);\n",
              "          const docLink = document.createElement('div');\n",
              "          docLink.innerHTML = docLinkHtml;\n",
              "          element.appendChild(docLink);\n",
              "        }\n",
              "      </script>\n",
              "    </div>\n",
              "  </div>\n",
              "  "
            ],
            "text/plain": [
              "      Real Values   Predicted Values \n",
              "578     9724.53000         9748.91060\n",
              "610     8547.69130         8233.09750\n",
              "569    45702.02235        44202.65360\n",
              "1034   12950.07120        12741.16745\n",
              "198     9644.25250         9264.79700\n",
              "...            ...                ...\n",
              "1261    3277.16100         3577.99900\n",
              "494    17942.10600        16297.84600\n",
              "97     10226.28420        20781.48892\n",
              "418    14418.28040        31620.00106\n",
              "920    13451.12200        13415.03810\n",
              "\n",
              "[402 rows x 2 columns]"
            ]
          },
          "metadata": {},
          "execution_count": 30
        }
      ]
    },
    {
      "cell_type": "markdown",
      "source": [
        "-> Now by comparing we can see that diff. b/w predicted values and testing values tough we have taken default values of parameter are less as compare to LinearRegression"
      ],
      "metadata": {
        "id": "pDnjS3USSQsD"
      }
    },
    {
      "cell_type": "markdown",
      "source": [
        "# -> It is very difficult to get exact same values of test & predicted data. \n",
        "We have to find a method so that the diff. b/w values of both is minimum."
      ],
      "metadata": {
        "id": "-su6wwcsS98n"
      }
    }
  ]
}