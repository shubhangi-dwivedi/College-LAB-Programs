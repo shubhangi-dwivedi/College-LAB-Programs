{
  "cells": [
    {
      "cell_type": "markdown",
      "source": [
        "**12-03-2022**"
      ],
      "metadata": {
        "id": "B0si5Fn2-5iy"
      },
      "id": "B0si5Fn2-5iy"
    },
    {
      "cell_type": "code",
      "execution_count": 1,
      "id": "3568bbb2",
      "metadata": {
        "id": "3568bbb2",
        "outputId": "76a2d976-1975-45df-e175-f8bda6281e2a",
        "colab": {
          "base_uri": "https://localhost:8080/"
        }
      },
      "outputs": [
        {
          "output_type": "stream",
          "name": "stdout",
          "text": [
            "Requirement already satisfied: xgboost in /usr/local/lib/python3.7/dist-packages (0.90)\n",
            "Requirement already satisfied: scipy in /usr/local/lib/python3.7/dist-packages (from xgboost) (1.4.1)\n",
            "Requirement already satisfied: numpy in /usr/local/lib/python3.7/dist-packages (from xgboost) (1.21.5)\n"
          ]
        }
      ],
      "source": [
        "pip install xgboost"
      ]
    },
    {
      "cell_type": "code",
      "execution_count": 2,
      "id": "46cd7578",
      "metadata": {
        "id": "46cd7578"
      },
      "outputs": [],
      "source": [
        "import xgboost as xgb"
      ]
    },
    {
      "cell_type": "code",
      "execution_count": 3,
      "id": "36a17963",
      "metadata": {
        "id": "36a17963"
      },
      "outputs": [],
      "source": [
        "from xgboost import XGBClassifier"
      ]
    },
    {
      "cell_type": "code",
      "execution_count": 4,
      "id": "dfc71243",
      "metadata": {
        "id": "dfc71243"
      },
      "outputs": [],
      "source": [
        "model=XGBClassifier()"
      ]
    },
    {
      "cell_type": "code",
      "execution_count": 5,
      "id": "dd061a5a",
      "metadata": {
        "id": "dd061a5a"
      },
      "outputs": [],
      "source": [
        "from sklearn.datasets import load_iris\n",
        "data=load_iris()\n",
        "X,y=load_iris(return_X_y=True)"
      ]
    },
    {
      "cell_type": "code",
      "execution_count": 6,
      "id": "b5eaaee6",
      "metadata": {
        "id": "b5eaaee6"
      },
      "outputs": [],
      "source": [
        "feature_names=load_iris().feature_names\n",
        "target_names=load_iris().target_names"
      ]
    },
    {
      "cell_type": "code",
      "execution_count": 7,
      "id": "c884982d",
      "metadata": {
        "id": "c884982d",
        "outputId": "ad440679-2a28-4419-f93b-b5a3ddea7658",
        "colab": {
          "base_uri": "https://localhost:8080/"
        }
      },
      "outputs": [
        {
          "output_type": "execute_result",
          "data": {
            "text/plain": [
              "array(['setosa', 'versicolor', 'virginica'], dtype='<U10')"
            ]
          },
          "metadata": {},
          "execution_count": 7
        }
      ],
      "source": [
        "target_names"
      ]
    },
    {
      "cell_type": "code",
      "execution_count": 8,
      "id": "c4d2b2e7",
      "metadata": {
        "id": "c4d2b2e7",
        "outputId": "88fef0c7-a701-4a3e-a5e7-5c64b944b108",
        "colab": {
          "base_uri": "https://localhost:8080/"
        }
      },
      "outputs": [
        {
          "output_type": "execute_result",
          "data": {
            "text/plain": [
              "['sepal length (cm)',\n",
              " 'sepal width (cm)',\n",
              " 'petal length (cm)',\n",
              " 'petal width (cm)']"
            ]
          },
          "metadata": {},
          "execution_count": 8
        }
      ],
      "source": [
        "feature_names"
      ]
    },
    {
      "cell_type": "code",
      "execution_count": 9,
      "id": "a40322f5",
      "metadata": {
        "id": "a40322f5"
      },
      "outputs": [],
      "source": [
        "from sklearn.model_selection import train_test_split\n",
        "X_train,X_test,y_train,y_test=train_test_split(X,y,test_size=0.30,random_state=7)"
      ]
    },
    {
      "cell_type": "code",
      "execution_count": 10,
      "id": "d41dcb1c",
      "metadata": {
        "id": "d41dcb1c",
        "outputId": "0d00c3e8-30a8-4d5c-ae80-bb7cfe2159b1",
        "colab": {
          "base_uri": "https://localhost:8080/"
        }
      },
      "outputs": [
        {
          "output_type": "execute_result",
          "data": {
            "text/plain": [
              "XGBClassifier(objective='multi:softprob')"
            ]
          },
          "metadata": {},
          "execution_count": 10
        }
      ],
      "source": [
        "model.fit(X_train,y_train)"
      ]
    },
    {
      "cell_type": "code",
      "execution_count": 11,
      "id": "a3c65a37",
      "metadata": {
        "id": "a3c65a37"
      },
      "outputs": [],
      "source": [
        "predictions=model.predict(X_test)"
      ]
    },
    {
      "cell_type": "code",
      "execution_count": 12,
      "id": "1fad8bd7",
      "metadata": {
        "id": "1fad8bd7",
        "outputId": "e178f301-43b4-40ea-bf7a-ecf4db0a2e18",
        "colab": {
          "base_uri": "https://localhost:8080/"
        }
      },
      "outputs": [
        {
          "output_type": "stream",
          "name": "stdout",
          "text": [
            "              precision    recall  f1-score   support\n",
            "\n",
            "      setosa       1.00      1.00      1.00        12\n",
            "  versicolor       0.88      0.88      0.88        16\n",
            "   virginica       0.88      0.88      0.88        17\n",
            "\n",
            "    accuracy                           0.91        45\n",
            "   macro avg       0.92      0.92      0.92        45\n",
            "weighted avg       0.91      0.91      0.91        45\n",
            "\n"
          ]
        }
      ],
      "source": [
        "from sklearn.metrics import classification_report\n",
        "print(classification_report(y_test,predictions,target_names=data.target_names))"
      ]
    },
    {
      "cell_type": "code",
      "execution_count": 13,
      "id": "7b0fcce4",
      "metadata": {
        "id": "7b0fcce4",
        "outputId": "70bd1315-98b1-4361-e96a-c1c91665528c",
        "colab": {
          "base_uri": "https://localhost:8080/"
        }
      },
      "outputs": [
        {
          "output_type": "stream",
          "name": "stdout",
          "text": [
            "Accuracy=91.11%\n"
          ]
        }
      ],
      "source": [
        "from sklearn.metrics import accuracy_score\n",
        "accuracy=accuracy_score(y_test,predictions)\n",
        "print(\"Accuracy=%.2f%%\" %(accuracy*100))"
      ]
    },
    {
      "cell_type": "code",
      "execution_count": 14,
      "id": "c66d3bff",
      "metadata": {
        "id": "c66d3bff",
        "outputId": "72f60797-3556-47a5-aae4-2017ef9395d4",
        "colab": {
          "base_uri": "https://localhost:8080/"
        }
      },
      "outputs": [
        {
          "output_type": "execute_result",
          "data": {
            "text/plain": [
              "(45,)"
            ]
          },
          "metadata": {},
          "execution_count": 14
        }
      ],
      "source": [
        "y_test.shape"
      ]
    },
    {
      "cell_type": "code",
      "execution_count": 15,
      "id": "71ebd4f4",
      "metadata": {
        "id": "71ebd4f4",
        "outputId": "3e34b2ff-2640-4a2b-b38c-aba29cbb0950",
        "colab": {
          "base_uri": "https://localhost:8080/"
        }
      },
      "outputs": [
        {
          "output_type": "stream",
          "name": "stdout",
          "text": [
            "[[12  0  0]\n",
            " [ 0 14  2]\n",
            " [ 0  2 15]]\n"
          ]
        }
      ],
      "source": [
        "from sklearn.metrics import confusion_matrix\n",
        "print(confusion_matrix(y_test,predictions))"
      ]
    },
    {
      "cell_type": "code",
      "execution_count": 16,
      "id": "08b7865f",
      "metadata": {
        "id": "08b7865f",
        "outputId": "e9fe5d62-b600-4788-c743-08c675d9d78a",
        "colab": {
          "base_uri": "https://localhost:8080/"
        }
      },
      "outputs": [
        {
          "output_type": "execute_result",
          "data": {
            "text/plain": [
              "array(['setosa', 'versicolor', 'virginica'], dtype='<U10')"
            ]
          },
          "metadata": {},
          "execution_count": 16
        }
      ],
      "source": [
        "labels=data[\"target_names\"]\n",
        "labels"
      ]
    },
    {
      "cell_type": "code",
      "execution_count": 17,
      "id": "9347a7c3",
      "metadata": {
        "id": "9347a7c3"
      },
      "outputs": [],
      "source": [
        "from sklearn import metrics\n",
        "import matplotlib.pyplot as plt\n",
        "import seaborn as sns"
      ]
    },
    {
      "cell_type": "code",
      "execution_count": 18,
      "id": "05d6f6d9",
      "metadata": {
        "id": "05d6f6d9",
        "outputId": "098ee405-8d2c-4f5d-ff22-6a8b44fc9d42",
        "colab": {
          "base_uri": "https://localhost:8080/",
          "height": 299
        }
      },
      "outputs": [
        {
          "output_type": "display_data",
          "data": {
            "text/plain": [
              "<Figure size 432x288 with 2 Axes>"
            ],
            "image/png": "[encoded data removed]"
          },
          "metadata": {
            "needs_background": "light"
          }
        }
      ],
      "source": [
        "cm=metrics.confusion_matrix(y_test,predictions)\n",
        "plt.figure(figsize=(6,4))\n",
        "ax=sns.heatmap(cm,xticklabels=labels,yticklabels=labels,annot=True)\n",
        "plt.title(\"Confusion Matrix\")\n",
        "plt.ylabel('True Label',fontweight='bold',fontsize=14)\n",
        "plt.xlabel('Predicted Lable',fontweight='bold',fontsize=14)\n",
        "plt.show()"
      ]
    },
    {
      "cell_type": "code",
      "execution_count": 19,
      "id": "e1351db9",
      "metadata": {
        "id": "e1351db9",
        "outputId": "29bbb9d1-53d1-4a80-a979-b23e4789ad7f",
        "colab": {
          "base_uri": "https://localhost:8080/"
        }
      },
      "outputs": [
        {
          "output_type": "execute_result",
          "data": {
            "text/plain": [
              "array([0.88888889, 0.66666667, 0.88888889, 1.        , 1.        ])"
            ]
          },
          "metadata": {},
          "execution_count": 19
        }
      ],
      "source": [
        "from sklearn.model_selection import cross_val_score\n",
        "score=cross_val_score(model,X_test,y_test,cv=5) #cross validation score\n",
        "score"
      ]
    },
    {
      "cell_type": "code",
      "execution_count": 20,
      "id": "a26d58e7",
      "metadata": {
        "id": "a26d58e7",
        "outputId": "e8a90f9d-e62b-49a6-b080-eccb77d76125",
        "colab": {
          "base_uri": "https://localhost:8080/"
        }
      },
      "outputs": [
        {
          "output_type": "execute_result",
          "data": {
            "text/plain": [
              "0.888888888888889"
            ]
          },
          "metadata": {},
          "execution_count": 20
        }
      ],
      "source": [
        "score.mean()"
      ]
    },
    {
      "cell_type": "code",
      "execution_count": 20,
      "id": "cce6fca1",
      "metadata": {
        "id": "cce6fca1"
      },
      "outputs": [],
      "source": [
        ""
      ]
    }
  ],
  "metadata": {
    "kernelspec": {
      "display_name": "Python 3",
      "language": "python",
      "name": "python3"
    },
    "language_info": {
      "codemirror_mode": {
        "name": "ipython",
        "version": 3
      },
      "file_extension": ".py",
      "mimetype": "text/x-python",
      "name": "python",
      "nbconvert_exporter": "python",
      "pygments_lexer": "ipython3",
      "version": "3.8.8"
    },
    "colab": {
      "name": "ML-12(XGBoost).ipynb",
      "provenance": []
    }
  },
  "nbformat": 4,
  "nbformat_minor": 5
}