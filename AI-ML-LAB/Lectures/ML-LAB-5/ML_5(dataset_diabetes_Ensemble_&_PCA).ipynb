{
  "nbformat": 4,
  "nbformat_minor": 0,
  "metadata": {
    "colab": {
      "name": "ML-5(dataset-diabetes_Ensemble & PCA).ipynb",
      "provenance": [],
      "collapsed_sections": []
    },
    "kernelspec": {
      "name": "python3",
      "display_name": "Python 3"
    },
    "language_info": {
      "name": "python"
    }
  },
  "cells": [
    {
      "cell_type": "markdown",
      "source": [
        "#Using Diabetes dataset:"
      ],
      "metadata": {
        "id": "iIC60KgWzbe9"
      }
    },
    {
      "cell_type": "code",
      "source": [
        "from sklearn.datasets import load_diabetes\n",
        "X, y= load_diabetes(return_X_y=True)"
      ],
      "metadata": {
        "id": "b3e5mUkVzBPS"
      },
      "execution_count": 2,
      "outputs": []
    },
    {
      "cell_type": "markdown",
      "source": [
        "->Splitting data using KFold :"
      ],
      "metadata": {
        "id": "yKaGZ92_5HcU"
      }
    },
    {
      "cell_type": "code",
      "source": [
        "from sklearn.model_selection import KFold\n",
        "kf=KFold(n_splits=5)\n",
        "for train, test in kf.split(X,y):\n",
        "  Xtrain, Xtest= X[train], X[test]\n",
        "  ytrain, ytest= y[train], y[test]"
      ],
      "metadata": {
        "id": "LuUVO-mtzlHw"
      },
      "execution_count": 3,
      "outputs": []
    },
    {
      "cell_type": "code",
      "source": [
        "print(Xtrain.shape, ytrain.shape)\n",
        "print(Xtest.shape, ytest.shape)"
      ],
      "metadata": {
        "colab": {
          "base_uri": "https://localhost:8080/"
        },
        "id": "10o1xRYb0CHm",
        "outputId": "b6b12816-3816-4f87-861a-c13bb710af97"
      },
      "execution_count": 4,
      "outputs": [
        {
          "output_type": "stream",
          "name": "stdout",
          "text": [
            "(354, 10) (354,)\n",
            "(88, 10) (88,)\n"
          ]
        }
      ]
    },
    {
      "cell_type": "markdown",
      "source": [
        "----"
      ],
      "metadata": {
        "id": "Owg8o3v80UhJ"
      }
    },
    {
      "cell_type": "markdown",
      "source": [
        "#Applying Linear Regression :"
      ],
      "metadata": {
        "id": "pFBs1RR50XDu"
      }
    },
    {
      "cell_type": "code",
      "source": [
        "from sklearn.linear_model import LinearRegression\n",
        "model_lr=LinearRegression()\n",
        "model_lr.fit(Xtrain, ytrain)"
      ],
      "metadata": {
        "colab": {
          "base_uri": "https://localhost:8080/"
        },
        "id": "Xegi5rxS0VcQ",
        "outputId": "ebc5c93f-99e1-4624-c89b-cb917ac51247"
      },
      "execution_count": 5,
      "outputs": [
        {
          "output_type": "execute_result",
          "data": {
            "text/plain": [
              "LinearRegression()"
            ]
          },
          "metadata": {},
          "execution_count": 5
        }
      ]
    },
    {
      "cell_type": "code",
      "source": [
        "y_pred_lr=model_lr.predict(Xtest)"
      ],
      "metadata": {
        "id": "uqf-juVM0nyb"
      },
      "execution_count": 6,
      "outputs": []
    },
    {
      "cell_type": "markdown",
      "source": [
        "#Metrics : \n",
        "\n",
        "Metrics are used to monitor and measure the performance of a model (during training and testing), and don't need to be differentiable."
      ],
      "metadata": {
        "id": "86SyHRV85skM"
      }
    },
    {
      "cell_type": "markdown",
      "source": [
        "#->Checking score of our model using some metrics :"
      ],
      "metadata": {
        "id": "m4aGhxBx0x91"
      }
    },
    {
      "cell_type": "code",
      "source": [
        "from sklearn import metrics\n",
        "import numpy as np"
      ],
      "metadata": {
        "id": "m6A6an5C0-Bb"
      },
      "execution_count": 7,
      "outputs": []
    },
    {
      "cell_type": "markdown",
      "source": [
        "* Taking 4 metrics :\n",
        "1. model score\n",
        "2. mean absolute error - it is the difference b/w predicted value and actual value (absolute diff.)\n",
        "3. mean square error \n",
        "4. root mean square error"
      ],
      "metadata": {
        "id": "ETbdBskj1Njr"
      }
    },
    {
      "cell_type": "markdown",
      "source": [
        "1. Mean Absolute Error :\n",
        "\n",
        "metrics.mean_absolute_error(actual value, predicted_value)"
      ],
      "metadata": {
        "id": "krKSSQhr2_0P"
      }
    },
    {
      "cell_type": "code",
      "source": [
        "print('Mean Absolute Error : ', metrics.mean_absolute_error(ytest,y_pred_lr))"
      ],
      "metadata": {
        "colab": {
          "base_uri": "https://localhost:8080/"
        },
        "id": "9AkltM9l2jju",
        "outputId": "49088e48-956d-465f-ae4d-5f54b3a6aeb1"
      },
      "execution_count": 8,
      "outputs": [
        {
          "output_type": "stream",
          "name": "stdout",
          "text": [
            "Mean Absolute Error :  42.38729269073616\n"
          ]
        }
      ]
    },
    {
      "cell_type": "markdown",
      "source": [
        "2. Mean Square Error : It is the sq. diff. b/w actual value and predicted value.\n",
        "\n",
        "metrics.mean_squared_error(actual value, predicted_value)"
      ],
      "metadata": {
        "id": "QhrZ5kf33hi6"
      }
    },
    {
      "cell_type": "code",
      "source": [
        "print('Mean Square Error : ', metrics.mean_squared_error(ytest,y_pred_lr))"
      ],
      "metadata": {
        "colab": {
          "base_uri": "https://localhost:8080/"
        },
        "id": "X537F0jk3OQZ",
        "outputId": "cdc09d55-9199-418b-d3fb-c1a03502d0f5"
      },
      "execution_count": 9,
      "outputs": [
        {
          "output_type": "stream",
          "name": "stdout",
          "text": [
            "Mean Square Error :  2910.2069332665283\n"
          ]
        }
      ]
    },
    {
      "cell_type": "markdown",
      "source": [
        "3. Root Mean Square Error : root of mean square error\n",
        "\n",
        "np.sqrt(metrics.mean_squared_error(actual value, predicted_value))"
      ],
      "metadata": {
        "id": "GG5S8t4U4TGT"
      }
    },
    {
      "cell_type": "code",
      "source": [
        "print('Root Mean Square Error : ', np.sqrt(metrics.mean_squared_error(ytest,y_pred_lr)))"
      ],
      "metadata": {
        "colab": {
          "base_uri": "https://localhost:8080/"
        },
        "id": "gvHmjoxG38Nq",
        "outputId": "c859e0be-0701-4e00-cbe2-93797b819792"
      },
      "execution_count": 10,
      "outputs": [
        {
          "output_type": "stream",
          "name": "stdout",
          "text": [
            "Root Mean Square Error :  53.94633382600275\n"
          ]
        }
      ]
    },
    {
      "cell_type": "markdown",
      "source": [
        "4. Model score :"
      ],
      "metadata": {
        "id": "RbA0CDXH4hmw"
      }
    },
    {
      "cell_type": "markdown",
      "source": [
        "-> Score of Xtest & ytest"
      ],
      "metadata": {
        "id": "1JMaZt9E4qu_"
      }
    },
    {
      "cell_type": "code",
      "source": [
        "model_lr.score(Xtest,ytest)"
      ],
      "metadata": {
        "colab": {
          "base_uri": "https://localhost:8080/"
        },
        "id": "wHDS0ACX4jio",
        "outputId": "62a33b0f-e0ee-4577-cdaa-1551f4def43f"
      },
      "execution_count": 11,
      "outputs": [
        {
          "output_type": "execute_result",
          "data": {
            "text/plain": [
              "0.5502492259658611"
            ]
          },
          "metadata": {},
          "execution_count": 11
        }
      ]
    },
    {
      "cell_type": "markdown",
      "source": [
        "-> Training score"
      ],
      "metadata": {
        "id": "7szyLeRP42CN"
      }
    },
    {
      "cell_type": "code",
      "source": [
        "model_lr.score(Xtrain, ytrain)"
      ],
      "metadata": {
        "colab": {
          "base_uri": "https://localhost:8080/"
        },
        "id": "CfoqRlZq4vmV",
        "outputId": "4d6d38ab-4cff-4a4c-e3e0-e8a30d3b72a3"
      },
      "execution_count": 12,
      "outputs": [
        {
          "output_type": "execute_result",
          "data": {
            "text/plain": [
              "0.5077517592258138"
            ]
          },
          "metadata": {},
          "execution_count": 12
        }
      ]
    },
    {
      "cell_type": "markdown",
      "source": [
        "->After checking the above score we can see that our model score is very poor and there is some overfitting issue."
      ],
      "metadata": {
        "id": "0qdwyxtE46wY"
      }
    },
    {
      "cell_type": "markdown",
      "source": [
        "---------------"
      ],
      "metadata": {
        "id": "n3ZUJCPF6IaC"
      }
    },
    {
      "cell_type": "markdown",
      "source": [
        "#Applying Decision Tree Regression :"
      ],
      "metadata": {
        "id": "qEYLJMni6T43"
      }
    },
    {
      "cell_type": "code",
      "source": [
        "from sklearn.tree import DecisionTreeRegressor\n",
        "model_dt=DecisionTreeRegressor()\n",
        "model_dt.fit(Xtrain, ytrain)"
      ],
      "metadata": {
        "colab": {
          "base_uri": "https://localhost:8080/"
        },
        "id": "QsEruFRg6Jco",
        "outputId": "2cc0fd81-7376-43c7-eecc-8405f1b44518"
      },
      "execution_count": 13,
      "outputs": [
        {
          "output_type": "execute_result",
          "data": {
            "text/plain": [
              "DecisionTreeRegressor()"
            ]
          },
          "metadata": {},
          "execution_count": 13
        }
      ]
    },
    {
      "cell_type": "code",
      "source": [
        "y_pred_dt=model_dt.predict(Xtest)"
      ],
      "metadata": {
        "id": "9i-cOt0Z6fQJ"
      },
      "execution_count": 14,
      "outputs": []
    },
    {
      "cell_type": "code",
      "source": [
        "print('Mean Absolute Error : ', metrics.mean_absolute_error(ytest,y_pred_dt))\n",
        "print('Mean Square Error : ', metrics.mean_squared_error(ytest,y_pred_dt))\n",
        "print('Root Mean Square Error : ', np.sqrt(metrics.mean_squared_error(ytest,y_pred_dt)))\n"
      ],
      "metadata": {
        "colab": {
          "base_uri": "https://localhost:8080/"
        },
        "id": "EZZ4REKN680u",
        "outputId": "97d5a4e4-7bea-4401-f905-95cf87a62f71"
      },
      "execution_count": 15,
      "outputs": [
        {
          "output_type": "stream",
          "name": "stdout",
          "text": [
            "Mean Absolute Error :  66.0909090909091\n",
            "Mean Square Error :  7029.727272727273\n",
            "Root Mean Square Error :  83.84346887341478\n"
          ]
        }
      ]
    },
    {
      "cell_type": "markdown",
      "source": [
        "-> We can see that error in Decision tree regression is nore than Linear Regression"
      ],
      "metadata": {
        "id": "qwxNaXgd7Y01"
      }
    },
    {
      "cell_type": "markdown",
      "source": [
        "* Checking the score :"
      ],
      "metadata": {
        "id": "ER65kPgo7pMR"
      }
    },
    {
      "cell_type": "code",
      "source": [
        "model_dt.score(Xtest, ytest)"
      ],
      "metadata": {
        "colab": {
          "base_uri": "https://localhost:8080/"
        },
        "id": "Ra85RsXP7wBn",
        "outputId": "4d370565-3ca1-49f5-8f56-28a338e42b2a"
      },
      "execution_count": 16,
      "outputs": [
        {
          "output_type": "execute_result",
          "data": {
            "text/plain": [
              "-0.08639191461524609"
            ]
          },
          "metadata": {},
          "execution_count": 16
        }
      ]
    },
    {
      "cell_type": "code",
      "source": [
        "model_dt.score(Xtrain, ytrain)"
      ],
      "metadata": {
        "colab": {
          "base_uri": "https://localhost:8080/"
        },
        "id": "kbGlpSwW75TF",
        "outputId": "d1815bbc-f51b-4fb8-c2a9-8e70136633ea"
      },
      "execution_count": 17,
      "outputs": [
        {
          "output_type": "execute_result",
          "data": {
            "text/plain": [
              "1.0"
            ]
          },
          "metadata": {},
          "execution_count": 17
        }
      ]
    },
    {
      "cell_type": "markdown",
      "source": [
        "-> We can see that our score is very bad.\n",
        "\n",
        "->Bad performance is bcz no preprocessing technique is applied."
      ],
      "metadata": {
        "id": "RVS-DMEs7-Sj"
      }
    },
    {
      "cell_type": "markdown",
      "source": [
        "------"
      ],
      "metadata": {
        "id": "H6ChNUKPSTa3"
      }
    },
    {
      "cell_type": "markdown",
      "source": [
        "#Ensemble :\n",
        "Ensemble methods is a machine learning technique that combines several base models in order to produce one optimal predictive model."
      ],
      "metadata": {
        "id": "mwS-rllRylEM"
      }
    },
    {
      "cell_type": "markdown",
      "source": [
        "There are some built-in ensemble methods we can use, or, we can create our own ensemble method."
      ],
      "metadata": {
        "id": "MPnMDwtvypkn"
      }
    },
    {
      "cell_type": "markdown",
      "source": [
        "#-> Method-1 : Stacking method"
      ],
      "metadata": {
        "id": "uBH703sOSrZu"
      }
    },
    {
      "cell_type": "markdown",
      "source": [
        "It is a level based method(stacking). It depends on how many levels we want to take."
      ],
      "metadata": {
        "id": "gfTHOhBXfpo6"
      }
    },
    {
      "cell_type": "markdown",
      "source": [
        "Stacking method takes 2 method, actually 3, but here we take taking 2.\n",
        "\n",
        "(3rd paramter is no. of times we want to execute)"
      ],
      "metadata": {
        "id": "RpEuU0_UUGUa"
      }
    },
    {
      "cell_type": "markdown",
      "source": [
        "Here, we'll be taking 2 levels(parameters).\n",
        "\n",
        "Level 0 have stack containing 2 different models.\n",
        "\n",
        "Level 1 we have base regression.\n",
        "\n",
        "Note : it depends on us which model we want to take as the base regressor."
      ],
      "metadata": {
        "id": "gpl9fV0EUtOP"
      }
    },
    {
      "cell_type": "code",
      "source": [
        "#we are using regression prediction model, there fore stacking regression\n",
        "#if classification is used then classification\n",
        "\n",
        "from sklearn.ensemble import StackingRegressor"
      ],
      "metadata": {
        "id": "M_951Q3QT20f"
      },
      "execution_count": 18,
      "outputs": []
    },
    {
      "cell_type": "markdown",
      "source": [
        "For this we have to first make the list of all model. For ex: here, in this case we have used 2 model - linear regression & decision tree regression."
      ],
      "metadata": {
        "id": "4f7Q4-S8S2FW"
      }
    },
    {
      "cell_type": "markdown",
      "source": [
        "#Level - 0 :"
      ],
      "metadata": {
        "id": "VYPPhFdSXAlg"
      }
    },
    {
      "cell_type": "markdown",
      "source": [
        "Step-1 :\n",
        " Create an empty list"
      ],
      "metadata": {
        "id": "MmQQpdIvTMHM"
      }
    },
    {
      "cell_type": "code",
      "source": [
        "level0=list()"
      ],
      "metadata": {
        "id": "mZw1pc4oSVhd"
      },
      "execution_count": 19,
      "outputs": []
    },
    {
      "cell_type": "markdown",
      "source": [
        "Step-2 : Append models in the list, here they are linear and decision tree regression"
      ],
      "metadata": {
        "id": "v0Rjht_qTXxZ"
      }
    },
    {
      "cell_type": "code",
      "source": [
        "#in level0 we have 2 diff. models that will work together\n",
        "\n",
        "level0.append(('lr',LinearRegression()))\n",
        "level0.append(('dt',DecisionTreeRegressor()))"
      ],
      "metadata": {
        "id": "g9vgCoiBTnG0"
      },
      "execution_count": 20,
      "outputs": []
    },
    {
      "cell_type": "markdown",
      "source": [
        "#Level - 1:"
      ],
      "metadata": {
        "id": "MKRT_-MGXDGw"
      }
    },
    {
      "cell_type": "markdown",
      "source": [
        "Step-3 : we have to give meta learner(i.e. base model) out of our models"
      ],
      "metadata": {
        "id": "8Pu6E2ymWzlY"
      }
    },
    {
      "cell_type": "code",
      "source": [
        "level1=LinearRegression()"
      ],
      "metadata": {
        "id": "V6L_jHWvXJcx"
      },
      "execution_count": 21,
      "outputs": []
    },
    {
      "cell_type": "markdown",
      "source": [
        "----"
      ],
      "metadata": {
        "id": "xtsKWRFBXcT5"
      }
    },
    {
      "cell_type": "markdown",
      "source": [
        "Step-4 : Creating the model\n",
        "\n",
        "(Note : instead of above 2 models..here we can append any no. of models\n",
        "\n",
        "Suppose, we can to append 5 or,6 etc models we can do it bcz it happens that our specific model can perform good for a specific data, thats why we go for ensemble so that we can combine models to give us correct accuracy/ efficient performance\n",
        "\n",
        "In such a way we can create our own ensemble method using stacking...beside stacking we also have other methods using which we can our own ensemble method)"
      ],
      "metadata": {
        "id": "vl9w53egXWUM"
      }
    },
    {
      "cell_type": "code",
      "source": [
        "#model is stackingRegressor which contains estimators\n",
        "#estimators=level0, final_estimator=level1\n",
        "\n",
        "#3rd parameter is how many times we want to execute this\n",
        "#here, we have given 5, that means our model will be able to learn training values 5 times..it is know as cross validation\n",
        "\n",
        "model_en=StackingRegressor(estimators=level0, final_estimator=level1, cv=5)"
      ],
      "metadata": {
        "id": "IgEfmfJxXv6n"
      },
      "execution_count": 22,
      "outputs": []
    },
    {
      "cell_type": "markdown",
      "source": [
        "Step-5 : fitting our data"
      ],
      "metadata": {
        "id": "eixqjqVCMzpc"
      }
    },
    {
      "cell_type": "code",
      "source": [
        "model_en.fit(Xtrain, ytrain)"
      ],
      "metadata": {
        "colab": {
          "base_uri": "https://localhost:8080/"
        },
        "id": "xp9mDdCeMw2L",
        "outputId": "d2f8027e-e90c-46f4-aa6b-ee6cd76124d1"
      },
      "execution_count": 23,
      "outputs": [
        {
          "output_type": "execute_result",
          "data": {
            "text/plain": [
              "StackingRegressor(cv=5,\n",
              "                  estimators=[('lr', LinearRegression()),\n",
              "                              ('dt', DecisionTreeRegressor())],\n",
              "                  final_estimator=LinearRegression())"
            ]
          },
          "metadata": {},
          "execution_count": 23
        }
      ]
    },
    {
      "cell_type": "markdown",
      "source": [
        "Step-6 : prediction"
      ],
      "metadata": {
        "id": "If4MRUA8NIHc"
      }
    },
    {
      "cell_type": "code",
      "source": [
        "y_pred_en=model_en.predict(Xtest)"
      ],
      "metadata": {
        "id": "Z9VfdQQUM_zR"
      },
      "execution_count": 24,
      "outputs": []
    },
    {
      "cell_type": "markdown",
      "source": [
        "->checking diff. b/w predicted & actual(true) values :\n",
        "\n",
        "> Indented block\n",
        "\n"
      ],
      "metadata": {
        "id": "QRasJvUYNL_0"
      }
    },
    {
      "cell_type": "code",
      "source": [
        "print('Mean Absolute Error : ', metrics.mean_absolute_error(ytest,y_pred_en))\n",
        "print('Mean Square Error : ', metrics.mean_squared_error(ytest,y_pred_en))\n",
        "print('Root Mean Square Error : ', np.sqrt(metrics.mean_squared_error(ytest,y_pred_en)))\n"
      ],
      "metadata": {
        "colab": {
          "base_uri": "https://localhost:8080/"
        },
        "id": "Of3ZT1dvNMeW",
        "outputId": "ab5a2a97-8aaa-4830-ca90-759e467eeeee"
      },
      "execution_count": 25,
      "outputs": [
        {
          "output_type": "stream",
          "name": "stdout",
          "text": [
            "Mean Absolute Error :  42.98505701489864\n",
            "Mean Square Error :  2958.0993429824925\n",
            "Root Mean Square Error :  54.3884118446429\n"
          ]
        }
      ]
    },
    {
      "cell_type": "code",
      "source": [
        "model_en.score(Xtest, ytest)"
      ],
      "metadata": {
        "colab": {
          "base_uri": "https://localhost:8080/"
        },
        "id": "GO7HvfuRN7mY",
        "outputId": "9a30b0d5-a06f-4f1c-a966-49dcb6149844"
      },
      "execution_count": 26,
      "outputs": [
        {
          "output_type": "execute_result",
          "data": {
            "text/plain": [
              "0.5428478112781645"
            ]
          },
          "metadata": {},
          "execution_count": 26
        }
      ]
    },
    {
      "cell_type": "code",
      "source": [
        "model_en.score(Xtrain, ytrain)"
      ],
      "metadata": {
        "colab": {
          "base_uri": "https://localhost:8080/"
        },
        "id": "1jtusY96ODiu",
        "outputId": "3c6cacc5-6bb1-4520-beab-932e4e9ecb0b"
      },
      "execution_count": 27,
      "outputs": [
        {
          "output_type": "execute_result",
          "data": {
            "text/plain": [
              "0.5348857133290079"
            ]
          },
          "metadata": {},
          "execution_count": 27
        }
      ]
    },
    {
      "cell_type": "markdown",
      "source": [
        "As we can see our model is some what predicting similar values as Linear Regression bcz we have taken Base regression as Linear regression."
      ],
      "metadata": {
        "id": "3q1ta98UNiTm"
      }
    },
    {
      "cell_type": "markdown",
      "source": [
        "Our prediction/ score is not good as we have not applied any preprocessing technique.\n",
        "\n",
        "Our main focus was to learn how to use ensemble"
      ],
      "metadata": {
        "id": "k81aCSsyN2p1"
      }
    },
    {
      "cell_type": "markdown",
      "source": [
        "# This is the way to ensemble any no. of classifier or regressor."
      ],
      "metadata": {
        "id": "yTb3cM8zOfqG"
      }
    },
    {
      "cell_type": "markdown",
      "source": [
        "-----"
      ],
      "metadata": {
        "id": "TsGfXlkwOnUB"
      }
    },
    {
      "cell_type": "markdown",
      "source": [
        "#PCA (Principle Component analysis) :"
      ],
      "metadata": {
        "id": "zM2jVFVsOoRo"
      }
    },
    {
      "cell_type": "markdown",
      "source": [
        "PCA is a dimensionality reduction technique using feature extraction, that means whatever the original feature values it'll change the feature values"
      ],
      "metadata": {
        "id": "DBrGx_mHZGgP"
      }
    },
    {
      "cell_type": "markdown",
      "source": [
        "Using PCA we reduce the dimension of the model and bcz of this complexity is reduced"
      ],
      "metadata": {
        "id": "PfjsUS1OYzms"
      }
    },
    {
      "cell_type": "markdown",
      "source": [
        "As we can see with or without ensemble we are not getting good preformance using all 10features of our dataset.\n",
        "\n",
        "Our score of the model should be high but it is low.\n",
        "\n",
        "So, to resolve this problem we can take only required(important) features of our dataset to check whether the performance id deteriorating or improving.\n"
      ],
      "metadata": {
        "id": "A7gvEsyaQE-S"
      }
    },
    {
      "cell_type": "markdown",
      "source": [
        "# * We have to perform this step before sliptting our data :"
      ],
      "metadata": {
        "id": "TQQfevZ9X9ud"
      }
    },
    {
      "cell_type": "code",
      "source": [
        "from sklearn.decomposition import PCA\n",
        "\n",
        "#there are many parameter in PCA() but, her we'll only take n_components and other by-deafult parameters will be passed\n",
        "\n",
        "#n_components means out of all features how many features we want to select (most imp. features)\n",
        "pca=PCA(n_components=2)\n",
        "\n",
        "#X contains 10 features\n",
        "#based on 10features it'll select most imp. 2 features based on the formulas dicussed in theory class(there are some statistical steps)\n",
        "pca1=pca.fit_transform(X)\n",
        "pca1"
      ],
      "metadata": {
        "colab": {
          "base_uri": "https://localhost:8080/"
        },
        "id": "hLMruYdrYE6r",
        "outputId": "2b49f307-9e42-4148-e359-67866e8c5df8"
      },
      "execution_count": 28,
      "outputs": [
        {
          "output_type": "execute_result",
          "data": {
            "text/plain": [
              "array([[ 2.79306207e-02, -9.26011612e-02],\n",
              "       [-1.34686052e-01,  6.52634060e-02],\n",
              "       [ 1.29447396e-02, -7.77641691e-02],\n",
              "       [ 2.34543980e-03,  1.81819367e-02],\n",
              "       [-3.59806910e-02,  3.86213572e-02],\n",
              "       [-1.88660280e-01, -1.81251413e-02],\n",
              "       [-9.48347610e-02, -3.83155499e-02],\n",
              "       [ 9.87389258e-02,  8.69453424e-02],\n",
              "       [ 2.86833351e-02, -4.19169143e-02],\n",
              "       [-1.00910711e-02, -2.34450670e-02],\n",
              "       [-1.83419418e-01, -7.28738089e-02],\n",
              "       [ 1.88796730e-02, -3.00873701e-02],\n",
              "       [-7.59323171e-02,  4.66838722e-02],\n",
              "       [ 1.51473512e-02, -3.09692487e-02],\n",
              "       [-8.01694940e-02,  8.64707740e-02],\n",
              "       [ 1.40488092e-01,  4.51897240e-02],\n",
              "       [ 7.58600302e-03,  4.33946961e-02],\n",
              "       [ 1.08839198e-01, -7.06819254e-03],\n",
              "       [-5.49947993e-02, -2.03725705e-02],\n",
              "       [-8.42651351e-02,  4.41806793e-02],\n",
              "       [-9.55955468e-02, -1.37941404e-02],\n",
              "       [-9.18719735e-02, -3.95423697e-02],\n",
              "       [-7.97268029e-02,  3.42316116e-02],\n",
              "       [ 1.79486384e-01, -8.39222736e-02],\n",
              "       [-6.13394313e-02, -1.18652407e-02],\n",
              "       [ 3.92363820e-03, -5.10828245e-02],\n",
              "       [-1.84828537e-01, -4.67873287e-02],\n",
              "       [-4.96967732e-02, -2.63117973e-02],\n",
              "       [-8.36788209e-02, -2.87357913e-03],\n",
              "       [-1.71885595e-02, -6.69903464e-02],\n",
              "       [-5.58611904e-02,  1.70261134e-02],\n",
              "       [-1.64968530e-01,  3.10718949e-02],\n",
              "       [ 1.24056068e-01, -1.39902415e-01],\n",
              "       [-1.36513766e-01,  2.59201242e-02],\n",
              "       [-1.40162432e-01, -5.63370809e-03],\n",
              "       [-3.34396746e-02,  8.95441058e-02],\n",
              "       [-6.77447975e-03,  2.10255176e-02],\n",
              "       [-6.69444076e-02,  7.15254095e-03],\n",
              "       [ 1.85191456e-01,  2.08702843e-02],\n",
              "       [ 7.28741657e-03, -1.49538052e-02],\n",
              "       [ 1.15507838e-01,  2.04192603e-02],\n",
              "       [-1.74462889e-01, -2.47402646e-02],\n",
              "       [-2.76506311e-02, -8.51287271e-02],\n",
              "       [-8.56914170e-02,  9.88699355e-02],\n",
              "       [ 9.67999958e-02, -7.97608127e-02],\n",
              "       [-1.01473230e-02, -2.33657143e-02],\n",
              "       [-1.15570589e-01, -1.48487982e-02],\n",
              "       [-1.61765051e-01, -5.13039098e-02],\n",
              "       [-4.07025090e-02,  1.94695155e-02],\n",
              "       [ 6.12607134e-02, -6.87912374e-02],\n",
              "       [-4.92354907e-02, -2.33374556e-02],\n",
              "       [ 9.78432196e-03, -7.29734156e-02],\n",
              "       [-1.46188615e-02,  7.55583713e-02],\n",
              "       [ 1.34665755e-02,  3.15091663e-02],\n",
              "       [-4.08848170e-02,  5.95156194e-02],\n",
              "       [-1.16620952e-01,  6.08980206e-02],\n",
              "       [-1.52011820e-02, -3.73512443e-02],\n",
              "       [-2.05138473e-01, -2.71310185e-02],\n",
              "       [-1.25905088e-01,  1.06047703e-01],\n",
              "       [ 6.89941155e-02,  5.74908645e-02],\n",
              "       [-1.64253230e-01, -1.75854067e-02],\n",
              "       [ 3.57733371e-02, -1.00596444e-01],\n",
              "       [-9.15929289e-02,  1.04199506e-02],\n",
              "       [-5.32336156e-02,  6.15051986e-02],\n",
              "       [-5.72408636e-02, -6.99815577e-02],\n",
              "       [ 8.24607457e-02, -5.10090158e-02],\n",
              "       [ 4.76614787e-02, -6.23906381e-02],\n",
              "       [ 9.97125263e-03, -1.93721417e-02],\n",
              "       [-2.42695038e-02, -4.26792827e-02],\n",
              "       [-9.41281845e-02, -5.02129729e-02],\n",
              "       [-8.43436350e-02,  6.22574081e-02],\n",
              "       [ 8.47071159e-02,  9.74693035e-03],\n",
              "       [ 8.04804517e-02,  9.46795701e-02],\n",
              "       [ 4.89545738e-02,  2.59062097e-02],\n",
              "       [ 4.01484377e-02,  1.35424773e-02],\n",
              "       [ 3.00068869e-03, -3.15325948e-02],\n",
              "       [-6.25681422e-02, -1.81236778e-01],\n",
              "       [-1.33200015e-01,  6.76652944e-03],\n",
              "       [-7.47472791e-02, -6.15650388e-02],\n",
              "       [-8.00464439e-02,  4.28849169e-02],\n",
              "       [ 5.75572132e-02,  1.04341412e-01],\n",
              "       [ 2.91402765e-02, -5.13190611e-03],\n",
              "       [-1.09965942e-01,  1.14348183e-01],\n",
              "       [-9.91677923e-02, -3.61466955e-02],\n",
              "       [-1.69798250e-01,  4.60468914e-02],\n",
              "       [-4.02238063e-02,  1.95499443e-02],\n",
              "       [-9.98396253e-02, -5.61058458e-02],\n",
              "       [-1.02185239e-02,  1.15877610e-01],\n",
              "       [-7.48957109e-02, -2.45999367e-02],\n",
              "       [-8.27373001e-02,  5.36624169e-02],\n",
              "       [-1.29083268e-01,  3.49866415e-02],\n",
              "       [ 8.50717165e-02,  7.40960158e-02],\n",
              "       [-1.66674342e-02,  2.92272646e-02],\n",
              "       [-1.41109343e-01,  7.13799156e-02],\n",
              "       [-1.20861612e-01,  5.93104036e-02],\n",
              "       [-7.92935242e-02, -2.62531374e-02],\n",
              "       [ 9.26083088e-02, -6.21818143e-02],\n",
              "       [ 7.81713790e-02,  1.21791213e-02],\n",
              "       [-4.84808532e-02, -1.93737633e-02],\n",
              "       [ 2.85520756e-03,  5.33629924e-02],\n",
              "       [ 3.47044519e-02,  8.78325002e-02],\n",
              "       [-1.47071864e-02,  1.79581777e-02],\n",
              "       [-3.77513191e-02,  7.47772411e-02],\n",
              "       [ 8.81227168e-02,  1.30685494e-02],\n",
              "       [-7.67502285e-02,  5.26310845e-03],\n",
              "       [-1.95775509e-02, -4.43801575e-02],\n",
              "       [-1.60842245e-01,  4.41549288e-03],\n",
              "       [ 2.82957377e-02,  3.93157555e-03],\n",
              "       [ 5.71480217e-02, -1.34329268e-01],\n",
              "       [ 9.05222517e-02, -3.83302434e-02],\n",
              "       [-9.68605137e-02, -3.63776277e-02],\n",
              "       [-5.80795461e-02,  8.02587904e-02],\n",
              "       [-2.72169258e-02,  2.49406498e-02],\n",
              "       [ 1.22241401e-01, -4.69040119e-02],\n",
              "       [ 1.01544052e-01, -3.35816989e-02],\n",
              "       [ 1.33536784e-01,  5.42769730e-03],\n",
              "       [ 1.06804808e-01, -3.51480909e-02],\n",
              "       [ 1.65985070e-01,  9.19142114e-03],\n",
              "       [ 7.50820891e-02, -2.02283638e-02],\n",
              "       [-4.86797921e-02,  1.16929095e-02],\n",
              "       [-5.20171044e-02, -2.29385601e-02],\n",
              "       [ 6.30822147e-02,  6.68939213e-03],\n",
              "       [ 1.62079146e-01, -1.61520759e-02],\n",
              "       [ 2.69646993e-01,  1.02840532e-01],\n",
              "       [-5.94323257e-02, -9.57332162e-03],\n",
              "       [ 1.32507002e-02, -8.70551290e-02],\n",
              "       [-1.89154794e-01,  3.21540776e-03],\n",
              "       [-3.73816432e-02,  6.24825709e-02],\n",
              "       [-1.09678973e-01,  4.75840748e-02],\n",
              "       [ 8.27347476e-02, -3.30850204e-03],\n",
              "       [ 8.35885935e-02, -6.57436971e-02],\n",
              "       [-1.43949852e-01,  3.57572755e-02],\n",
              "       [ 3.40858134e-02,  2.60273601e-02],\n",
              "       [-1.33979698e-01, -8.27850952e-02],\n",
              "       [-7.62122749e-02,  5.83071128e-02],\n",
              "       [ 4.02900605e-02, -7.96524124e-02],\n",
              "       [-1.92207944e-01,  1.43925044e-03],\n",
              "       [ 2.62893485e-02, -2.24815986e-02],\n",
              "       [ 8.79155760e-02, -9.73725264e-02],\n",
              "       [ 2.67577199e-02, -5.61013210e-02],\n",
              "       [ 2.70157718e-02, -6.61455596e-02],\n",
              "       [ 1.57247497e-01, -1.04947659e-03],\n",
              "       [ 8.17944060e-02,  2.79689725e-02],\n",
              "       [-7.40951337e-02,  7.53529114e-02],\n",
              "       [ 1.02399657e-01, -2.35335308e-02],\n",
              "       [-2.68454281e-02, -3.39205564e-02],\n",
              "       [ 7.13555716e-02, -3.43693137e-02],\n",
              "       [ 5.75980173e-02,  1.79789409e-03],\n",
              "       [ 6.97140442e-03,  3.19607023e-02],\n",
              "       [ 3.10928075e-02, -7.39365880e-02],\n",
              "       [ 5.72505089e-03, -3.75114289e-02],\n",
              "       [-6.14829101e-02,  3.35921586e-02],\n",
              "       [ 1.56621884e-01, -2.48709023e-02],\n",
              "       [ 1.99927751e-02, -2.16338450e-02],\n",
              "       [ 4.89714461e-02,  2.83366951e-03],\n",
              "       [ 1.40492893e-01,  4.21148026e-02],\n",
              "       [-7.95567563e-02, -7.55472043e-03],\n",
              "       [ 4.52636774e-02,  1.45345572e-02],\n",
              "       [-7.38306149e-02,  4.90806854e-02],\n",
              "       [ 4.76728585e-02,  2.70082956e-03],\n",
              "       [-1.08979284e-01,  2.71949433e-02],\n",
              "       [ 2.43968870e-01,  5.82734044e-02],\n",
              "       [-5.51501642e-02,  1.38471330e-03],\n",
              "       [ 6.64112981e-02, -5.08571334e-02],\n",
              "       [-3.66284862e-02,  8.28180624e-02],\n",
              "       [-1.34681482e-01,  2.11024348e-02],\n",
              "       [-1.62413993e-01, -8.39327165e-02],\n",
              "       [ 1.36982369e-01, -1.44794601e-02],\n",
              "       [ 2.00642141e-01, -1.37473854e-02],\n",
              "       [ 1.11929601e-01,  7.13728258e-03],\n",
              "       [-8.76082194e-02,  1.17380513e-02],\n",
              "       [-1.47011870e-01, -3.44930772e-02],\n",
              "       [ 1.36268563e-01, -2.12817233e-02],\n",
              "       [-1.16537651e-01, -7.79771798e-02],\n",
              "       [-5.91834184e-02, -1.31326991e-01],\n",
              "       [-6.13805081e-02,  6.89669434e-03],\n",
              "       [ 5.36760600e-02,  2.01076773e-04],\n",
              "       [ 1.07566761e-01, -1.01669573e-03],\n",
              "       [-5.97777116e-02,  8.78520860e-02],\n",
              "       [ 2.91184288e-02,  2.70782666e-02],\n",
              "       [ 4.43421851e-02, -5.71715313e-02],\n",
              "       [-3.31302984e-02,  1.05693177e-01],\n",
              "       [ 1.34446815e-01,  2.67896146e-02],\n",
              "       [ 4.97174610e-02, -3.42769449e-02],\n",
              "       [ 1.09438761e-02, -2.86868314e-02],\n",
              "       [ 2.76772307e-02, -7.94085467e-02],\n",
              "       [ 1.04600155e-01, -1.85110899e-02],\n",
              "       [-2.14661046e-01, -1.34555991e-02],\n",
              "       [ 3.82705493e-02,  1.09604504e-01],\n",
              "       [-4.90208322e-02,  3.60159889e-02],\n",
              "       [ 2.47658010e-02, -2.33554570e-02],\n",
              "       [-7.74128322e-02, -1.01010151e-01],\n",
              "       [-2.82557170e-02,  3.28899904e-02],\n",
              "       [ 1.09006877e-01,  4.11578660e-02],\n",
              "       [-7.26359757e-02, -3.74038298e-02],\n",
              "       [ 8.95472353e-02, -1.20704373e-02],\n",
              "       [-3.31009676e-02,  8.24620449e-02],\n",
              "       [ 8.87873872e-02, -5.97071917e-02],\n",
              "       [-1.01456513e-01, -3.44137414e-02],\n",
              "       [ 2.54919246e-02,  5.63721624e-02],\n",
              "       [-2.13580430e-03,  1.08920778e-01],\n",
              "       [-6.40267881e-02,  1.31915317e-03],\n",
              "       [ 1.44266320e-01,  1.00559450e-01],\n",
              "       [ 1.26576428e-01, -1.11689880e-02],\n",
              "       [ 8.50057916e-02, -7.17169813e-02],\n",
              "       [-4.78504121e-03, -2.33772627e-02],\n",
              "       [ 6.25572561e-02, -4.35606983e-03],\n",
              "       [ 1.92320197e-02,  1.90906652e-02],\n",
              "       [ 1.11385706e-01,  2.16909284e-03],\n",
              "       [ 3.44164145e-02, -1.00794800e-01],\n",
              "       [-3.10855413e-02,  1.10700423e-01],\n",
              "       [-1.83089155e-02, -3.79885363e-03],\n",
              "       [ 1.40444928e-02,  9.41321982e-02],\n",
              "       [-6.72001398e-02,  4.63299202e-02],\n",
              "       [-1.57495173e-01,  2.65407604e-02],\n",
              "       [ 1.06627339e-01, -1.12799739e-01],\n",
              "       [ 1.95603801e-01, -1.72414781e-02],\n",
              "       [ 9.53295596e-02,  4.85425598e-02],\n",
              "       [-1.97793836e-02,  1.11054931e-02],\n",
              "       [-1.22933475e-01, -3.99626417e-02],\n",
              "       [-1.07737087e-01, -3.73771641e-02],\n",
              "       [-4.58770080e-02,  3.54339357e-03],\n",
              "       [-3.12692726e-02, -8.49029400e-02],\n",
              "       [-1.39112845e-01, -2.18384751e-02],\n",
              "       [-1.30348368e-01, -5.62377180e-04],\n",
              "       [ 6.94494933e-02, -1.12266921e-01],\n",
              "       [-1.09607838e-01, -1.52490725e-02],\n",
              "       [-2.99894505e-02,  1.43572389e-02],\n",
              "       [-6.84193403e-02,  4.00569538e-02],\n",
              "       [-4.21285696e-02,  1.09851391e-02],\n",
              "       [ 1.86967443e-01,  1.23033828e-01],\n",
              "       [ 8.40461371e-04,  2.92898348e-02],\n",
              "       [ 9.76675818e-02,  4.07774706e-03],\n",
              "       [-6.94257238e-02,  2.34459438e-02],\n",
              "       [ 5.45988033e-02, -1.92390137e-03],\n",
              "       [ 3.96268563e-02, -1.08309296e-01],\n",
              "       [ 9.08576826e-02,  9.38232248e-02],\n",
              "       [-8.36196596e-02,  6.61197393e-02],\n",
              "       [ 6.45928502e-02, -9.09502782e-02],\n",
              "       [ 6.33489016e-02,  1.09021044e-01],\n",
              "       [ 1.02679782e-01, -7.18094829e-02],\n",
              "       [ 3.10499439e-02,  4.15331374e-03],\n",
              "       [-1.44492578e-01, -9.61214954e-02],\n",
              "       [-4.34358178e-02, -3.98631650e-02],\n",
              "       [-6.83872762e-02, -6.29585120e-02],\n",
              "       [-1.59180485e-01, -3.18378941e-03],\n",
              "       [-2.66050190e-03,  1.34411082e-01],\n",
              "       [-1.38092806e-01,  7.15632400e-02],\n",
              "       [ 1.92800306e-01,  1.06147106e-01],\n",
              "       [ 9.70255844e-02,  2.70711455e-02],\n",
              "       [ 7.30130289e-02, -4.58606833e-02],\n",
              "       [ 1.97244885e-01, -3.49783416e-02],\n",
              "       [ 4.54465151e-02,  3.13603596e-02],\n",
              "       [ 1.14773160e-01,  5.20956445e-02],\n",
              "       [ 1.81926598e-01, -4.88777757e-02],\n",
              "       [-6.61653168e-02,  3.84822228e-02],\n",
              "       [ 4.23497597e-02, -5.71286272e-02],\n",
              "       [-6.72043489e-02,  3.25594213e-03],\n",
              "       [ 8.67697732e-02, -2.28897946e-02],\n",
              "       [-9.86233342e-03,  2.12964568e-03],\n",
              "       [-1.37378950e-01,  1.04271421e-01],\n",
              "       [-6.16458674e-02,  1.14251238e-01],\n",
              "       [ 1.17754712e-01, -5.07140590e-02],\n",
              "       [-1.21665984e-01, -3.77705304e-02],\n",
              "       [-1.89213838e-02, -7.05878471e-02],\n",
              "       [-1.37690308e-03, -1.40230373e-02],\n",
              "       [-1.32669857e-01,  3.37506356e-02],\n",
              "       [ 6.64781058e-02,  1.08199360e-01],\n",
              "       [ 1.68995385e-01, -4.90554999e-02],\n",
              "       [-1.06912326e-01,  1.35217248e-01],\n",
              "       [ 1.21483806e-04, -6.96865559e-02],\n",
              "       [ 1.54232797e-02, -7.93843360e-02],\n",
              "       [-1.14947892e-01, -4.91558059e-02],\n",
              "       [ 1.61574045e-01,  8.98471525e-03],\n",
              "       [ 7.58802438e-03,  2.76758535e-03],\n",
              "       [ 2.62747808e-02, -5.61589664e-02],\n",
              "       [ 9.04278519e-02,  1.51041505e-01],\n",
              "       [-1.34141795e-01, -3.26632136e-03],\n",
              "       [ 3.52610005e-02, -2.69344972e-02],\n",
              "       [-4.24980691e-02, -2.86599559e-02],\n",
              "       [ 3.14377704e-02, -1.57068331e-03],\n",
              "       [-6.19642431e-02, -3.38980798e-02],\n",
              "       [ 8.72460984e-02,  1.20787152e-01],\n",
              "       [-1.22753568e-01,  4.15157489e-03],\n",
              "       [-1.93565601e-02, -1.03286430e-01],\n",
              "       [ 7.91997326e-02, -5.97911450e-03],\n",
              "       [-1.77666878e-01,  5.37963573e-02],\n",
              "       [ 1.02094931e-01,  1.58139657e-01],\n",
              "       [ 1.64481835e-02,  5.65188172e-02],\n",
              "       [ 9.12121431e-02,  3.37448955e-03],\n",
              "       [ 1.14682457e-01, -5.85389171e-02],\n",
              "       [ 6.63544890e-02,  7.16158937e-02],\n",
              "       [-1.51733678e-01,  1.50663422e-02],\n",
              "       [ 8.85460741e-03,  3.08245539e-02],\n",
              "       [-2.68888451e-02, -2.57357475e-02],\n",
              "       [-2.06024044e-02, -2.36460969e-02],\n",
              "       [-1.07721634e-01,  3.54331714e-02],\n",
              "       [-1.10236683e-01,  5.47514365e-03],\n",
              "       [-9.11589493e-02, -1.04515565e-01],\n",
              "       [-1.82261350e-02, -5.02856701e-02],\n",
              "       [ 3.40584705e-02, -8.34406608e-03],\n",
              "       [ 2.98447867e-02,  1.91553595e-02],\n",
              "       [ 5.89687807e-02,  3.23122420e-02],\n",
              "       [ 8.41451334e-02,  5.60356709e-02],\n",
              "       [ 1.17413110e-01,  5.48773432e-02],\n",
              "       [ 2.14567129e-02, -3.84590857e-02],\n",
              "       [-3.97206639e-02, -5.38636748e-02],\n",
              "       [ 9.48542648e-02, -6.49434909e-03],\n",
              "       [-1.76049492e-01, -1.40510465e-02],\n",
              "       [ 8.50508888e-02,  6.73766349e-02],\n",
              "       [ 3.22797062e-02, -1.49691527e-03],\n",
              "       [ 7.98776388e-02,  6.11526036e-02],\n",
              "       [-9.08242263e-02,  1.41116393e-02],\n",
              "       [ 1.09242861e-01, -1.36473795e-02],\n",
              "       [-2.55940669e-02,  7.85951205e-03],\n",
              "       [-4.63452492e-02,  8.71042454e-02],\n",
              "       [ 7.57816952e-02, -5.44350087e-02],\n",
              "       [ 9.73829776e-02,  7.60881932e-02],\n",
              "       [ 1.22763568e-02,  6.96573404e-02],\n",
              "       [-1.98690606e-02,  4.67237919e-03],\n",
              "       [ 1.03876722e-01,  8.64717943e-02],\n",
              "       [ 2.20708619e-01, -5.60534844e-03],\n",
              "       [ 2.15118116e-01, -1.06362378e-01],\n",
              "       [ 1.84087008e-01, -3.27367423e-02],\n",
              "       [ 1.47393029e-01,  6.37589415e-02],\n",
              "       [ 1.30789839e-01,  5.12940574e-02],\n",
              "       [ 5.19792353e-02, -4.07918020e-02],\n",
              "       [ 5.90710213e-02,  3.45111731e-02],\n",
              "       [-2.34019956e-02, -2.04338982e-02],\n",
              "       [-4.50677541e-02, -3.12433390e-02],\n",
              "       [ 8.92540376e-02, -5.34013706e-02],\n",
              "       [-3.82227203e-02, -8.67866564e-02],\n",
              "       [ 1.07589838e-01, -5.63189853e-02],\n",
              "       [ 6.75373012e-02, -6.69609554e-02],\n",
              "       [-1.25541416e-01, -7.34545543e-02],\n",
              "       [-1.00472344e-01,  6.55571022e-02],\n",
              "       [ 1.93608910e-01,  5.38288651e-02],\n",
              "       [ 5.66097752e-02, -5.24246792e-02],\n",
              "       [-5.39328485e-02,  2.89806836e-02],\n",
              "       [ 3.82056318e-02,  1.10533198e-01],\n",
              "       [-3.05066299e-02,  8.94861553e-03],\n",
              "       [ 3.52449161e-02, -6.15498813e-02],\n",
              "       [ 5.42365354e-02, -4.16917964e-02],\n",
              "       [-2.50983964e-02,  2.97698294e-02],\n",
              "       [ 5.27168653e-03,  7.04826365e-02],\n",
              "       [ 6.91961776e-02,  3.23782724e-02],\n",
              "       [ 1.78618567e-01,  8.61603266e-02],\n",
              "       [-3.10067216e-02, -1.09748932e-02],\n",
              "       [-6.46785568e-02,  4.92460033e-02],\n",
              "       [-7.28482803e-02, -1.25777175e-01],\n",
              "       [ 1.19250562e-01, -6.08887030e-02],\n",
              "       [-1.33444714e-01, -8.62996820e-02],\n",
              "       [-1.60382785e-01, -5.82618586e-03],\n",
              "       [ 4.63954587e-02,  7.64411511e-02],\n",
              "       [ 1.55340044e-01,  6.36320969e-02],\n",
              "       [-3.19921569e-02, -6.17501864e-02],\n",
              "       [-3.82222037e-02,  1.47673967e-02],\n",
              "       [ 3.95401315e-03, -6.09302172e-02],\n",
              "       [-1.49985418e-01,  2.76103782e-02],\n",
              "       [ 8.36777723e-02, -3.20027090e-02],\n",
              "       [ 1.67571540e-02, -9.23869773e-03],\n",
              "       [-9.25978586e-02,  1.26658405e-03],\n",
              "       [ 6.32179928e-02, -9.35485319e-02],\n",
              "       [ 6.97033201e-03, -9.42989249e-02],\n",
              "       [ 6.42830283e-02, -5.04162239e-02],\n",
              "       [ 3.33429126e-02,  2.20248519e-02],\n",
              "       [ 1.47535119e-01, -3.55678922e-02],\n",
              "       [ 1.29280737e-01, -3.28278415e-02],\n",
              "       [ 9.51706297e-02, -3.90375971e-02],\n",
              "       [ 6.48597819e-03, -2.48754514e-02],\n",
              "       [-1.27627725e-01,  7.68709417e-02],\n",
              "       [ 1.00246207e-01, -1.33146668e-02],\n",
              "       [-1.84982734e-02,  1.44287729e-02],\n",
              "       [-1.04600975e-01, -4.51634923e-02],\n",
              "       [-1.52086189e-01, -2.77252438e-02],\n",
              "       [ 7.61680895e-02,  9.81966371e-03],\n",
              "       [ 1.58570612e-01,  1.15475384e-01],\n",
              "       [ 7.38793238e-02, -2.48833642e-02],\n",
              "       [ 3.93544206e-02, -4.21310696e-02],\n",
              "       [-1.41861020e-01, -7.89454770e-02],\n",
              "       [-5.58224397e-02, -5.03650046e-02],\n",
              "       [-9.14836302e-02, -4.59803889e-02],\n",
              "       [ 4.29696115e-02, -6.11439714e-02],\n",
              "       [-4.54406553e-02, -3.83158304e-02],\n",
              "       [ 5.78448153e-02,  9.91117236e-02],\n",
              "       [-5.34751889e-02, -7.98577181e-02],\n",
              "       [-7.21830341e-02,  4.35722726e-02],\n",
              "       [-1.13833435e-01, -1.84134944e-02],\n",
              "       [ 2.71758335e-02, -3.56250821e-02],\n",
              "       [-9.87145509e-02,  1.35499006e-02],\n",
              "       [ 1.37344162e-01, -7.38468330e-02],\n",
              "       [-1.62678222e-01, -1.98554311e-03],\n",
              "       [ 1.20676877e-02,  1.44211761e-02],\n",
              "       [-1.11848688e-01,  1.33452393e-02],\n",
              "       [ 1.06678575e-01, -5.36816418e-02],\n",
              "       [-4.91702677e-02,  1.45629587e-02],\n",
              "       [-1.35395221e-01, -5.86429445e-02],\n",
              "       [-2.90614834e-02, -3.72675706e-02],\n",
              "       [ 1.05209759e-02,  6.14798137e-02],\n",
              "       [ 7.66928671e-02, -2.21827038e-02],\n",
              "       [-4.66923475e-02,  1.02228252e-02],\n",
              "       [-1.21786530e-01,  2.90957508e-02],\n",
              "       [ 9.10491698e-02, -3.98880940e-02],\n",
              "       [ 4.61706304e-02, -2.78475116e-02],\n",
              "       [-3.01932420e-02, -2.50710748e-02],\n",
              "       [ 3.13362872e-02, -1.87534139e-01],\n",
              "       [-1.86037713e-01,  3.38394666e-02],\n",
              "       [ 3.32573908e-02,  1.75986367e-02],\n",
              "       [ 8.71341236e-02,  2.43926731e-02],\n",
              "       [ 1.06441767e-01,  1.22329490e-02],\n",
              "       [ 6.49614838e-02,  1.26953427e-02],\n",
              "       [-1.17857427e-01, -4.20588838e-02],\n",
              "       [ 8.50920276e-02,  1.35711455e-02],\n",
              "       [-5.88469564e-02,  5.47235238e-02],\n",
              "       [ 1.78445277e-01,  7.52541723e-02],\n",
              "       [ 5.43682414e-02,  3.15212801e-02],\n",
              "       [ 4.90809102e-02, -1.50024490e-02],\n",
              "       [-5.12959000e-02,  9.36489055e-03],\n",
              "       [ 1.92312058e-02,  1.60667157e-01],\n",
              "       [-1.36839619e-01, -2.06860452e-02],\n",
              "       [ 3.24050753e-02,  1.18496878e-02],\n",
              "       [ 1.24745147e-01, -9.65164466e-03],\n",
              "       [ 8.38310731e-02,  4.50282076e-02],\n",
              "       [ 1.04066028e-01, -2.18281907e-03],\n",
              "       [ 4.56173451e-02, -5.86872102e-02],\n",
              "       [-1.97219630e-01, -5.60607237e-02],\n",
              "       [ 1.36550084e-01,  1.69445297e-02],\n",
              "       [-6.69370329e-02, -9.38798892e-02],\n",
              "       [ 1.79597689e-01, -4.10145060e-02],\n",
              "       [-5.16535107e-02,  1.03378508e-01],\n",
              "       [-4.45179621e-03,  5.07915162e-02],\n",
              "       [-4.05532261e-02, -3.71290111e-02],\n",
              "       [ 1.10530829e-01,  4.96335617e-02],\n",
              "       [-9.14915767e-02,  1.32092995e-01],\n",
              "       [-2.89007534e-02,  4.11255528e-02],\n",
              "       [-5.62727386e-02,  1.39570826e-02],\n",
              "       [-1.78999364e-01,  5.53236086e-02],\n",
              "       [ 5.89584917e-02, -4.92753732e-02],\n",
              "       [ 6.01545161e-02,  3.62113927e-02],\n",
              "       [-9.76257296e-03, -5.73372415e-02],\n",
              "       [ 3.29562879e-02,  9.99424349e-03],\n",
              "       [-9.05608887e-02,  1.89108144e-01]])"
            ]
          },
          "metadata": {},
          "execution_count": 28
        }
      ]
    },
    {
      "cell_type": "markdown",
      "source": [
        "Above are the 2 imp. features selected by PCA.\n",
        "\n",
        "We can se that these values are diff. than our features values in X.\n",
        "\n"
      ],
      "metadata": {
        "id": "Smj3O-PAafO3"
      }
    },
    {
      "cell_type": "markdown",
      "source": [
        "X is now pca1."
      ],
      "metadata": {
        "id": "92aBRqTta-Xi"
      }
    },
    {
      "cell_type": "markdown",
      "source": [
        "-> Checking which 2 imp. features are selected :"
      ],
      "metadata": {
        "id": "HkS9gp4Eavt1"
      }
    },
    {
      "cell_type": "code",
      "source": [
        ""
      ],
      "metadata": {
        "id": "zSbClgZOa2Co"
      },
      "execution_count": null,
      "outputs": []
    },
    {
      "cell_type": "markdown",
      "source": [
        "-> Splitting our data (pca1) :"
      ],
      "metadata": {
        "id": "CmHDqbtLbShE"
      }
    },
    {
      "cell_type": "code",
      "source": [
        "kf2=KFold(n_splits=5)\n",
        "for train, test in kf2.split(pca1):\n",
        "  Xtrain, Xtest= pca1[train], pca1[test]\n",
        "  ytrain, ytest= y[train], y[test]"
      ],
      "metadata": {
        "id": "3_DB9fGjbYq-"
      },
      "execution_count": 29,
      "outputs": []
    },
    {
      "cell_type": "code",
      "source": [
        "print(Xtrain.shape, ytrain.shape)\n",
        "print(Xtest.shape, ytest.shape)"
      ],
      "metadata": {
        "colab": {
          "base_uri": "https://localhost:8080/"
        },
        "id": "H81SRYTUb9EA",
        "outputId": "98e87876-74ac-40b3-a85e-4fa21e955b75"
      },
      "execution_count": 30,
      "outputs": [
        {
          "output_type": "stream",
          "name": "stdout",
          "text": [
            "(354, 2) (354,)\n",
            "(88, 2) (88,)\n"
          ]
        }
      ]
    },
    {
      "cell_type": "markdown",
      "source": [
        "----"
      ],
      "metadata": {
        "id": "N4uEA1n7clJF"
      }
    },
    {
      "cell_type": "markdown",
      "source": [
        "#Checking performance using Linear Regression after using PCA :"
      ],
      "metadata": {
        "id": "im4tnTbMcnO4"
      }
    },
    {
      "cell_type": "code",
      "source": [
        "model_lr=LinearRegression()\n",
        "model_lr.fit(Xtrain, ytrain)"
      ],
      "metadata": {
        "colab": {
          "base_uri": "https://localhost:8080/"
        },
        "id": "JGsecwKzctN1",
        "outputId": "4b444ab9-a902-4653-b640-c944869c28dc"
      },
      "execution_count": 31,
      "outputs": [
        {
          "output_type": "execute_result",
          "data": {
            "text/plain": [
              "LinearRegression()"
            ]
          },
          "metadata": {},
          "execution_count": 31
        }
      ]
    },
    {
      "cell_type": "code",
      "source": [
        "y_pred_lr=model_lr.predict(Xtest)"
      ],
      "metadata": {
        "id": "g850sr22dL8P"
      },
      "execution_count": 32,
      "outputs": []
    },
    {
      "cell_type": "code",
      "source": [
        "print('Mean Absolute Error : ', metrics.mean_absolute_error(ytest,y_pred_lr))\n",
        "print('Mean Square Error : ', metrics.mean_squared_error(ytest,y_pred_lr))\n",
        "print('Root Mean Square Error : ', np.sqrt(metrics.mean_squared_error(ytest,y_pred_lr)))"
      ],
      "metadata": {
        "colab": {
          "base_uri": "https://localhost:8080/"
        },
        "id": "ioVAmkIYdQKf",
        "outputId": "e03d88a9-8a74-479c-c223-b77822f96d28"
      },
      "execution_count": 33,
      "outputs": [
        {
          "output_type": "stream",
          "name": "stdout",
          "text": [
            "Mean Absolute Error :  53.646092669272754\n",
            "Mean Square Error :  4031.692590044977\n",
            "Root Mean Square Error :  63.49561079354208\n"
          ]
        }
      ]
    },
    {
      "cell_type": "code",
      "source": [
        "model_lr.score(Xtest,ytest)"
      ],
      "metadata": {
        "colab": {
          "base_uri": "https://localhost:8080/"
        },
        "id": "0xNOSLZidY8R",
        "outputId": "cfd0d078-61c6-437e-9b0a-9a82b04eda1e"
      },
      "execution_count": 34,
      "outputs": [
        {
          "output_type": "execute_result",
          "data": {
            "text/plain": [
              "0.376931982975808"
            ]
          },
          "metadata": {},
          "execution_count": 34
        }
      ]
    },
    {
      "cell_type": "code",
      "source": [
        "model_lr.score(Xtrain,ytrain)"
      ],
      "metadata": {
        "colab": {
          "base_uri": "https://localhost:8080/"
        },
        "id": "Y66Edg7IdZn2",
        "outputId": "5d370d9b-1296-460c-cb95-7331389abc93"
      },
      "execution_count": 35,
      "outputs": [
        {
          "output_type": "execute_result",
          "data": {
            "text/plain": [
              "0.33605983178074716"
            ]
          },
          "metadata": {},
          "execution_count": 35
        }
      ]
    },
    {
      "cell_type": "markdown",
      "source": [
        "----"
      ],
      "metadata": {
        "id": "iUwZqIVkdd9F"
      }
    },
    {
      "cell_type": "markdown",
      "source": [
        "#Checking performance using Decision Tree Regression after using PCA :"
      ],
      "metadata": {
        "id": "bkaU4aDpdiAf"
      }
    },
    {
      "cell_type": "code",
      "source": [
        "model_dt=DecisionTreeRegressor()\n",
        "model_dt.fit(Xtrain, ytrain)"
      ],
      "metadata": {
        "colab": {
          "base_uri": "https://localhost:8080/"
        },
        "id": "cEWvCKSUdeob",
        "outputId": "9db5853b-a834-4772-c5b2-5ef34bf22558"
      },
      "execution_count": 36,
      "outputs": [
        {
          "output_type": "execute_result",
          "data": {
            "text/plain": [
              "DecisionTreeRegressor()"
            ]
          },
          "metadata": {},
          "execution_count": 36
        }
      ]
    },
    {
      "cell_type": "code",
      "source": [
        "y_pred_dt=model_dt.predict(Xtest)"
      ],
      "metadata": {
        "id": "47iF110IdtDb"
      },
      "execution_count": 37,
      "outputs": []
    },
    {
      "cell_type": "code",
      "source": [
        "print('Mean Absolute Error : ', metrics.mean_absolute_error(ytest,y_pred_dt))\n",
        "print('Mean Square Error : ', metrics.mean_squared_error(ytest,y_pred_dt))\n",
        "print('Root Mean Square Error : ', np.sqrt(metrics.mean_squared_error(ytest,y_pred_dt)))"
      ],
      "metadata": {
        "colab": {
          "base_uri": "https://localhost:8080/"
        },
        "id": "ft3q5L8sdynC",
        "outputId": "038b8c0e-ffa7-4a78-939f-44846ab16648"
      },
      "execution_count": 38,
      "outputs": [
        {
          "output_type": "stream",
          "name": "stdout",
          "text": [
            "Mean Absolute Error :  71.19318181818181\n",
            "Mean Square Error :  7922.102272727273\n",
            "Root Mean Square Error :  89.00619232799072\n"
          ]
        }
      ]
    },
    {
      "cell_type": "code",
      "source": [
        "model_dt.score(Xtest,ytest)"
      ],
      "metadata": {
        "colab": {
          "base_uri": "https://localhost:8080/"
        },
        "id": "T7JmtD27d-VH",
        "outputId": "33ac9de9-5159-4c61-f9bf-d003d3ab2894"
      },
      "execution_count": 39,
      "outputs": [
        {
          "output_type": "execute_result",
          "data": {
            "text/plain": [
              "-0.2243018145577318"
            ]
          },
          "metadata": {},
          "execution_count": 39
        }
      ]
    },
    {
      "cell_type": "code",
      "source": [
        "model_dt.score(Xtrain,ytrain)"
      ],
      "metadata": {
        "colab": {
          "base_uri": "https://localhost:8080/"
        },
        "id": "Ipbuf4V9eBz7",
        "outputId": "a478a867-577c-477c-9a9d-3b26b14cbdaf"
      },
      "execution_count": 40,
      "outputs": [
        {
          "output_type": "execute_result",
          "data": {
            "text/plain": [
              "1.0"
            ]
          },
          "metadata": {},
          "execution_count": 40
        }
      ]
    },
    {
      "cell_type": "markdown",
      "source": [
        "-----"
      ],
      "metadata": {
        "id": "YVf-rn0keQYZ"
      }
    },
    {
      "cell_type": "markdown",
      "source": [
        "#Checking performance using Ensemble after using PCA :"
      ],
      "metadata": {
        "id": "6upHOR4AeSkL"
      }
    },
    {
      "cell_type": "code",
      "source": [
        "level0=list()\n",
        "\n",
        "level0.append(('lr',LinearRegression()))\n",
        "level0.append(('dt',DecisionTreeRegressor()))"
      ],
      "metadata": {
        "id": "1RNWKz5TeRwI"
      },
      "execution_count": 41,
      "outputs": []
    },
    {
      "cell_type": "code",
      "source": [
        "level1=LinearRegression()"
      ],
      "metadata": {
        "id": "vT6uL9YVeku3"
      },
      "execution_count": 42,
      "outputs": []
    },
    {
      "cell_type": "code",
      "source": [
        "model_en=StackingRegressor(estimators=level0, final_estimator=level1, cv=5)\n",
        "model_en.fit(Xtrain, ytrain)\n",
        "\n",
        "y_pred_en=model_en.predict(Xtest)"
      ],
      "metadata": {
        "id": "rM3wOjWAeqTr"
      },
      "execution_count": 43,
      "outputs": []
    },
    {
      "cell_type": "code",
      "source": [
        "print('Mean Absolute Error : ', metrics.mean_absolute_error(ytest,y_pred_en))\n",
        "print('Mean Square Error : ', metrics.mean_squared_error(ytest,y_pred_en))\n",
        "print('Root Mean Square Error : ', np.sqrt(metrics.mean_squared_error(ytest,y_pred_en)))"
      ],
      "metadata": {
        "colab": {
          "base_uri": "https://localhost:8080/"
        },
        "id": "YSfGKprWfCuN",
        "outputId": "d2ba50fc-a0ed-427d-a39e-37ff1bf4ac19"
      },
      "execution_count": 44,
      "outputs": [
        {
          "output_type": "stream",
          "name": "stdout",
          "text": [
            "Mean Absolute Error :  54.46664777677002\n",
            "Mean Square Error :  4127.310161490468\n",
            "Root Mean Square Error :  64.24414495882459\n"
          ]
        }
      ]
    },
    {
      "cell_type": "code",
      "source": [
        "model_en.score(Xtest,ytest)"
      ],
      "metadata": {
        "colab": {
          "base_uri": "https://localhost:8080/"
        },
        "id": "TA3IvxqAfG93",
        "outputId": "a0c65a51-7f79-4259-fca9-a5c35a78c8a8"
      },
      "execution_count": 45,
      "outputs": [
        {
          "output_type": "execute_result",
          "data": {
            "text/plain": [
              "0.3621550005292007"
            ]
          },
          "metadata": {},
          "execution_count": 45
        }
      ]
    },
    {
      "cell_type": "code",
      "source": [
        "model_en.score(Xtrain,ytrain)"
      ],
      "metadata": {
        "colab": {
          "base_uri": "https://localhost:8080/"
        },
        "id": "7MEqILXXfJGk",
        "outputId": "7a1295e4-8291-4fc1-cc08-dc37330d2dba"
      },
      "execution_count": 46,
      "outputs": [
        {
          "output_type": "execute_result",
          "data": {
            "text/plain": [
              "0.25728330131119814"
            ]
          },
          "metadata": {},
          "execution_count": 46
        }
      ]
    },
    {
      "cell_type": "markdown",
      "source": [
        "----"
      ],
      "metadata": {
        "id": "8lQymfodfRyc"
      }
    },
    {
      "cell_type": "markdown",
      "source": [
        "From above Linear Regression, Decision Tree Regression and Ensemble method after applying PCA we can see that our performance is not improved."
      ],
      "metadata": {
        "id": "MQvKoTu6fQ1u"
      }
    },
    {
      "cell_type": "markdown",
      "source": [
        "-------"
      ],
      "metadata": {
        "id": "kuzJsr3rY4qa"
      }
    },
    {
      "cell_type": "markdown",
      "source": [
        "#Now, applying preprocessing technique and then checking our model for PCA to see whether our model is improved after preprocessing or not :"
      ],
      "metadata": {
        "id": "QY3Rc7v8Y5mP"
      }
    },
    {
      "cell_type": "markdown",
      "source": [
        "#data preprocessing :"
      ],
      "metadata": {
        "id": "6yuxsiAWaD3p"
      }
    },
    {
      "cell_type": "code",
      "source": [
        "from sklearn.preprocessing import StandardScaler\n",
        "scaler=StandardScaler()\n",
        "X=scaler.fit_transform(X)\n",
        "\n",
        "# we don't need to transform y as it is our prediction"
      ],
      "metadata": {
        "id": "loAHeETAZFzX"
      },
      "execution_count": 51,
      "outputs": []
    },
    {
      "cell_type": "markdown",
      "source": [
        "----"
      ],
      "metadata": {
        "id": "1BoilX0GaeYZ"
      }
    },
    {
      "cell_type": "markdown",
      "source": [
        "#Checking without PCA :"
      ],
      "metadata": {
        "id": "vMvehUQ_afuL"
      }
    },
    {
      "cell_type": "code",
      "source": [
        "kf=KFold(n_splits=5)\n",
        "for train, test in kf.split(X,y):\n",
        "  Xtrain, Xtest= X[train], X[test]\n",
        "  ytrain, ytest= y[train], y[test]"
      ],
      "metadata": {
        "id": "FwotoSqFaWza"
      },
      "execution_count": 52,
      "outputs": []
    },
    {
      "cell_type": "code",
      "source": [
        "print(Xtrain.shape, ytrain.shape)\n",
        "print(Xtest.shape, ytest.shape)"
      ],
      "metadata": {
        "colab": {
          "base_uri": "https://localhost:8080/"
        },
        "id": "b4ECD8fQasWe",
        "outputId": "bd2317dd-5b66-471f-a161-d7643a4488be"
      },
      "execution_count": 53,
      "outputs": [
        {
          "output_type": "stream",
          "name": "stdout",
          "text": [
            "(354, 10) (354,)\n",
            "(88, 10) (88,)\n"
          ]
        }
      ]
    },
    {
      "cell_type": "markdown",
      "source": [
        "#1. Linear Regression :"
      ],
      "metadata": {
        "id": "7eDEZjYha2dm"
      }
    },
    {
      "cell_type": "code",
      "source": [
        "model_lr=LinearRegression()\n",
        "model_lr.fit(Xtrain, ytrain)"
      ],
      "metadata": {
        "colab": {
          "base_uri": "https://localhost:8080/"
        },
        "id": "pIQ_dPmaa1GZ",
        "outputId": "7f58d348-019c-4e6a-bb50-f25ba4008571"
      },
      "execution_count": 54,
      "outputs": [
        {
          "output_type": "execute_result",
          "data": {
            "text/plain": [
              "LinearRegression()"
            ]
          },
          "metadata": {},
          "execution_count": 54
        }
      ]
    },
    {
      "cell_type": "code",
      "source": [
        "y_pred_lr=model_lr.predict(Xtest)"
      ],
      "metadata": {
        "id": "K9D0RByba6ik"
      },
      "execution_count": 55,
      "outputs": []
    },
    {
      "cell_type": "code",
      "source": [
        "print('Mean Absolute Error : ', metrics.mean_absolute_error(ytest,y_pred_lr))\n",
        "print('Mean Square Error : ', metrics.mean_squared_error(ytest,y_pred_lr))\n",
        "print('Root Mean Square Error : ', np.sqrt(metrics.mean_squared_error(ytest,y_pred_lr)))"
      ],
      "metadata": {
        "colab": {
          "base_uri": "https://localhost:8080/"
        },
        "id": "qikSRQEGbBnB",
        "outputId": "88d37516-7c0a-4a73-adc3-aee5e5e85578"
      },
      "execution_count": 56,
      "outputs": [
        {
          "output_type": "stream",
          "name": "stdout",
          "text": [
            "Mean Absolute Error :  42.38729269073615\n",
            "Mean Square Error :  2910.2069332665287\n",
            "Root Mean Square Error :  53.94633382600275\n"
          ]
        }
      ]
    },
    {
      "cell_type": "code",
      "source": [
        "model_lr.score(Xtest,ytest)"
      ],
      "metadata": {
        "colab": {
          "base_uri": "https://localhost:8080/"
        },
        "id": "hKstdI5GbHG-",
        "outputId": "a454716d-94ce-4c37-c4dc-ab0330f245d8"
      },
      "execution_count": 58,
      "outputs": [
        {
          "output_type": "execute_result",
          "data": {
            "text/plain": [
              "0.5502492259658609"
            ]
          },
          "metadata": {},
          "execution_count": 58
        }
      ]
    },
    {
      "cell_type": "code",
      "source": [
        "model_lr.score(Xtrain,ytrain)"
      ],
      "metadata": {
        "colab": {
          "base_uri": "https://localhost:8080/"
        },
        "id": "7G5WvM8lbMrx",
        "outputId": "ee603b52-dc59-4ccf-d750-6c08f74bb846"
      },
      "execution_count": 59,
      "outputs": [
        {
          "output_type": "execute_result",
          "data": {
            "text/plain": [
              "0.5077517592258138"
            ]
          },
          "metadata": {},
          "execution_count": 59
        }
      ]
    },
    {
      "cell_type": "markdown",
      "source": [
        "Linear Regression after preprocessing & without pca result is similar as previous Linear regressions results."
      ],
      "metadata": {
        "id": "OMKj3VeJbWZn"
      }
    },
    {
      "cell_type": "markdown",
      "source": [
        "-------"
      ],
      "metadata": {
        "id": "vLWj65UNbiLb"
      }
    },
    {
      "cell_type": "markdown",
      "source": [
        "#2. Decision Tree Regression :"
      ],
      "metadata": {
        "id": "Fff9B33VbjTj"
      }
    },
    {
      "cell_type": "code",
      "source": [
        "model_dt=DecisionTreeRegressor()\n",
        "model_dt.fit(Xtrain, ytrain)"
      ],
      "metadata": {
        "colab": {
          "base_uri": "https://localhost:8080/"
        },
        "id": "l4V1uQqIbnyo",
        "outputId": "18c47c79-1dae-4e25-dae8-90dd862446b9"
      },
      "execution_count": 60,
      "outputs": [
        {
          "output_type": "execute_result",
          "data": {
            "text/plain": [
              "DecisionTreeRegressor()"
            ]
          },
          "metadata": {},
          "execution_count": 60
        }
      ]
    },
    {
      "cell_type": "code",
      "source": [
        "y_pred_dt=model_dt.predict(Xtest)"
      ],
      "metadata": {
        "id": "2NS6L6eAbxGs"
      },
      "execution_count": 61,
      "outputs": []
    },
    {
      "cell_type": "code",
      "source": [
        "print('Mean Absolute Error : ', metrics.mean_absolute_error(ytest,y_pred_dt))\n",
        "print('Mean Square Error : ', metrics.mean_squared_error(ytest,y_pred_dt))\n",
        "print('Root Mean Square Error : ', np.sqrt(metrics.mean_squared_error(ytest,y_pred_dt)))"
      ],
      "metadata": {
        "colab": {
          "base_uri": "https://localhost:8080/"
        },
        "id": "YTalJZveby7Q",
        "outputId": "6d6e8d5b-3a8f-4325-c2c5-6036afb004bb"
      },
      "execution_count": 62,
      "outputs": [
        {
          "output_type": "stream",
          "name": "stdout",
          "text": [
            "Mean Absolute Error :  67.32954545454545\n",
            "Mean Square Error :  7338.329545454545\n",
            "Root Mean Square Error :  85.66405048475437\n"
          ]
        }
      ]
    },
    {
      "cell_type": "code",
      "source": [
        "model_dt.score(Xtest,ytest)"
      ],
      "metadata": {
        "colab": {
          "base_uri": "https://localhost:8080/"
        },
        "id": "0jRCdPFKb0oV",
        "outputId": "08eb6979-aca9-4436-e2d2-c1bd704c4b92"
      },
      "execution_count": 65,
      "outputs": [
        {
          "output_type": "execute_result",
          "data": {
            "text/plain": [
              "-0.13408409397240195"
            ]
          },
          "metadata": {},
          "execution_count": 65
        }
      ]
    },
    {
      "cell_type": "code",
      "source": [
        "model_dt.score(Xtrain,ytrain)"
      ],
      "metadata": {
        "colab": {
          "base_uri": "https://localhost:8080/"
        },
        "id": "r6ctx0yfb3vw",
        "outputId": "1c711579-55b0-44a7-ac78-232f5c5d63f6"
      },
      "execution_count": 66,
      "outputs": [
        {
          "output_type": "execute_result",
          "data": {
            "text/plain": [
              "1.0"
            ]
          },
          "metadata": {},
          "execution_count": 66
        }
      ]
    },
    {
      "cell_type": "markdown",
      "source": [
        "Decision tree Regression after preprocessing & without pca result is similar as previous Decision tree regressions results."
      ],
      "metadata": {
        "id": "B-QTm2XCcN2S"
      }
    },
    {
      "cell_type": "markdown",
      "source": [
        "--------"
      ],
      "metadata": {
        "id": "wAgiy7dycTQf"
      }
    },
    {
      "cell_type": "markdown",
      "source": [
        "#3. Ensemble :"
      ],
      "metadata": {
        "id": "ubtfqJjBcVbP"
      }
    },
    {
      "cell_type": "code",
      "source": [
        "level0=list()\n",
        "\n",
        "level0.append(('lr',LinearRegression()))\n",
        "level0.append(('dt',DecisionTreeRegressor()))"
      ],
      "metadata": {
        "id": "qIOefxQMcZow"
      },
      "execution_count": 67,
      "outputs": []
    },
    {
      "cell_type": "code",
      "source": [
        "level1=LinearRegression()"
      ],
      "metadata": {
        "id": "TkWQN2wRcnQE"
      },
      "execution_count": 68,
      "outputs": []
    },
    {
      "cell_type": "code",
      "source": [
        "model_en=StackingRegressor(estimators=level0, final_estimator=level1, cv=5)\n",
        "model_en.fit(Xtrain, ytrain)\n",
        "\n",
        "y_pred_en=model_en.predict(Xtest)"
      ],
      "metadata": {
        "id": "F5-vnirvcsKp"
      },
      "execution_count": 69,
      "outputs": []
    },
    {
      "cell_type": "code",
      "source": [
        "print('Mean Absolute Error : ', metrics.mean_absolute_error(ytest,y_pred_en))\n",
        "print('Mean Square Error : ', metrics.mean_squared_error(ytest,y_pred_en))\n",
        "print('Root Mean Square Error : ', np.sqrt(metrics.mean_squared_error(ytest,y_pred_en)))"
      ],
      "metadata": {
        "colab": {
          "base_uri": "https://localhost:8080/"
        },
        "id": "b4soGDTNc9no",
        "outputId": "36bc36cc-a242-44e4-eaf1-53d98e89def6"
      },
      "execution_count": 70,
      "outputs": [
        {
          "output_type": "stream",
          "name": "stdout",
          "text": [
            "Mean Absolute Error :  43.250340678569685\n",
            "Mean Square Error :  2992.355646029298\n",
            "Root Mean Square Error :  54.70242815478393\n"
          ]
        }
      ]
    },
    {
      "cell_type": "code",
      "source": [
        "model_en.score(Xtest,ytest)"
      ],
      "metadata": {
        "colab": {
          "base_uri": "https://localhost:8080/"
        },
        "id": "1CVx-TpAdDkN",
        "outputId": "41c10bb0-3f9d-44e5-e398-e3051459116a"
      },
      "execution_count": 71,
      "outputs": [
        {
          "output_type": "execute_result",
          "data": {
            "text/plain": [
              "0.5375537551632079"
            ]
          },
          "metadata": {},
          "execution_count": 71
        }
      ]
    },
    {
      "cell_type": "code",
      "source": [
        "model_en.score(Xtrain,ytrain)"
      ],
      "metadata": {
        "colab": {
          "base_uri": "https://localhost:8080/"
        },
        "id": "WM0WCYVMdHQl",
        "outputId": "e53efef0-7eab-4bd0-ccd4-4fcb5df1f4ef"
      },
      "execution_count": 72,
      "outputs": [
        {
          "output_type": "execute_result",
          "data": {
            "text/plain": [
              "0.5865835225790016"
            ]
          },
          "metadata": {},
          "execution_count": 72
        }
      ]
    },
    {
      "cell_type": "markdown",
      "source": [
        "Ensemble after preprocessing & without pca result is similar as previous Ensemble results."
      ],
      "metadata": {
        "id": "UFg8IaPfdWef"
      }
    },
    {
      "cell_type": "markdown",
      "source": [
        "-------"
      ],
      "metadata": {
        "id": "zCrwNguAddf0"
      }
    },
    {
      "cell_type": "markdown",
      "source": [
        "#***After Data Preprocessing(using standard scaler) our model prediction is not performing good***"
      ],
      "metadata": {
        "id": "LkhyC8dAdemZ"
      }
    },
    {
      "cell_type": "markdown",
      "source": [
        "-------\n",
        "------"
      ],
      "metadata": {
        "id": "7wtszPgSdy_q"
      }
    },
    {
      "cell_type": "markdown",
      "source": [
        "#For this dataset even if we perform data preprocessing, then PCA and then predict the performance it'll be still low.\n",
        "\n",
        "\n",
        "#It might give good result using any other preprocessing technique."
      ],
      "metadata": {
        "id": "bRdhk7z5d3iL"
      }
    },
    {
      "cell_type": "markdown",
      "source": [
        "----\n",
        "-----"
      ],
      "metadata": {
        "id": "vldhAGw0fB1m"
      }
    },
    {
      "cell_type": "markdown",
      "source": [
        "step-1 : data pre processsing \n",
        "\n",
        "step-2 : pca\n",
        "\n",
        "step-3 : Splitting\n",
        "\n",
        "step-4 : model selection, prediction & error calculation(using metrics: mean absolute error, etc.)"
      ],
      "metadata": {
        "id": "semcAKSqfJjl"
      }
    }
  ]
}