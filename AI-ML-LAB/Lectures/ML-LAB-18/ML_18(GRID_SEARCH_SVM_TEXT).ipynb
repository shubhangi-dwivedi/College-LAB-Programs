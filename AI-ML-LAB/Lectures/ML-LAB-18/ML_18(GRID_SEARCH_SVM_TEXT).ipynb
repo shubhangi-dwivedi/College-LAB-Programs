{
  "cells": [
    {
      "cell_type": "code",
      "execution_count": 1,
      "metadata": {
        "id": "hSmmnt2g-XR9"
      },
      "outputs": [],
      "source": [
        "from sklearn.datasets import fetch_20newsgroups\n",
        "from sklearn.feature_extraction.text import CountVectorizer\n",
        "from sklearn.feature_extraction.text import TfidfTransformer\n",
        "from sklearn.pipeline import Pipeline\n",
        "import numpy as np\n",
        "from sklearn.svm import SVC\n",
        "from sklearn.model_selection import GridSearchCV"
      ]
    },
    {
      "cell_type": "code",
      "execution_count": 2,
      "metadata": {
        "id": "Ytgd09-K_jVS"
      },
      "outputs": [],
      "source": [
        "twenty_train= fetch_20newsgroups()"
      ]
    },
    {
      "cell_type": "code",
      "execution_count": 3,
      "metadata": {
        "colab": {
          "base_uri": "https://localhost:8080/"
        },
        "id": "e4UvihNE-3Yj",
        "outputId": "15029674-1755-4bee-94c8-ce039c9527e5"
      },
      "outputs": [
        {
          "output_type": "execute_result",
          "data": {
            "text/plain": [
              "(11314, 130107)"
            ]
          },
          "metadata": {},
          "execution_count": 3
        }
      ],
      "source": [
        "count_vect= CountVectorizer()\n",
        "X_train_counts= count_vect.fit_transform(twenty_train.data)\n",
        "X_train_counts.shape"
      ]
    },
    {
      "cell_type": "code",
      "execution_count": 4,
      "metadata": {
        "colab": {
          "base_uri": "https://localhost:8080/"
        },
        "id": "S3B3yQjG_tQA",
        "outputId": "3338e314-394f-4c2d-b196-1766ab361f7c"
      },
      "outputs": [
        {
          "output_type": "execute_result",
          "data": {
            "text/plain": [
              "(11314, 130107)"
            ]
          },
          "metadata": {},
          "execution_count": 4
        }
      ],
      "source": [
        "tfidf_transformer= TfidfTransformer()\n",
        "X_train_tfidf= tfidf_transformer.fit_transform(X_train_counts)\n",
        "X_train_tfidf.shape"
      ]
    },
    {
      "cell_type": "code",
      "execution_count": 5,
      "metadata": {
        "id": "7bZXFeE4_9YM"
      },
      "outputs": [],
      "source": [
        "text_clf_svm=SVC()"
      ]
    },
    {
      "cell_type": "code",
      "execution_count": 6,
      "metadata": {
        "id": "qKwcsFI1ABLW"
      },
      "outputs": [],
      "source": [
        "parameters_svm= {'C': [0.1, 1, 10, 100, 1000],\n",
        "                 'gamma': [1, 0.1, 0.01, 0.001, 0.0001],\n",
        "                 'kernel': ['rbf', 'linear']}\n",
        "\n",
        "gs_clf_svm= GridSearchCV(text_clf_svm, parameters_svm, n_jobs=-1)"
      ]
    },
    {
      "cell_type": "code",
      "execution_count": null,
      "metadata": {
        "id": "PU2gyp2pAUQZ"
      },
      "outputs": [],
      "source": [
        "gs_clf_svm= gs_clf_svm.fit(X_train_counts, twenty_train.target)\n",
        "gs_clf_svm.best_score_"
      ]
    },
    {
      "cell_type": "code",
      "execution_count": null,
      "metadata": {
        "id": "U5Te0voPAv2U"
      },
      "outputs": [],
      "source": [
        "gs_clf_svm.best_params"
      ]
    }
  ],
  "metadata": {
    "colab": {
      "name": "ML-18(GRID_SEARCH_SVM_TEXT).ipynb",
      "provenance": []
    },
    "kernelspec": {
      "display_name": "Python 3",
      "name": "python3"
    },
    "language_info": {
      "name": "python"
    }
  },
  "nbformat": 4,
  "nbformat_minor": 0
}