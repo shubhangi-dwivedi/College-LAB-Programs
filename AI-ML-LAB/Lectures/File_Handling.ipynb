{
  "nbformat": 4,
  "nbformat_minor": 0,
  "metadata": {
    "colab": {
      "name": "File Handling.ipynb",
      "provenance": [],
      "collapsed_sections": []
    },
    "kernelspec": {
      "name": "python3",
      "display_name": "Python 3"
    },
    "language_info": {
      "name": "python"
    }
  },
  "cells": [
    {
      "cell_type": "markdown",
      "source": [
        "Operations:\n",
        "read, \n",
        "write, \n",
        "create, append\n",
        "\n",
        "We can only read file when it exists, if it doesn't exists it'll give error.\n",
        "If file doesn't exists and we want to perform read and write operations then it'll create it . "
      ],
      "metadata": {
        "id": "pn3fcRrpojUl"
      }
    },
    {
      "cell_type": "markdown",
      "source": [
        "-> as we are creating files in colab, it files are created on google cloud and stored there, but if we want to store them in our PCs we have to mention the proper(complete) path where we want to store."
      ],
      "metadata": {
        "id": "osl6xLhvvQ4k"
      }
    },
    {
      "cell_type": "markdown",
      "source": [
        "Create a new file:"
      ],
      "metadata": {
        "id": "cK6LrmezpTEw"
      }
    },
    {
      "cell_type": "code",
      "execution_count": 1,
      "metadata": {
        "id": "X4xCtyBhoXwg"
      },
      "outputs": [],
      "source": [
        "file1=open(\"myfirstfile.txt\",\"x\")"
      ]
    },
    {
      "cell_type": "markdown",
      "source": [
        "Writing in a file:"
      ],
      "metadata": {
        "id": "3nJ7dbwNpxh5"
      }
    },
    {
      "cell_type": "code",
      "source": [
        "file1=open(\"myfirstfile.txt\",\"w\")\n",
        "file1.write(\"I am Shubhangi Dwivedi. I'm fine.\")"
      ],
      "metadata": {
        "colab": {
          "base_uri": "https://localhost:8080/"
        },
        "id": "mMQGCStgpxGF",
        "outputId": "66c1cd5a-34ed-4fbf-e571-5b9d06190a2e"
      },
      "execution_count": 2,
      "outputs": [
        {
          "output_type": "execute_result",
          "data": {
            "text/plain": [
              "33"
            ]
          },
          "metadata": {},
          "execution_count": 2
        }
      ]
    },
    {
      "cell_type": "markdown",
      "source": [
        "Reading a file:"
      ],
      "metadata": {
        "id": "dt5F5qt2qaMz"
      }
    },
    {
      "cell_type": "code",
      "source": [
        "file1=open(\"myfirstfile.txt\",\"r\")\n",
        "#we can also write : file1=open(\"myfirstfile.txt\")\n",
        "#as by-default mode is write\n",
        "print(file1.read())"
      ],
      "metadata": {
        "colab": {
          "base_uri": "https://localhost:8080/"
        },
        "id": "yH7uY57yqefP",
        "outputId": "52e36373-a88d-432f-a9cf-412b50cfb58a"
      },
      "execution_count": 4,
      "outputs": [
        {
          "output_type": "stream",
          "name": "stdout",
          "text": [
            "I am Shubhangi Dwivedi. I'm fine.\n"
          ]
        }
      ]
    },
    {
      "cell_type": "markdown",
      "source": [
        "Opening file in append mode:"
      ],
      "metadata": {
        "id": "GbcoqFZkq9jB"
      }
    },
    {
      "cell_type": "code",
      "source": [
        "file1=open(\"myfirstfile.txt\",\"a\")\n",
        "file1.write(\"I'm an undergraduate at Banasthali Vidyapith\")"
      ],
      "metadata": {
        "colab": {
          "base_uri": "https://localhost:8080/"
        },
        "id": "QQUWEV7HrAsd",
        "outputId": "eca57fcb-4769-4097-fa30-76bc4f688b18"
      },
      "execution_count": 7,
      "outputs": [
        {
          "output_type": "execute_result",
          "data": {
            "text/plain": [
              "44"
            ]
          },
          "metadata": {},
          "execution_count": 7
        }
      ]
    },
    {
      "cell_type": "code",
      "source": [
        "file1=open(\"myfirstfile.txt\",\"r\")\n",
        "print(file1.read())"
      ],
      "metadata": {
        "colab": {
          "base_uri": "https://localhost:8080/"
        },
        "id": "YGomofiTrR6b",
        "outputId": "2e81279e-daf1-4e32-8659-44646cfba0c9"
      },
      "execution_count": 8,
      "outputs": [
        {
          "output_type": "stream",
          "name": "stdout",
          "text": [
            "I am Shubhangi Dwivedi. I'm fine.I'm an undergraduate at Banasthali Vidyapith\n"
          ]
        }
      ]
    },
    {
      "cell_type": "markdown",
      "source": [
        "Differnce b/w write and append:\n",
        "1. write will write from the beginning i.e., if any text is there in file it'll be replaced.\n",
        "2. in append mode, it'll add the text at the end of existing content in the file"
      ],
      "metadata": {
        "id": "juJZkL_8rsf3"
      }
    },
    {
      "cell_type": "markdown",
      "source": [
        "1. write"
      ],
      "metadata": {
        "id": "hYjPEE9FsJ6_"
      }
    },
    {
      "cell_type": "code",
      "source": [
        "file1=open(\"myfirstfile.txt\",\"w\")\n",
        "file1.write(\"Weather is great. \")\n",
        "file1=open(\"myfirstfile.txt\",\"r\")\n",
        "print(file1.read())"
      ],
      "metadata": {
        "colab": {
          "base_uri": "https://localhost:8080/"
        },
        "id": "CXqanchirqdm",
        "outputId": "84d99685-26ad-42c9-e8b0-b82b81591f86"
      },
      "execution_count": 9,
      "outputs": [
        {
          "output_type": "stream",
          "name": "stdout",
          "text": [
            "Weather is great. \n"
          ]
        }
      ]
    },
    {
      "cell_type": "markdown",
      "source": [
        "2. append"
      ],
      "metadata": {
        "id": "D62lRz2QsLpt"
      }
    },
    {
      "cell_type": "code",
      "source": [
        "file1=open(\"myfirstfile.txt\",\"a\")\n",
        "file1.write(\"It's sunny outside. \")\n",
        "file1=open(\"myfirstfile.txt\",\"r\")\n",
        "print(file1.read())"
      ],
      "metadata": {
        "colab": {
          "base_uri": "https://localhost:8080/"
        },
        "id": "m0gkOLRCsNam",
        "outputId": "5e8a6703-d31a-4d3f-964b-c3cd076d843d"
      },
      "execution_count": 10,
      "outputs": [
        {
          "output_type": "stream",
          "name": "stdout",
          "text": [
            "Weather is great. It's sunny outside. \n"
          ]
        }
      ]
    },
    {
      "cell_type": "markdown",
      "source": [
        "We can read from a file in different ways:"
      ],
      "metadata": {
        "id": "wO_vaD4SsnpW"
      }
    },
    {
      "cell_type": "markdown",
      "source": [
        "1. way 1 (reading charcters from starting to a given length)"
      ],
      "metadata": {
        "id": "jQ7Phu_kstYi"
      }
    },
    {
      "cell_type": "code",
      "source": [
        "file1=open(\"myfirstfile.txt\",\"r\")\n",
        "print(file1.read(6))"
      ],
      "metadata": {
        "colab": {
          "base_uri": "https://localhost:8080/"
        },
        "id": "NZuZJHDPsw9Y",
        "outputId": "3711dad6-3701-4ce6-86bc-ea442e330d48"
      },
      "execution_count": 11,
      "outputs": [
        {
          "output_type": "stream",
          "name": "stdout",
          "text": [
            "Weathe\n"
          ]
        }
      ]
    },
    {
      "cell_type": "markdown",
      "source": [
        "2. way 2 (Reading a single line)"
      ],
      "metadata": {
        "id": "Nfw8CbUgtBI6"
      }
    },
    {
      "cell_type": "code",
      "source": [
        "file1=open(\"myfirstfile.txt\",\"r\")\n",
        "print(file1.readline())"
      ],
      "metadata": {
        "colab": {
          "base_uri": "https://localhost:8080/"
        },
        "id": "tdkXjYyWtJ9k",
        "outputId": "29cd146b-ef67-4168-b110-e7c97a13b2b1"
      },
      "execution_count": 12,
      "outputs": [
        {
          "output_type": "stream",
          "name": "stdout",
          "text": [
            "Weather is great. It's sunny outside. \n"
          ]
        }
      ]
    },
    {
      "cell_type": "markdown",
      "source": [
        "Different modes of file:\n",
        "1. Text\n",
        "2. Binary\n",
        "\n",
        "(by-deafult if mode is not specified it is a txt file)"
      ],
      "metadata": {
        "id": "jlUo5P30tg40"
      }
    },
    {
      "cell_type": "markdown",
      "source": [
        "1. text mode\n",
        "(it includes all the doc, pdf, txt file , etc)"
      ],
      "metadata": {
        "id": "CTGOKggytvZn"
      }
    },
    {
      "cell_type": "code",
      "source": [
        "file1=open(\"myfirstfile.txt\",\"rt\")\n",
        "#or, file1=open(\"myfirstfile.txt\",\"r\")\n",
        "print(file1.read())"
      ],
      "metadata": {
        "colab": {
          "base_uri": "https://localhost:8080/"
        },
        "id": "JgGYJqz_tgas",
        "outputId": "97759d37-b4e2-43f7-8db8-157c9b0bf60a"
      },
      "execution_count": 13,
      "outputs": [
        {
          "output_type": "stream",
          "name": "stdout",
          "text": [
            "Weather is great. It's sunny outside. \n"
          ]
        }
      ]
    },
    {
      "cell_type": "markdown",
      "source": [
        "2. binary mode\n",
        "(it considers only images)"
      ],
      "metadata": {
        "id": "iHqZ24jDuCgX"
      }
    },
    {
      "cell_type": "markdown",
      "source": [
        "creating a binary file"
      ],
      "metadata": {
        "id": "pebkce-NuW0N"
      }
    },
    {
      "cell_type": "code",
      "source": [
        "file2=open(\"firstimagefile.png\",\"xb\")\n",
        "#or, jpeg etc\n"
      ],
      "metadata": {
        "id": "4RpDT8A0uIdh"
      },
      "execution_count": 16,
      "outputs": []
    },
    {
      "cell_type": "markdown",
      "source": [
        "A file doesn't exists, and we have to write, then using w command we can create the file and write in it."
      ],
      "metadata": {
        "id": "oX-U3DrOv6bc"
      }
    },
    {
      "cell_type": "code",
      "source": [
        "file3=open(\"secondfile.txt\",\"wt\")\n",
        "file3.write(\"I'm learing file handling\")\n",
        "file3.close() #it's good to close a file after performing a task\n"
      ],
      "metadata": {
        "id": "_coDvadlwDT_"
      },
      "execution_count": 18,
      "outputs": []
    },
    {
      "cell_type": "code",
      "source": [
        "file3=open(\"secondfile.txt\",\"rt\")\n",
        "print(file3.read())"
      ],
      "metadata": {
        "colab": {
          "base_uri": "https://localhost:8080/"
        },
        "id": "OtXrZSixwfka",
        "outputId": "944b53be-a48d-40e5-acfc-f60133eb9a33"
      },
      "execution_count": 22,
      "outputs": [
        {
          "output_type": "stream",
          "name": "stdout",
          "text": [
            "I'm learing file handling\n"
          ]
        }
      ]
    },
    {
      "cell_type": "markdown",
      "source": [
        "Deleting a file:"
      ],
      "metadata": {
        "id": "1yJ1O4Xlw1HD"
      }
    },
    {
      "cell_type": "code",
      "source": [
        "#first we have to take permission from os to remove the file as it is stored in our hard-disk\n",
        "import os\n",
        "os.remove(\"secondfile.txt\")"
      ],
      "metadata": {
        "id": "5eNR-ffGw3BK"
      },
      "execution_count": 23,
      "outputs": []
    },
    {
      "cell_type": "code",
      "source": [
        "#we can't read the file as it has been removed\n",
        "file3=open(\"secondfile.txt\",\"rt\")\n",
        "print(file3.read())"
      ],
      "metadata": {
        "colab": {
          "base_uri": "https://localhost:8080/",
          "height": 182
        },
        "id": "0VcEvwjjxad1",
        "outputId": "2dba1377-54c9-4ae8-caec-24711c271c7d"
      },
      "execution_count": 24,
      "outputs": [
        {
          "output_type": "error",
          "ename": "FileNotFoundError",
          "evalue": "ignored",
          "traceback": [
            "\u001b[0;31m---------------------------------------------------------------------------\u001b[0m",
            "\u001b[0;31mFileNotFoundError\u001b[0m                         Traceback (most recent call last)",
            "\u001b[0;32m<ipython-input-24-d1cf0a40d54c>\u001b[0m in \u001b[0;36m<module>\u001b[0;34m()\u001b[0m\n\u001b[0;32m----> 1\u001b[0;31m \u001b[0mfile3\u001b[0m\u001b[0;34m=\u001b[0m\u001b[0mopen\u001b[0m\u001b[0;34m(\u001b[0m\u001b[0;34m\"secondfile.txt\"\u001b[0m\u001b[0;34m,\u001b[0m\u001b[0;34m\"rt\"\u001b[0m\u001b[0;34m)\u001b[0m\u001b[0;34m\u001b[0m\u001b[0;34m\u001b[0m\u001b[0m\n\u001b[0m\u001b[1;32m      2\u001b[0m \u001b[0mprint\u001b[0m\u001b[0;34m(\u001b[0m\u001b[0mfile3\u001b[0m\u001b[0;34m.\u001b[0m\u001b[0mread\u001b[0m\u001b[0;34m(\u001b[0m\u001b[0;34m)\u001b[0m\u001b[0;34m)\u001b[0m\u001b[0;34m\u001b[0m\u001b[0;34m\u001b[0m\u001b[0m\n",
            "\u001b[0;31mFileNotFoundError\u001b[0m: [Errno 2] No such file or directory: 'secondfile.txt'"
          ]
        }
      ]
    },
    {
      "cell_type": "markdown",
      "source": [
        "If file exists and we want to remove it or perform other actions we use the following steps, and if it doesn't exists then display or perform some othe actions"
      ],
      "metadata": {
        "id": "7ecvA3Eqx7aF"
      }
    },
    {
      "cell_type": "code",
      "source": [
        "import os\n",
        "if os.path.exists(\"secondfile.txt\"):\n",
        "  os.remove(\"secondfile.txt\")\n",
        "else:\n",
        "  print(\"File doesn't exists\")"
      ],
      "metadata": {
        "colab": {
          "base_uri": "https://localhost:8080/"
        },
        "id": "iti6gH_byL2X",
        "outputId": "72d14a1e-0924-4eaa-ed43-cb16bc8f6d58"
      },
      "execution_count": 25,
      "outputs": [
        {
          "output_type": "stream",
          "name": "stdout",
          "text": [
            "File doesn't exists\n"
          ]
        }
      ]
    },
    {
      "cell_type": "markdown",
      "source": [
        "If we want to remove a directory containing files:"
      ],
      "metadata": {
        "id": "o5qKTHe0y6_f"
      }
    },
    {
      "cell_type": "code",
      "source": [
        "os.rmdir[\"Name of the directory\"]"
      ],
      "metadata": {
        "id": "VCRyhj5ozArV"
      },
      "execution_count": null,
      "outputs": []
    }
  ]
}